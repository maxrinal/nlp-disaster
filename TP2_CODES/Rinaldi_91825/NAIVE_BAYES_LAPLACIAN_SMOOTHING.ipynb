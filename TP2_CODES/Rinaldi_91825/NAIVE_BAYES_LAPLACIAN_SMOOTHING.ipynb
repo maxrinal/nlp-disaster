{
  "nbformat": 4,
  "nbformat_minor": 0,
  "metadata": {
    "colab": {
      "name": "005_NAIVE_BAYES_LAPLACIAN_SMOOTHING.ipynb",
      "provenance": [],
      "collapsed_sections": [],
      "toc_visible": true,
      "include_colab_link": true
    },
    "kernelspec": {
      "name": "python3",
      "display_name": "Python 3"
    },
    "accelerator": "GPU"
  },
  "cells": [
    {
      "cell_type": "markdown",
      "metadata": {
        "id": "view-in-github",
        "colab_type": "text"
      },
      "source": [
        "<a href=\"https://colab.research.google.com/github/maxrinal/nlp-disaster/blob/master/TP2_CODES/Rinaldi_91825/NAIVE_BAYES_LAPLACIAN_SMOOTHING.ipynb\" target=\"_parent\"><img src=\"https://colab.research.google.com/assets/colab-badge.svg\" alt=\"Open In Colab\"/></a>"
      ]
    },
    {
      "cell_type": "markdown",
      "metadata": {
        "id": "t5EhBACOmKy4",
        "colab_type": "text"
      },
      "source": [
        "# Instalo bibliotecas\n"
      ]
    },
    {
      "cell_type": "code",
      "metadata": {
        "id": "gFCtkq9iil_j",
        "colab_type": "code",
        "colab": {
          "base_uri": "https://localhost:8080/",
          "height": 35
        },
        "outputId": "14899aa6-c281-44bb-c295-5d1616f7d5ba"
      },
      "source": [
        "%%capture\n",
        "\n",
        "# pip3 install -U instala un paquete en la carpeta de usuario y actualiza cuando ya existe\n",
        "# ! pip3 install textblob\n",
        "# ! pip3 install matplotlib\n",
        "# ! pip3 install wordcloud\n",
        "# ! pip3 install ipython-autotime\n",
        "# ! pip3 install pandas\n",
        "# ! pip3 install nltk\n",
        "# ! python3 -m textblob.download_corpora"
      ],
      "execution_count": null,
      "outputs": [
        {
          "output_type": "stream",
          "text": [
            "time: 262 µs\n"
          ],
          "name": "stdout"
        }
      ]
    },
    {
      "cell_type": "code",
      "metadata": {
        "id": "yFIA3livHjaY",
        "colab_type": "code",
        "colab": {
          "base_uri": "https://localhost:8080/",
          "height": 35
        },
        "outputId": "ef1a5419-48d7-4b2d-b599-8f373bfab8aa"
      },
      "source": [
        "%%capture\n",
        "\n",
        "\n",
        "# from textblob import TextBlob\n",
        "\n",
        "import matplotlib as mpl\n",
        "import matplotlib.pyplot as plt\n",
        "from matplotlib.colors import LinearSegmentedColormap\n",
        "import pandas as pd\n",
        "import numpy as np\n",
        "import numpy,math\n",
        "# from wordcloud import wordcloud, ImageColorGenerator\n",
        "from wordcloud import WordCloud\n",
        "import string,re\n",
        "# Para hacer decode de las url\n",
        "import urllib.parse\n",
        "# Para limpiar html entities\n",
        "import html\n",
        "\n",
        "# Importo nltk para lematizar\n",
        "import nltk\n",
        "nltk.download('wordnet')\n",
        "from nltk.stem import WordNetLemmatizer \n",
        "\n",
        "# Init the Wordnet Lemmatizer\n",
        "lemmatizer = WordNetLemmatizer()\n",
        "\n",
        "\n",
        "# Para utilizar multi core\n",
        "from multiprocessing import  Pool\n",
        "\n",
        "import multiprocessing\n",
        "\n",
        "n_cores = multiprocessing.cpu_count()\n",
        "from sklearn.model_selection import train_test_split\n",
        "\n",
        "\n",
        "\n",
        "%load_ext autotime\n"
      ],
      "execution_count": null,
      "outputs": [
        {
          "output_type": "stream",
          "text": [
            "time: 2.83 ms\n"
          ],
          "name": "stdout"
        }
      ]
    },
    {
      "cell_type": "code",
      "metadata": {
        "id": "i-jbMyyX3gKO",
        "colab_type": "code",
        "colab": {
          "base_uri": "https://localhost:8080/",
          "height": 35
        },
        "outputId": "d72a2b1d-e5b6-4553-9fbb-dc446fe91cd5"
      },
      "source": [
        "# Importo el listado de stopwords de english ntlk\n",
        "# https://www.tutorialspoint.com/python_text_processing/python_remove_stopwords.htm\n",
        "import nltk\n",
        "nltk.download('stopwords')\n",
        "from nltk.corpus import stopwords\n",
        "\n",
        "stop_words=[]\n",
        "\n",
        "# Obtengo un \"list\" de las stop_words más comunes del idioma ingles\n",
        "english_stop_words = stopwords.words('english')\n",
        "spanish_stop_words = stopwords.words('spanish')\n",
        "\n",
        "\n",
        "stop_words += english_stop_words\n",
        "stop_words += spanish_stop_words\n",
        "stop_words += ['']\n",
        "# english_stop_words.append(spanish_stop_words)\n",
        "# Agrego a la lista de remover la palabra vacia\n",
        "# english_stop_words.append('')\n",
        "\n",
        "\n",
        "# print( \"Cantidad de palabras \" + str(len(english_stop_words)) + \"\\n\" , english_stop_words[10:20] )\n",
        "\n",
        "# type(stop_words)"
      ],
      "execution_count": null,
      "outputs": [
        {
          "output_type": "stream",
          "text": [
            "time: 4.59 ms\n"
          ],
          "name": "stdout"
        }
      ]
    },
    {
      "cell_type": "markdown",
      "metadata": {
        "id": "_TvVJ6OuSNoB",
        "colab_type": "text"
      },
      "source": [
        "# Importo el dataset"
      ]
    },
    {
      "cell_type": "code",
      "metadata": {
        "id": "4c8RmljMeBmR",
        "colab_type": "code",
        "colab": {
          "base_uri": "https://localhost:8080/",
          "height": 35
        },
        "outputId": "0b091eee-0929-4c65-e6da-83f398730a35"
      },
      "source": [
        "# csv_charset = 'latin1'\n",
        "csv_charset = 'utf-8'\n",
        "\n",
        "train = pd.read_csv('https://raw.githubusercontent.com/maxrinal/nlp-disaster/master/train.csv' )\n",
        "test = pd.read_csv('https://raw.githubusercontent.com/maxrinal/nlp-disaster/master/test.csv' )\n",
        "\n",
        "\n",
        "pd_cv_test_id = pd.read_csv('SET/set_validation_id.csv')\n",
        "\n",
        "# # Tomo el dataframe original\n",
        "# df_clean_train = train.copy()\n",
        "# df_clean_test  = test.copy()\n",
        "\n",
        "list_cv_test_id = pd_cv_test_id.id.to_list()\n",
        "\n",
        "len( list_cv_test_id)"
      ],
      "execution_count": null,
      "outputs": [
        {
          "output_type": "execute_result",
          "data": {
            "text/plain": [
              "1523"
            ]
          },
          "metadata": {
            "tags": []
          },
          "execution_count": 103
        },
        {
          "output_type": "stream",
          "text": [
            "time: 976 ms\n"
          ],
          "name": "stdout"
        }
      ]
    },
    {
      "cell_type": "code",
      "metadata": {
        "id": "2EjrXDg2x92a",
        "colab_type": "code",
        "colab": {
          "base_uri": "https://localhost:8080/",
          "height": 53
        },
        "outputId": "4a9428f6-0aba-494a-db32-ff1ad0e56309"
      },
      "source": [
        "# Usando un una lista de id común a todo el grupo generarenmos un set para crossvalidation que nos permita generar un ensamble\n",
        "df_clean_train = train[ ~train.id.isin(list_cv_test_id) ].copy()\n",
        "df_clean_test = train[  train.id.isin(list_cv_test_id) ].copy()\n",
        "\n",
        "\n",
        "# df_clean_train = train.copy()\n",
        "# df_clean_test = test.copy()\n",
        "\n",
        "print( len(train) , len(df_clean_train) , len(df_clean_test) ) "
      ],
      "execution_count": null,
      "outputs": [
        {
          "output_type": "stream",
          "text": [
            "7613 6090 1523\n",
            "time: 8.06 ms\n"
          ],
          "name": "stdout"
        }
      ]
    },
    {
      "cell_type": "markdown",
      "metadata": {
        "id": "aUop7cXutRYf",
        "colab_type": "text"
      },
      "source": [
        "# Limpieza del texto"
      ]
    },
    {
      "cell_type": "code",
      "metadata": {
        "id": "ug3vWQk-2G45",
        "colab_type": "code",
        "colab": {
          "base_uri": "https://localhost:8080/",
          "height": 35
        },
        "outputId": "1d01aed4-e161-4eb8-bb59-f3672b9f549d"
      },
      "source": [
        "def super_manual_clean(tweet): \n",
        "            \n",
        "    # Special characters\n",
        "    tweet = re.sub(r\"\\x89Û_\", \"\", tweet)\n",
        "    tweet = re.sub(r\"\\x89ÛÒ\", \"\", tweet)\n",
        "    tweet = re.sub(r\"\\x89ÛÓ\", \"\", tweet)\n",
        "    tweet = re.sub(r\"\\x89ÛÏWhen\", \"When\", tweet)\n",
        "    tweet = re.sub(r\"\\x89ÛÏ\", \"\", tweet)\n",
        "    tweet = re.sub(r\"China\\x89Ûªs\", \"China's\", tweet)\n",
        "    tweet = re.sub(r\"let\\x89Ûªs\", \"let's\", tweet)\n",
        "    tweet = re.sub(r\"\\x89Û÷\", \"\", tweet)\n",
        "    tweet = re.sub(r\"\\x89Ûª\", \"\", tweet)\n",
        "    tweet = re.sub(r\"\\x89Û\\x9d\", \"\", tweet)\n",
        "    tweet = re.sub(r\"å_\", \"\", tweet)\n",
        "    tweet = re.sub(r\"\\x89Û¢\", \"\", tweet)\n",
        "    tweet = re.sub(r\"\\x89Û¢åÊ\", \"\", tweet)\n",
        "    tweet = re.sub(r\"fromåÊwounds\", \"from wounds\", tweet)\n",
        "    tweet = re.sub(r\"åÊ\", \"\", tweet)\n",
        "    tweet = re.sub(r\"åÈ\", \"\", tweet)\n",
        "    tweet = re.sub(r\"JapÌ_n\", \"Japan\", tweet)    \n",
        "    tweet = re.sub(r\"Ì©\", \"e\", tweet)\n",
        "    tweet = re.sub(r\"å¨\", \"\", tweet)\n",
        "    tweet = re.sub(r\"SuruÌ¤\", \"Suruc\", tweet)\n",
        "    tweet = re.sub(r\"åÇ\", \"\", tweet)\n",
        "    tweet = re.sub(r\"å£3million\", \"3 million\", tweet)\n",
        "    tweet = re.sub(r\"åÀ\", \"\", tweet)\n",
        "    \n",
        "    # Contractions\n",
        "    tweet = re.sub(r\"he's\", \"he is\", tweet)\n",
        "    tweet = re.sub(r\"there's\", \"there is\", tweet)\n",
        "    tweet = re.sub(r\"We're\", \"We are\", tweet)\n",
        "    tweet = re.sub(r\"That's\", \"That is\", tweet)\n",
        "    tweet = re.sub(r\"won't\", \"will not\", tweet)\n",
        "    tweet = re.sub(r\"they're\", \"they are\", tweet)\n",
        "    tweet = re.sub(r\"Can't\", \"Cannot\", tweet)\n",
        "    tweet = re.sub(r\"wasn't\", \"was not\", tweet)\n",
        "    tweet = re.sub(r\"don\\x89Ûªt\", \"do not\", tweet)\n",
        "    tweet = re.sub(r\"aren't\", \"are not\", tweet)\n",
        "    tweet = re.sub(r\"isn't\", \"is not\", tweet)\n",
        "    tweet = re.sub(r\"What's\", \"What is\", tweet)\n",
        "    tweet = re.sub(r\"haven't\", \"have not\", tweet)\n",
        "    tweet = re.sub(r\"hasn't\", \"has not\", tweet)\n",
        "    tweet = re.sub(r\"There's\", \"There is\", tweet)\n",
        "    tweet = re.sub(r\"He's\", \"He is\", tweet)\n",
        "    tweet = re.sub(r\"It's\", \"It is\", tweet)\n",
        "    tweet = re.sub(r\"You're\", \"You are\", tweet)\n",
        "    tweet = re.sub(r\"I'M\", \"I am\", tweet)\n",
        "    tweet = re.sub(r\"shouldn't\", \"should not\", tweet)\n",
        "    tweet = re.sub(r\"wouldn't\", \"would not\", tweet)\n",
        "    tweet = re.sub(r\"i'm\", \"I am\", tweet)\n",
        "    tweet = re.sub(r\"I\\x89Ûªm\", \"I am\", tweet)\n",
        "    tweet = re.sub(r\"I'm\", \"I am\", tweet)\n",
        "    tweet = re.sub(r\"Isn't\", \"is not\", tweet)\n",
        "    tweet = re.sub(r\"Here's\", \"Here is\", tweet)\n",
        "    tweet = re.sub(r\"you've\", \"you have\", tweet)\n",
        "    tweet = re.sub(r\"you\\x89Ûªve\", \"you have\", tweet)\n",
        "    tweet = re.sub(r\"we're\", \"we are\", tweet)\n",
        "    tweet = re.sub(r\"what's\", \"what is\", tweet)\n",
        "    tweet = re.sub(r\"couldn't\", \"could not\", tweet)\n",
        "    tweet = re.sub(r\"we've\", \"we have\", tweet)\n",
        "    tweet = re.sub(r\"it\\x89Ûªs\", \"it is\", tweet)\n",
        "    tweet = re.sub(r\"doesn\\x89Ûªt\", \"does not\", tweet)\n",
        "    tweet = re.sub(r\"It\\x89Ûªs\", \"It is\", tweet)\n",
        "    tweet = re.sub(r\"Here\\x89Ûªs\", \"Here is\", tweet)\n",
        "    tweet = re.sub(r\"who's\", \"who is\", tweet)\n",
        "    tweet = re.sub(r\"I\\x89Ûªve\", \"I have\", tweet)\n",
        "    tweet = re.sub(r\"y'all\", \"you all\", tweet)\n",
        "    tweet = re.sub(r\"can\\x89Ûªt\", \"cannot\", tweet)\n",
        "    tweet = re.sub(r\"would've\", \"would have\", tweet)\n",
        "    tweet = re.sub(r\"it'll\", \"it will\", tweet)\n",
        "    tweet = re.sub(r\"we'll\", \"we will\", tweet)\n",
        "    tweet = re.sub(r\"wouldn\\x89Ûªt\", \"would not\", tweet)\n",
        "    tweet = re.sub(r\"We've\", \"We have\", tweet)\n",
        "    tweet = re.sub(r\"he'll\", \"he will\", tweet)\n",
        "    tweet = re.sub(r\"Y'all\", \"You all\", tweet)\n",
        "    tweet = re.sub(r\"Weren't\", \"Were not\", tweet)\n",
        "    tweet = re.sub(r\"Didn't\", \"Did not\", tweet)\n",
        "    tweet = re.sub(r\"they'll\", \"they will\", tweet)\n",
        "    tweet = re.sub(r\"they'd\", \"they would\", tweet)\n",
        "    tweet = re.sub(r\"DON'T\", \"DO NOT\", tweet)\n",
        "    tweet = re.sub(r\"That\\x89Ûªs\", \"That is\", tweet)\n",
        "    tweet = re.sub(r\"they've\", \"they have\", tweet)\n",
        "    tweet = re.sub(r\"i'd\", \"I would\", tweet)\n",
        "    tweet = re.sub(r\"should've\", \"should have\", tweet)\n",
        "    tweet = re.sub(r\"You\\x89Ûªre\", \"You are\", tweet)\n",
        "    tweet = re.sub(r\"where's\", \"where is\", tweet)\n",
        "    tweet = re.sub(r\"Don\\x89Ûªt\", \"Do not\", tweet)\n",
        "    tweet = re.sub(r\"we'd\", \"we would\", tweet)\n",
        "    tweet = re.sub(r\"i'll\", \"I will\", tweet)\n",
        "    tweet = re.sub(r\"weren't\", \"were not\", tweet)\n",
        "    tweet = re.sub(r\"They're\", \"They are\", tweet)\n",
        "    tweet = re.sub(r\"Can\\x89Ûªt\", \"Cannot\", tweet)\n",
        "    tweet = re.sub(r\"you\\x89Ûªll\", \"you will\", tweet)\n",
        "    tweet = re.sub(r\"I\\x89Ûªd\", \"I would\", tweet)\n",
        "    tweet = re.sub(r\"let's\", \"let us\", tweet)\n",
        "    tweet = re.sub(r\"it's\", \"it is\", tweet)\n",
        "    tweet = re.sub(r\"can't\", \"cannot\", tweet)\n",
        "    tweet = re.sub(r\"don't\", \"do not\", tweet)\n",
        "    tweet = re.sub(r\"you're\", \"you are\", tweet)\n",
        "    tweet = re.sub(r\"i've\", \"I have\", tweet)\n",
        "    tweet = re.sub(r\"that's\", \"that is\", tweet)\n",
        "    tweet = re.sub(r\"i'll\", \"I will\", tweet)\n",
        "    tweet = re.sub(r\"doesn't\", \"does not\", tweet)\n",
        "    tweet = re.sub(r\"i'd\", \"I would\", tweet)\n",
        "    tweet = re.sub(r\"didn't\", \"did not\", tweet)\n",
        "    tweet = re.sub(r\"ain't\", \"am not\", tweet)\n",
        "    tweet = re.sub(r\"you'll\", \"you will\", tweet)\n",
        "    tweet = re.sub(r\"I've\", \"I have\", tweet)\n",
        "    tweet = re.sub(r\"Don't\", \"do not\", tweet)\n",
        "    tweet = re.sub(r\"I'll\", \"I will\", tweet)\n",
        "    tweet = re.sub(r\"I'd\", \"I would\", tweet)\n",
        "    tweet = re.sub(r\"Let's\", \"Let us\", tweet)\n",
        "    tweet = re.sub(r\"you'd\", \"You would\", tweet)\n",
        "    tweet = re.sub(r\"It's\", \"It is\", tweet)\n",
        "    tweet = re.sub(r\"Ain't\", \"am not\", tweet)\n",
        "    tweet = re.sub(r\"Haven't\", \"Have not\", tweet)\n",
        "    tweet = re.sub(r\"Could've\", \"Could have\", tweet)\n",
        "    tweet = re.sub(r\"youve\", \"you have\", tweet)  \n",
        "    tweet = re.sub(r\"donå«t\", \"do not\", tweet)   \n",
        "            \n",
        "    # Character entity references\n",
        "    tweet = re.sub(r\"&gt;\", \">\", tweet)\n",
        "    tweet = re.sub(r\"&lt;\", \"<\", tweet)\n",
        "    tweet = re.sub(r\"&amp;\", \"&\", tweet)\n",
        "    \n",
        "    # Typos, slang and informal abbreviations\n",
        "    tweet = re.sub(r\"w/e\", \"whatever\", tweet)\n",
        "    tweet = re.sub(r\"w/\", \"with\", tweet)\n",
        "    tweet = re.sub(r\"USAgov\", \"USA government\", tweet)\n",
        "    tweet = re.sub(r\"recentlu\", \"recently\", tweet)\n",
        "    tweet = re.sub(r\"Ph0tos\", \"Photos\", tweet)\n",
        "    tweet = re.sub(r\"amirite\", \"am I right\", tweet)\n",
        "    tweet = re.sub(r\"exp0sed\", \"exposed\", tweet)\n",
        "    tweet = re.sub(r\"<3\", \"love\", tweet)\n",
        "    tweet = re.sub(r\"amageddon\", \"armageddon\", tweet)\n",
        "    tweet = re.sub(r\"Trfc\", \"Traffic\", tweet)\n",
        "    tweet = re.sub(r\"8/5/2015\", \"2015-08-05\", tweet)\n",
        "    tweet = re.sub(r\"WindStorm\", \"Wind Storm\", tweet)\n",
        "    tweet = re.sub(r\"8/6/2015\", \"2015-08-06\", tweet)\n",
        "    tweet = re.sub(r\"10:38PM\", \"10:38 PM\", tweet)\n",
        "    tweet = re.sub(r\"10:30pm\", \"10:30 PM\", tweet)\n",
        "    tweet = re.sub(r\"16yr\", \"16 year\", tweet)\n",
        "    tweet = re.sub(r\"lmao\", \"laughing my ass off\", tweet)   \n",
        "    tweet = re.sub(r\"TRAUMATISED\", \"traumatized\", tweet)\n",
        "    \n",
        "    # Hashtags and usernames\n",
        "    tweet = re.sub(r\"IranDeal\", \"Iran Deal\", tweet)\n",
        "    tweet = re.sub(r\"ArianaGrande\", \"Ariana Grande\", tweet)\n",
        "    tweet = re.sub(r\"camilacabello97\", \"camila cabello\", tweet) \n",
        "    tweet = re.sub(r\"RondaRousey\", \"Ronda Rousey\", tweet)     \n",
        "    tweet = re.sub(r\"MTVHottest\", \"MTV Hottest\", tweet)\n",
        "    tweet = re.sub(r\"TrapMusic\", \"Trap Music\", tweet)\n",
        "    tweet = re.sub(r\"ProphetMuhammad\", \"Prophet Muhammad\", tweet)\n",
        "    tweet = re.sub(r\"PantherAttack\", \"Panther Attack\", tweet)\n",
        "    tweet = re.sub(r\"StrategicPatience\", \"Strategic Patience\", tweet)\n",
        "    tweet = re.sub(r\"socialnews\", \"social news\", tweet)\n",
        "    tweet = re.sub(r\"NASAHurricane\", \"NASA Hurricane\", tweet)\n",
        "    tweet = re.sub(r\"onlinecommunities\", \"online communities\", tweet)\n",
        "    tweet = re.sub(r\"humanconsumption\", \"human consumption\", tweet)\n",
        "    tweet = re.sub(r\"Typhoon-Devastated\", \"Typhoon Devastated\", tweet)\n",
        "    tweet = re.sub(r\"Meat-Loving\", \"Meat Loving\", tweet)\n",
        "    tweet = re.sub(r\"facialabuse\", \"facial abuse\", tweet)\n",
        "    tweet = re.sub(r\"LakeCounty\", \"Lake County\", tweet)\n",
        "    tweet = re.sub(r\"BeingAuthor\", \"Being Author\", tweet)\n",
        "    tweet = re.sub(r\"withheavenly\", \"with heavenly\", tweet)\n",
        "    tweet = re.sub(r\"thankU\", \"thank you\", tweet)\n",
        "    tweet = re.sub(r\"iTunesMusic\", \"iTunes Music\", tweet)\n",
        "    tweet = re.sub(r\"OffensiveContent\", \"Offensive Content\", tweet)\n",
        "    tweet = re.sub(r\"WorstSummerJob\", \"Worst Summer Job\", tweet)\n",
        "    tweet = re.sub(r\"HarryBeCareful\", \"Harry Be Careful\", tweet)\n",
        "    tweet = re.sub(r\"NASASolarSystem\", \"NASA Solar System\", tweet)\n",
        "    tweet = re.sub(r\"animalrescue\", \"animal rescue\", tweet)\n",
        "    tweet = re.sub(r\"KurtSchlichter\", \"Kurt Schlichter\", tweet)\n",
        "    tweet = re.sub(r\"aRmageddon\", \"armageddon\", tweet)\n",
        "    tweet = re.sub(r\"Throwingknifes\", \"Throwing knives\", tweet)\n",
        "    tweet = re.sub(r\"GodsLove\", \"God's Love\", tweet)\n",
        "    tweet = re.sub(r\"bookboost\", \"book boost\", tweet)\n",
        "    tweet = re.sub(r\"ibooklove\", \"I book love\", tweet)\n",
        "    tweet = re.sub(r\"NestleIndia\", \"Nestle India\", tweet)\n",
        "    tweet = re.sub(r\"realDonaldTrump\", \"Donald Trump\", tweet)\n",
        "    tweet = re.sub(r\"DavidVonderhaar\", \"David Vonderhaar\", tweet)\n",
        "    tweet = re.sub(r\"CecilTheLion\", \"Cecil The Lion\", tweet)\n",
        "    tweet = re.sub(r\"weathernetwork\", \"weather network\", tweet)\n",
        "    tweet = re.sub(r\"withBioterrorism&use\", \"with Bioterrorism & use\", tweet)\n",
        "    tweet = re.sub(r\"Hostage&2\", \"Hostage & 2\", tweet)\n",
        "    tweet = re.sub(r\"GOPDebate\", \"GOP Debate\", tweet)\n",
        "    tweet = re.sub(r\"RickPerry\", \"Rick Perry\", tweet)\n",
        "    tweet = re.sub(r\"frontpage\", \"front page\", tweet)\n",
        "    tweet = re.sub(r\"NewsInTweets\", \"News In Tweets\", tweet)\n",
        "    tweet = re.sub(r\"ViralSpell\", \"Viral Spell\", tweet)\n",
        "    tweet = re.sub(r\"til_now\", \"until now\", tweet)\n",
        "    tweet = re.sub(r\"volcanoinRussia\", \"volcano in Russia\", tweet)\n",
        "    tweet = re.sub(r\"ZippedNews\", \"Zipped News\", tweet)\n",
        "    tweet = re.sub(r\"MicheleBachman\", \"Michele Bachman\", tweet)\n",
        "    tweet = re.sub(r\"53inch\", \"53 inch\", tweet)\n",
        "    tweet = re.sub(r\"KerrickTrial\", \"Kerrick Trial\", tweet)\n",
        "    tweet = re.sub(r\"abstorm\", \"Alberta Storm\", tweet)\n",
        "    tweet = re.sub(r\"Beyhive\", \"Beyonce hive\", tweet)\n",
        "    tweet = re.sub(r\"IDFire\", \"Idaho Fire\", tweet)\n",
        "    tweet = re.sub(r\"DETECTADO\", \"Detected\", tweet)\n",
        "    tweet = re.sub(r\"RockyFire\", \"Rocky Fire\", tweet)\n",
        "    tweet = re.sub(r\"Listen/Buy\", \"Listen / Buy\", tweet)\n",
        "    tweet = re.sub(r\"NickCannon\", \"Nick Cannon\", tweet)\n",
        "    tweet = re.sub(r\"FaroeIslands\", \"Faroe Islands\", tweet)\n",
        "    tweet = re.sub(r\"yycstorm\", \"Calgary Storm\", tweet)\n",
        "    tweet = re.sub(r\"IDPs:\", \"Internally Displaced People :\", tweet)\n",
        "    tweet = re.sub(r\"ArtistsUnited\", \"Artists United\", tweet)\n",
        "    tweet = re.sub(r\"ClaytonBryant\", \"Clayton Bryant\", tweet)\n",
        "    tweet = re.sub(r\"jimmyfallon\", \"jimmy fallon\", tweet)\n",
        "    tweet = re.sub(r\"justinbieber\", \"justin bieber\", tweet)  \n",
        "    tweet = re.sub(r\"UTC2015\", \"UTC 2015\", tweet)\n",
        "    tweet = re.sub(r\"Time2015\", \"Time 2015\", tweet)\n",
        "    tweet = re.sub(r\"djicemoon\", \"dj icemoon\", tweet)\n",
        "    tweet = re.sub(r\"LivingSafely\", \"Living Safely\", tweet)\n",
        "    tweet = re.sub(r\"FIFA16\", \"Fifa 2016\", tweet)\n",
        "    tweet = re.sub(r\"thisiswhywecanthavenicethings\", \"this is why we cannot have nice things\", tweet)\n",
        "    tweet = re.sub(r\"bbcnews\", \"bbc news\", tweet)\n",
        "    tweet = re.sub(r\"UndergroundRailraod\", \"Underground Railraod\", tweet)\n",
        "    tweet = re.sub(r\"c4news\", \"c4 news\", tweet)\n",
        "    tweet = re.sub(r\"OBLITERATION\", \"obliteration\", tweet)\n",
        "    tweet = re.sub(r\"MUDSLIDE\", \"mudslide\", tweet)\n",
        "    tweet = re.sub(r\"NoSurrender\", \"No Surrender\", tweet)\n",
        "    tweet = re.sub(r\"NotExplained\", \"Not Explained\", tweet)\n",
        "    tweet = re.sub(r\"greatbritishbakeoff\", \"great british bake off\", tweet)\n",
        "    tweet = re.sub(r\"LondonFire\", \"London Fire\", tweet)\n",
        "    tweet = re.sub(r\"KOTAWeather\", \"KOTA Weather\", tweet)\n",
        "    tweet = re.sub(r\"LuchaUnderground\", \"Lucha Underground\", tweet)\n",
        "    tweet = re.sub(r\"KOIN6News\", \"KOIN 6 News\", tweet)\n",
        "    tweet = re.sub(r\"LiveOnK2\", \"Live On K2\", tweet)\n",
        "    tweet = re.sub(r\"9NewsGoldCoast\", \"9 News Gold Coast\", tweet)\n",
        "    tweet = re.sub(r\"nikeplus\", \"nike plus\", tweet)\n",
        "    tweet = re.sub(r\"david_cameron\", \"David Cameron\", tweet)\n",
        "    tweet = re.sub(r\"peterjukes\", \"Peter Jukes\", tweet)\n",
        "    tweet = re.sub(r\"JamesMelville\", \"James Melville\", tweet)\n",
        "    tweet = re.sub(r\"megynkelly\", \"Megyn Kelly\", tweet)\n",
        "    tweet = re.sub(r\"cnewslive\", \"C News Live\", tweet)\n",
        "    tweet = re.sub(r\"JamaicaObserver\", \"Jamaica Observer\", tweet)\n",
        "    tweet = re.sub(r\"TweetLikeItsSeptember11th2001\", \"Tweet like it is september 11th 2001\", tweet)\n",
        "    tweet = re.sub(r\"cbplawyers\", \"cbp lawyers\", tweet)\n",
        "    tweet = re.sub(r\"fewmoretweets\", \"few more tweets\", tweet)\n",
        "    tweet = re.sub(r\"BlackLivesMatter\", \"Black Lives Matter\", tweet)\n",
        "    tweet = re.sub(r\"cjoyner\", \"Chris Joyner\", tweet)\n",
        "    tweet = re.sub(r\"ENGvAUS\", \"England vs Australia\", tweet)\n",
        "    tweet = re.sub(r\"ScottWalker\", \"Scott Walker\", tweet)\n",
        "    tweet = re.sub(r\"MikeParrActor\", \"Michael Parr\", tweet)\n",
        "    tweet = re.sub(r\"4PlayThursdays\", \"Foreplay Thursdays\", tweet)\n",
        "    tweet = re.sub(r\"TGF2015\", \"Tontitown Grape Festival\", tweet)\n",
        "    tweet = re.sub(r\"realmandyrain\", \"Mandy Rain\", tweet)\n",
        "    tweet = re.sub(r\"GraysonDolan\", \"Grayson Dolan\", tweet)\n",
        "    tweet = re.sub(r\"ApolloBrown\", \"Apollo Brown\", tweet)\n",
        "    tweet = re.sub(r\"saddlebrooke\", \"Saddlebrooke\", tweet)\n",
        "    tweet = re.sub(r\"TontitownGrape\", \"Tontitown Grape\", tweet)\n",
        "    tweet = re.sub(r\"AbbsWinston\", \"Abbs Winston\", tweet)\n",
        "    tweet = re.sub(r\"ShaunKing\", \"Shaun King\", tweet)\n",
        "    tweet = re.sub(r\"MeekMill\", \"Meek Mill\", tweet)\n",
        "    tweet = re.sub(r\"TornadoGiveaway\", \"Tornado Giveaway\", tweet)\n",
        "    tweet = re.sub(r\"GRupdates\", \"GR updates\", tweet)\n",
        "    tweet = re.sub(r\"SouthDowns\", \"South Downs\", tweet)\n",
        "    tweet = re.sub(r\"braininjury\", \"brain injury\", tweet)\n",
        "    tweet = re.sub(r\"auspol\", \"Australian politics\", tweet)\n",
        "    tweet = re.sub(r\"PlannedParenthood\", \"Planned Parenthood\", tweet)\n",
        "    tweet = re.sub(r\"calgaryweather\", \"Calgary Weather\", tweet)\n",
        "    tweet = re.sub(r\"weallheartonedirection\", \"we all heart one direction\", tweet)\n",
        "    tweet = re.sub(r\"edsheeran\", \"Ed Sheeran\", tweet)\n",
        "    tweet = re.sub(r\"TrueHeroes\", \"True Heroes\", tweet)\n",
        "    tweet = re.sub(r\"S3XLEAK\", \"sex leak\", tweet)\n",
        "    tweet = re.sub(r\"ComplexMag\", \"Complex Magazine\", tweet)\n",
        "    tweet = re.sub(r\"TheAdvocateMag\", \"The Advocate Magazine\", tweet)\n",
        "    tweet = re.sub(r\"CityofCalgary\", \"City of Calgary\", tweet)\n",
        "    tweet = re.sub(r\"EbolaOutbreak\", \"Ebola Outbreak\", tweet)\n",
        "    tweet = re.sub(r\"SummerFate\", \"Summer Fate\", tweet)\n",
        "    tweet = re.sub(r\"RAmag\", \"Royal Academy Magazine\", tweet)\n",
        "    tweet = re.sub(r\"offers2go\", \"offers to go\", tweet)\n",
        "    tweet = re.sub(r\"foodscare\", \"food scare\", tweet)\n",
        "    tweet = re.sub(r\"MNPDNashville\", \"Metropolitan Nashville Police Department\", tweet)\n",
        "    tweet = re.sub(r\"TfLBusAlerts\", \"TfL Bus Alerts\", tweet)\n",
        "    tweet = re.sub(r\"GamerGate\", \"Gamer Gate\", tweet)\n",
        "    tweet = re.sub(r\"IHHen\", \"Humanitarian Relief\", tweet)\n",
        "    tweet = re.sub(r\"spinningbot\", \"spinning bot\", tweet)\n",
        "    tweet = re.sub(r\"ModiMinistry\", \"Modi Ministry\", tweet)\n",
        "    tweet = re.sub(r\"TAXIWAYS\", \"taxi ways\", tweet)\n",
        "    tweet = re.sub(r\"Calum5SOS\", \"Calum Hood\", tweet)\n",
        "    tweet = re.sub(r\"po_st\", \"po.st\", tweet)\n",
        "    tweet = re.sub(r\"scoopit\", \"scoop.it\", tweet)\n",
        "    tweet = re.sub(r\"UltimaLucha\", \"Ultima Lucha\", tweet)\n",
        "    tweet = re.sub(r\"JonathanFerrell\", \"Jonathan Ferrell\", tweet)\n",
        "    tweet = re.sub(r\"aria_ahrary\", \"Aria Ahrary\", tweet)\n",
        "    tweet = re.sub(r\"rapidcity\", \"Rapid City\", tweet)\n",
        "    tweet = re.sub(r\"OutBid\", \"outbid\", tweet)\n",
        "    tweet = re.sub(r\"lavenderpoetrycafe\", \"lavender poetry cafe\", tweet)\n",
        "    tweet = re.sub(r\"EudryLantiqua\", \"Eudry Lantiqua\", tweet)\n",
        "    tweet = re.sub(r\"15PM\", \"15 PM\", tweet)\n",
        "    tweet = re.sub(r\"OriginalFunko\", \"Funko\", tweet)\n",
        "    tweet = re.sub(r\"rightwaystan\", \"Richard Tan\", tweet)\n",
        "    tweet = re.sub(r\"CindyNoonan\", \"Cindy Noonan\", tweet)\n",
        "    tweet = re.sub(r\"RT_America\", \"RT America\", tweet)\n",
        "    tweet = re.sub(r\"narendramodi\", \"Narendra Modi\", tweet)\n",
        "    tweet = re.sub(r\"BakeOffFriends\", \"Bake Off Friends\", tweet)\n",
        "    tweet = re.sub(r\"TeamHendrick\", \"Hendrick Motorsports\", tweet)\n",
        "    tweet = re.sub(r\"alexbelloli\", \"Alex Belloli\", tweet)\n",
        "    tweet = re.sub(r\"itsjustinstuart\", \"Justin Stuart\", tweet)\n",
        "    tweet = re.sub(r\"gunsense\", \"gun sense\", tweet)\n",
        "    tweet = re.sub(r\"DebateQuestionsWeWantToHear\", \"debate questions we want to hear\", tweet)\n",
        "    tweet = re.sub(r\"RoyalCarribean\", \"Royal Carribean\", tweet)\n",
        "    tweet = re.sub(r\"samanthaturne19\", \"Samantha Turner\", tweet)\n",
        "    tweet = re.sub(r\"JonVoyage\", \"Jon Stewart\", tweet)\n",
        "    tweet = re.sub(r\"renew911health\", \"renew 911 health\", tweet)\n",
        "    tweet = re.sub(r\"SuryaRay\", \"Surya Ray\", tweet)\n",
        "    tweet = re.sub(r\"pattonoswalt\", \"Patton Oswalt\", tweet)\n",
        "    tweet = re.sub(r\"minhazmerchant\", \"Minhaz Merchant\", tweet)\n",
        "    tweet = re.sub(r\"TLVFaces\", \"Israel Diaspora Coalition\", tweet)\n",
        "    tweet = re.sub(r\"pmarca\", \"Marc Andreessen\", tweet)\n",
        "    tweet = re.sub(r\"pdx911\", \"Portland Police\", tweet)\n",
        "    tweet = re.sub(r\"jamaicaplain\", \"Jamaica Plain\", tweet)\n",
        "    tweet = re.sub(r\"Japton\", \"Arkansas\", tweet)\n",
        "    tweet = re.sub(r\"RouteComplex\", \"Route Complex\", tweet)\n",
        "    tweet = re.sub(r\"INSubcontinent\", \"Indian Subcontinent\", tweet)\n",
        "    tweet = re.sub(r\"NJTurnpike\", \"New Jersey Turnpike\", tweet)\n",
        "    tweet = re.sub(r\"Politifiact\", \"PolitiFact\", tweet)\n",
        "    tweet = re.sub(r\"Hiroshima70\", \"Hiroshima\", tweet)\n",
        "    tweet = re.sub(r\"GMMBC\", \"Greater Mt Moriah Baptist Church\", tweet)\n",
        "    tweet = re.sub(r\"versethe\", \"verse the\", tweet)\n",
        "    tweet = re.sub(r\"TubeStrike\", \"Tube Strike\", tweet)\n",
        "    tweet = re.sub(r\"MissionHills\", \"Mission Hills\", tweet)\n",
        "    tweet = re.sub(r\"ProtectDenaliWolves\", \"Protect Denali Wolves\", tweet)\n",
        "    tweet = re.sub(r\"NANKANA\", \"Nankana\", tweet)\n",
        "    tweet = re.sub(r\"SAHIB\", \"Sahib\", tweet)\n",
        "    tweet = re.sub(r\"PAKPATTAN\", \"Pakpattan\", tweet)\n",
        "    tweet = re.sub(r\"Newz_Sacramento\", \"News Sacramento\", tweet)\n",
        "    tweet = re.sub(r\"gofundme\", \"go fund me\", tweet)\n",
        "    tweet = re.sub(r\"pmharper\", \"Stephen Harper\", tweet)\n",
        "    tweet = re.sub(r\"IvanBerroa\", \"Ivan Berroa\", tweet)\n",
        "    tweet = re.sub(r\"LosDelSonido\", \"Los Del Sonido\", tweet)\n",
        "    tweet = re.sub(r\"bancodeseries\", \"banco de series\", tweet)\n",
        "    tweet = re.sub(r\"timkaine\", \"Tim Kaine\", tweet)\n",
        "    tweet = re.sub(r\"IdentityTheft\", \"Identity Theft\", tweet)\n",
        "    tweet = re.sub(r\"AllLivesMatter\", \"All Lives Matter\", tweet)\n",
        "    tweet = re.sub(r\"mishacollins\", \"Misha Collins\", tweet)\n",
        "    tweet = re.sub(r\"BillNeelyNBC\", \"Bill Neely\", tweet)\n",
        "    tweet = re.sub(r\"BeClearOnCancer\", \"be clear on cancer\", tweet)\n",
        "    tweet = re.sub(r\"Kowing\", \"Knowing\", tweet)\n",
        "    tweet = re.sub(r\"ScreamQueens\", \"Scream Queens\", tweet)\n",
        "    tweet = re.sub(r\"AskCharley\", \"Ask Charley\", tweet)\n",
        "    tweet = re.sub(r\"BlizzHeroes\", \"Heroes of the Storm\", tweet)\n",
        "    tweet = re.sub(r\"BradleyBrad47\", \"Bradley Brad\", tweet)\n",
        "    tweet = re.sub(r\"HannaPH\", \"Typhoon Hanna\", tweet)\n",
        "    tweet = re.sub(r\"meinlcymbals\", \"MEINL Cymbals\", tweet)\n",
        "    tweet = re.sub(r\"Ptbo\", \"Peterborough\", tweet)\n",
        "    tweet = re.sub(r\"cnnbrk\", \"CNN Breaking News\", tweet)\n",
        "    tweet = re.sub(r\"IndianNews\", \"Indian News\", tweet)\n",
        "    tweet = re.sub(r\"savebees\", \"save bees\", tweet)\n",
        "    tweet = re.sub(r\"GreenHarvard\", \"Green Harvard\", tweet)\n",
        "    tweet = re.sub(r\"StandwithPP\", \"Stand with planned parenthood\", tweet)\n",
        "    tweet = re.sub(r\"hermancranston\", \"Herman Cranston\", tweet)\n",
        "    tweet = re.sub(r\"WMUR9\", \"WMUR-TV\", tweet)\n",
        "    tweet = re.sub(r\"RockBottomRadFM\", \"Rock Bottom Radio\", tweet)\n",
        "    tweet = re.sub(r\"ameenshaikh3\", \"Ameen Shaikh\", tweet)\n",
        "    tweet = re.sub(r\"ProSyn\", \"Project Syndicate\", tweet)\n",
        "    tweet = re.sub(r\"Daesh\", \"ISIS\", tweet)\n",
        "    tweet = re.sub(r\"s2g\", \"swear to god\", tweet)\n",
        "    tweet = re.sub(r\"listenlive\", \"listen live\", tweet)\n",
        "    tweet = re.sub(r\"CDCgov\", \"Centers for Disease Control and Prevention\", tweet)\n",
        "    tweet = re.sub(r\"FoxNew\", \"Fox News\", tweet)\n",
        "    tweet = re.sub(r\"CBSBigBrother\", \"Big Brother\", tweet)\n",
        "    tweet = re.sub(r\"JulieDiCaro\", \"Julie DiCaro\", tweet)\n",
        "    tweet = re.sub(r\"theadvocatemag\", \"The Advocate Magazine\", tweet)\n",
        "    tweet = re.sub(r\"RohnertParkDPS\", \"Rohnert Park Police Department\", tweet)\n",
        "    tweet = re.sub(r\"THISIZBWRIGHT\", \"Bonnie Wright\", tweet)\n",
        "    tweet = re.sub(r\"Popularmmos\", \"Popular MMOs\", tweet)\n",
        "    tweet = re.sub(r\"WildHorses\", \"Wild Horses\", tweet)\n",
        "    tweet = re.sub(r\"FantasticFour\", \"Fantastic Four\", tweet)\n",
        "    tweet = re.sub(r\"HORNDALE\", \"Horndale\", tweet)\n",
        "    tweet = re.sub(r\"PINER\", \"Piner\", tweet)\n",
        "    tweet = re.sub(r\"BathAndNorthEastSomerset\", \"Bath and North East Somerset\", tweet)\n",
        "    tweet = re.sub(r\"thatswhatfriendsarefor\", \"that is what friends are for\", tweet)\n",
        "    tweet = re.sub(r\"residualincome\", \"residual income\", tweet)\n",
        "    tweet = re.sub(r\"YahooNewsDigest\", \"Yahoo News Digest\", tweet)\n",
        "    tweet = re.sub(r\"MalaysiaAirlines\", \"Malaysia Airlines\", tweet)\n",
        "    tweet = re.sub(r\"AmazonDeals\", \"Amazon Deals\", tweet)\n",
        "    tweet = re.sub(r\"MissCharleyWebb\", \"Charley Webb\", tweet)\n",
        "    tweet = re.sub(r\"shoalstraffic\", \"shoals traffic\", tweet)\n",
        "    tweet = re.sub(r\"GeorgeFoster72\", \"George Foster\", tweet)\n",
        "    tweet = re.sub(r\"pop2015\", \"pop 2015\", tweet)\n",
        "    tweet = re.sub(r\"_PokemonCards_\", \"Pokemon Cards\", tweet)\n",
        "    tweet = re.sub(r\"DianneG\", \"Dianne Gallagher\", tweet)\n",
        "    tweet = re.sub(r\"KashmirConflict\", \"Kashmir Conflict\", tweet)\n",
        "    tweet = re.sub(r\"BritishBakeOff\", \"British Bake Off\", tweet)\n",
        "    tweet = re.sub(r\"FreeKashmir\", \"Free Kashmir\", tweet)\n",
        "    tweet = re.sub(r\"mattmosley\", \"Matt Mosley\", tweet)\n",
        "    tweet = re.sub(r\"BishopFred\", \"Bishop Fred\", tweet)\n",
        "    tweet = re.sub(r\"EndConflict\", \"End Conflict\", tweet)\n",
        "    tweet = re.sub(r\"EndOccupation\", \"End Occupation\", tweet)\n",
        "    tweet = re.sub(r\"UNHEALED\", \"unhealed\", tweet)\n",
        "    tweet = re.sub(r\"CharlesDagnall\", \"Charles Dagnall\", tweet)\n",
        "    tweet = re.sub(r\"Latestnews\", \"Latest news\", tweet)\n",
        "    tweet = re.sub(r\"KindleCountdown\", \"Kindle Countdown\", tweet)\n",
        "    tweet = re.sub(r\"NoMoreHandouts\", \"No More Handouts\", tweet)\n",
        "    tweet = re.sub(r\"datingtips\", \"dating tips\", tweet)\n",
        "    tweet = re.sub(r\"charlesadler\", \"Charles Adler\", tweet)\n",
        "    tweet = re.sub(r\"twia\", \"Texas Windstorm Insurance Association\", tweet)\n",
        "    tweet = re.sub(r\"txlege\", \"Texas Legislature\", tweet)\n",
        "    tweet = re.sub(r\"WindstormInsurer\", \"Windstorm Insurer\", tweet)\n",
        "    tweet = re.sub(r\"Newss\", \"News\", tweet)\n",
        "    tweet = re.sub(r\"hempoil\", \"hemp oil\", tweet)\n",
        "    tweet = re.sub(r\"CommoditiesAre\", \"Commodities are\", tweet)\n",
        "    tweet = re.sub(r\"tubestrike\", \"tube strike\", tweet)\n",
        "    tweet = re.sub(r\"JoeNBC\", \"Joe Scarborough\", tweet)\n",
        "    tweet = re.sub(r\"LiteraryCakes\", \"Literary Cakes\", tweet)\n",
        "    tweet = re.sub(r\"TI5\", \"The International 5\", tweet)\n",
        "    tweet = re.sub(r\"thehill\", \"the hill\", tweet)\n",
        "    tweet = re.sub(r\"3others\", \"3 others\", tweet)\n",
        "    tweet = re.sub(r\"stighefootball\", \"Sam Tighe\", tweet)\n",
        "    tweet = re.sub(r\"whatstheimportantvideo\", \"what is the important video\", tweet)\n",
        "    tweet = re.sub(r\"ClaudioMeloni\", \"Claudio Meloni\", tweet)\n",
        "    tweet = re.sub(r\"DukeSkywalker\", \"Duke Skywalker\", tweet)\n",
        "    tweet = re.sub(r\"carsonmwr\", \"Fort Carson\", tweet)\n",
        "    tweet = re.sub(r\"offdishduty\", \"off dish duty\", tweet)\n",
        "    tweet = re.sub(r\"andword\", \"and word\", tweet)\n",
        "    tweet = re.sub(r\"rhodeisland\", \"Rhode Island\", tweet)\n",
        "    tweet = re.sub(r\"easternoregon\", \"Eastern Oregon\", tweet)\n",
        "    tweet = re.sub(r\"WAwildfire\", \"Washington Wildfire\", tweet)\n",
        "    tweet = re.sub(r\"fingerrockfire\", \"Finger Rock Fire\", tweet)\n",
        "    tweet = re.sub(r\"57am\", \"57 am\", tweet)\n",
        "    tweet = re.sub(r\"fingerrockfire\", \"Finger Rock Fire\", tweet)\n",
        "    tweet = re.sub(r\"JacobHoggard\", \"Jacob Hoggard\", tweet)\n",
        "    tweet = re.sub(r\"newnewnew\", \"new new new\", tweet)\n",
        "    tweet = re.sub(r\"under50\", \"under 50\", tweet)\n",
        "    tweet = re.sub(r\"getitbeforeitsgone\", \"get it before it is gone\", tweet)\n",
        "    tweet = re.sub(r\"freshoutofthebox\", \"fresh out of the box\", tweet)\n",
        "    tweet = re.sub(r\"amwriting\", \"am writing\", tweet)\n",
        "    tweet = re.sub(r\"Bokoharm\", \"Boko Haram\", tweet)\n",
        "    tweet = re.sub(r\"Nowlike\", \"Now like\", tweet)\n",
        "    tweet = re.sub(r\"seasonfrom\", \"season from\", tweet)\n",
        "    tweet = re.sub(r\"epicente\", \"epicenter\", tweet)\n",
        "    tweet = re.sub(r\"epicenterr\", \"epicenter\", tweet)\n",
        "    tweet = re.sub(r\"sicklife\", \"sick life\", tweet)\n",
        "    tweet = re.sub(r\"yycweather\", \"Calgary Weather\", tweet)\n",
        "    tweet = re.sub(r\"calgarysun\", \"Calgary Sun\", tweet)\n",
        "    tweet = re.sub(r\"approachng\", \"approaching\", tweet)\n",
        "    tweet = re.sub(r\"evng\", \"evening\", tweet)\n",
        "    tweet = re.sub(r\"Sumthng\", \"something\", tweet)\n",
        "    tweet = re.sub(r\"EllenPompeo\", \"Ellen Pompeo\", tweet)\n",
        "    tweet = re.sub(r\"shondarhimes\", \"Shonda Rhimes\", tweet)\n",
        "    tweet = re.sub(r\"ABCNetwork\", \"ABC Network\", tweet)\n",
        "    tweet = re.sub(r\"SushmaSwaraj\", \"Sushma Swaraj\", tweet)\n",
        "    tweet = re.sub(r\"pray4japan\", \"Pray for Japan\", tweet)\n",
        "    tweet = re.sub(r\"hope4japan\", \"Hope for Japan\", tweet)\n",
        "    tweet = re.sub(r\"Illusionimagess\", \"Illusion images\", tweet)\n",
        "    tweet = re.sub(r\"SummerUnderTheStars\", \"Summer Under The Stars\", tweet)\n",
        "    tweet = re.sub(r\"ShallWeDance\", \"Shall We Dance\", tweet)\n",
        "    tweet = re.sub(r\"TCMParty\", \"TCM Party\", tweet)\n",
        "    tweet = re.sub(r\"marijuananews\", \"marijuana news\", tweet)\n",
        "    tweet = re.sub(r\"onbeingwithKristaTippett\", \"on being with Krista Tippett\", tweet)\n",
        "    tweet = re.sub(r\"Beingtweets\", \"Being tweets\", tweet)\n",
        "    tweet = re.sub(r\"newauthors\", \"new authors\", tweet)\n",
        "    tweet = re.sub(r\"remedyyyy\", \"remedy\", tweet)\n",
        "    tweet = re.sub(r\"44PM\", \"44 PM\", tweet)\n",
        "    tweet = re.sub(r\"HeadlinesApp\", \"Headlines App\", tweet)\n",
        "    tweet = re.sub(r\"40PM\", \"40 PM\", tweet)\n",
        "    tweet = re.sub(r\"myswc\", \"Severe Weather Center\", tweet)\n",
        "    tweet = re.sub(r\"ithats\", \"that is\", tweet)\n",
        "    tweet = re.sub(r\"icouldsitinthismomentforever\", \"I could sit in this moment forever\", tweet)\n",
        "    tweet = re.sub(r\"FatLoss\", \"Fat Loss\", tweet)\n",
        "    tweet = re.sub(r\"02PM\", \"02 PM\", tweet)\n",
        "    tweet = re.sub(r\"MetroFmTalk\", \"Metro Fm Talk\", tweet)\n",
        "    tweet = re.sub(r\"Bstrd\", \"bastard\", tweet)\n",
        "    tweet = re.sub(r\"bldy\", \"bloody\", tweet)\n",
        "    tweet = re.sub(r\"MetrofmTalk\", \"Metro Fm Talk\", tweet)\n",
        "    tweet = re.sub(r\"terrorismturn\", \"terrorism turn\", tweet)\n",
        "    tweet = re.sub(r\"BBCNewsAsia\", \"BBC News Asia\", tweet)\n",
        "    tweet = re.sub(r\"BehindTheScenes\", \"Behind The Scenes\", tweet)\n",
        "    tweet = re.sub(r\"GeorgeTakei\", \"George Takei\", tweet)\n",
        "    tweet = re.sub(r\"WomensWeeklyMag\", \"Womens Weekly Magazine\", tweet)\n",
        "    tweet = re.sub(r\"SurvivorsGuidetoEarth\", \"Survivors Guide to Earth\", tweet)\n",
        "    tweet = re.sub(r\"incubusband\", \"incubus band\", tweet)\n",
        "    tweet = re.sub(r\"Babypicturethis\", \"Baby picture this\", tweet)\n",
        "    tweet = re.sub(r\"BombEffects\", \"Bomb Effects\", tweet)\n",
        "    tweet = re.sub(r\"win10\", \"Windows 10\", tweet)\n",
        "    tweet = re.sub(r\"idkidk\", \"I do not know I do not know\", tweet)\n",
        "    tweet = re.sub(r\"TheWalkingDead\", \"The Walking Dead\", tweet)\n",
        "    tweet = re.sub(r\"amyschumer\", \"Amy Schumer\", tweet)\n",
        "    tweet = re.sub(r\"crewlist\", \"crew list\", tweet)\n",
        "    tweet = re.sub(r\"Erdogans\", \"Erdogan\", tweet)\n",
        "    tweet = re.sub(r\"BBCLive\", \"BBC Live\", tweet)\n",
        "    tweet = re.sub(r\"TonyAbbottMHR\", \"Tony Abbott\", tweet)\n",
        "    tweet = re.sub(r\"paulmyerscough\", \"Paul Myerscough\", tweet)\n",
        "    tweet = re.sub(r\"georgegallagher\", \"George Gallagher\", tweet)\n",
        "    tweet = re.sub(r\"JimmieJohnson\", \"Jimmie Johnson\", tweet)\n",
        "    tweet = re.sub(r\"pctool\", \"pc tool\", tweet)\n",
        "    tweet = re.sub(r\"DoingHashtagsRight\", \"Doing Hashtags Right\", tweet)\n",
        "    tweet = re.sub(r\"ThrowbackThursday\", \"Throwback Thursday\", tweet)\n",
        "    tweet = re.sub(r\"SnowBackSunday\", \"Snowback Sunday\", tweet)\n",
        "    tweet = re.sub(r\"LakeEffect\", \"Lake Effect\", tweet)\n",
        "    tweet = re.sub(r\"RTphotographyUK\", \"Richard Thomas Photography UK\", tweet)\n",
        "    tweet = re.sub(r\"BigBang_CBS\", \"Big Bang CBS\", tweet)\n",
        "    tweet = re.sub(r\"writerslife\", \"writers life\", tweet)\n",
        "    tweet = re.sub(r\"NaturalBirth\", \"Natural Birth\", tweet)\n",
        "    tweet = re.sub(r\"UnusualWords\", \"Unusual Words\", tweet)\n",
        "    tweet = re.sub(r\"wizkhalifa\", \"Wiz Khalifa\", tweet)\n",
        "    tweet = re.sub(r\"acreativedc\", \"a creative DC\", tweet)\n",
        "    tweet = re.sub(r\"vscodc\", \"vsco DC\", tweet)\n",
        "    tweet = re.sub(r\"VSCOcam\", \"vsco camera\", tweet)\n",
        "    tweet = re.sub(r\"TheBEACHDC\", \"The beach DC\", tweet)\n",
        "    tweet = re.sub(r\"buildingmuseum\", \"building museum\", tweet)\n",
        "    tweet = re.sub(r\"WorldOil\", \"World Oil\", tweet)\n",
        "    tweet = re.sub(r\"redwedding\", \"red wedding\", tweet)\n",
        "    tweet = re.sub(r\"AmazingRaceCanada\", \"Amazing Race Canada\", tweet)\n",
        "    tweet = re.sub(r\"WakeUpAmerica\", \"Wake Up America\", tweet)\n",
        "    tweet = re.sub(r\"\\\\Allahuakbar\\\\\", \"Allahu Akbar\", tweet)\n",
        "    tweet = re.sub(r\"bleased\", \"blessed\", tweet)\n",
        "    tweet = re.sub(r\"nigeriantribune\", \"Nigerian Tribune\", tweet)\n",
        "    tweet = re.sub(r\"HIDEO_KOJIMA_EN\", \"Hideo Kojima\", tweet)\n",
        "    tweet = re.sub(r\"FusionFestival\", \"Fusion Festival\", tweet)\n",
        "    tweet = re.sub(r\"50Mixed\", \"50 Mixed\", tweet)\n",
        "    tweet = re.sub(r\"NoAgenda\", \"No Agenda\", tweet)\n",
        "    tweet = re.sub(r\"WhiteGenocide\", \"White Genocide\", tweet)\n",
        "    tweet = re.sub(r\"dirtylying\", \"dirty lying\", tweet)\n",
        "    tweet = re.sub(r\"SyrianRefugees\", \"Syrian Refugees\", tweet)\n",
        "    tweet = re.sub(r\"changetheworld\", \"change the world\", tweet)\n",
        "    tweet = re.sub(r\"Ebolacase\", \"Ebola case\", tweet)\n",
        "    tweet = re.sub(r\"mcgtech\", \"mcg technologies\", tweet)\n",
        "    tweet = re.sub(r\"withweapons\", \"with weapons\", tweet)\n",
        "    tweet = re.sub(r\"advancedwarfare\", \"advanced warfare\", tweet)\n",
        "    tweet = re.sub(r\"letsFootball\", \"let us Football\", tweet)\n",
        "    tweet = re.sub(r\"LateNiteMix\", \"late night mix\", tweet)\n",
        "    tweet = re.sub(r\"PhilCollinsFeed\", \"Phil Collins\", tweet)\n",
        "    tweet = re.sub(r\"RudyHavenstein\", \"Rudy Havenstein\", tweet)\n",
        "    tweet = re.sub(r\"22PM\", \"22 PM\", tweet)\n",
        "    tweet = re.sub(r\"54am\", \"54 AM\", tweet)\n",
        "    tweet = re.sub(r\"38am\", \"38 AM\", tweet)\n",
        "    tweet = re.sub(r\"OldFolkExplainStuff\", \"Old Folk Explain Stuff\", tweet)\n",
        "    tweet = re.sub(r\"BlacklivesMatter\", \"Black Lives Matter\", tweet)\n",
        "    tweet = re.sub(r\"InsaneLimits\", \"Insane Limits\", tweet)\n",
        "    tweet = re.sub(r\"youcantsitwithus\", \"you cannot sit with us\", tweet)\n",
        "    tweet = re.sub(r\"2k15\", \"2015\", tweet)\n",
        "    tweet = re.sub(r\"TheIran\", \"Iran\", tweet)\n",
        "    tweet = re.sub(r\"JimmyFallon\", \"Jimmy Fallon\", tweet)\n",
        "    tweet = re.sub(r\"AlbertBrooks\", \"Albert Brooks\", tweet)\n",
        "    tweet = re.sub(r\"defense_news\", \"defense news\", tweet)\n",
        "    tweet = re.sub(r\"nuclearrcSA\", \"Nuclear Risk Control Self Assessment\", tweet)\n",
        "    tweet = re.sub(r\"Auspol\", \"Australia Politics\", tweet)\n",
        "    tweet = re.sub(r\"NuclearPower\", \"Nuclear Power\", tweet)\n",
        "    tweet = re.sub(r\"WhiteTerrorism\", \"White Terrorism\", tweet)\n",
        "    tweet = re.sub(r\"truthfrequencyradio\", \"Truth Frequency Radio\", tweet)\n",
        "    tweet = re.sub(r\"ErasureIsNotEquality\", \"Erasure is not equality\", tweet)\n",
        "    tweet = re.sub(r\"ProBonoNews\", \"Pro Bono News\", tweet)\n",
        "    tweet = re.sub(r\"JakartaPost\", \"Jakarta Post\", tweet)\n",
        "    tweet = re.sub(r\"toopainful\", \"too painful\", tweet)\n",
        "    tweet = re.sub(r\"melindahaunton\", \"Melinda Haunton\", tweet)\n",
        "    tweet = re.sub(r\"NoNukes\", \"No Nukes\", tweet)\n",
        "    tweet = re.sub(r\"curryspcworld\", \"Currys PC World\", tweet)\n",
        "    tweet = re.sub(r\"ineedcake\", \"I need cake\", tweet)\n",
        "    tweet = re.sub(r\"blackforestgateau\", \"black forest gateau\", tweet)\n",
        "    tweet = re.sub(r\"BBCOne\", \"BBC One\", tweet)\n",
        "    tweet = re.sub(r\"AlexxPage\", \"Alex Page\", tweet)\n",
        "    tweet = re.sub(r\"jonathanserrie\", \"Jonathan Serrie\", tweet)\n",
        "    tweet = re.sub(r\"SocialJerkBlog\", \"Social Jerk Blog\", tweet)\n",
        "    tweet = re.sub(r\"ChelseaVPeretti\", \"Chelsea Peretti\", tweet)\n",
        "    tweet = re.sub(r\"irongiant\", \"iron giant\", tweet)\n",
        "    tweet = re.sub(r\"RonFunches\", \"Ron Funches\", tweet)\n",
        "    tweet = re.sub(r\"TimCook\", \"Tim Cook\", tweet)\n",
        "    tweet = re.sub(r\"sebastianstanisaliveandwell\", \"Sebastian Stan is alive and well\", tweet)\n",
        "    tweet = re.sub(r\"Madsummer\", \"Mad summer\", tweet)\n",
        "    tweet = re.sub(r\"NowYouKnow\", \"Now you know\", tweet)\n",
        "    tweet = re.sub(r\"concertphotography\", \"concert photography\", tweet)\n",
        "    tweet = re.sub(r\"TomLandry\", \"Tom Landry\", tweet)\n",
        "    tweet = re.sub(r\"showgirldayoff\", \"show girl day off\", tweet)\n",
        "    tweet = re.sub(r\"Yougslavia\", \"Yugoslavia\", tweet)\n",
        "    tweet = re.sub(r\"QuantumDataInformatics\", \"Quantum Data Informatics\", tweet)\n",
        "    tweet = re.sub(r\"FromTheDesk\", \"From The Desk\", tweet)\n",
        "    tweet = re.sub(r\"TheaterTrial\", \"Theater Trial\", tweet)\n",
        "    tweet = re.sub(r\"CatoInstitute\", \"Cato Institute\", tweet)\n",
        "    tweet = re.sub(r\"EmekaGift\", \"Emeka Gift\", tweet)\n",
        "    tweet = re.sub(r\"LetsBe_Rational\", \"Let us be rational\", tweet)\n",
        "    tweet = re.sub(r\"Cynicalreality\", \"Cynical reality\", tweet)\n",
        "    tweet = re.sub(r\"FredOlsenCruise\", \"Fred Olsen Cruise\", tweet)\n",
        "    tweet = re.sub(r\"NotSorry\", \"not sorry\", tweet)\n",
        "    tweet = re.sub(r\"UseYourWords\", \"use your words\", tweet)\n",
        "    tweet = re.sub(r\"WordoftheDay\", \"word of the day\", tweet)\n",
        "    tweet = re.sub(r\"Dictionarycom\", \"Dictionary.com\", tweet)\n",
        "    tweet = re.sub(r\"TheBrooklynLife\", \"The Brooklyn Life\", tweet)\n",
        "    tweet = re.sub(r\"jokethey\", \"joke they\", tweet)\n",
        "    tweet = re.sub(r\"nflweek1picks\", \"NFL week 1 picks\", tweet)\n",
        "    tweet = re.sub(r\"uiseful\", \"useful\", tweet)\n",
        "    tweet = re.sub(r\"JusticeDotOrg\", \"The American Association for Justice\", tweet)\n",
        "    tweet = re.sub(r\"autoaccidents\", \"auto accidents\", tweet)\n",
        "    tweet = re.sub(r\"SteveGursten\", \"Steve Gursten\", tweet)\n",
        "    tweet = re.sub(r\"MichiganAutoLaw\", \"Michigan Auto Law\", tweet)\n",
        "    tweet = re.sub(r\"birdgang\", \"bird gang\", tweet)\n",
        "    tweet = re.sub(r\"nflnetwork\", \"NFL Network\", tweet)\n",
        "    tweet = re.sub(r\"NYDNSports\", \"NY Daily News Sports\", tweet)\n",
        "    tweet = re.sub(r\"RVacchianoNYDN\", \"Ralph Vacchiano NY Daily News\", tweet)\n",
        "    tweet = re.sub(r\"EdmontonEsks\", \"Edmonton Eskimos\", tweet)\n",
        "    tweet = re.sub(r\"david_brelsford\", \"David Brelsford\", tweet)\n",
        "    tweet = re.sub(r\"TOI_India\", \"The Times of India\", tweet)\n",
        "    tweet = re.sub(r\"hegot\", \"he got\", tweet)\n",
        "    tweet = re.sub(r\"SkinsOn9\", \"Skins on 9\", tweet)\n",
        "    tweet = re.sub(r\"sothathappened\", \"so that happened\", tweet)\n",
        "    tweet = re.sub(r\"LCOutOfDoors\", \"LC Out Of Doors\", tweet)\n",
        "    tweet = re.sub(r\"NationFirst\", \"Nation First\", tweet)\n",
        "    tweet = re.sub(r\"IndiaToday\", \"India Today\", tweet)\n",
        "    tweet = re.sub(r\"HLPS\", \"helps\", tweet)\n",
        "    tweet = re.sub(r\"HOSTAGESTHROSW\", \"hostages throw\", tweet)\n",
        "    tweet = re.sub(r\"SNCTIONS\", \"sanctions\", tweet)\n",
        "    tweet = re.sub(r\"BidTime\", \"Bid Time\", tweet)\n",
        "    tweet = re.sub(r\"crunchysensible\", \"crunchy sensible\", tweet)\n",
        "    tweet = re.sub(r\"RandomActsOfRomance\", \"Random acts of romance\", tweet)\n",
        "    tweet = re.sub(r\"MomentsAtHill\", \"Moments at hill\", tweet)\n",
        "    tweet = re.sub(r\"eatshit\", \"eat shit\", tweet)\n",
        "    tweet = re.sub(r\"liveleakfun\", \"live leak fun\", tweet)\n",
        "    tweet = re.sub(r\"SahelNews\", \"Sahel News\", tweet)\n",
        "    tweet = re.sub(r\"abc7newsbayarea\", \"ABC 7 News Bay Area\", tweet)\n",
        "    tweet = re.sub(r\"facilitiesmanagement\", \"facilities management\", tweet)\n",
        "    tweet = re.sub(r\"facilitydude\", \"facility dude\", tweet)\n",
        "    tweet = re.sub(r\"CampLogistics\", \"Camp logistics\", tweet)\n",
        "    tweet = re.sub(r\"alaskapublic\", \"Alaska public\", tweet)\n",
        "    tweet = re.sub(r\"MarketResearch\", \"Market Research\", tweet)\n",
        "    tweet = re.sub(r\"AccuracyEsports\", \"Accuracy Esports\", tweet)\n",
        "    tweet = re.sub(r\"TheBodyShopAust\", \"The Body Shop Australia\", tweet)\n",
        "    tweet = re.sub(r\"yychail\", \"Calgary hail\", tweet)\n",
        "    tweet = re.sub(r\"yyctraffic\", \"Calgary traffic\", tweet)\n",
        "    tweet = re.sub(r\"eliotschool\", \"eliot school\", tweet)\n",
        "    tweet = re.sub(r\"TheBrokenCity\", \"The Broken City\", tweet)\n",
        "    tweet = re.sub(r\"OldsFireDept\", \"Olds Fire Department\", tweet)\n",
        "    tweet = re.sub(r\"RiverComplex\", \"River Complex\", tweet)\n",
        "    tweet = re.sub(r\"fieldworksmells\", \"field work smells\", tweet)\n",
        "    tweet = re.sub(r\"IranElection\", \"Iran Election\", tweet)\n",
        "    tweet = re.sub(r\"glowng\", \"glowing\", tweet)\n",
        "    tweet = re.sub(r\"kindlng\", \"kindling\", tweet)\n",
        "    tweet = re.sub(r\"riggd\", \"rigged\", tweet)\n",
        "    tweet = re.sub(r\"slownewsday\", \"slow news day\", tweet)\n",
        "    tweet = re.sub(r\"MyanmarFlood\", \"Myanmar Flood\", tweet)\n",
        "    tweet = re.sub(r\"abc7chicago\", \"ABC 7 Chicago\", tweet)\n",
        "    tweet = re.sub(r\"copolitics\", \"Colorado Politics\", tweet)\n",
        "    tweet = re.sub(r\"AdilGhumro\", \"Adil Ghumro\", tweet)\n",
        "    tweet = re.sub(r\"netbots\", \"net bots\", tweet)\n",
        "    tweet = re.sub(r\"byebyeroad\", \"bye bye road\", tweet)\n",
        "    tweet = re.sub(r\"massiveflooding\", \"massive flooding\", tweet)\n",
        "    tweet = re.sub(r\"EndofUS\", \"End of United States\", tweet)\n",
        "    tweet = re.sub(r\"35PM\", \"35 PM\", tweet)\n",
        "    tweet = re.sub(r\"greektheatrela\", \"Greek Theatre Los Angeles\", tweet)\n",
        "    tweet = re.sub(r\"76mins\", \"76 minutes\", tweet)\n",
        "    tweet = re.sub(r\"publicsafetyfirst\", \"public safety first\", tweet)\n",
        "    tweet = re.sub(r\"livesmatter\", \"lives matter\", tweet)\n",
        "    tweet = re.sub(r\"myhometown\", \"my hometown\", tweet)\n",
        "    tweet = re.sub(r\"tankerfire\", \"tanker fire\", tweet)\n",
        "    tweet = re.sub(r\"MEMORIALDAY\", \"memorial day\", tweet)\n",
        "    tweet = re.sub(r\"MEMORIAL_DAY\", \"memorial day\", tweet)\n",
        "    tweet = re.sub(r\"instaxbooty\", \"instagram booty\", tweet)\n",
        "    tweet = re.sub(r\"Jerusalem_Post\", \"Jerusalem Post\", tweet)\n",
        "    tweet = re.sub(r\"WayneRooney_INA\", \"Wayne Rooney\", tweet)\n",
        "    tweet = re.sub(r\"VirtualReality\", \"Virtual Reality\", tweet)\n",
        "    tweet = re.sub(r\"OculusRift\", \"Oculus Rift\", tweet)\n",
        "    tweet = re.sub(r\"OwenJones84\", \"Owen Jones\", tweet)\n",
        "    tweet = re.sub(r\"jeremycorbyn\", \"Jeremy Corbyn\", tweet)\n",
        "    tweet = re.sub(r\"paulrogers002\", \"Paul Rogers\", tweet)\n",
        "    tweet = re.sub(r\"mortalkombatx\", \"Mortal Kombat X\", tweet)\n",
        "    tweet = re.sub(r\"mortalkombat\", \"Mortal Kombat\", tweet)\n",
        "    tweet = re.sub(r\"FilipeCoelho92\", \"Filipe Coelho\", tweet)\n",
        "    tweet = re.sub(r\"OnlyQuakeNews\", \"Only Quake News\", tweet)\n",
        "    tweet = re.sub(r\"kostumes\", \"costumes\", tweet)\n",
        "    tweet = re.sub(r\"YEEESSSS\", \"yes\", tweet)\n",
        "    tweet = re.sub(r\"ToshikazuKatayama\", \"Toshikazu Katayama\", tweet)\n",
        "    tweet = re.sub(r\"IntlDevelopment\", \"Intl Development\", tweet)\n",
        "    tweet = re.sub(r\"ExtremeWeather\", \"Extreme Weather\", tweet)\n",
        "    tweet = re.sub(r\"WereNotGruberVoters\", \"We are not gruber voters\", tweet)\n",
        "    tweet = re.sub(r\"NewsThousands\", \"News Thousands\", tweet)\n",
        "    tweet = re.sub(r\"EdmundAdamus\", \"Edmund Adamus\", tweet)\n",
        "    tweet = re.sub(r\"EyewitnessWV\", \"Eye witness WV\", tweet)\n",
        "    tweet = re.sub(r\"PhiladelphiaMuseu\", \"Philadelphia Museum\", tweet)\n",
        "    tweet = re.sub(r\"DublinComicCon\", \"Dublin Comic Con\", tweet)\n",
        "    tweet = re.sub(r\"NicholasBrendon\", \"Nicholas Brendon\", tweet)\n",
        "    tweet = re.sub(r\"Alltheway80s\", \"All the way 80s\", tweet)\n",
        "    tweet = re.sub(r\"FromTheField\", \"From the field\", tweet)\n",
        "    tweet = re.sub(r\"NorthIowa\", \"North Iowa\", tweet)\n",
        "    tweet = re.sub(r\"WillowFire\", \"Willow Fire\", tweet)\n",
        "    tweet = re.sub(r\"MadRiverComplex\", \"Mad River Complex\", tweet)\n",
        "    tweet = re.sub(r\"feelingmanly\", \"feeling manly\", tweet)\n",
        "    tweet = re.sub(r\"stillnotoverit\", \"still not over it\", tweet)\n",
        "    tweet = re.sub(r\"FortitudeValley\", \"Fortitude Valley\", tweet)\n",
        "    tweet = re.sub(r\"CoastpowerlineTramTr\", \"Coast powerline\", tweet)\n",
        "    tweet = re.sub(r\"ServicesGold\", \"Services Gold\", tweet)\n",
        "    tweet = re.sub(r\"NewsbrokenEmergency\", \"News broken emergency\", tweet)\n",
        "    tweet = re.sub(r\"Evaucation\", \"evacuation\", tweet)\n",
        "    tweet = re.sub(r\"leaveevacuateexitbe\", \"leave evacuate exit be\", tweet)\n",
        "    tweet = re.sub(r\"P_EOPLE\", \"PEOPLE\", tweet)\n",
        "    tweet = re.sub(r\"Tubestrike\", \"tube strike\", tweet)\n",
        "    tweet = re.sub(r\"CLASS_SICK\", \"CLASS SICK\", tweet)\n",
        "    tweet = re.sub(r\"localplumber\", \"local plumber\", tweet)\n",
        "    tweet = re.sub(r\"awesomejobsiri\", \"awesome job siri\", tweet)\n",
        "    tweet = re.sub(r\"PayForItHow\", \"Pay for it how\", tweet)\n",
        "    tweet = re.sub(r\"ThisIsAfrica\", \"This is Africa\", tweet)\n",
        "    tweet = re.sub(r\"crimeairnetwork\", \"crime air network\", tweet)\n",
        "    tweet = re.sub(r\"KimAcheson\", \"Kim Acheson\", tweet)\n",
        "    tweet = re.sub(r\"cityofcalgary\", \"City of Calgary\", tweet)\n",
        "    tweet = re.sub(r\"prosyndicate\", \"pro syndicate\", tweet)\n",
        "    tweet = re.sub(r\"660NEWS\", \"660 NEWS\", tweet)\n",
        "    tweet = re.sub(r\"BusInsMagazine\", \"Business Insurance Magazine\", tweet)\n",
        "    tweet = re.sub(r\"wfocus\", \"focus\", tweet)\n",
        "    tweet = re.sub(r\"ShastaDam\", \"Shasta Dam\", tweet)\n",
        "    tweet = re.sub(r\"go2MarkFranco\", \"Mark Franco\", tweet)\n",
        "    tweet = re.sub(r\"StephGHinojosa\", \"Steph Hinojosa\", tweet)\n",
        "    tweet = re.sub(r\"Nashgrier\", \"Nash Grier\", tweet)\n",
        "    tweet = re.sub(r\"NashNewVideo\", \"Nash new video\", tweet)\n",
        "    tweet = re.sub(r\"IWouldntGetElectedBecause\", \"I would not get elected because\", tweet)\n",
        "    tweet = re.sub(r\"SHGames\", \"Sledgehammer Games\", tweet)\n",
        "    tweet = re.sub(r\"bedhair\", \"bed hair\", tweet)\n",
        "    tweet = re.sub(r\"JoelHeyman\", \"Joel Heyman\", tweet)\n",
        "    tweet = re.sub(r\"viaYouTube\", \"via YouTube\", tweet)\n",
        "           \n",
        "    # Urls\n",
        "    tweet = re.sub(r\"https?:\\/\\/t.co\\/[A-Za-z0-9]+\", \"\", tweet)\n",
        "        \n",
        "    # Words with punctuations and special characters\n",
        "    punctuations = '@#!?+&*[]-%.:/();$=><|{}^' + \"'`\"\n",
        "    for p in punctuations:\n",
        "        tweet = tweet.replace(p, f' {p} ')\n",
        "        \n",
        "    # ... and ..\n",
        "    tweet = tweet.replace('...', ' ... ')\n",
        "    if '...' not in tweet:\n",
        "        tweet = tweet.replace('..', ' ... ')      \n",
        "        \n",
        "    # Acronyms\n",
        "    tweet = re.sub(r\"MH370\", \"Malaysia Airlines Flight 370\", tweet)\n",
        "    tweet = re.sub(r\"mÌ¼sica\", \"music\", tweet)\n",
        "    tweet = re.sub(r\"okwx\", \"Oklahoma City Weather\", tweet)\n",
        "    tweet = re.sub(r\"arwx\", \"Arkansas Weather\", tweet)    \n",
        "    tweet = re.sub(r\"gawx\", \"Georgia Weather\", tweet)  \n",
        "    tweet = re.sub(r\"scwx\", \"South Carolina Weather\", tweet)  \n",
        "    tweet = re.sub(r\"cawx\", \"California Weather\", tweet)\n",
        "    tweet = re.sub(r\"tnwx\", \"Tennessee Weather\", tweet)\n",
        "    tweet = re.sub(r\"azwx\", \"Arizona Weather\", tweet)  \n",
        "    tweet = re.sub(r\"alwx\", \"Alabama Weather\", tweet)\n",
        "    tweet = re.sub(r\"wordpressdotcom\", \"wordpress\", tweet)    \n",
        "    tweet = re.sub(r\"usNWSgov\", \"United States National Weather Service\", tweet)\n",
        "    tweet = re.sub(r\"Suruc\", \"Sanliurfa\", tweet)   \n",
        "    \n",
        "    # Grouping same words without embeddings\n",
        "    tweet = re.sub(r\"Bestnaijamade\", \"bestnaijamade\", tweet)\n",
        "    tweet = re.sub(r\"SOUDELOR\", \"Soudelor\", tweet)\n",
        "    \n",
        "    return tweet"
      ],
      "execution_count": null,
      "outputs": [
        {
          "output_type": "stream",
          "text": [
            "time: 56.3 ms\n"
          ],
          "name": "stdout"
        }
      ]
    },
    {
      "cell_type": "markdown",
      "metadata": {
        "id": "r_64GulMRfQU",
        "colab_type": "text"
      },
      "source": [
        "## Basic Clean"
      ]
    },
    {
      "cell_type": "code",
      "metadata": {
        "id": "tGNi2bU0tTcz",
        "colab_type": "code",
        "colab": {
          "base_uri": "https://localhost:8080/",
          "height": 35
        },
        "outputId": "371d2309-c177-478b-d9d4-584aec5572de"
      },
      "source": [
        "def clean_text(text ):\n",
        "  # Si no es un string devuelvo un string vacio\n",
        "  if isinstance( text , str) == False: return ''\n",
        "  # text = super_manual_clean(text)\n",
        "  # text = text.lower()\n",
        "  # return text\n",
        "\n",
        "  # Remuevo html entities b\n",
        "  text = html.unescape( text )\n",
        "\n",
        "  # # Hago decode de todos los textos que esten encodeados en formato url\n",
        "  text = urllib.parse.unquote( text )\n",
        "\n",
        "\n",
        "  # Intento remover todos los links que figuren en el texto\n",
        "  text = re.sub(r'\\w+:\\/{2}[\\d\\w-]+(\\.[\\d\\w-]+)*(?:(?:\\/[^\\s/]*))*', '', text )\n",
        "\n",
        "  # Remuevo todas las citas de usuario, si arranca con @ es un user quote\n",
        "  # text = \" \".join( [a for a in text.split() if a[0] != '@'] )\n",
        "\n",
        "  # Transformo citas de usuario y hashtag en solo la palabra\n",
        "  text.replace('@', ' ').replace('#', ' ').replace('-', ' ').replace('_' , ' ')\n",
        "\n",
        "  \n",
        "  # Hago camel case split\n",
        "  text = \" \".join(re.sub('([A-Z][a-z]+)', r' \\1', re.sub('([A-Z]+)', r' \\1', text)).split())\n",
        "\n",
        "  # Remuevo todos los signos de puntuacion\n",
        "  # text = text.translate(str.maketrans('','',string.punctuation))\n",
        "\n",
        "  # Remuevo todos los numeros de la cadena de caracteres\n",
        "  # text = text.translate(str.maketrans('','','1234567890'))\n",
        "\n",
        "  # Tokenize: Split the sentence into words\n",
        "  word_list = nltk.word_tokenize(text)\n",
        "\n",
        "  # Lemmatize list of words and join\n",
        "  text = ' '.join([lemmatizer.lemmatize(w) for w in word_list])\n",
        "\n",
        "  # Separo los textos, borro los stop words y los vuelvo a unir\n",
        "  text = \" \".join( [ a for a in text.split() if a not in stop_words ])\n",
        "\n",
        "\n",
        "\n",
        "  # Me quedo solo con caracteres basicos y numeros y los reemplazo por espacios\n",
        "  text = \" \".join([re.sub('[^A-Za-z?!]+', ' ', a ) for a in text.split()  ])\n",
        "\n",
        "  # Reemplazo multiples \"exclamation mark\" con uno\n",
        "  # text = re.sub(\"\\?{2,}\", \"??\",text)\n",
        "  # text = re.sub(\"!{2,}\" , \"!!\",text)\n",
        "  # text=text.replace('??' , '?')\n",
        "\n",
        "\n",
        "\n",
        "  # Remueve palabras de 1 caracter ya que seguro son articulos o nonsense\n",
        "  text = \" \".join( [ a for a in text.split() if len(a)> 1 ])\n",
        "\n",
        "  #Como en la cadena anterior pude haber sumado muchos espacios los remplazo por uno solo\n",
        "  text = ' '.join(text.split())\n",
        "\n",
        "\n",
        "  # Transformo el texto a minuscula\n",
        "  text = text.lower()\n",
        "\n",
        "   \n",
        "  # Reemplazo 2 o mas caracteres iguales por solo dos caracteres\n",
        "  text = re.sub(r'(\\w)\\1{2,}', r'\\1\\1', text)\n",
        "  text = re.sub(r'(\\W)\\1{2,}', r'\\1\\1', text)\n",
        "\n",
        "\n",
        "  return text\n",
        "\n",
        "\n",
        "clean_text('MaaaaaxiNaaaahuelRinaldi!!!!!!!!!!!!??????? okwx')"
      ],
      "execution_count": null,
      "outputs": [
        {
          "output_type": "execute_result",
          "data": {
            "text/plain": [
              "'maaxi naahuel rinaldi okwx'"
            ]
          },
          "metadata": {
            "tags": []
          },
          "execution_count": 106
        },
        {
          "output_type": "stream",
          "text": [
            "time: 6.45 ms\n"
          ],
          "name": "stdout"
        }
      ]
    },
    {
      "cell_type": "code",
      "metadata": {
        "id": "-YaigIKY7bj_",
        "colab_type": "code",
        "colab": {
          "base_uri": "https://localhost:8080/",
          "height": 35
        },
        "outputId": "fbe58b7a-2893-4f15-9b47-f966c2bc5e5d"
      },
      "source": [
        "df_clean_test['text_clean'] = ''\n",
        "df_clean_train['text_clean'] = ''\n",
        "\n",
        "def fn_df_clean_text(df_clean_text):\n",
        "  df_clean_text.text_clean = df_clean_text.text.apply( lambda x: clean_text(x) )\n",
        "  return df_clean_text\n",
        "\n",
        "\n",
        "df_split_train = np.array_split(df_clean_train, n_cores )\n",
        "df_split_test  = np.array_split(df_clean_test, n_cores )\n",
        "\n",
        "pool = Pool(n_cores)\n",
        "df_clean_train = pd.concat(pool.map(fn_df_clean_text, df_split_train))\n",
        "df_clean_test  = pd.concat(pool.map(fn_df_clean_text, df_split_test))\n",
        "\n",
        "\n",
        "\n",
        "pool.close()\n",
        "pool.join()\n",
        "\n",
        "# df_clean_text.text = df_clean_text.text.apply( lambda x: clean_text(x) )\n",
        "\n",
        "# df_clean_text.text\n"
      ],
      "execution_count": null,
      "outputs": [
        {
          "output_type": "stream",
          "text": [
            "time: 869 ms\n"
          ],
          "name": "stdout"
        }
      ]
    },
    {
      "cell_type": "markdown",
      "metadata": {
        "id": "9ml7euuzT7GU",
        "colab_type": "text"
      },
      "source": [
        "# Calculo probabilidad condicional \n",
        "\n",
        "P( w_i | T_j ) = n( w_i| T_j) /n(w_i) \n",
        "\n",
        "\n",
        "\n",
        "Cuento ocurrencias de las palabras en t1"
      ]
    },
    {
      "cell_type": "code",
      "metadata": {
        "colab_type": "code",
        "id": "8Y04pAuMwP3S",
        "colab": {
          "base_uri": "https://localhost:8080/",
          "height": 315
        },
        "outputId": "db23f345-3175-48fd-aa56-5d16053fd394"
      },
      "source": [
        "# Armo un nuevo dataframe con tres columnas, y en cada una de ellas esta la cantidad de ocurrencias de una palabras\n",
        "# Se separa en todo el text, solo target_0, solo target_1\n",
        "df_word_count = pd.DataFrame({ \n",
        "    't0' : df_clean_train[df_clean_train.target == 0].text_clean.str.split(\" \", expand=True).unstack().value_counts(),\n",
        "    't1' : df_clean_train[df_clean_train.target == 1].text_clean.str.split(\" \", expand=True).unstack().value_counts(),\n",
        "})\n",
        "\n",
        "df_word_count.fillna(0, inplace=True)\n",
        "\n",
        "# Laplacian smoothing(sumo uno a todas las cantidades)\n",
        "df_word_count = df_word_count.apply(lambda x:x+1)\n",
        "df_word_count['total'] = df_word_count.t0 + df_word_count.t1\n",
        "\n",
        "\n",
        "# p0_prob = sum(df_clean_train)\n",
        "# Lo ordeno segun la cantidad de ocurrencias totales en el texto\n",
        "# df_t1_belonging.sort_values(by=['ocurrences'] , ascending=False ,inplace=True)\n",
        "\n",
        "#Relleno todos los Nan con zeros\n",
        "\n",
        "# df_word_count.head(n=10).apply(lambda x: x+)\n",
        "\n",
        "\n",
        "# df_word_count.head(n=10)\n",
        "\n",
        "df_word_count.describe()\n"
      ],
      "execution_count": null,
      "outputs": [
        {
          "output_type": "execute_result",
          "data": {
            "text/plain": [
              "                 t0            t1         total\n",
              "count  13456.000000  13456.000000  13456.000000\n",
              "mean       3.503567      3.072235      6.575803\n",
              "std        7.522106      6.809385     13.033025\n",
              "min        1.000000      1.000000      3.000000\n",
              "25%        1.000000      1.000000      3.000000\n",
              "50%        2.000000      2.000000      3.000000\n",
              "75%        3.000000      2.000000      5.000000\n",
              "max      352.000000    263.000000    615.000000"
            ],
            "text/html": [
              "<div>\n",
              "<style scoped>\n",
              "    .dataframe tbody tr th:only-of-type {\n",
              "        vertical-align: middle;\n",
              "    }\n",
              "\n",
              "    .dataframe tbody tr th {\n",
              "        vertical-align: top;\n",
              "    }\n",
              "\n",
              "    .dataframe thead th {\n",
              "        text-align: right;\n",
              "    }\n",
              "</style>\n",
              "<table border=\"1\" class=\"dataframe\">\n",
              "  <thead>\n",
              "    <tr style=\"text-align: right;\">\n",
              "      <th></th>\n",
              "      <th>t0</th>\n",
              "      <th>t1</th>\n",
              "      <th>total</th>\n",
              "    </tr>\n",
              "  </thead>\n",
              "  <tbody>\n",
              "    <tr>\n",
              "      <th>count</th>\n",
              "      <td>13456.000000</td>\n",
              "      <td>13456.000000</td>\n",
              "      <td>13456.000000</td>\n",
              "    </tr>\n",
              "    <tr>\n",
              "      <th>mean</th>\n",
              "      <td>3.503567</td>\n",
              "      <td>3.072235</td>\n",
              "      <td>6.575803</td>\n",
              "    </tr>\n",
              "    <tr>\n",
              "      <th>std</th>\n",
              "      <td>7.522106</td>\n",
              "      <td>6.809385</td>\n",
              "      <td>13.033025</td>\n",
              "    </tr>\n",
              "    <tr>\n",
              "      <th>min</th>\n",
              "      <td>1.000000</td>\n",
              "      <td>1.000000</td>\n",
              "      <td>3.000000</td>\n",
              "    </tr>\n",
              "    <tr>\n",
              "      <th>25%</th>\n",
              "      <td>1.000000</td>\n",
              "      <td>1.000000</td>\n",
              "      <td>3.000000</td>\n",
              "    </tr>\n",
              "    <tr>\n",
              "      <th>50%</th>\n",
              "      <td>2.000000</td>\n",
              "      <td>2.000000</td>\n",
              "      <td>3.000000</td>\n",
              "    </tr>\n",
              "    <tr>\n",
              "      <th>75%</th>\n",
              "      <td>3.000000</td>\n",
              "      <td>2.000000</td>\n",
              "      <td>5.000000</td>\n",
              "    </tr>\n",
              "    <tr>\n",
              "      <th>max</th>\n",
              "      <td>352.000000</td>\n",
              "      <td>263.000000</td>\n",
              "      <td>615.000000</td>\n",
              "    </tr>\n",
              "  </tbody>\n",
              "</table>\n",
              "</div>"
            ]
          },
          "metadata": {
            "tags": []
          },
          "execution_count": 108
        },
        {
          "output_type": "stream",
          "text": [
            "time: 457 ms\n"
          ],
          "name": "stdout"
        }
      ]
    },
    {
      "cell_type": "code",
      "metadata": {
        "id": "Lh3jvi92VMN4",
        "colab_type": "code",
        "colab": {
          "base_uri": "https://localhost:8080/",
          "height": 556
        },
        "outputId": "0d89f354-816e-4763-f3fd-f2716c6f4708"
      },
      "source": [
        "n_words_t0 = df_word_count[df_word_count.t0 > 0 ].t0.sum()\n",
        "n_words_t1 = df_word_count[df_word_count.t1 > 0 ].t1.sum()\n",
        "\n",
        "\n",
        "\n",
        "df_word_count['t0_prob'] = df_word_count.t0 / n_words_t0 #+ 1/(1000 * 1000)\n",
        "df_word_count['t1_prob'] = df_word_count.t1 / n_words_t1 #+ 1/(1000 * 1000)\n",
        "\n",
        "\n",
        "print(\n",
        " \n",
        "df_word_count.t0_prob.value_counts(bins=10),\n",
        "df_word_count.t1_prob.value_counts(bins=10),\n",
        "df_word_count[['t0_prob', 't1_prob']].describe()\n",
        "\n",
        "   \n",
        ")\n",
        "\n",
        "# n_words_t0\n",
        "# n_words_t1\n",
        "\n",
        "\n",
        "# df_word_count[ df_word_count.t0_prob <=0]"
      ],
      "execution_count": null,
      "outputs": [
        {
          "output_type": "stream",
          "text": [
            "(-0.0009862, 0.000766]    13359\n",
            "(0.000766, 0.00151]          73\n",
            "(0.00151, 0.00225]           17\n",
            "(0.003, 0.00374]              3\n",
            "(0.00225, 0.003]              2\n",
            "(0.00672, 0.00747]            1\n",
            "(0.00374, 0.00449]            1\n",
            "(0.00598, 0.00672]            0\n",
            "(0.00523, 0.00598]            0\n",
            "(0.00449, 0.00523]            0\n",
            "Name: t0_prob, dtype: int64 (-0.0009821, 0.000658]    13305\n",
            "(0.000658, 0.00129]         110\n",
            "(0.00129, 0.00193]           29\n",
            "(0.00193, 0.00256]            7\n",
            "(0.00573, 0.00636]            1\n",
            "(0.00509, 0.00573]            1\n",
            "(0.00383, 0.00446]            1\n",
            "(0.00319, 0.00383]            1\n",
            "(0.00256, 0.00319]            1\n",
            "(0.00446, 0.00509]            0\n",
            "Name: t1_prob, dtype: int64             t0_prob       t1_prob\n",
            "count  13456.000000  13456.000000\n",
            "mean       0.000074      0.000074\n",
            "std        0.000160      0.000165\n",
            "min        0.000021      0.000024\n",
            "25%        0.000021      0.000024\n",
            "50%        0.000042      0.000048\n",
            "75%        0.000064      0.000048\n",
            "max        0.007466      0.006362\n",
            "time: 39.1 ms\n"
          ],
          "name": "stdout"
        }
      ]
    },
    {
      "cell_type": "markdown",
      "metadata": {
        "id": "Ck-xhMoqRTBx",
        "colab_type": "text"
      },
      "source": [
        "# Remuevo ocurrencias menores\n"
      ]
    },
    {
      "cell_type": "code",
      "metadata": {
        "id": "ScOXtjnpOcyo",
        "colab_type": "code",
        "colab": {
          "base_uri": "https://localhost:8080/",
          "height": 315
        },
        "outputId": "3d4cf1ee-688e-4f3a-b7da-b691233aa883"
      },
      "source": [
        "# Acorde al grafico anterior elimino del criterio de clasificacion las palabras que esten en muy poco textos ya que son outliers\n",
        "# df_word_count = df_word_count[ (df_word_count.total > 3) ]\n",
        "\n",
        "# Remueve las que están en más de 400 tweets ya que seguro son stop words\n",
        "# df_word_count = df_word_count[ (df_word_count.total < 200) ]\n",
        "\n",
        "# Remuevo los que tienen igual probabilidad ya que son stop words\n",
        "# df_word_count = df_word_count[ (df_word_count.t1_prob > 0.52) | (df_word_count.t1_prob < 0.48) ]\n",
        "\n",
        "df_word_count.sort_values(by='total' , ascending=False).head(n=10)\n",
        "\n",
        "df_word_count[['t0_prob', 't1_prob']].describe()\n",
        "\n",
        "\n",
        "# df_word_count[['t0_prob', 't1_prob']].hist(bins=100)\n",
        "\n",
        "# df_word_count[ df_word_count.t1_prob == 0 ]\n",
        "\n"
      ],
      "execution_count": null,
      "outputs": [
        {
          "output_type": "execute_result",
          "data": {
            "text/plain": [
              "            t0_prob       t1_prob\n",
              "count  13456.000000  13456.000000\n",
              "mean       0.000074      0.000074\n",
              "std        0.000160      0.000165\n",
              "min        0.000021      0.000024\n",
              "25%        0.000021      0.000024\n",
              "50%        0.000042      0.000048\n",
              "75%        0.000064      0.000048\n",
              "max        0.007466      0.006362"
            ],
            "text/html": [
              "<div>\n",
              "<style scoped>\n",
              "    .dataframe tbody tr th:only-of-type {\n",
              "        vertical-align: middle;\n",
              "    }\n",
              "\n",
              "    .dataframe tbody tr th {\n",
              "        vertical-align: top;\n",
              "    }\n",
              "\n",
              "    .dataframe thead th {\n",
              "        text-align: right;\n",
              "    }\n",
              "</style>\n",
              "<table border=\"1\" class=\"dataframe\">\n",
              "  <thead>\n",
              "    <tr style=\"text-align: right;\">\n",
              "      <th></th>\n",
              "      <th>t0_prob</th>\n",
              "      <th>t1_prob</th>\n",
              "    </tr>\n",
              "  </thead>\n",
              "  <tbody>\n",
              "    <tr>\n",
              "      <th>count</th>\n",
              "      <td>13456.000000</td>\n",
              "      <td>13456.000000</td>\n",
              "    </tr>\n",
              "    <tr>\n",
              "      <th>mean</th>\n",
              "      <td>0.000074</td>\n",
              "      <td>0.000074</td>\n",
              "    </tr>\n",
              "    <tr>\n",
              "      <th>std</th>\n",
              "      <td>0.000160</td>\n",
              "      <td>0.000165</td>\n",
              "    </tr>\n",
              "    <tr>\n",
              "      <th>min</th>\n",
              "      <td>0.000021</td>\n",
              "      <td>0.000024</td>\n",
              "    </tr>\n",
              "    <tr>\n",
              "      <th>25%</th>\n",
              "      <td>0.000021</td>\n",
              "      <td>0.000024</td>\n",
              "    </tr>\n",
              "    <tr>\n",
              "      <th>50%</th>\n",
              "      <td>0.000042</td>\n",
              "      <td>0.000048</td>\n",
              "    </tr>\n",
              "    <tr>\n",
              "      <th>75%</th>\n",
              "      <td>0.000064</td>\n",
              "      <td>0.000048</td>\n",
              "    </tr>\n",
              "    <tr>\n",
              "      <th>max</th>\n",
              "      <td>0.007466</td>\n",
              "      <td>0.006362</td>\n",
              "    </tr>\n",
              "  </tbody>\n",
              "</table>\n",
              "</div>"
            ]
          },
          "metadata": {
            "tags": []
          },
          "execution_count": 110
        },
        {
          "output_type": "stream",
          "text": [
            "time: 25.4 ms\n"
          ],
          "name": "stdout"
        }
      ]
    },
    {
      "cell_type": "markdown",
      "metadata": {
        "id": "Qq6MPFVwAeqn",
        "colab_type": "text"
      },
      "source": [
        "# Clasifico por productoria de probabilidad máxima\n",
        "\n",
        "Probabilidad (texto_i | target_j ) = prod( p(w_i| t_j)\n",
        "\n",
        "\n"
      ]
    },
    {
      "cell_type": "code",
      "metadata": {
        "id": "e0UgTsordzX9",
        "colab_type": "code",
        "colab": {
          "base_uri": "https://localhost:8080/",
          "height": 353
        },
        "outputId": "d5de1ecf-1512-409b-d2b0-c954143414fa"
      },
      "source": [
        "\n",
        "# norm_max = df_word_count[['t0_prob', 't1_prob']].max().max()\n",
        "# norm_min = df_word_count[['t0_prob', 't1_prob']].min().min()\n",
        "\n",
        "\n",
        "# df_word_count['t1_prob'] = df_word_count.t1_prob.apply( lambda x: fn_hyperbolic_prob(x,norm_max, norm_min) )\n",
        "# df_word_count['t0_prob'] = df_word_count.t0_prob.apply( lambda x: fn_hyperbolic_prob(x,norm_max, norm_min) )\n",
        "\n",
        "\n",
        "\n",
        "\n",
        "df_word_count[['t0_prob', 't1_prob']].hist(bins=100)\n"
      ],
      "execution_count": null,
      "outputs": [
        {
          "output_type": "execute_result",
          "data": {
            "text/plain": [
              "array([[<matplotlib.axes._subplots.AxesSubplot object at 0x7f03c0c3f828>,\n",
              "        <matplotlib.axes._subplots.AxesSubplot object at 0x7f03ad7bc550>]],\n",
              "      dtype=object)"
            ]
          },
          "metadata": {
            "tags": []
          },
          "execution_count": 111
        },
        {
          "output_type": "display_data",
          "data": {
            "text/plain": [
              "<Figure size 432x288 with 2 Axes>"
            ],
            "image/png": "[encoded data removed]"
          },
          "metadata": {
            "tags": [],
            "needs_background": "light"
          }
        },
        {
          "output_type": "stream",
          "text": [
            "time: 505 ms\n"
          ],
          "name": "stdout"
        }
      ]
    },
    {
      "cell_type": "code",
      "metadata": {
        "id": "79tEcgPorlyL",
        "colab_type": "code",
        "colab": {
          "base_uri": "https://localhost:8080/",
          "height": 179
        },
        "outputId": "177fca21-fe1c-448b-a965-2f4175b0ddde"
      },
      "source": [
        "# df_word_count.sort_values(by='t0_prob' , ascending=False).head(n=10)\n",
        "\n",
        "df_word_count.t1_prob.describe()"
      ],
      "execution_count": null,
      "outputs": [
        {
          "output_type": "execute_result",
          "data": {
            "text/plain": [
              "count    13456.000000\n",
              "mean         0.000074\n",
              "std          0.000165\n",
              "min          0.000024\n",
              "25%          0.000024\n",
              "50%          0.000048\n",
              "75%          0.000048\n",
              "max          0.006362\n",
              "Name: t1_prob, dtype: float64"
            ]
          },
          "metadata": {
            "tags": []
          },
          "execution_count": 112
        },
        {
          "output_type": "stream",
          "text": [
            "time: 6.06 ms\n"
          ],
          "name": "stdout"
        }
      ]
    },
    {
      "cell_type": "code",
      "metadata": {
        "id": "fvEf2trNqFi6",
        "colab_type": "code",
        "colab": {
          "base_uri": "https://localhost:8080/",
          "height": 125
        },
        "outputId": "4ac11786-c47b-496d-f7fc-778272c239fc"
      },
      "source": [
        "\n",
        "# Calculo la probabildia de cada clase ya que el set no esta balanceado t1/t0\n",
        "global_t0_prob = sum(df_clean_train.target == 0)/len(df_clean_train)\n",
        "global_t1_prob = sum(df_clean_train.target == 1)/len(df_clean_train)\n",
        "\n",
        "\n",
        "# fuerzo a cero las probabilidades globales\n",
        "global_t0_prob, global_t1_prob = 1,1\n",
        "\n",
        "\n",
        "def get_word_prob(text):\n",
        "\n",
        "#  text = clean_text(text)\n",
        "  # Hago split del texto y lo vuelvo dataframe con la palabra como indice\n",
        "  a = pd.DataFrame({ 'word': text.split() }).set_index('word')\n",
        "\n",
        "  # Joineo con el DF de probabilidades de clase 1\n",
        "  a = a.join( df_word_count)\n",
        "\n",
        "  # Me quedo solo con las columnas de ocurrencias y probabilidad de t1\n",
        "  a = a[['total' , 't0_prob' , 't1_prob']]\n",
        "  \n",
        "\n",
        "\n",
        "  # Guardo el numero de ocurrencias por si lo necesito despues, \n",
        "  # los NaN es porque no estaba en el training set y le pongo 0 ocurrencias\n",
        "  # a.ocurrences.fillna(0 , inplace = True)\n",
        "  # Si la palabra no esta en el set de entrenamiento \n",
        "  # hay igual probailidad de encontrarla en una clase u otra\n",
        "  # pero le asigno probabilidad 1 para que no me afecta a la productoria luego\n",
        "  # a.t1_prob.fillna(1 , inplace = True)\n",
        "\n",
        "  # Como voy a hacer una productoria, borro los NA ya que no suman a la probabilidad\n",
        "  # if debug: print(text , a[a.t1_prob.isnull()].index.to_list())\n",
        "  a.dropna(inplace=True)\n",
        "  \n",
        "  return a\n",
        "\n",
        "# Clasifico por productoria de probabilidades\n",
        "def get_class_by_prod_prob(text):\n",
        "  a = get_word_prob(text)\n",
        "\n",
        "\n",
        "  t1_probability = global_t1_prob* a.t1_prob.prod()\n",
        "  t0_probability = global_t0_prob* a.t0_prob.prod()\n",
        "\n",
        "\n",
        "  if debug:\n",
        "    print('t1-t0',t1_probability-t0_probability\n",
        "          ,'\\nt1_probability' , t1_probability\n",
        "          ,'\\nt0_probability' , t0_probability\n",
        "          ,'\\nprob_list:\\n' , a.t1_prob\n",
        "          ,'\\nprob_list:\\n' , a.t0_prob)\n",
        "  \n",
        "  \n",
        "  if t1_probability == t0_probability: \n",
        "    if debug == 1 : print(t1_probability, t0_probability , text)\n",
        "    return -1\n",
        "\n",
        "  if t1_probability > t0_probability: return 1\n",
        "\n",
        "\n",
        "  return 0\n",
        "\n",
        "\n",
        "def get_class_by_sum_prob(text):\n",
        "  a = get_word_prob(text)\n",
        "\n",
        "  t1_probability = global_t1_prob* a.t1_prob.sum()\n",
        "  t0_probability = global_t0_prob* a.t0_prob.sum()\n",
        "\n",
        "  if debug:\n",
        "    print('t1-t0',t1_probability-t0_probability\n",
        "          ,'\\nt1_probability' , t1_probability\n",
        "          ,'\\nt0_probability' , t0_probability\n",
        "          ,'\\nprob_list:\\n' , a.t1_prob\n",
        "          ,'\\nprob_list:\\n' , a.t0_prob)\n",
        "  \n",
        "  \n",
        "  if t1_probability == t0_probability: \n",
        "    if debug == 1 : print(t1_probability, t0_probability , text)\n",
        "    return -1\n",
        "\n",
        "  if t1_probability > t0_probability: return 1\n",
        "\n",
        "\n",
        "  return 0\n",
        "  \n",
        "\n",
        "# Clasifico por cantidad de palabras en una clase\n",
        "def get_class_by_n_word(text):\n",
        "  a = get_word_prob(text)\n",
        "\n",
        "  if len(a) == 0 : return -1\n",
        "  # Cuento cuantas palabras tiene mas probabilidad de clase 1 que de clase cero\n",
        "  perc_word_in_class_t1 = sum( global_t1_prob * a.t1_prob > global_t0_prob * a.t0_prob )/len(a)\n",
        "  \n",
        "  # Igual cantidad de palabras en cada clase\n",
        "  if perc_word_in_class_t1 == 0.5 : return -1\n",
        "\n",
        "  if perc_word_in_class_t1 > 0.5: return 1\n",
        "\n",
        "  return 0\n",
        "\n",
        "def get_class_by_avg_prob(text):\n",
        "  a = get_word_prob(text)\n",
        "\n",
        "  prob_average_diff = global_t1_prob * a.t1_prob.mean() - global_t0_prob * a.t0_prob.mean()\n",
        "  \n",
        "  # Igual probabilidad de una clase que otra\n",
        "  if prob_average_diff == 0 : return -1\n",
        "\n",
        "  if prob_average_diff > 0: return 1\n",
        "\n",
        "  return 0\n",
        "\n",
        "def get_class_by_max_prob(text):\n",
        "  a = get_word_prob(text)\n",
        "\n",
        "  t1_prob = [ x*global_t1_prob for x in a.t1_prob.to_list()]\n",
        "  t0_prob = [ x*global_t0_prob for x in a.t0_prob.to_list()]\n",
        "  \n",
        "  t1_prob.sort(reverse=True)\n",
        "  t0_prob.sort(reverse=True)\n",
        "\n",
        "  for x in range(0, len(t1_prob)):\n",
        "    if  t1_prob[x] == t0_prob[x]: continue\n",
        "    if  t1_prob[x]  > t0_prob[x]: return 1\n",
        "    if  t1_prob[x]  < t0_prob[x]: return 0\n",
        "\n",
        "  # Si llego hasta aca es que todos los casos las probabilidades fueron iguales\n",
        "  return -1\n",
        "\n",
        "\n",
        "debug =0\n",
        "\n",
        "text_to_try=\"There's a construction guy working on the Disney store and he has huge gauges in his ears ?? ...that is a bloody accident waiting to happen\"\n",
        "text_to_try=\"@BubblyCuteOne ?????????? ok ok okayyyyyy Ima act right ....bout to get this blizzard tho\"\n",
        "\n",
        "text_to_try=\"hurricane hostage disaster fire you hostage killerkillerkillerkillerkiller killer killer murderer killer killer killer killerkiller killer\"\n",
        "text_to_try=\"@LoneWolffur control yourself tora\"\n",
        "text_to_try = clean_text(text_to_try)\n",
        "\n",
        "print( get_class_by_prod_prob(text_to_try) )\n",
        "print( get_class_by_sum_prob(text_to_try) )\n",
        "print( get_class_by_avg_prob(text_to_try) )\n",
        "print( get_class_by_max_prob(text_to_try) )\n",
        "print( get_class_by_n_word(text_to_try) )\n"
      ],
      "execution_count": null,
      "outputs": [
        {
          "output_type": "stream",
          "text": [
            "0\n",
            "0\n",
            "0\n",
            "1\n",
            "0\n",
            "time: 30.6 ms\n"
          ],
          "name": "stdout"
        }
      ]
    },
    {
      "cell_type": "code",
      "metadata": {
        "id": "_tINYF713c29",
        "colab_type": "code",
        "colab": {
          "base_uri": "https://localhost:8080/",
          "height": 35
        },
        "outputId": "5eff3bea-3f82-4df7-b77a-7195b793a7dd"
      },
      "source": [
        "df_clean_test['target_by_prod_prob'] = -1\n",
        "df_clean_test['target_by_sum_prob'] = -1\n",
        "df_clean_test['target_by_max_prob'] = -1\n",
        "df_clean_test['target_by_avg_prob'] = -1\n",
        "df_clean_test['target_by_n_word'] = -1\n",
        "\n",
        "\n",
        "\n",
        "\n",
        "\n",
        "def fn_classify_text(new_df_text):\n",
        "  new_df_text.target_by_prod_prob = new_df_text.text_clean.apply( lambda x: get_class_by_prod_prob(x) )\n",
        "  new_df_text.target_by_sum_prob = new_df_text.text_clean.apply( lambda x: get_class_by_sum_prob(x) )\n",
        "  new_df_text.target_by_max_prob = new_df_text.text_clean.apply( lambda x: get_class_by_max_prob(x) )\n",
        "  new_df_text.target_by_avg_prob = new_df_text.text_clean.apply( lambda x: get_class_by_avg_prob(x) )\n",
        "  new_df_text.target_by_n_word   = new_df_text.text_clean.apply( lambda x:  get_class_by_n_word(x) )\n",
        "  \n",
        "  \n",
        "  return new_df_text\n",
        "\n",
        "\n",
        "df_clean_test_split = np.array_split(df_clean_test, n_cores )\n",
        "pool = Pool(n_cores)\n",
        "df_clean_test = pd.concat(pool.map(fn_classify_text, df_clean_test_split))\n",
        "pool.close()\n",
        "pool.join()\n",
        "\n",
        "# fn_classify_text( df_clean_test)\n",
        "\n",
        "# get_percentage_t1('news' ,pd_str_value_counts )\n",
        "debug = 0\n",
        "\n"
      ],
      "execution_count": null,
      "outputs": [
        {
          "output_type": "stream",
          "text": [
            "time: 13 s\n"
          ],
          "name": "stdout"
        }
      ]
    },
    {
      "cell_type": "markdown",
      "metadata": {
        "id": "ipsl1S_qOgHu",
        "colab_type": "text"
      },
      "source": [
        "# Score\n"
      ]
    },
    {
      "cell_type": "code",
      "metadata": {
        "id": "C_JvrPmYvSBB",
        "colab_type": "code",
        "colab": {
          "base_uri": "https://localhost:8080/",
          "height": 430
        },
        "outputId": "c178b4f9-82d5-4d73-a967-3d93df20f79b"
      },
      "source": [
        "print(\"Scores\")\n",
        "print(\"\\n\",df_clean_test.target_by_prod_prob.value_counts())\n",
        "print(\"\\n\",df_clean_test.target_by_avg_prob.value_counts(),)\n",
        "print(\"\\n\",df_clean_test.target_by_sum_prob.value_counts(),)\n",
        "print(\"\\n\",df_clean_test.target_by_max_prob.value_counts(),)\n",
        "print(\"\\n\",df_clean_test.target_by_n_word.value_counts(),)\n",
        "\n",
        "\n"
      ],
      "execution_count": null,
      "outputs": [
        {
          "output_type": "stream",
          "text": [
            "Scores\n",
            "\n",
            " 0    917\n",
            "1    606\n",
            "Name: target_by_prod_prob, dtype: int64\n",
            "\n",
            " 0    883\n",
            "1    640\n",
            "Name: target_by_avg_prob, dtype: int64\n",
            "\n",
            " 0    883\n",
            "1    640\n",
            "Name: target_by_sum_prob, dtype: int64\n",
            "\n",
            " 0    914\n",
            "1    609\n",
            "Name: target_by_max_prob, dtype: int64\n",
            "\n",
            "  0    919\n",
            " 1    504\n",
            "-1    100\n",
            "Name: target_by_n_word, dtype: int64\n",
            "time: 8.47 ms\n"
          ],
          "name": "stdout"
        }
      ]
    },
    {
      "cell_type": "code",
      "metadata": {
        "id": "ar2AcBvhVh4T",
        "colab_type": "code",
        "colab": {
          "base_uri": "https://localhost:8080/",
          "height": 35
        },
        "outputId": "5fd742c3-5999-4b3a-cafb-a4fdce8f0aae"
      },
      "source": [
        "col_name_target = [col_name for col_name in df_clean_test.columns.to_list() if 'target_' in col_name]\n",
        "df_clean_test[ col_name_target]\n",
        "\n",
        "# df_clean_test['result'] = -1\n",
        "\n",
        "# df_clean_test.apply\n",
        "\n",
        "df_clean_test['n_zeros'] = (df_clean_test[col_name_target] == 0).sum(axis=1)\n",
        "df_clean_test['n_ones']  = (df_clean_test[col_name_target] == 1).sum(axis=1)\n",
        "\n",
        "# df_clean_test['result'] = (df_clean_test.n_ones >  df_clean_test.n_zeros )\n",
        "# Pondero por la probabilidad de clase\n",
        "df_clean_test['result'] = (global_t1_prob* df_clean_test.n_ones >  global_t0_prob * df_clean_test.n_zeros )\n",
        "df_clean_test['result'] = df_clean_test['result'].astype('int')\n",
        "\n",
        "# df_clean_test.loc[:,col_name_target] == 0\n",
        "pd.set_option('display.max_rows', None)\n",
        "\n",
        "# df_clean_test[ df_clean_test.result != df_clean_test.target]"
      ],
      "execution_count": null,
      "outputs": [
        {
          "output_type": "stream",
          "text": [
            "time: 13.7 ms\n"
          ],
          "name": "stdout"
        }
      ]
    },
    {
      "cell_type": "code",
      "metadata": {
        "id": "kPHhtrwd7foU",
        "colab_type": "code",
        "colab": {
          "base_uri": "https://localhost:8080/",
          "height": 35
        },
        "outputId": "ad99086f-ca89-4cbe-d9a5-296dd3a8defe"
      },
      "source": [
        "global_t0_prob,global_t1_prob"
      ],
      "execution_count": null,
      "outputs": [
        {
          "output_type": "execute_result",
          "data": {
            "text/plain": [
              "(1, 1)"
            ]
          },
          "metadata": {
            "tags": []
          },
          "execution_count": 117
        },
        {
          "output_type": "stream",
          "text": [
            "time: 1.61 ms\n"
          ],
          "name": "stdout"
        }
      ]
    },
    {
      "cell_type": "code",
      "metadata": {
        "id": "HTnedCng3HAf",
        "colab_type": "code",
        "colab": {
          "base_uri": "https://localhost:8080/",
          "height": 35
        },
        "outputId": "3b2312e5-5ecf-4858-ec31-9d69e4d7fc7f"
      },
      "source": [
        "# col_name_target = [col_name for col_name in df_clean_test.columns.to_list() if 'target' in col_name] + ['result']\n",
        "col_name_target = [col_name for col_name in df_clean_test.columns.to_list() if 'target' in col_name]\n",
        "\n",
        "for x in col_name_target:\n",
        "  df_clean_test[x] = df_clean_test[x].astype(int)\n",
        "\n",
        "final_cols = [a for a in df_clean_test.head(n=10).columns.to_list() if (a.count('target_')  or a == 'id' ) ]\n",
        "\n",
        "\n",
        "if 'target' in df_clean_test.columns.to_list():\n",
        " out_file_name = \"MAXI_005_NAIVE_BAYES_LAPLACIAN_SMOOTHING_NORMAL_CLEAN_CROSS_VALIDATION.CSV\"\n",
        " df_clean_test[final_cols].to_csv(out_file_name,header=True,index = False)\n",
        "else:\n",
        "  out_file_name = 'MAXI_005_NAIVE_BAYES_LAPLACIAN_SMOOTHING_NORMAL_CLEAN_TEST_RESULTS_col_result.CSV'\n",
        "  df_clean_test[['id','result']].rename(columns={'result':'target'} , inplace=False).to_csv(out_file_name,header=True,index = False)\n",
        "  out_file_name = 'MAXI_005_NAIVE_BAYES_LAPLACIAN_SMOOTHING_NORMAL_CLEAN_TEST_RESULTS_col_prod_prob.CSV'\n",
        "  df_clean_test[['id','target_by_prod_prob']].rename(columns={'target_by_prod_prob':'target'}, inplace=False).to_csv(out_file_name,header=True,index = False)\n",
        "\n",
        "\n",
        "\n",
        "# df_clean_test.rename(columns={'keyword':'asdf'}).head(n=10)\n",
        "\n"
      ],
      "execution_count": null,
      "outputs": [
        {
          "output_type": "stream",
          "text": [
            "time: 15.6 ms\n"
          ],
          "name": "stdout"
        }
      ]
    },
    {
      "cell_type": "code",
      "metadata": {
        "id": "J7S9nNnwx032",
        "colab_type": "code",
        "colab": {
          "base_uri": "https://localhost:8080/",
          "height": 315
        },
        "outputId": "47040aef-bf58-41ca-fb3f-6902826e61c9"
      },
      "source": [
        "col_name_target = [col_name for col_name in df_clean_test.columns.to_list() if 'target' in col_name] + ['result']\n",
        "\n",
        "df_clean_test[col_name_target].describe()\n",
        "# df_clean_test[col_name_target].hist()\n",
        "# df_clean_test.columns\n",
        "\n",
        "# col_name_target"
      ],
      "execution_count": null,
      "outputs": [
        {
          "output_type": "execute_result",
          "data": {
            "text/plain": [
              "            target  target_by_prod_prob  target_by_sum_prob  \\\n",
              "count  1523.000000          1523.000000         1523.000000   \n",
              "mean      0.418253             0.397899            0.420223   \n",
              "std       0.493434             0.489625            0.493757   \n",
              "min       0.000000             0.000000            0.000000   \n",
              "25%       0.000000             0.000000            0.000000   \n",
              "50%       0.000000             0.000000            0.000000   \n",
              "75%       1.000000             1.000000            1.000000   \n",
              "max       1.000000             1.000000            1.000000   \n",
              "\n",
              "       target_by_max_prob  target_by_avg_prob  target_by_n_word       result  \n",
              "count         1523.000000         1523.000000       1523.000000  1523.000000  \n",
              "mean             0.399869            0.420223          0.265266     0.410374  \n",
              "std              0.490032            0.493757          0.571344     0.492063  \n",
              "min              0.000000            0.000000         -1.000000     0.000000  \n",
              "25%              0.000000            0.000000          0.000000     0.000000  \n",
              "50%              0.000000            0.000000          0.000000     0.000000  \n",
              "75%              1.000000            1.000000          1.000000     1.000000  \n",
              "max              1.000000            1.000000          1.000000     1.000000  "
            ],
            "text/html": [
              "<div>\n",
              "<style scoped>\n",
              "    .dataframe tbody tr th:only-of-type {\n",
              "        vertical-align: middle;\n",
              "    }\n",
              "\n",
              "    .dataframe tbody tr th {\n",
              "        vertical-align: top;\n",
              "    }\n",
              "\n",
              "    .dataframe thead th {\n",
              "        text-align: right;\n",
              "    }\n",
              "</style>\n",
              "<table border=\"1\" class=\"dataframe\">\n",
              "  <thead>\n",
              "    <tr style=\"text-align: right;\">\n",
              "      <th></th>\n",
              "      <th>target</th>\n",
              "      <th>target_by_prod_prob</th>\n",
              "      <th>target_by_sum_prob</th>\n",
              "      <th>target_by_max_prob</th>\n",
              "      <th>target_by_avg_prob</th>\n",
              "      <th>target_by_n_word</th>\n",
              "      <th>result</th>\n",
              "    </tr>\n",
              "  </thead>\n",
              "  <tbody>\n",
              "    <tr>\n",
              "      <th>count</th>\n",
              "      <td>1523.000000</td>\n",
              "      <td>1523.000000</td>\n",
              "      <td>1523.000000</td>\n",
              "      <td>1523.000000</td>\n",
              "      <td>1523.000000</td>\n",
              "      <td>1523.000000</td>\n",
              "      <td>1523.000000</td>\n",
              "    </tr>\n",
              "    <tr>\n",
              "      <th>mean</th>\n",
              "      <td>0.418253</td>\n",
              "      <td>0.397899</td>\n",
              "      <td>0.420223</td>\n",
              "      <td>0.399869</td>\n",
              "      <td>0.420223</td>\n",
              "      <td>0.265266</td>\n",
              "      <td>0.410374</td>\n",
              "    </tr>\n",
              "    <tr>\n",
              "      <th>std</th>\n",
              "      <td>0.493434</td>\n",
              "      <td>0.489625</td>\n",
              "      <td>0.493757</td>\n",
              "      <td>0.490032</td>\n",
              "      <td>0.493757</td>\n",
              "      <td>0.571344</td>\n",
              "      <td>0.492063</td>\n",
              "    </tr>\n",
              "    <tr>\n",
              "      <th>min</th>\n",
              "      <td>0.000000</td>\n",
              "      <td>0.000000</td>\n",
              "      <td>0.000000</td>\n",
              "      <td>0.000000</td>\n",
              "      <td>0.000000</td>\n",
              "      <td>-1.000000</td>\n",
              "      <td>0.000000</td>\n",
              "    </tr>\n",
              "    <tr>\n",
              "      <th>25%</th>\n",
              "      <td>0.000000</td>\n",
              "      <td>0.000000</td>\n",
              "      <td>0.000000</td>\n",
              "      <td>0.000000</td>\n",
              "      <td>0.000000</td>\n",
              "      <td>0.000000</td>\n",
              "      <td>0.000000</td>\n",
              "    </tr>\n",
              "    <tr>\n",
              "      <th>50%</th>\n",
              "      <td>0.000000</td>\n",
              "      <td>0.000000</td>\n",
              "      <td>0.000000</td>\n",
              "      <td>0.000000</td>\n",
              "      <td>0.000000</td>\n",
              "      <td>0.000000</td>\n",
              "      <td>0.000000</td>\n",
              "    </tr>\n",
              "    <tr>\n",
              "      <th>75%</th>\n",
              "      <td>1.000000</td>\n",
              "      <td>1.000000</td>\n",
              "      <td>1.000000</td>\n",
              "      <td>1.000000</td>\n",
              "      <td>1.000000</td>\n",
              "      <td>1.000000</td>\n",
              "      <td>1.000000</td>\n",
              "    </tr>\n",
              "    <tr>\n",
              "      <th>max</th>\n",
              "      <td>1.000000</td>\n",
              "      <td>1.000000</td>\n",
              "      <td>1.000000</td>\n",
              "      <td>1.000000</td>\n",
              "      <td>1.000000</td>\n",
              "      <td>1.000000</td>\n",
              "      <td>1.000000</td>\n",
              "    </tr>\n",
              "  </tbody>\n",
              "</table>\n",
              "</div>"
            ]
          },
          "metadata": {
            "tags": []
          },
          "execution_count": 119
        },
        {
          "output_type": "stream",
          "text": [
            "time: 27.4 ms\n"
          ],
          "name": "stdout"
        }
      ]
    },
    {
      "cell_type": "code",
      "metadata": {
        "id": "eT_kvNZ0W5Of",
        "colab_type": "code",
        "colab": {
          "base_uri": "https://localhost:8080/",
          "height": 301
        },
        "outputId": "15e93469-b5cf-45c0-8f03-e901b9c01ae0"
      },
      "source": [
        "train.target.hist()"
      ],
      "execution_count": null,
      "outputs": [
        {
          "output_type": "execute_result",
          "data": {
            "text/plain": [
              "<matplotlib.axes._subplots.AxesSubplot at 0x7f03c0aa25f8>"
            ]
          },
          "metadata": {
            "tags": []
          },
          "execution_count": 120
        },
        {
          "output_type": "display_data",
          "data": {
            "text/plain": [
              "<Figure size 432x288 with 1 Axes>"
            ],
            "image/png": "[encoded data removed]"
          },
          "metadata": {
            "tags": [],
            "needs_background": "light"
          }
        },
        {
          "output_type": "stream",
          "text": [
            "time: 152 ms\n"
          ],
          "name": "stdout"
        }
      ]
    },
    {
      "cell_type": "code",
      "metadata": {
        "id": "j8e67WpYltyi",
        "colab_type": "code",
        "colab": {
          "base_uri": "https://localhost:8080/",
          "height": 424
        },
        "outputId": "c2d18fe7-9e56-442b-e40a-25217ca8e5d4"
      },
      "source": [
        "df_clean_test[ [x for x in df_clean_test.columns if x.count('target')] ].hist()"
      ],
      "execution_count": null,
      "outputs": [
        {
          "output_type": "execute_result",
          "data": {
            "text/plain": [
              "array([[<matplotlib.axes._subplots.AxesSubplot object at 0x7f03c0aa2630>,\n",
              "        <matplotlib.axes._subplots.AxesSubplot object at 0x7f03c0c58d30>],\n",
              "       [<matplotlib.axes._subplots.AxesSubplot object at 0x7f03c0e03668>,\n",
              "        <matplotlib.axes._subplots.AxesSubplot object at 0x7f03adda49e8>],\n",
              "       [<matplotlib.axes._subplots.AxesSubplot object at 0x7f03addb1978>,\n",
              "        <matplotlib.axes._subplots.AxesSubplot object at 0x7f03ad85d2e8>]],\n",
              "      dtype=object)"
            ]
          },
          "metadata": {
            "tags": []
          },
          "execution_count": 121
        },
        {
          "output_type": "display_data",
          "data": {
            "text/plain": [
              "<Figure size 432x288 with 6 Axes>"
            ],
            "image/png": "[encoded data removed]"
          },
          "metadata": {
            "tags": [],
            "needs_background": "light"
          }
        },
        {
          "output_type": "stream",
          "text": [
            "time: 539 ms\n"
          ],
          "name": "stdout"
        }
      ]
    },
    {
      "cell_type": "code",
      "metadata": {
        "id": "dN50tba01KN8",
        "colab_type": "code",
        "colab": {
          "base_uri": "https://localhost:8080/",
          "height": 87
        },
        "outputId": "f7624fe8-c9b8-4065-91f7-a322c67c30cd"
      },
      "source": [
        "df_clean_test[(df_clean_test.target_by_avg_prob == -1)| \n",
        "(df_clean_test.target_by_max_prob == -1)| \n",
        "(df_clean_test.target_by_sum_prob == -1)| \n",
        "# (df_clean_test.target_by_n_word == -1)| \n",
        "(df_clean_test.target_by_prod_prob == -1)]"
      ],
      "execution_count": null,
      "outputs": [
        {
          "output_type": "execute_result",
          "data": {
            "text/plain": [
              "Empty DataFrame\n",
              "Columns: [id, keyword, location, text, target, text_clean, target_by_prod_prob, target_by_sum_prob, target_by_max_prob, target_by_avg_prob, target_by_n_word, n_zeros, n_ones, result]\n",
              "Index: []"
            ],
            "text/html": [
              "<div>\n",
              "<style scoped>\n",
              "    .dataframe tbody tr th:only-of-type {\n",
              "        vertical-align: middle;\n",
              "    }\n",
              "\n",
              "    .dataframe tbody tr th {\n",
              "        vertical-align: top;\n",
              "    }\n",
              "\n",
              "    .dataframe thead th {\n",
              "        text-align: right;\n",
              "    }\n",
              "</style>\n",
              "<table border=\"1\" class=\"dataframe\">\n",
              "  <thead>\n",
              "    <tr style=\"text-align: right;\">\n",
              "      <th></th>\n",
              "      <th>id</th>\n",
              "      <th>keyword</th>\n",
              "      <th>location</th>\n",
              "      <th>text</th>\n",
              "      <th>target</th>\n",
              "      <th>text_clean</th>\n",
              "      <th>target_by_prod_prob</th>\n",
              "      <th>target_by_sum_prob</th>\n",
              "      <th>target_by_max_prob</th>\n",
              "      <th>target_by_avg_prob</th>\n",
              "      <th>target_by_n_word</th>\n",
              "      <th>n_zeros</th>\n",
              "      <th>n_ones</th>\n",
              "      <th>result</th>\n",
              "    </tr>\n",
              "  </thead>\n",
              "  <tbody>\n",
              "  </tbody>\n",
              "</table>\n",
              "</div>"
            ]
          },
          "metadata": {
            "tags": []
          },
          "execution_count": 122
        },
        {
          "output_type": "stream",
          "text": [
            "time: 9.13 ms\n"
          ],
          "name": "stdout"
        }
      ]
    },
    {
      "cell_type": "markdown",
      "metadata": {
        "id": "rjyxcecGRDj9",
        "colab_type": "text"
      },
      "source": [
        "# F1 Score\n"
      ]
    },
    {
      "cell_type": "code",
      "metadata": {
        "id": "zuQSladDxV_P",
        "colab_type": "code",
        "colab": {
          "base_uri": "https://localhost:8080/",
          "height": 143
        },
        "outputId": "ac83efd4-9a3f-4c59-dad8-adf3c823807e"
      },
      "source": [
        "# df_clean_test.new_target = df_clean_test.target\n",
        "\n",
        "def caluculate_score_f1(cmp_value , real, estimated):\n",
        "\n",
        "  # Es cmp_value y estime cmp_value\n",
        "  true_positive  =  sum(  (real == cmp_value) & (estimated == cmp_value)  )\n",
        "  # No es cmp_value y estime cmp_value\n",
        "  false_positive =  sum(  (real != cmp_value) & (estimated == cmp_value)  )\n",
        "\n",
        "  # true_negative  = sum(  (real == 0) & (estimated == 0)  )\n",
        "  # false_negative = sum(  (real == 1) & (estimated == 0)  )\n",
        "\n",
        "  # no es cmp_value y estime distinto de cmp_value \n",
        "  true_negative  = sum(  (real != cmp_value ) & (estimated !=cmp_value)  )\n",
        "  # es cmp_value pero estime otra cosa \n",
        "  false_negative = sum(  (real == cmp_value) & (estimated != cmp_value)  )\n",
        "\n",
        "  if true_positive == 0: return 0\n",
        "  \n",
        "\n",
        "  score_precision = true_positive/ ( true_positive + false_positive)\n",
        "  score_recall    = true_positive/ ( true_positive + false_negative)\n",
        "\n",
        "  return 2*score_precision*score_recall/(score_precision+score_recall)\n",
        "\n",
        "if 'target' in df_clean_test.columns.to_list():\n",
        "  print(  \"target_by_prod_prob:\" ,caluculate_score_f1(1, df_clean_test.target , df_clean_test.target_by_prod_prob)\n",
        "        ,\"\\ntarget_by_n_word:\"  ,caluculate_score_f1(1, df_clean_test.target , df_clean_test.target_by_n_word)\n",
        "        ,\"\\ntarget_by_avg_prob:\",caluculate_score_f1(1, df_clean_test.target , df_clean_test.target_by_avg_prob)\n",
        "        ,\"\\ntarget_by_sum_prob:\",caluculate_score_f1(1, df_clean_test.target , df_clean_test.target_by_sum_prob)\n",
        "        ,\"\\ntarget_by_max_prob:\",caluculate_score_f1(1, df_clean_test.target , df_clean_test.target_by_max_prob)\n",
        "        ,\"\\nresult:\"            ,caluculate_score_f1(1, df_clean_test.target , df_clean_test.result)\n",
        "    )\n"
      ],
      "execution_count": null,
      "outputs": [
        {
          "output_type": "stream",
          "text": [
            "target_by_prod_prob: 0.753016894609815 \n",
            "target_by_n_word: 0.6993865030674847 \n",
            "target_by_avg_prob: 0.7220046985121379 \n",
            "target_by_sum_prob: 0.7220046985121379 \n",
            "target_by_max_prob: 0.6292134831460674 \n",
            "result: 0.7210776545166403\n",
            "time: 24.3 ms\n"
          ],
          "name": "stdout"
        }
      ]
    },
    {
      "cell_type": "code",
      "metadata": {
        "id": "Ig98GRBanpaS",
        "colab_type": "code",
        "colab": {
          "base_uri": "https://localhost:8080/",
          "height": 502
        },
        "outputId": "06d6365f-b35e-42d8-9071-ffbc9fce4552"
      },
      "source": [
        "#Busco Criterio de decision para cuando hay igual cantidad de unos que ceros\n",
        "\n",
        "\n",
        "if 'target' in df_clean_test.columns.to_list():\n",
        "  a = df_clean_test[ df_clean_test.n_zeros == df_clean_test.n_ones ]\n",
        "\n",
        "  # print(len(a))\n",
        "  # print(a.target_by_avg_prob)\n",
        "\n",
        "\n",
        "  print( \n",
        "    \"scores\",\n",
        "    \"\\ntarget_by_prod_prob:\" ,caluculate_score_f1(1, a.target , a.target_by_prod_prob),\n",
        "    \"\\ntarget_by_n_word:\"    ,caluculate_score_f1(1, a.target , a.target_by_n_word),\n",
        "    \"\\ntarget_by_avg_prob:\"  ,caluculate_score_f1(1, a.target , a.target_by_avg_prob),\n",
        "    \"\\ntarget_by_sum_prob:\"  ,caluculate_score_f1(1, a.target , a.target_by_sum_prob),\n",
        "    \"\\ntarget_by_max_prob:\"  ,caluculate_score_f1(1, a.target , a.target_by_max_prob),\n",
        "    \"\\nresult:\"              ,caluculate_score_f1(1, a.target , a.result)\n",
        "  )\n",
        "  print(a)\n"
      ],
      "execution_count": null,
      "outputs": [
        {
          "output_type": "stream",
          "text": [
            "scores \n",
            "target_by_prod_prob: 0 \n",
            "target_by_n_word: 0 \n",
            "target_by_avg_prob: 1.0 \n",
            "target_by_sum_prob: 1.0 \n",
            "target_by_max_prob: 0 \n",
            "result: 0\n",
            "        id    keyword                        location  \\\n",
            "5790  8261    rioting  A little house in the outback.   \n",
            "6230  8893  snowstorm                    Wakefield MA   \n",
            "\n",
            "                                                   text  target  \\\n",
            "5790  `bbcnews The Ass. of British Insurers says rio...       1   \n",
            "6230  Manuel hoping for an early Buffalo snowstorm s...       1   \n",
            "\n",
            "                                             text_clean  target_by_prod_prob  \\\n",
            "5790  bbcnews the ass british insurers say rioting c...                    0   \n",
            "6230  manuel hoping early buffalo snowstorm accuracy...                    0   \n",
            "\n",
            "      target_by_sum_prob  target_by_max_prob  target_by_avg_prob  \\\n",
            "5790                   1                   0                   1   \n",
            "6230                   1                   0                   1   \n",
            "\n",
            "      target_by_n_word  n_zeros  n_ones  result  \n",
            "5790                -1        2       2       0  \n",
            "6230                -1        2       2       0  \n",
            "time: 24.2 ms\n"
          ],
          "name": "stdout"
        }
      ]
    },
    {
      "cell_type": "code",
      "metadata": {
        "id": "Je3rPNr43O23",
        "colab_type": "code",
        "colab": {
          "base_uri": "https://localhost:8080/",
          "height": 271
        },
        "outputId": "86e95678-adf9-4b8d-8f49-0580ee58eebf"
      },
      "source": [
        "# pd.set_option('display.max_colwidth', None)\n",
        "\n",
        "\n",
        "if 'target' in df_clean_test.columns.to_list():\n",
        "  print('cross validation')\n",
        "  print(df_clean_test[ df_clean_test.target != df_clean_test.result ].head(n=10).to_string())\n",
        "  # df_clean_test[ df_clean_test.target != df_clean_test.result ].head(n=10)\n",
        "  # df_clean_test[ df_clean_test.target != df_clean_test.result ].set_option()\n",
        "else:\n",
        "  print('asdf')\n",
        "\n",
        "\n",
        "# df_clean_test[ df_clean_test.target != df_clean_test.result ]"
      ],
      "execution_count": null,
      "outputs": [
        {
          "output_type": "stream",
          "text": [
            "cross validation\n",
            "      id              keyword              location                                               text  target                                         text_clean  target_by_prod_prob  target_by_sum_prob  target_by_max_prob  target_by_avg_prob  target_by_n_word  n_zeros  n_ones  result\n",
            "12    18                  NaN                   NaN  #raining #flooding #Florida #TampaBay #Tampa 1...       1  raining flooding florida tampa bay tampa day v...                    0                   0                   0                   0                -1        4       0       0\n",
            "31    48               ablaze            Birmingham  @bbcmtd Wholesale Markets ablaze http://t.co/l...       1                    bbcmtd wholesale markets ablaze                    0                   0                   0                   0                 0        5       0       0\n",
            "51    74               ablaze                 India  Man wife get six years jail for setting ablaze...       1    man wife get six year jail setting ablaze niece                    0                   0                   0                   0                 0        5       0       0\n",
            "90   132             accident                   NaN     ???? it was an accident http://t.co/Oia5fxi4gM       0                                        wa accident                    1                   1                   0                   1                -1        1       3       1\n",
            "98   141             accident  Gloucestershire , UK  @flowri were you marinading it or was it an ac...       0                      flowri marinading wa accident                    1                   1                   0                   1                -1        1       3       1\n",
            "130  187           aftershock                   NaN                        @OnFireAnders I love you bb       0                             on fire anders love bb                    0                   1                   1                   1                 0        2       3       1\n",
            "133  193           aftershock                   304  People who say it cannot be done should not in...       0      people say done interrupt george bernard shaw                    0                   1                   1                   1                 1        1       4       1\n",
            "138  198  airplane%20accident  Salt Lake City, Utah  @crobscarla your lifetime odds of dying from a...       0   crobscarla lifetime odds dying airplane accident                    1                   1                   1                   1                 1        0       5       1\n",
            "140  201  airplane%20accident                   NaN  @AlexAllTimeLow awwww they're on an airplane a...       1  alex all time low aww re airplane accident re ...                    0                   0                   0                   0                 0        5       0       0\n",
            "142  204  airplane%20accident         Jaipur, India  Man Goes into Airplane Engine Accident: http:/...       1     man goes airplane engine accident via you tube                    1                   0                   0                   0                 1        3       2       0\n",
            "time: 10.9 ms\n"
          ],
          "name": "stdout"
        }
      ]
    },
    {
      "cell_type": "code",
      "metadata": {
        "id": "_vY2KAbyZQC6",
        "colab_type": "code",
        "colab": {
          "base_uri": "https://localhost:8080/",
          "height": 35
        },
        "outputId": "c41ad810-70a1-4200-bb97-bf90c41abd7c"
      },
      "source": [
        "# Saving the csv\n",
        "\n",
        "\n",
        "# df_clean_test.rename(columns={'target_by_prod_prob':'target'})[['id','target']].to_csv('003_BAYES_PROD_PROB_NO_STOP_WORDS_LEMATIZATION.csv',header=True,index = False)\n",
        "\n",
        "\n",
        "# final_cols = [a for a in df_clean_test.head(n=10).columns.to_list() if (a.count('target')  or a == 'id' ) ]\n",
        "\n",
        "\n",
        "# df_clean_test[final_cols].head(n=10)\n"
      ],
      "execution_count": null,
      "outputs": [
        {
          "output_type": "stream",
          "text": [
            "time: 2.27 ms\n"
          ],
          "name": "stdout"
        }
      ]
    },
    {
      "cell_type": "code",
      "metadata": {
        "id": "0AWqsF6LwXcM",
        "colab_type": "code",
        "colab": {
          "base_uri": "https://localhost:8080/",
          "height": 125
        },
        "outputId": "22691214-77d0-4acc-9d0e-54342a81179a"
      },
      "source": [
        "final_cols"
      ],
      "execution_count": null,
      "outputs": [
        {
          "output_type": "execute_result",
          "data": {
            "text/plain": [
              "['id',\n",
              " 'target_by_prod_prob',\n",
              " 'target_by_sum_prob',\n",
              " 'target_by_max_prob',\n",
              " 'target_by_avg_prob',\n",
              " 'target_by_n_word']"
            ]
          },
          "metadata": {
            "tags": []
          },
          "execution_count": 127
        },
        {
          "output_type": "stream",
          "text": [
            "time: 3.23 ms\n"
          ],
          "name": "stdout"
        }
      ]
    },
    {
      "cell_type": "markdown",
      "metadata": {
        "id": "vFioVVPVv4Nm",
        "colab_type": "text"
      },
      "source": [
        "# Extra test"
      ]
    }
  ]
}