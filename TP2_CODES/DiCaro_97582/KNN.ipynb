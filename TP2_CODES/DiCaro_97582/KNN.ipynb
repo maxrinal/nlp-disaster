{
  "nbformat": 4,
  "nbformat_minor": 0,
  "metadata": {
    "colab": {
      "name": "KNN.ipynb",
      "provenance": [],
      "authorship_tag": "ABX9TyPcRB/IIzu3aUtn0uM+ND1X",
      "include_colab_link": true
    },
    "kernelspec": {
      "name": "python3",
      "display_name": "Python 3"
    }
  },
  "cells": [
    {
      "cell_type": "markdown",
      "metadata": {
        "id": "view-in-github",
        "colab_type": "text"
      },
      "source": [
        "<a href=\"https://colab.research.google.com/github/maxrinal/nlp-disaster/blob/master/TP2_CODES/DiCaro_97582/KNN.ipynb\" target=\"_parent\"><img src=\"https://colab.research.google.com/assets/colab-badge.svg\" alt=\"Open In Colab\"/></a>"
      ]
    },
    {
      "cell_type": "markdown",
      "metadata": {
        "id": "HGL2yWTIxh00",
        "colab_type": "text"
      },
      "source": [
        "# **Machine Learning**"
      ]
    },
    {
      "cell_type": "markdown",
      "metadata": {
        "id": "Gp7EnJRJXdvE",
        "colab_type": "text"
      },
      "source": [
        "## Importo Librerías"
      ]
    },
    {
      "cell_type": "code",
      "metadata": {
        "id": "C0BB1vz_xZJ6",
        "colab_type": "code",
        "colab": {
          "base_uri": "https://localhost:8080/",
          "height": 54
        },
        "outputId": "c26837fb-d7e7-486a-d76d-62b9a0bcccfb"
      },
      "source": [
        "#! python -m textblob.download_corpora\n",
        "#!pip install --user -U nltk\n",
        "#nltk.download('punkt')\n",
        "#!pip install kaggle\n",
        "\n",
        "import pandas as pd\n",
        "import numpy as np\n",
        "import seaborn as sns\n",
        "import matplotlib.pyplot as plt\n",
        "%matplotlib inline\n",
        "\n",
        "from textblob import TextBlob\n",
        "from wordcloud import WordCloud\n",
        "import string,re\n",
        "import urllib.parse\n",
        "import nltk\n",
        "from nltk.corpus import stopwords\n",
        "from nltk import word_tokenize\n",
        "from nltk .tokenize.regexp import regexp_tokenize\n",
        "import spacy\n",
        "import keras\n",
        "import html\n",
        "import re\n",
        "import urllib\n",
        "import warnings\n",
        "import time\n",
        "import random\n",
        "\n",
        "from google.colab import drive\n",
        "from google.colab import files\n",
        "drive.mount('/content/drive')"
      ],
      "execution_count": null,
      "outputs": [
        {
          "output_type": "stream",
          "text": [
            "Drive already mounted at /content/drive; to attempt to forcibly remount, call drive.mount(\"/content/drive\", force_remount=True).\n"
          ],
          "name": "stdout"
        }
      ]
    },
    {
      "cell_type": "code",
      "metadata": {
        "id": "Pbof4qhP7XCa",
        "colab_type": "code",
        "colab": {
          "base_uri": "https://localhost:8080/",
          "height": 51
        },
        "outputId": "b075577b-7152-4a6b-e107-c92ac97e6a90"
      },
      "source": [
        "from sklearn.preprocessing import MultiLabelBinarizer\n",
        "from sklearn.preprocessing import LabelBinarizer\n",
        "from sklearn.preprocessing import LabelEncoder\n",
        "import xgboost as xgb\n",
        "from sklearn.ensemble import RandomForestRegressor\n",
        "from sklearn.metrics import mean_squared_error\n",
        "from sklearn import tree\n",
        "from sklearn.model_selection import train_test_split\n",
        "from sklearn.metrics import f1_score\n",
        "from sklearn.feature_extraction.text import CountVectorizer\n",
        "nltk.download('stopwords')\n",
        "\n",
        "from sklearn.neighbors import KNeighborsClassifier"
      ],
      "execution_count": null,
      "outputs": [
        {
          "output_type": "stream",
          "text": [
            "[nltk_data] Downloading package stopwords to /root/nltk_data...\n",
            "[nltk_data]   Package stopwords is already up-to-date!\n"
          ],
          "name": "stdout"
        }
      ]
    },
    {
      "cell_type": "code",
      "metadata": {
        "id": "0FfRvKwF9XbB",
        "colab_type": "code",
        "colab": {}
      },
      "source": [
        "import lightgbm as lgb"
      ],
      "execution_count": null,
      "outputs": []
    },
    {
      "cell_type": "code",
      "metadata": {
        "id": "oSsBJW_-x_K5",
        "colab_type": "code",
        "colab": {}
      },
      "source": [
        "pd.options.display.max_columns = 100\n",
        "pd.options.display.max_rows = 100\n",
        "\n",
        "plt.style.use('default') #Haciendo los gráficos más bonitos en matplotlib\n",
        "\n",
        "sns.set(style = 'whitegrid') #Seteando tipo de grid en sns\n",
        "\n",
        "pd.options.display.float_format = '{:20,.2f}'.format #Suprimimos la notacion científica en los outputs\n",
        "\n",
        "warnings.filterwarnings(\"ignore\")"
      ],
      "execution_count": null,
      "outputs": []
    },
    {
      "cell_type": "code",
      "metadata": {
        "id": "xChC8k0oXSfG",
        "colab_type": "code",
        "colab": {
          "base_uri": "https://localhost:8080/",
          "height": 85
        },
        "outputId": "4a99a25a-2e91-47a2-9d9b-f54f550ba40c"
      },
      "source": [
        "print('re version', re.__version__)\n",
        "print('nltk version', nltk.__version__)\n",
        "print('spacy version', spacy.__version__)\n",
        "print('keras version', keras.__version__)"
      ],
      "execution_count": null,
      "outputs": [
        {
          "output_type": "stream",
          "text": [
            "re version 2.2.1\n",
            "nltk version 3.2.5\n",
            "spacy version 2.2.4\n",
            "keras version 2.4.3\n"
          ],
          "name": "stdout"
        }
      ]
    },
    {
      "cell_type": "markdown",
      "metadata": {
        "id": "efmkaP_ZXWki",
        "colab_type": "text"
      },
      "source": [
        "## Importo Datos"
      ]
    },
    {
      "cell_type": "code",
      "metadata": {
        "id": "mFoeWogPyKiJ",
        "colab_type": "code",
        "colab": {}
      },
      "source": [
        "train_original = pd.read_csv('https://raw.githubusercontent.com/maxrinal/nlp-disaster/master/train.csv', encoding = 'utf-8')\n",
        "test_original = pd.read_csv('https://raw.githubusercontent.com/maxrinal/nlp-disaster/master/test.csv', encoding = 'utf-8')"
      ],
      "execution_count": null,
      "outputs": []
    },
    {
      "cell_type": "code",
      "metadata": {
        "id": "5XFoPZOIyUsy",
        "colab_type": "code",
        "colab": {
          "base_uri": "https://localhost:8080/",
          "height": 204
        },
        "outputId": "6b4fc117-603f-4e4c-d227-87ea279ea458"
      },
      "source": [
        "test_original.head()"
      ],
      "execution_count": null,
      "outputs": [
        {
          "output_type": "execute_result",
          "data": {
            "text/html": [
              "<div>\n",
              "<style scoped>\n",
              "    .dataframe tbody tr th:only-of-type {\n",
              "        vertical-align: middle;\n",
              "    }\n",
              "\n",
              "    .dataframe tbody tr th {\n",
              "        vertical-align: top;\n",
              "    }\n",
              "\n",
              "    .dataframe thead th {\n",
              "        text-align: right;\n",
              "    }\n",
              "</style>\n",
              "<table border=\"1\" class=\"dataframe\">\n",
              "  <thead>\n",
              "    <tr style=\"text-align: right;\">\n",
              "      <th></th>\n",
              "      <th>id</th>\n",
              "      <th>keyword</th>\n",
              "      <th>location</th>\n",
              "      <th>text</th>\n",
              "    </tr>\n",
              "  </thead>\n",
              "  <tbody>\n",
              "    <tr>\n",
              "      <th>0</th>\n",
              "      <td>0</td>\n",
              "      <td>NaN</td>\n",
              "      <td>NaN</td>\n",
              "      <td>Just happened a terrible car crash</td>\n",
              "    </tr>\n",
              "    <tr>\n",
              "      <th>1</th>\n",
              "      <td>2</td>\n",
              "      <td>NaN</td>\n",
              "      <td>NaN</td>\n",
              "      <td>Heard about #earthquake is different cities, s...</td>\n",
              "    </tr>\n",
              "    <tr>\n",
              "      <th>2</th>\n",
              "      <td>3</td>\n",
              "      <td>NaN</td>\n",
              "      <td>NaN</td>\n",
              "      <td>there is a forest fire at spot pond, geese are...</td>\n",
              "    </tr>\n",
              "    <tr>\n",
              "      <th>3</th>\n",
              "      <td>9</td>\n",
              "      <td>NaN</td>\n",
              "      <td>NaN</td>\n",
              "      <td>Apocalypse lighting. #Spokane #wildfires</td>\n",
              "    </tr>\n",
              "    <tr>\n",
              "      <th>4</th>\n",
              "      <td>11</td>\n",
              "      <td>NaN</td>\n",
              "      <td>NaN</td>\n",
              "      <td>Typhoon Soudelor kills 28 in China and Taiwan</td>\n",
              "    </tr>\n",
              "  </tbody>\n",
              "</table>\n",
              "</div>"
            ],
            "text/plain": [
              "   id keyword location                                               text\n",
              "0   0     NaN      NaN                 Just happened a terrible car crash\n",
              "1   2     NaN      NaN  Heard about #earthquake is different cities, s...\n",
              "2   3     NaN      NaN  there is a forest fire at spot pond, geese are...\n",
              "3   9     NaN      NaN           Apocalypse lighting. #Spokane #wildfires\n",
              "4  11     NaN      NaN      Typhoon Soudelor kills 28 in China and Taiwan"
            ]
          },
          "metadata": {
            "tags": []
          },
          "execution_count": 21
        }
      ]
    },
    {
      "cell_type": "code",
      "metadata": {
        "id": "snHDJKyNyTH4",
        "colab_type": "code",
        "colab": {}
      },
      "source": [
        "train = pd.concat([train_original, test_original])[['id', 'keyword', 'location', 'text', 'target']]"
      ],
      "execution_count": null,
      "outputs": []
    },
    {
      "cell_type": "code",
      "metadata": {
        "id": "hAoesiKulZrO",
        "colab_type": "code",
        "colab": {
          "base_uri": "https://localhost:8080/",
          "height": 68
        },
        "outputId": "856dd2ec-21a2-4f88-90cc-0f0cff659ff3"
      },
      "source": [
        "set_train_franco = pd.read_csv('/content/set_train.csv')\n",
        "set_test_franco = pd.read_csv('/content/set_validation.csv')\n",
        "set_submit_franco = pd.read_csv('/content/set_test.csv')\n",
        "\n",
        "train_franco = pd.concat([set_train_franco, set_test_franco, set_submit_franco])\n",
        "train_franco.drop(columns= ['target'], inplace= True)\n",
        "\n",
        "print(len(set_train_franco))\n",
        "print(len(set_test_franco))\n",
        "print(len(train) == len(train_franco))\n",
        "\n",
        "train = train_franco.merge(train, left_on= 'id', right_on= 'id', how= 'left')"
      ],
      "execution_count": null,
      "outputs": [
        {
          "output_type": "stream",
          "text": [
            "6090\n",
            "1523\n",
            "True\n"
          ],
          "name": "stdout"
        }
      ]
    },
    {
      "cell_type": "markdown",
      "metadata": {
        "id": "LYAEGmosI4ZV",
        "colab_type": "text"
      },
      "source": [
        "# Limpieza"
      ]
    },
    {
      "cell_type": "markdown",
      "metadata": {
        "id": "RIRKrrDGP0kD",
        "colab_type": "text"
      },
      "source": [
        "### Funciones"
      ]
    },
    {
      "cell_type": "code",
      "metadata": {
        "id": "btZgQ_KD-VVP",
        "colab_type": "code",
        "colab": {}
      },
      "source": [
        "caracteres_extraños = ['\\u017E', '\\u017D', '\\u017C', '\\u017B', '\\u017A', '\\u0179', '\\u0178', '\\u0177', '\\u0176', '\\u00FF', '\\u00FD', '\\u00DD', '\\u0175',\\\n",
        "                         '\\u0174', '\\u0173', '\\u0172', '\\u0171', '\\u0170', '\\u016F', '\\u016E', '\\u016D', '\\u016C', '\\u016B', '\\u016A', '\\u0169', '\\u0168',\\\n",
        "                         '\\u00FC', '\\u00FB', '\\u00FA', '\\u00F9', '\\u00DC', '\\u00DB', '\\u00DA', '\\u00D9', '\\u0167', '\\u0166', '\\u0165', '\\u0164', '\\u0163',\\\n",
        "                         '\\u0162', '\\u017F', '\\u0161', '\\u0160', '\\u015F', '\\u015E', '\\u015D', '\\u015C', '\\u015B', '\\u015A', '\\u0159', '\\u0158', '\\u0157',\\\n",
        "                         '\\u0156', '\\u0155', '\\u0154', '\\u0151', '\\u0150', '\\u014F', '\\u014E', '\\u014D', '\\u014C', '\\u00F8', '\\u00F6', '\\u00F5', '\\u00F4',\\\n",
        "                         '\\u00F3', '\\u00F2', '\\u00D8', '\\u00D6', '\\u00D5', '\\u00D4', '\\u00D3', '\\u00D2', '\\u014B', '\\u014A', '\\u0149', '\\u0148', '\\u0147',\\\n",
        "                         '\\u0146', '\\u0145', '\\u0144', '\\u0143', '\\u00F1', '\\u00D1', '\\u0142', '\\u0141', '\\u0140', '\\u013F', '\\u013E', '\\u013D', '\\u013C',\\\n",
        "                         '\\u013B', '\\u013A', '\\u0139', '\\u0138', '\\u0137', '\\u0136', '\\u0135', '\\u0134', '\\u0131', '\\u0130', '\\u012F', '\\u012E', '\\u012D',\\\n",
        "                         '\\u012C', '\\u012B', '\\u012A', '\\u0129', '\\u0128', '\\u00EF', '\\u00EE', '\\u00ED', '\\u00EC', '\\u00CF', '\\u00CE', '\\u00CD', '\\u00CC',\\\n",
        "                         '\\u0127', '\\u0126', '\\u0125', '\\u0124', '\\u0123', '\\u0122', '\\u0121', '\\u0120', '\\u011F', '\\u011E', '\\u011D', '\\u011C', '\\u011B',\\\n",
        "                         '\\u011A', '\\u0119', '\\u0118', '\\u0117', '\\u0116', '\\u0115', '\\u0114', '\\u0113', '\\u0112', '\\u00EB', '\\u00EA', '\\u00E9', '\\u00E8',\\\n",
        "                         '\\u00CB', '\\u00CA', '\\u00C9', '\\u00C8', '\\u0111', '\\u0110', '\\u010F', '\\u010E', '\\u00F0', '\\u00D0', '\\u010D', '\\u010C', '\\u010B',\\\n",
        "                         '\\u010A', '\\u0109', '\\u0108', '\\u0107', '\\u0106', '\\u00E7', '\\u00C7', '\\u0105', '\\u0104', '\\u0103', '\\u0102', '\\u0101', '\\u0100',\\\n",
        "                         '\\u00E5', '\\u00E4', '\\u00E3', '\\u00E2', '\\u00E1', '\\u00E0', '\\u00C5', '\\u00C4', '\\u00C3', '\\u00C2', '\\u00C0', '\\u00C1']\n",
        "\n",
        "monosilabos = ['£', '¤', '¨', '«', '¬', '´', '¡']\n",
        "\n",
        "words_to_clean = stopwords.words('english')\n",
        "words_to_clean.append('')"
      ],
      "execution_count": null,
      "outputs": []
    },
    {
      "cell_type": "code",
      "metadata": {
        "id": "IbigDev7P4WL",
        "colab_type": "code",
        "colab": {}
      },
      "source": [
        "def remuevo_caracteres_de_lista (texto, lista):\n",
        "  for caracter in lista:\n",
        "    texto = texto.replace(caracter, ' ')\n",
        "  return texto\n",
        "\n",
        "def clean_texto (texto, caracteres_extraños, monosilabos):\n",
        "  texto = re.compile(r'https?://\\S+|www\\.\\S+').sub(r'',texto) #Removing urls\n",
        "  texto = html.unescape(texto)\n",
        "  texto = urllib.parse.unquote(str(texto))\n",
        "  texto = re.compile(r'<.*?>').sub(r'',texto) #Removing HTML tags\n",
        "  texto = re.compile(\"[\"\n",
        "                           u\"\\U0001F600-\\U0001F64F\"  # emoticons\n",
        "                           u\"\\U0001F300-\\U0001F5FF\"  # symbols & pictographs\n",
        "                           u\"\\U0001F680-\\U0001F6FF\"  # transport & map symbols\n",
        "                           u\"\\U0001F1E0-\\U0001F1FF\"  # flags (iOS)\n",
        "                           u\"\\U00002702-\\U000027B0\"\n",
        "                           u\"\\U000024C2-\\U0001F251\"\n",
        "                           \"]+\", flags = re.UNICODE).sub(r'', texto)\n",
        "  texto = texto.translate(str.maketrans('','',string.punctuation))\n",
        "  texto = texto.lower()\n",
        "  texto = texto.translate(str.maketrans('','','1234567890'))\n",
        "  texto = texto.replace('\\n', ' ').replace('å', ' ').replace('ê', ' ').replace('û', ' ').replace('[^\\w\\s]',' ').replace('÷', ' ').replace('ª', ' ')\\\n",
        "             .replace('ì', ' ').replace('¢', ' ').replace('\\x89', ' ').replace('\\x9d', ' ').replace('ã', ' ').replace('ï', ' ').replace('©', ' ')\\\n",
        "             .replace('ó', ' ').replace('ò', ' ').replace('â', ' ').replace('\\x9b', ' ').replace('\\x8a', ' ').replace('\\x93', ' ').replace('\\x8f', ' ')\\\n",
        "             .replace('\\x8c', ' ').replace('¼', ' ').replace('¥', ' ').replace('\\x92', ' ').replace('·', ' ').replace('\\x82', ' ').replace('Û', ' ')\\\n",
        "             .replace('Ó', ' ').replace('Ê', ' ').replace('Ï', ' ')\n",
        "  texto = remuevo_caracteres_de_lista(texto, caracteres_extraños)\n",
        "  texto = remuevo_caracteres_de_lista(texto, monosilabos)\n",
        "  return texto\n",
        "                        \n",
        "def custom_tokenize (notes, caracteres_extraños, monosilabos):\n",
        "  notes = [clean_texto(texto, caracteres_extraños, monosilabos) for texto in notes]\n",
        "  tokens = regexp_tokenize(' '.join(notes), pattern = '\\s+', gaps = True)\n",
        "  return tokens\n",
        "\n",
        "def paso_diccionario_word_frecuencia (lista):\n",
        "  dic = {}\n",
        "  for word in lista:\n",
        "    if word in dic.keys():\n",
        "      dic[word] += 1\n",
        "    else:\n",
        "      dic[word] = 1\n",
        "  return dic\n",
        "\n",
        "def saco_palabras_cortas (lista_tokens_frecuencia):\n",
        "  for i, word in enumerate(lista_tokens_frecuencia):\n",
        "    if (len(word[0]) < 3):\n",
        "      lista_tokens_frecuencia.pop(i)\n",
        "  return lista_tokens_frecuencia\n",
        "\n",
        "def sumo_listas (lista1, lista2):\n",
        "  for elemento in lista1:\n",
        "    if not elemento in lista2:\n",
        "      lista2.append(elemento)\n",
        "  return lista2"
      ],
      "execution_count": null,
      "outputs": []
    },
    {
      "cell_type": "markdown",
      "metadata": {
        "id": "XZx-V2BHCCTk",
        "colab_type": "text"
      },
      "source": [
        "## Limpieza Location"
      ]
    },
    {
      "cell_type": "code",
      "metadata": {
        "id": "IkgtaYajQZwc",
        "colab_type": "code",
        "colab": {}
      },
      "source": [
        "train['location'] = train.location.transform(lambda x: html.unescape(x))\n",
        "train['location'] = train.location.transform(lambda x: urllib.parse.unquote(str(x)))\n",
        "train['location'] = train.location.transform(lambda x: re.compile(r'<.*?>').sub(r'', x))\n",
        "train['location'] = train.location.transform(lambda x: x.translate(str.maketrans('','',string.punctuation)))\n",
        "train['location'] = train.location.transform(lambda x: x.lower())\n",
        "train['location'] = train.location.transform(lambda x: x.translate(str.maketrans('','','1234567890')))\n",
        "train['location'] = train.location.transform(lambda x: remuevo_caracteres_de_lista(x, caracteres_extraños))\n",
        "train['location'] = train.location.transform(lambda x: remuevo_caracteres_de_lista(x, monosilabos))"
      ],
      "execution_count": null,
      "outputs": []
    },
    {
      "cell_type": "code",
      "metadata": {
        "id": "09oKI3oHTSPj",
        "colab_type": "code",
        "colab": {}
      },
      "source": [
        "labelbinarizer = LabelBinarizer()\n",
        "X_location = labelbinarizer.fit_transform(train.location)"
      ],
      "execution_count": null,
      "outputs": []
    },
    {
      "cell_type": "code",
      "metadata": {
        "id": "QN_SivfjT0u1",
        "colab_type": "code",
        "colab": {
          "base_uri": "https://localhost:8080/"
        },
        "outputId": "254e32b9-40a7-4db5-feab-3880fe8db27b"
      },
      "source": [
        "np.shape(X_location)"
      ],
      "execution_count": null,
      "outputs": [
        {
          "output_type": "execute_result",
          "data": {
            "text/plain": [
              "(10876, 4134)"
            ]
          },
          "metadata": {
            "tags": []
          },
          "execution_count": 28
        }
      ]
    },
    {
      "cell_type": "markdown",
      "metadata": {
        "id": "9uv1jxuAY0q1",
        "colab_type": "text"
      },
      "source": [
        "## Limpieza Keyword"
      ]
    },
    {
      "cell_type": "code",
      "metadata": {
        "id": "s2o64b1iZMbK",
        "colab_type": "code",
        "colab": {}
      },
      "source": [
        "train['keyword'] = train.keyword.transform(lambda x: urllib.parse.unquote(str(x)))\n",
        "#mlb = MultiLabelBinarizer()\n",
        "#labelencoder = LabelEncoder()\n",
        "labelbinarizer = LabelBinarizer()\n",
        "X_keyword = labelbinarizer.fit_transform(train.keyword)"
      ],
      "execution_count": null,
      "outputs": []
    },
    {
      "cell_type": "code",
      "metadata": {
        "id": "kJMjhdR8dIhm",
        "colab_type": "code",
        "colab": {
          "base_uri": "https://localhost:8080/",
          "height": 34
        },
        "outputId": "90872b97-3310-4d63-970e-64339af100e9"
      },
      "source": [
        "np.shape(X_keyword)"
      ],
      "execution_count": null,
      "outputs": [
        {
          "output_type": "execute_result",
          "data": {
            "text/plain": [
              "(10876, 222)"
            ]
          },
          "metadata": {
            "tags": []
          },
          "execution_count": 30
        }
      ]
    },
    {
      "cell_type": "markdown",
      "metadata": {
        "id": "SVZ6Si14PslB",
        "colab_type": "text"
      },
      "source": [
        "## Limpieza Texto"
      ]
    },
    {
      "cell_type": "code",
      "metadata": {
        "id": "D-L3YHRSI704",
        "colab_type": "code",
        "colab": {
          "base_uri": "https://localhost:8080/",
          "height": 550
        },
        "outputId": "d3232507-cf91-4684-96c3-e8b4762d41d9"
      },
      "source": [
        "train['text_len'] = train.text.transform(lambda x: len(clean_texto(x, caracteres_extraños, monosilabos)))\n",
        "\n",
        "sns.set(font_scale = 1)\n",
        "plt.figure(figsize = (8, 6))\n",
        "\n",
        "plt.hist(train.text_len.values, bins = range(0, 200, 10))\n",
        "plt.xlabel('Number of characteres')\n",
        "plt.ylabel('Frecuency')\n",
        "plt.show()"
      ],
      "execution_count": null,
      "outputs": [
        {
          "output_type": "display_data",
          "data": {
            "image/png": "[encoded data removed]",
            "text/plain": [
              "<Figure size 800x600 with 1 Axes>"
            ]
          },
          "metadata": {
            "tags": []
          }
        }
      ]
    },
    {
      "cell_type": "code",
      "metadata": {
        "id": "J5isnBcGOa1k",
        "colab_type": "code",
        "colab": {}
      },
      "source": [
        "notes = list(train.text.values)\n",
        "#random.seed(42)\n",
        "#random.shuffle(notes)\n",
        "tokens = custom_tokenize(notes, caracteres_extraños, monosilabos)\n",
        "palabras_para_sacar = [word for word in tokens if len(word) < 3]\n",
        "words_to_clean = sumo_listas(palabras_para_sacar, words_to_clean)\n",
        "#tokens = sorted(tokens)\n",
        "#dic_tokens = paso_diccionario_word_frecuencia(tokens)\n",
        "#lista_tokens_frecuencia = list(dic_tokens.items())\n",
        "#lista_tokens_frecuencia_limpia = saco_palabras_cortas(lista_tokens_frecuencia)\n",
        "#lista_tokens_frecuencia_limpia = saco_palabras_cortas(lista_tokens_frecuencia_limpia)"
      ],
      "execution_count": null,
      "outputs": []
    },
    {
      "cell_type": "code",
      "metadata": {
        "id": "6jzm2xWHdn4W",
        "colab_type": "code",
        "colab": {}
      },
      "source": [
        "corpus = [clean_texto(texto, caracteres_extraños, monosilabos) for texto in notes]"
      ],
      "execution_count": null,
      "outputs": []
    },
    {
      "cell_type": "code",
      "metadata": {
        "id": "oZ8B5FEReceO",
        "colab_type": "code",
        "colab": {}
      },
      "source": [
        "vectorizer = CountVectorizer(analyzer = 'word', stop_words = words_to_clean, lowercase = True, strip_accents = 'ascii', ngram_range = (1, 1))\n",
        "X_texto = vectorizer.fit_transform(corpus)\n",
        "X_texto_array = X_texto.toarray()"
      ],
      "execution_count": null,
      "outputs": []
    },
    {
      "cell_type": "code",
      "metadata": {
        "id": "vTte7UJroOCW",
        "colab_type": "code",
        "colab": {
          "base_uri": "https://localhost:8080/",
          "height": 34
        },
        "outputId": "e0ef9f48-c061-4fe6-a4ce-e4aaac9296e8"
      },
      "source": [
        "np.shape(X_texto_array)"
      ],
      "execution_count": null,
      "outputs": [
        {
          "output_type": "execute_result",
          "data": {
            "text/plain": [
              "(10876, 20645)"
            ]
          },
          "metadata": {
            "tags": []
          },
          "execution_count": 35
        }
      ]
    },
    {
      "cell_type": "markdown",
      "metadata": {
        "id": "J_H0JteC018K",
        "colab_type": "text"
      },
      "source": [
        "# Modelos"
      ]
    },
    {
      "cell_type": "code",
      "metadata": {
        "id": "dRKzToKADj33",
        "colab_type": "code",
        "colab": {
          "base_uri": "https://localhost:8080/",
          "height": 34
        },
        "outputId": "9f6cdeee-bd99-4cb3-b907-d063ca8ce6ae"
      },
      "source": [
        "X_text_len = train.text_len.values\n",
        "X_text_len = np.reshape(X_text_len, (10876, 1))\n",
        "np.shape(X_text_len)"
      ],
      "execution_count": null,
      "outputs": [
        {
          "output_type": "execute_result",
          "data": {
            "text/plain": [
              "(10876, 1)"
            ]
          },
          "metadata": {
            "tags": []
          },
          "execution_count": 36
        }
      ]
    },
    {
      "cell_type": "code",
      "metadata": {
        "id": "9fxmSatvtWNj",
        "colab_type": "code",
        "colab": {}
      },
      "source": [
        "y = train.target.values\n",
        "X = X_texto_array\n",
        "X = np.hstack((X, X_keyword))\n",
        "#X = np.hstack((X, X_text_len))\n",
        "X = np.hstack((X, X_location))"
      ],
      "execution_count": null,
      "outputs": []
    },
    {
      "cell_type": "code",
      "metadata": {
        "id": "MmqOn-9kEs5F",
        "colab_type": "code",
        "colab": {
          "base_uri": "https://localhost:8080/",
          "height": 34
        },
        "outputId": "b0811e09-c769-487b-aac0-381c15dd90d2"
      },
      "source": [
        "np.shape(y)"
      ],
      "execution_count": null,
      "outputs": [
        {
          "output_type": "execute_result",
          "data": {
            "text/plain": [
              "(10876,)"
            ]
          },
          "metadata": {
            "tags": []
          },
          "execution_count": 38
        }
      ]
    },
    {
      "cell_type": "code",
      "metadata": {
        "id": "yGFC1rdPurUa",
        "colab_type": "code",
        "colab": {
          "base_uri": "https://localhost:8080/",
          "height": 34
        },
        "outputId": "0df12c1d-7319-4c88-90a8-5b13394fa6c6"
      },
      "source": [
        "np.shape(X)"
      ],
      "execution_count": null,
      "outputs": [
        {
          "output_type": "execute_result",
          "data": {
            "text/plain": [
              "(10876, 25001)"
            ]
          },
          "metadata": {
            "tags": []
          },
          "execution_count": 39
        }
      ]
    },
    {
      "cell_type": "code",
      "metadata": {
        "id": "oMZccOrKoo8T",
        "colab_type": "code",
        "colab": {}
      },
      "source": [
        "X_fit = X[0:7613]\n",
        "X_submit = X[7613:]\n",
        "y_fit = y[0:7613]\n",
        "y_submit = y[7613:]"
      ],
      "execution_count": null,
      "outputs": []
    },
    {
      "cell_type": "code",
      "metadata": {
        "id": "xuwT4kEO0XDn",
        "colab_type": "code",
        "colab": {
          "base_uri": "https://localhost:8080/",
          "height": 85
        },
        "outputId": "aea048e5-2d6f-4ae0-b0d1-0b4f52e25f46"
      },
      "source": [
        "#X_train, X_test, y_train, y_test = train_test_split(X_fit, y, test_size = 0.2, random_state = 123)\n",
        "X_train = X_fit[0:6090]\n",
        "X_test = X_fit[6090:]\n",
        "y_train = y_fit[0:6090]\n",
        "y_test = y_fit[6090:]\n",
        "print(np.shape(X_train))\n",
        "print(np.shape(X_test))\n",
        "print(np.shape(y_train))\n",
        "print(np.shape(y_test))"
      ],
      "execution_count": null,
      "outputs": [
        {
          "output_type": "stream",
          "text": [
            "(6090, 25001)\n",
            "(1523, 25001)\n",
            "(6090,)\n",
            "(1523,)\n"
          ],
          "name": "stdout"
        }
      ]
    },
    {
      "cell_type": "markdown",
      "metadata": {
        "id": "v2E9W1UZ_Qik",
        "colab_type": "text"
      },
      "source": [
        "# KNN"
      ]
    },
    {
      "cell_type": "code",
      "metadata": {
        "id": "n9uiFOH4_RWP",
        "colab_type": "code",
        "colab": {
          "base_uri": "https://localhost:8080/"
        },
        "outputId": "5991f707-6ee3-4eea-81c2-1fce01222406"
      },
      "source": [
        "knn = KNeighborsClassifier(n_neighbors = 7)\n",
        "knn.fit(X_train, y_train)\n",
        "print('Accuracy of K-NN classifier on training set: {:.2f}'.format(knn.score(X_train, y_train)))\n",
        "print('Accuracy of K-NN classifier on test set: {:.2f}'.format(knn.score(X_test, y_test)))"
      ],
      "execution_count": null,
      "outputs": [
        {
          "output_type": "stream",
          "text": [
            "Accuracy of K-NN classifier on training set: 0.75\n",
            "Accuracy of K-NN classifier on test set: 0.71\n"
          ],
          "name": "stdout"
        }
      ]
    },
    {
      "cell_type": "code",
      "metadata": {
        "id": "_97id5egeojU",
        "colab_type": "code",
        "colab": {}
      },
      "source": [
        "knn_pred = knn.predict(X_submit)"
      ],
      "execution_count": null,
      "outputs": []
    },
    {
      "cell_type": "code",
      "metadata": {
        "id": "491v3OMpy2A2",
        "colab_type": "code",
        "colab": {}
      },
      "source": [
        "resultados_knn = resultados[['id']]\n",
        "resultados_knn['target'] = knn_pred"
      ],
      "execution_count": null,
      "outputs": []
    },
    {
      "cell_type": "code",
      "metadata": {
        "id": "zExQr9hwzW9A",
        "colab_type": "code",
        "colab": {
          "base_uri": "https://localhost:8080/"
        },
        "outputId": "2e5f7c49-b408-4115-c23a-4f3e137ca4c9"
      },
      "source": [
        "resultados_knn.to_csv('submission_1_knn.csv', header = True, index = False) \n",
        "files.download('submission_1_knn.csv')"
      ],
      "execution_count": null,
      "outputs": [
        {
          "output_type": "display_data",
          "data": {
            "application/javascript": [
              "\n",
              "    async function download(id, filename, size) {\n",
              "      if (!google.colab.kernel.accessAllowed) {\n",
              "        return;\n",
              "      }\n",
              "      const div = document.createElement('div');\n",
              "      const label = document.createElement('label');\n",
              "      label.textContent = `Downloading \"${filename}\": `;\n",
              "      div.appendChild(label);\n",
              "      const progress = document.createElement('progress');\n",
              "      progress.max = size;\n",
              "      div.appendChild(progress);\n",
              "      document.body.appendChild(div);\n",
              "\n",
              "      const buffers = [];\n",
              "      let downloaded = 0;\n",
              "\n",
              "      const channel = await google.colab.kernel.comms.open(id);\n",
              "      // Send a message to notify the kernel that we're ready.\n",
              "      channel.send({})\n",
              "\n",
              "      for await (const message of channel.messages) {\n",
              "        // Send a message to notify the kernel that we're ready.\n",
              "        channel.send({})\n",
              "        if (message.buffers) {\n",
              "          for (const buffer of message.buffers) {\n",
              "            buffers.push(buffer);\n",
              "            downloaded += buffer.byteLength;\n",
              "            progress.value = downloaded;\n",
              "          }\n",
              "        }\n",
              "      }\n",
              "      const blob = new Blob(buffers, {type: 'application/binary'});\n",
              "      const a = document.createElement('a');\n",
              "      a.href = window.URL.createObjectURL(blob);\n",
              "      a.download = filename;\n",
              "      div.appendChild(a);\n",
              "      a.click();\n",
              "      div.remove();\n",
              "    }\n",
              "  "
            ],
            "text/plain": [
              "<IPython.core.display.Javascript object>"
            ]
          },
          "metadata": {
            "tags": []
          }
        },
        {
          "output_type": "display_data",
          "data": {
            "application/javascript": [
              "download(\"download_91689f31-f1c0-4c95-9ca2-5cb85aabc063\", \"submission_1_knn.csv\", 22746)"
            ],
            "text/plain": [
              "<IPython.core.display.Javascript object>"
            ]
          },
          "metadata": {
            "tags": []
          }
        }
      ]
    }
  ]
}