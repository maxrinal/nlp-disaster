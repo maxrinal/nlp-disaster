{
  "nbformat": 4,
  "nbformat_minor": 0,
  "metadata": {
    "colab": {
      "name": "CNN_Para_Ensamble.ipynb",
      "provenance": [],
      "authorship_tag": "ABX9TyONE0wSufIiOoOVDGEzLjFM",
      "include_colab_link": true
    },
    "kernelspec": {
      "name": "python3",
      "display_name": "Python 3"
    }
  },
  "cells": [
    {
      "cell_type": "markdown",
      "metadata": {
        "id": "view-in-github",
        "colab_type": "text"
      },
      "source": [
        "<a href=\"https://colab.research.google.com/github/maxrinal/nlp-disaster/blob/master/TP2_CODES/DiCaro_97582/CNN_Para_Ensamble.ipynb\" target=\"_parent\"><img src=\"https://colab.research.google.com/assets/colab-badge.svg\" alt=\"Open In Colab\"/></a>"
      ]
    },
    {
      "cell_type": "markdown",
      "metadata": {
        "id": "HGL2yWTIxh00",
        "colab_type": "text"
      },
      "source": [
        "# **Machine Learning**"
      ]
    },
    {
      "cell_type": "markdown",
      "metadata": {
        "id": "Gp7EnJRJXdvE",
        "colab_type": "text"
      },
      "source": [
        "## Importo Librerías"
      ]
    },
    {
      "cell_type": "code",
      "metadata": {
        "id": "C0BB1vz_xZJ6",
        "colab_type": "code",
        "colab": {
          "base_uri": "https://localhost:8080/",
          "height": 34
        },
        "outputId": "b6e6c6d8-933c-4aa7-fcb1-e8ba985ce660"
      },
      "source": [
        "#! python -m textblob.download_corpora\n",
        "#!pip install --user -U nltk\n",
        "#nltk.download('punkt')\n",
        "#!pip install kaggle\n",
        "\n",
        "import pandas as pd\n",
        "import numpy as np\n",
        "import seaborn as sns\n",
        "import matplotlib.pyplot as plt\n",
        "%matplotlib inline\n",
        "\n",
        "from textblob import TextBlob\n",
        "from wordcloud import WordCloud\n",
        "import string,re\n",
        "import urllib.parse\n",
        "import nltk\n",
        "from nltk.corpus import stopwords\n",
        "from nltk import word_tokenize\n",
        "from nltk .tokenize.regexp import regexp_tokenize\n",
        "import spacy\n",
        "import keras\n",
        "import html\n",
        "import re\n",
        "import urllib\n",
        "import warnings\n",
        "import time\n",
        "import random\n",
        "\n",
        "from google.colab import drive\n",
        "from google.colab import files\n",
        "drive.mount('/content/drive')"
      ],
      "execution_count": null,
      "outputs": [
        {
          "output_type": "stream",
          "text": [
            "Drive already mounted at /content/drive; to attempt to forcibly remount, call drive.mount(\"/content/drive\", force_remount=True).\n"
          ],
          "name": "stdout"
        }
      ]
    },
    {
      "cell_type": "code",
      "metadata": {
        "id": "Pbof4qhP7XCa",
        "colab_type": "code",
        "colab": {
          "base_uri": "https://localhost:8080/",
          "height": 51
        },
        "outputId": "054c5cef-4982-4e59-8588-bf789ac53fab"
      },
      "source": [
        "from sklearn.preprocessing import MultiLabelBinarizer\n",
        "from sklearn.preprocessing import LabelBinarizer\n",
        "from sklearn.preprocessing import LabelEncoder\n",
        "from sklearn.ensemble import RandomForestRegressor\n",
        "from sklearn.metrics import mean_squared_error\n",
        "from sklearn import tree\n",
        "from sklearn.model_selection import train_test_split\n",
        "from sklearn.metrics import f1_score\n",
        "from sklearn.feature_extraction.text import CountVectorizer\n",
        "nltk.download('stopwords')\n",
        "\n",
        "from sklearn.neighbors import KNeighborsClassifier\n",
        "from sklearn.preprocessing import StandardScaler"
      ],
      "execution_count": null,
      "outputs": [
        {
          "output_type": "stream",
          "text": [
            "[nltk_data] Downloading package stopwords to /root/nltk_data...\n",
            "[nltk_data]   Package stopwords is already up-to-date!\n"
          ],
          "name": "stdout"
        }
      ]
    },
    {
      "cell_type": "code",
      "metadata": {
        "id": "oSsBJW_-x_K5",
        "colab_type": "code",
        "colab": {}
      },
      "source": [
        "pd.options.display.max_columns = 100\n",
        "pd.options.display.max_rows = 100\n",
        "\n",
        "plt.style.use('default') #Haciendo los gráficos más bonitos en matplotlib\n",
        "\n",
        "sns.set(style = 'whitegrid') #Seteando tipo de grid en sns\n",
        "\n",
        "pd.options.display.float_format = '{:20,.2f}'.format #Suprimimos la notacion científica en los outputs\n",
        "\n",
        "warnings.filterwarnings(\"ignore\")"
      ],
      "execution_count": null,
      "outputs": []
    },
    {
      "cell_type": "code",
      "metadata": {
        "id": "xChC8k0oXSfG",
        "colab_type": "code",
        "colab": {
          "base_uri": "https://localhost:8080/",
          "height": 85
        },
        "outputId": "9591395c-5331-4cb6-826a-253f80c536fd"
      },
      "source": [
        "print('re version', re.__version__)\n",
        "print('nltk version', nltk.__version__)\n",
        "print('spacy version', spacy.__version__)\n",
        "print('keras version', keras.__version__)"
      ],
      "execution_count": null,
      "outputs": [
        {
          "output_type": "stream",
          "text": [
            "re version 2.2.1\n",
            "nltk version 3.2.5\n",
            "spacy version 2.2.4\n",
            "keras version 2.4.3\n"
          ],
          "name": "stdout"
        }
      ]
    },
    {
      "cell_type": "markdown",
      "metadata": {
        "id": "efmkaP_ZXWki",
        "colab_type": "text"
      },
      "source": [
        "## Importo Datos"
      ]
    },
    {
      "cell_type": "code",
      "metadata": {
        "id": "mFoeWogPyKiJ",
        "colab_type": "code",
        "colab": {}
      },
      "source": [
        "train_original = pd.read_csv('https://raw.githubusercontent.com/maxrinal/nlp-disaster/master/train.csv', encoding = 'utf-8')\n",
        "test_original = pd.read_csv('https://raw.githubusercontent.com/maxrinal/nlp-disaster/master/test.csv', encoding = 'utf-8')"
      ],
      "execution_count": null,
      "outputs": []
    },
    {
      "cell_type": "code",
      "metadata": {
        "id": "5XFoPZOIyUsy",
        "colab_type": "code",
        "colab": {
          "base_uri": "https://localhost:8080/",
          "height": 204
        },
        "outputId": "31b3676b-cb03-40f3-f076-bbccfd7f0648"
      },
      "source": [
        "test_original.head()"
      ],
      "execution_count": null,
      "outputs": [
        {
          "output_type": "execute_result",
          "data": {
            "text/html": [
              "<div>\n",
              "<style scoped>\n",
              "    .dataframe tbody tr th:only-of-type {\n",
              "        vertical-align: middle;\n",
              "    }\n",
              "\n",
              "    .dataframe tbody tr th {\n",
              "        vertical-align: top;\n",
              "    }\n",
              "\n",
              "    .dataframe thead th {\n",
              "        text-align: right;\n",
              "    }\n",
              "</style>\n",
              "<table border=\"1\" class=\"dataframe\">\n",
              "  <thead>\n",
              "    <tr style=\"text-align: right;\">\n",
              "      <th></th>\n",
              "      <th>id</th>\n",
              "      <th>keyword</th>\n",
              "      <th>location</th>\n",
              "      <th>text</th>\n",
              "    </tr>\n",
              "  </thead>\n",
              "  <tbody>\n",
              "    <tr>\n",
              "      <th>0</th>\n",
              "      <td>0</td>\n",
              "      <td>NaN</td>\n",
              "      <td>NaN</td>\n",
              "      <td>Just happened a terrible car crash</td>\n",
              "    </tr>\n",
              "    <tr>\n",
              "      <th>1</th>\n",
              "      <td>2</td>\n",
              "      <td>NaN</td>\n",
              "      <td>NaN</td>\n",
              "      <td>Heard about #earthquake is different cities, s...</td>\n",
              "    </tr>\n",
              "    <tr>\n",
              "      <th>2</th>\n",
              "      <td>3</td>\n",
              "      <td>NaN</td>\n",
              "      <td>NaN</td>\n",
              "      <td>there is a forest fire at spot pond, geese are...</td>\n",
              "    </tr>\n",
              "    <tr>\n",
              "      <th>3</th>\n",
              "      <td>9</td>\n",
              "      <td>NaN</td>\n",
              "      <td>NaN</td>\n",
              "      <td>Apocalypse lighting. #Spokane #wildfires</td>\n",
              "    </tr>\n",
              "    <tr>\n",
              "      <th>4</th>\n",
              "      <td>11</td>\n",
              "      <td>NaN</td>\n",
              "      <td>NaN</td>\n",
              "      <td>Typhoon Soudelor kills 28 in China and Taiwan</td>\n",
              "    </tr>\n",
              "  </tbody>\n",
              "</table>\n",
              "</div>"
            ],
            "text/plain": [
              "   id keyword location                                               text\n",
              "0   0     NaN      NaN                 Just happened a terrible car crash\n",
              "1   2     NaN      NaN  Heard about #earthquake is different cities, s...\n",
              "2   3     NaN      NaN  there is a forest fire at spot pond, geese are...\n",
              "3   9     NaN      NaN           Apocalypse lighting. #Spokane #wildfires\n",
              "4  11     NaN      NaN      Typhoon Soudelor kills 28 in China and Taiwan"
            ]
          },
          "metadata": {
            "tags": []
          },
          "execution_count": 43
        }
      ]
    },
    {
      "cell_type": "code",
      "metadata": {
        "id": "snHDJKyNyTH4",
        "colab_type": "code",
        "colab": {}
      },
      "source": [
        "train = pd.concat([train_original, test_original])[['id', 'keyword', 'location', 'text', 'target']]"
      ],
      "execution_count": null,
      "outputs": []
    },
    {
      "cell_type": "code",
      "metadata": {
        "id": "7Gq2z-tNSAwi",
        "colab_type": "code",
        "colab": {
          "base_uri": "https://localhost:8080/",
          "height": 68
        },
        "outputId": "c9cf4ede-f0ba-4de6-c46b-403876b7258f"
      },
      "source": [
        "set_train_franco = pd.read_csv('/content/drive/My Drive/OrgaDeDatos/SetFranco/set_train.csv')\n",
        "set_test_franco = pd.read_csv('/content/drive/My Drive/OrgaDeDatos/SetFranco/set_validation.csv')\n",
        "set_submit_franco = pd.read_csv('/content/drive/My Drive/OrgaDeDatos/SetFranco/set_test.csv')\n",
        "\n",
        "train_franco = pd.concat([set_train_franco, set_test_franco, set_submit_franco])\n",
        "train_franco.drop(columns= ['target'], inplace= True)\n",
        "\n",
        "print(len(set_train_franco))\n",
        "print(len(set_test_franco))\n",
        "print(len(train) == len(train_franco))\n",
        "\n",
        "train = train_franco.merge(train, left_on= 'id', right_on= 'id', how= 'left')"
      ],
      "execution_count": null,
      "outputs": [
        {
          "output_type": "stream",
          "text": [
            "6090\n",
            "1523\n",
            "True\n"
          ],
          "name": "stdout"
        }
      ]
    },
    {
      "cell_type": "code",
      "metadata": {
        "id": "VDLYLC-onMvZ",
        "colab_type": "code",
        "colab": {
          "base_uri": "https://localhost:8080/",
          "height": 35
        },
        "outputId": "ddda948c-232f-4026-aed0-fb9ab01b41bf"
      },
      "source": [
        "franco_features = train_franco.columns.tolist()\n",
        "franco_features.pop(0)"
      ],
      "execution_count": null,
      "outputs": [
        {
          "output_type": "execute_result",
          "data": {
            "application/vnd.google.colaboratory.intrinsic+json": {
              "type": "string"
            },
            "text/plain": [
              "'id'"
            ]
          },
          "metadata": {
            "tags": []
          },
          "execution_count": 46
        }
      ]
    },
    {
      "cell_type": "markdown",
      "metadata": {
        "id": "LYAEGmosI4ZV",
        "colab_type": "text"
      },
      "source": [
        "# Limpieza"
      ]
    },
    {
      "cell_type": "markdown",
      "metadata": {
        "id": "RIRKrrDGP0kD",
        "colab_type": "text"
      },
      "source": [
        "### Funciones"
      ]
    },
    {
      "cell_type": "code",
      "metadata": {
        "id": "btZgQ_KD-VVP",
        "colab_type": "code",
        "colab": {}
      },
      "source": [
        "caracteres_extraños = ['\\u017E', '\\u017D', '\\u017C', '\\u017B', '\\u017A', '\\u0179', '\\u0178', '\\u0177', '\\u0176', '\\u00FF', '\\u00FD', '\\u00DD', '\\u0175',\\\n",
        "                         '\\u0174', '\\u0173', '\\u0172', '\\u0171', '\\u0170', '\\u016F', '\\u016E', '\\u016D', '\\u016C', '\\u016B', '\\u016A', '\\u0169', '\\u0168',\\\n",
        "                         '\\u00FC', '\\u00FB', '\\u00FA', '\\u00F9', '\\u00DC', '\\u00DB', '\\u00DA', '\\u00D9', '\\u0167', '\\u0166', '\\u0165', '\\u0164', '\\u0163',\\\n",
        "                         '\\u0162', '\\u017F', '\\u0161', '\\u0160', '\\u015F', '\\u015E', '\\u015D', '\\u015C', '\\u015B', '\\u015A', '\\u0159', '\\u0158', '\\u0157',\\\n",
        "                         '\\u0156', '\\u0155', '\\u0154', '\\u0151', '\\u0150', '\\u014F', '\\u014E', '\\u014D', '\\u014C', '\\u00F8', '\\u00F6', '\\u00F5', '\\u00F4',\\\n",
        "                         '\\u00F3', '\\u00F2', '\\u00D8', '\\u00D6', '\\u00D5', '\\u00D4', '\\u00D3', '\\u00D2', '\\u014B', '\\u014A', '\\u0149', '\\u0148', '\\u0147',\\\n",
        "                         '\\u0146', '\\u0145', '\\u0144', '\\u0143', '\\u00F1', '\\u00D1', '\\u0142', '\\u0141', '\\u0140', '\\u013F', '\\u013E', '\\u013D', '\\u013C',\\\n",
        "                         '\\u013B', '\\u013A', '\\u0139', '\\u0138', '\\u0137', '\\u0136', '\\u0135', '\\u0134', '\\u0131', '\\u0130', '\\u012F', '\\u012E', '\\u012D',\\\n",
        "                         '\\u012C', '\\u012B', '\\u012A', '\\u0129', '\\u0128', '\\u00EF', '\\u00EE', '\\u00ED', '\\u00EC', '\\u00CF', '\\u00CE', '\\u00CD', '\\u00CC',\\\n",
        "                         '\\u0127', '\\u0126', '\\u0125', '\\u0124', '\\u0123', '\\u0122', '\\u0121', '\\u0120', '\\u011F', '\\u011E', '\\u011D', '\\u011C', '\\u011B',\\\n",
        "                         '\\u011A', '\\u0119', '\\u0118', '\\u0117', '\\u0116', '\\u0115', '\\u0114', '\\u0113', '\\u0112', '\\u00EB', '\\u00EA', '\\u00E9', '\\u00E8',\\\n",
        "                         '\\u00CB', '\\u00CA', '\\u00C9', '\\u00C8', '\\u0111', '\\u0110', '\\u010F', '\\u010E', '\\u00F0', '\\u00D0', '\\u010D', '\\u010C', '\\u010B',\\\n",
        "                         '\\u010A', '\\u0109', '\\u0108', '\\u0107', '\\u0106', '\\u00E7', '\\u00C7', '\\u0105', '\\u0104', '\\u0103', '\\u0102', '\\u0101', '\\u0100',\\\n",
        "                         '\\u00E5', '\\u00E4', '\\u00E3', '\\u00E2', '\\u00E1', '\\u00E0', '\\u00C5', '\\u00C4', '\\u00C3', '\\u00C2', '\\u00C0', '\\u00C1']\n",
        "\n",
        "monosilabos = ['£', '¤', '¨', '«', '¬', '´', '¡']\n",
        "\n",
        "words_to_clean = stopwords.words('english')\n",
        "words_to_clean.append('')"
      ],
      "execution_count": null,
      "outputs": []
    },
    {
      "cell_type": "code",
      "metadata": {
        "id": "IbigDev7P4WL",
        "colab_type": "code",
        "colab": {}
      },
      "source": [
        "def remuevo_caracteres_de_lista (texto, lista):\n",
        "  for caracter in lista:\n",
        "    texto = texto.replace(caracter, ' ')\n",
        "  return texto\n",
        "\n",
        "def clean_texto (texto, caracteres_extraños, monosilabos):\n",
        "  texto = re.compile(r'https?://\\S+|www\\.\\S+').sub(r'',texto) #Removing urls\n",
        "  texto = html.unescape(texto)\n",
        "  texto = urllib.parse.unquote(str(texto))\n",
        "  texto = re.compile(r'<.*?>').sub(r'',texto) #Removing HTML tags\n",
        "  texto = re.compile(\"[\"\n",
        "                           u\"\\U0001F600-\\U0001F64F\"  # emoticons\n",
        "                           u\"\\U0001F300-\\U0001F5FF\"  # symbols & pictographs\n",
        "                           u\"\\U0001F680-\\U0001F6FF\"  # transport & map symbols\n",
        "                           u\"\\U0001F1E0-\\U0001F1FF\"  # flags (iOS)\n",
        "                           u\"\\U00002702-\\U000027B0\"\n",
        "                           u\"\\U000024C2-\\U0001F251\"\n",
        "                           \"]+\", flags = re.UNICODE).sub(r'', texto)\n",
        "  texto = texto.translate(str.maketrans('','',string.punctuation))\n",
        "  texto = texto.lower()\n",
        "  texto = texto.translate(str.maketrans('','','1234567890'))\n",
        "  texto = texto.replace('\\n', ' ').replace('å', ' ').replace('ê', ' ').replace('û', ' ').replace('[^\\w\\s]',' ').replace('÷', ' ').replace('ª', ' ')\\\n",
        "             .replace('ì', ' ').replace('¢', ' ').replace('\\x89', ' ').replace('\\x9d', ' ').replace('ã', ' ').replace('ï', ' ').replace('©', ' ')\\\n",
        "             .replace('ó', ' ').replace('ò', ' ').replace('â', ' ').replace('\\x9b', ' ').replace('\\x8a', ' ').replace('\\x93', ' ').replace('\\x8f', ' ')\\\n",
        "             .replace('\\x8c', ' ').replace('¼', ' ').replace('¥', ' ').replace('\\x92', ' ').replace('·', ' ').replace('\\x82', ' ').replace('Û', ' ')\\\n",
        "             .replace('Ó', ' ').replace('Ê', ' ').replace('Ï', ' ')\n",
        "  texto = remuevo_caracteres_de_lista(texto, caracteres_extraños)\n",
        "  texto = remuevo_caracteres_de_lista(texto, monosilabos)\n",
        "  return texto\n",
        "                        \n",
        "def custom_tokenize (notes, caracteres_extraños, monosilabos):\n",
        "  notes = [clean_texto(texto, caracteres_extraños, monosilabos) for texto in notes]\n",
        "  tokens = regexp_tokenize(' '.join(notes), pattern = '\\s+', gaps = True)\n",
        "  return tokens\n",
        "\n",
        "def paso_diccionario_word_frecuencia (lista):\n",
        "  dic = {}\n",
        "  for word in lista:\n",
        "    if word in dic.keys():\n",
        "      dic[word] += 1\n",
        "    else:\n",
        "      dic[word] = 1\n",
        "  return dic\n",
        "\n",
        "def saco_palabras_cortas (lista_tokens_frecuencia):\n",
        "  for i, word in enumerate(lista_tokens_frecuencia):\n",
        "    if (len(word[0]) < 3):\n",
        "      lista_tokens_frecuencia.pop(i)\n",
        "  return lista_tokens_frecuencia\n",
        "\n",
        "def sumo_listas (lista1, lista2):\n",
        "  for elemento in lista1:\n",
        "    if not elemento in lista2:\n",
        "      lista2.append(elemento)\n",
        "  return lista2"
      ],
      "execution_count": null,
      "outputs": []
    },
    {
      "cell_type": "markdown",
      "metadata": {
        "id": "XZx-V2BHCCTk",
        "colab_type": "text"
      },
      "source": [
        "## Limpieza Location"
      ]
    },
    {
      "cell_type": "code",
      "metadata": {
        "id": "IkgtaYajQZwc",
        "colab_type": "code",
        "colab": {}
      },
      "source": [
        "train['location'] = train.location.transform(lambda x: html.unescape(x))\n",
        "train['location'] = train.location.transform(lambda x: urllib.parse.unquote(str(x)))\n",
        "train['location'] = train.location.transform(lambda x: re.compile(r'<.*?>').sub(r'', x))\n",
        "train['location'] = train.location.transform(lambda x: x.translate(str.maketrans('','',string.punctuation)))\n",
        "train['location'] = train.location.transform(lambda x: x.lower())\n",
        "train['location'] = train.location.transform(lambda x: x.translate(str.maketrans('','','1234567890')))\n",
        "train['location'] = train.location.transform(lambda x: remuevo_caracteres_de_lista(x, caracteres_extraños))\n",
        "train['location'] = train.location.transform(lambda x: remuevo_caracteres_de_lista(x, monosilabos))"
      ],
      "execution_count": null,
      "outputs": []
    },
    {
      "cell_type": "code",
      "metadata": {
        "id": "09oKI3oHTSPj",
        "colab_type": "code",
        "colab": {}
      },
      "source": [
        "labelbinarizer = LabelBinarizer()\n",
        "X_location = labelbinarizer.fit_transform(train.location)"
      ],
      "execution_count": null,
      "outputs": []
    },
    {
      "cell_type": "code",
      "metadata": {
        "id": "QN_SivfjT0u1",
        "colab_type": "code",
        "colab": {
          "base_uri": "https://localhost:8080/"
        },
        "outputId": "f14db872-e3e2-417b-fffe-bafb602ad35b"
      },
      "source": [
        "np.shape(X_location)"
      ],
      "execution_count": null,
      "outputs": [
        {
          "output_type": "execute_result",
          "data": {
            "text/plain": [
              "(10876, 4134)"
            ]
          },
          "metadata": {
            "tags": []
          },
          "execution_count": 51
        }
      ]
    },
    {
      "cell_type": "markdown",
      "metadata": {
        "id": "9uv1jxuAY0q1",
        "colab_type": "text"
      },
      "source": [
        "## Limpieza Keyword"
      ]
    },
    {
      "cell_type": "code",
      "metadata": {
        "id": "s2o64b1iZMbK",
        "colab_type": "code",
        "colab": {}
      },
      "source": [
        "train['keyword'] = train.keyword.transform(lambda x: urllib.parse.unquote(str(x)))\n",
        "#mlb = MultiLabelBinarizer()\n",
        "#labelencoder = LabelEncoder()\n",
        "labelbinarizer = LabelBinarizer()\n",
        "X_keyword = labelbinarizer.fit_transform(train.keyword)"
      ],
      "execution_count": null,
      "outputs": []
    },
    {
      "cell_type": "code",
      "metadata": {
        "id": "kJMjhdR8dIhm",
        "colab_type": "code",
        "colab": {
          "base_uri": "https://localhost:8080/"
        },
        "outputId": "7a64a2b4-f8ec-4fc7-b92b-5989acfad2ad"
      },
      "source": [
        "np.shape(X_keyword)"
      ],
      "execution_count": null,
      "outputs": [
        {
          "output_type": "execute_result",
          "data": {
            "text/plain": [
              "(10876, 222)"
            ]
          },
          "metadata": {
            "tags": []
          },
          "execution_count": 53
        }
      ]
    },
    {
      "cell_type": "markdown",
      "metadata": {
        "id": "SVZ6Si14PslB",
        "colab_type": "text"
      },
      "source": [
        "## Limpieza Texto"
      ]
    },
    {
      "cell_type": "code",
      "metadata": {
        "id": "D-L3YHRSI704",
        "colab_type": "code",
        "colab": {
          "base_uri": "https://localhost:8080/"
        },
        "outputId": "2913b89e-82c3-4468-d3e5-287c91f7e3cc"
      },
      "source": [
        "train['text_len'] = train.text.transform(lambda x: len(clean_texto(x, caracteres_extraños, monosilabos)))\n",
        "\n",
        "sns.set(font_scale = 1)\n",
        "plt.figure(figsize = (8, 6))\n",
        "\n",
        "plt.hist(train.text_len.values, bins = range(0, 200, 10))\n",
        "plt.xlabel('Number of characteres')\n",
        "plt.ylabel('Frecuency')\n",
        "plt.show()"
      ],
      "execution_count": null,
      "outputs": [
        {
          "output_type": "display_data",
          "data": {
            "image/png": "[encoded data removed]",
            "text/plain": [
              "<Figure size 800x600 with 1 Axes>"
            ]
          },
          "metadata": {
            "tags": []
          }
        }
      ]
    },
    {
      "cell_type": "code",
      "metadata": {
        "id": "J5isnBcGOa1k",
        "colab_type": "code",
        "colab": {}
      },
      "source": [
        "notes = list(train.text.values)\n",
        "#random.seed(42)\n",
        "#random.shuffle(notes)\n",
        "tokens = custom_tokenize(notes, caracteres_extraños, monosilabos)\n",
        "palabras_para_sacar = [word for word in tokens if len(word) < 3]\n",
        "words_to_clean = sumo_listas(palabras_para_sacar, words_to_clean)\n",
        "#tokens = sorted(tokens)\n",
        "#dic_tokens = paso_diccionario_word_frecuencia(tokens)\n",
        "#lista_tokens_frecuencia = list(dic_tokens.items())\n",
        "#lista_tokens_frecuencia_limpia = saco_palabras_cortas(lista_tokens_frecuencia)\n",
        "#lista_tokens_frecuencia_limpia = saco_palabras_cortas(lista_tokens_frecuencia_limpia)"
      ],
      "execution_count": null,
      "outputs": []
    },
    {
      "cell_type": "code",
      "metadata": {
        "id": "6jzm2xWHdn4W",
        "colab_type": "code",
        "colab": {}
      },
      "source": [
        "corpus = [clean_texto(texto, caracteres_extraños, monosilabos) for texto in notes]"
      ],
      "execution_count": null,
      "outputs": []
    },
    {
      "cell_type": "code",
      "metadata": {
        "id": "oZ8B5FEReceO",
        "colab_type": "code",
        "colab": {}
      },
      "source": [
        "vectorizer = CountVectorizer(analyzer = 'word', stop_words = words_to_clean, lowercase = True, strip_accents = 'ascii', ngram_range = (1, 1))\n",
        "X_texto_vectorizer = vectorizer.fit_transform(corpus)\n",
        "X_texto = X_texto_vectorizer.toarray()"
      ],
      "execution_count": null,
      "outputs": []
    },
    {
      "cell_type": "code",
      "metadata": {
        "id": "vTte7UJroOCW",
        "colab_type": "code",
        "colab": {
          "base_uri": "https://localhost:8080/"
        },
        "outputId": "a68f539b-c700-4763-d555-30189bc7dc59"
      },
      "source": [
        "np.shape(X_texto)"
      ],
      "execution_count": null,
      "outputs": [
        {
          "output_type": "execute_result",
          "data": {
            "text/plain": [
              "(10876, 20645)"
            ]
          },
          "metadata": {
            "tags": []
          },
          "execution_count": 58
        }
      ]
    },
    {
      "cell_type": "markdown",
      "metadata": {
        "id": "J_H0JteC018K",
        "colab_type": "text"
      },
      "source": [
        "# Modelos"
      ]
    },
    {
      "cell_type": "code",
      "metadata": {
        "id": "rLv2yTvCnelv",
        "colab_type": "code",
        "colab": {}
      },
      "source": [
        "X_franco = train[franco_features].values"
      ],
      "execution_count": null,
      "outputs": []
    },
    {
      "cell_type": "code",
      "metadata": {
        "id": "dRKzToKADj33",
        "colab_type": "code",
        "colab": {
          "base_uri": "https://localhost:8080/",
          "height": 34
        },
        "outputId": "ee336388-2cfb-45fc-f3d2-6b49c77e5d35"
      },
      "source": [
        "X_text_len = labelbinarizer.fit_transform(train.text_len)\n",
        "np.shape(X_text_len)"
      ],
      "execution_count": null,
      "outputs": [
        {
          "output_type": "execute_result",
          "data": {
            "text/plain": [
              "(10876, 141)"
            ]
          },
          "metadata": {
            "tags": []
          },
          "execution_count": 60
        }
      ]
    },
    {
      "cell_type": "code",
      "metadata": {
        "id": "9fxmSatvtWNj",
        "colab_type": "code",
        "colab": {}
      },
      "source": [
        "y = train.target.values\n",
        "X = X_texto\n",
        "X = np.hstack((X, X_keyword))\n",
        "#X = np.hstack((X, X_text_len))\n",
        "X = np.hstack((X, X_location))\n",
        "#X = np.hstack((X, X_franco))"
      ],
      "execution_count": null,
      "outputs": []
    },
    {
      "cell_type": "code",
      "metadata": {
        "id": "MmqOn-9kEs5F",
        "colab_type": "code",
        "colab": {
          "base_uri": "https://localhost:8080/",
          "height": 34
        },
        "outputId": "69651e09-18a8-4942-905c-6c014ead0dae"
      },
      "source": [
        "np.shape(y)"
      ],
      "execution_count": null,
      "outputs": [
        {
          "output_type": "execute_result",
          "data": {
            "text/plain": [
              "(10876,)"
            ]
          },
          "metadata": {
            "tags": []
          },
          "execution_count": 62
        }
      ]
    },
    {
      "cell_type": "code",
      "metadata": {
        "id": "yGFC1rdPurUa",
        "colab_type": "code",
        "colab": {
          "base_uri": "https://localhost:8080/",
          "height": 34
        },
        "outputId": "211c1ff9-9180-4392-fadd-57f43d004ae7"
      },
      "source": [
        "np.shape(X)"
      ],
      "execution_count": null,
      "outputs": [
        {
          "output_type": "execute_result",
          "data": {
            "text/plain": [
              "(10876, 25001)"
            ]
          },
          "metadata": {
            "tags": []
          },
          "execution_count": 63
        }
      ]
    },
    {
      "cell_type": "code",
      "metadata": {
        "id": "4cHqUWsTMqnj",
        "colab_type": "code",
        "colab": {}
      },
      "source": [
        "#X = StandardScaler().fit_transform(X)"
      ],
      "execution_count": null,
      "outputs": []
    },
    {
      "cell_type": "code",
      "metadata": {
        "id": "oMZccOrKoo8T",
        "colab_type": "code",
        "colab": {}
      },
      "source": [
        "X_fit = X[0:7613]\n",
        "X_submit = X[7613:]\n",
        "y_fit = y[0:7613]\n",
        "y_submit = y[7613:]"
      ],
      "execution_count": null,
      "outputs": []
    },
    {
      "cell_type": "code",
      "metadata": {
        "id": "xuwT4kEO0XDn",
        "colab_type": "code",
        "colab": {
          "base_uri": "https://localhost:8080/",
          "height": 85
        },
        "outputId": "c443f0da-c6b8-4632-e529-82485f5c9be6"
      },
      "source": [
        "#X_train, X_test, y_train, y_test = train_test_split(X_fit, y, test_size = 0.2, random_state = 123)\n",
        "X_train = X_fit[0:6090]\n",
        "X_test = X_fit[6090:]\n",
        "y_train = y_fit[0:6090]\n",
        "y_test = y_fit[6090:]\n",
        "print(np.shape(X_train))\n",
        "print(np.shape(X_test))\n",
        "print(np.shape(y_train))\n",
        "print(np.shape(y_test))"
      ],
      "execution_count": null,
      "outputs": [
        {
          "output_type": "stream",
          "text": [
            "(6090, 25001)\n",
            "(1523, 25001)\n",
            "(6090,)\n",
            "(1523,)\n"
          ],
          "name": "stdout"
        }
      ]
    },
    {
      "cell_type": "markdown",
      "metadata": {
        "id": "GEf2VWiLtHpU",
        "colab_type": "text"
      },
      "source": [
        "# Red Neuronal"
      ]
    },
    {
      "cell_type": "code",
      "metadata": {
        "id": "gtWLj3BDtJvN",
        "colab_type": "code",
        "colab": {}
      },
      "source": [
        "from __future__ import print_function\n",
        "import keras\n",
        "from keras.datasets import mnist\n",
        "from keras.models import Sequential\n",
        "from keras.layers import Dense, Dropout, Flatten\n",
        "from keras.layers import Conv2D, MaxPooling2D\n",
        "from keras.layers import Conv1D, MaxPooling1D\n",
        "from keras import backend as K\n",
        "from keras.optimizers import SGD\n",
        "from keras.utils import np_utils\n",
        "import tensorflow as tf"
      ],
      "execution_count": null,
      "outputs": []
    },
    {
      "cell_type": "code",
      "metadata": {
        "id": "Bec10ydQofAI",
        "colab_type": "code",
        "colab": {
          "base_uri": "https://localhost:8080/",
          "height": 102
        },
        "outputId": "2ea99572-38e4-4ef3-b3d6-85802de27d89"
      },
      "source": [
        "print('X_train shape:', np.shape(X_train))\n",
        "print('X_test shape:', np.shape(X_test))\n",
        "print('y_train shape:', np.shape(y_train))\n",
        "print('y_test shape:', np.shape(y_test))\n",
        "print('X_submit shape:', np.shape(X_submit))"
      ],
      "execution_count": null,
      "outputs": [
        {
          "output_type": "stream",
          "text": [
            "X_train shape: (6090, 25001)\n",
            "X_test shape: (1523, 25001)\n",
            "y_train shape: (6090,)\n",
            "y_test shape: (1523,)\n",
            "X_submit shape: (3263, 25001)\n"
          ],
          "name": "stdout"
        }
      ]
    },
    {
      "cell_type": "code",
      "metadata": {
        "id": "DIyZyp2moYae",
        "colab_type": "code",
        "colab": {}
      },
      "source": [
        "X_train_CNN = X_train.reshape((np.shape(X_train)[0], np.shape(X_train)[1], 1))\n",
        "X_test_CNN = X_test.reshape((np.shape(X_test)[0], np.shape(X_test)[1], 1))\n",
        "X_submit_CNN = X_submit.reshape((np.shape(X_submit)[0], np.shape(X_submit)[1], 1))"
      ],
      "execution_count": null,
      "outputs": []
    },
    {
      "cell_type": "code",
      "metadata": {
        "id": "dt9lxGczsDi8",
        "colab_type": "code",
        "colab": {}
      },
      "source": [
        "n_classes = 2\n",
        "y_train_CNN = np_utils.to_categorical(y_train, num_classes = n_classes)\n",
        "y_test_CNN = np_utils.to_categorical(y_test, num_classes = n_classes)"
      ],
      "execution_count": null,
      "outputs": []
    },
    {
      "cell_type": "code",
      "metadata": {
        "id": "aDQxi4TLuXO5",
        "colab_type": "code",
        "colab": {}
      },
      "source": [
        "model = keras.Sequential()\n",
        "model.add(Conv1D(10, kernel_size = 5, activation = 'relu', input_shape = (np.shape(X_train)[1], 1)))\n",
        "model.add(MaxPooling1D(5))\n",
        "model.add(Conv1D(35, kernel_size = 7,activation = 'relu'))\n",
        "model.add(MaxPooling1D(4))\n",
        "model.add(Flatten())\n",
        "model.add(Dense(230, activation = 'relu'))\n",
        "model.add(Dense(70, activation = 'relu'))\n",
        "model.add(Dense(n_classes, activation = 'softmax'))\n",
        "sgd = SGD(learning_rate = 0.111)\n",
        "model.compile(loss='binary_crossentropy', optimizer = sgd, metrics=['accuracy'])\n",
        "nepochs = 5"
      ],
      "execution_count": null,
      "outputs": []
    },
    {
      "cell_type": "code",
      "metadata": {
        "id": "4nZ4MP6vl7Ok",
        "colab_type": "code",
        "colab": {
          "base_uri": "https://localhost:8080/",
          "height": 425
        },
        "outputId": "b1708993-6570-4e64-cd07-f9c69b89a34f"
      },
      "source": [
        "model.summary()"
      ],
      "execution_count": null,
      "outputs": [
        {
          "output_type": "stream",
          "text": [
            "Model: \"sequential_1\"\n",
            "_________________________________________________________________\n",
            "Layer (type)                 Output Shape              Param #   \n",
            "=================================================================\n",
            "conv1d_2 (Conv1D)            (None, 24997, 10)         60        \n",
            "_________________________________________________________________\n",
            "max_pooling1d_2 (MaxPooling1 (None, 4999, 10)          0         \n",
            "_________________________________________________________________\n",
            "conv1d_3 (Conv1D)            (None, 4993, 35)          2485      \n",
            "_________________________________________________________________\n",
            "max_pooling1d_3 (MaxPooling1 (None, 1248, 35)          0         \n",
            "_________________________________________________________________\n",
            "flatten_1 (Flatten)          (None, 43680)             0         \n",
            "_________________________________________________________________\n",
            "dense_3 (Dense)              (None, 230)               10046630  \n",
            "_________________________________________________________________\n",
            "dense_4 (Dense)              (None, 70)                16170     \n",
            "_________________________________________________________________\n",
            "dense_5 (Dense)              (None, 2)                 142       \n",
            "=================================================================\n",
            "Total params: 10,065,487\n",
            "Trainable params: 10,065,487\n",
            "Non-trainable params: 0\n",
            "_________________________________________________________________\n"
          ],
          "name": "stdout"
        }
      ]
    },
    {
      "cell_type": "code",
      "metadata": {
        "id": "JTNX1u08mEVz",
        "colab_type": "code",
        "colab": {
          "base_uri": "https://localhost:8080/",
          "height": 204
        },
        "outputId": "8a80c254-54e1-473b-e5c6-9bc7390066e3"
      },
      "source": [
        "model.fit(X_train_CNN, y_train_CNN, epochs = nepochs, validation_data=(X_test_CNN, y_test_CNN), verbose = 1)"
      ],
      "execution_count": null,
      "outputs": [
        {
          "output_type": "stream",
          "text": [
            "Epoch 1/5\n",
            "191/191 [==============================] - 85s 446ms/step - loss: 0.6654 - accuracy: 0.5956 - val_loss: 0.6537 - val_accuracy: 0.5588\n",
            "Epoch 2/5\n",
            "191/191 [==============================] - 85s 446ms/step - loss: 0.5165 - accuracy: 0.7611 - val_loss: 0.4818 - val_accuracy: 0.7768\n",
            "Epoch 3/5\n",
            "191/191 [==============================] - 85s 447ms/step - loss: 0.4055 - accuracy: 0.8256 - val_loss: 0.4916 - val_accuracy: 0.7800\n",
            "Epoch 4/5\n",
            "191/191 [==============================] - 84s 441ms/step - loss: 0.3229 - accuracy: 0.8619 - val_loss: 0.5051 - val_accuracy: 0.7833\n",
            "Epoch 5/5\n",
            "191/191 [==============================] - 85s 445ms/step - loss: 0.2312 - accuracy: 0.9092 - val_loss: 0.5659 - val_accuracy: 0.7899\n"
          ],
          "name": "stdout"
        },
        {
          "output_type": "execute_result",
          "data": {
            "text/plain": [
              "<tensorflow.python.keras.callbacks.History at 0x7f17bbde6e10>"
            ]
          },
          "metadata": {
            "tags": []
          },
          "execution_count": 73
        }
      ]
    },
    {
      "cell_type": "code",
      "metadata": {
        "id": "lqQx9eaX1pFe",
        "colab_type": "code",
        "colab": {
          "base_uri": "https://localhost:8080/",
          "height": 17
        },
        "outputId": "f615d61c-26a1-4d8b-c560-cd802265c88f"
      },
      "source": [
        "preds_CNN = model.predict(X_submit_CNN)\n",
        "resultados_CNN = pd.DataFrame(data = set_submit_franco.id, columns = ['id']) \n",
        "resultados_CNN['target'] = preds_CNN[:, 1]\n",
        "resultados_CNN['target'] = resultados_CNN.target.transform(lambda x: 1 if x > 0.5 else 0)\n",
        "resultados_CNN.to_csv('submission_8_CNN.csv', header = True, index = False) \n",
        "files.download('submission_8_CNN.csv')"
      ],
      "execution_count": null,
      "outputs": [
        {
          "output_type": "display_data",
          "data": {
            "application/javascript": [
              "\n",
              "    async function download(id, filename, size) {\n",
              "      if (!google.colab.kernel.accessAllowed) {\n",
              "        return;\n",
              "      }\n",
              "      const div = document.createElement('div');\n",
              "      const label = document.createElement('label');\n",
              "      label.textContent = `Downloading \"${filename}\": `;\n",
              "      div.appendChild(label);\n",
              "      const progress = document.createElement('progress');\n",
              "      progress.max = size;\n",
              "      div.appendChild(progress);\n",
              "      document.body.appendChild(div);\n",
              "\n",
              "      const buffers = [];\n",
              "      let downloaded = 0;\n",
              "\n",
              "      const channel = await google.colab.kernel.comms.open(id);\n",
              "      // Send a message to notify the kernel that we're ready.\n",
              "      channel.send({})\n",
              "\n",
              "      for await (const message of channel.messages) {\n",
              "        // Send a message to notify the kernel that we're ready.\n",
              "        channel.send({})\n",
              "        if (message.buffers) {\n",
              "          for (const buffer of message.buffers) {\n",
              "            buffers.push(buffer);\n",
              "            downloaded += buffer.byteLength;\n",
              "            progress.value = downloaded;\n",
              "          }\n",
              "        }\n",
              "      }\n",
              "      const blob = new Blob(buffers, {type: 'application/binary'});\n",
              "      const a = document.createElement('a');\n",
              "      a.href = window.URL.createObjectURL(blob);\n",
              "      a.download = filename;\n",
              "      div.appendChild(a);\n",
              "      a.click();\n",
              "      div.remove();\n",
              "    }\n",
              "  "
            ],
            "text/plain": [
              "<IPython.core.display.Javascript object>"
            ]
          },
          "metadata": {
            "tags": []
          }
        },
        {
          "output_type": "display_data",
          "data": {
            "application/javascript": [
              "download(\"download_a44f046d-f0e1-46c5-b167-45d86aec2dfe\", \"submission_8_CNN.csv\", 22746)"
            ],
            "text/plain": [
              "<IPython.core.display.Javascript object>"
            ]
          },
          "metadata": {
            "tags": []
          }
        }
      ]
    },
    {
      "cell_type": "code",
      "metadata": {
        "id": "nGh8Fo66Ceq-",
        "colab_type": "code",
        "colab": {
          "base_uri": "https://localhost:8080/",
          "height": 374
        },
        "outputId": "781c99fc-afc3-411d-fe70-55450b111028"
      },
      "source": [
        "preds_CNN_test = model.predict(X_test_CNN)\n",
        "resultados_CNN_test = pd.DataFrame(data = set_submit_franco.id, columns = ['id']) \n",
        "resultados_CNN_test['target'] = preds_CNN_test[:, 1]\n",
        "resultados_CNN_test['target'] = resultados_CNN_test.target.transform(lambda x: 1 if x > 0.5 else 0)\n",
        "resultados_CNN_test.to_csv('Validation_submission_7_CNN.csv', header = True, index = False) \n",
        "files.download('Validation_submission_7_CNN.csv')"
      ],
      "execution_count": null,
      "outputs": [
        {
          "output_type": "error",
          "ename": "ValueError",
          "evalue": "ignored",
          "traceback": [
            "\u001b[0;31m---------------------------------------------------------------------------\u001b[0m",
            "\u001b[0;31mValueError\u001b[0m                                Traceback (most recent call last)",
            "\u001b[0;32m<ipython-input-75-67f4a3731cd6>\u001b[0m in \u001b[0;36m<module>\u001b[0;34m()\u001b[0m\n\u001b[1;32m      1\u001b[0m \u001b[0mpreds_CNN_test\u001b[0m \u001b[0;34m=\u001b[0m \u001b[0mmodel\u001b[0m\u001b[0;34m.\u001b[0m\u001b[0mpredict\u001b[0m\u001b[0;34m(\u001b[0m\u001b[0mX_test_CNN\u001b[0m\u001b[0;34m)\u001b[0m\u001b[0;34m\u001b[0m\u001b[0;34m\u001b[0m\u001b[0m\n\u001b[1;32m      2\u001b[0m \u001b[0mresultados_CNN_test\u001b[0m \u001b[0;34m=\u001b[0m \u001b[0mpd\u001b[0m\u001b[0;34m.\u001b[0m\u001b[0mDataFrame\u001b[0m\u001b[0;34m(\u001b[0m\u001b[0mdata\u001b[0m \u001b[0;34m=\u001b[0m \u001b[0mset_submit_franco\u001b[0m\u001b[0;34m.\u001b[0m\u001b[0mid\u001b[0m\u001b[0;34m,\u001b[0m \u001b[0mcolumns\u001b[0m \u001b[0;34m=\u001b[0m \u001b[0;34m[\u001b[0m\u001b[0;34m'id'\u001b[0m\u001b[0;34m]\u001b[0m\u001b[0;34m)\u001b[0m\u001b[0;34m\u001b[0m\u001b[0;34m\u001b[0m\u001b[0m\n\u001b[0;32m----> 3\u001b[0;31m \u001b[0mresultados_CNN_test\u001b[0m\u001b[0;34m[\u001b[0m\u001b[0;34m'target'\u001b[0m\u001b[0;34m]\u001b[0m \u001b[0;34m=\u001b[0m \u001b[0mpreds_CNN_test\u001b[0m\u001b[0;34m[\u001b[0m\u001b[0;34m:\u001b[0m\u001b[0;34m,\u001b[0m \u001b[0;36m1\u001b[0m\u001b[0;34m]\u001b[0m\u001b[0;34m\u001b[0m\u001b[0;34m\u001b[0m\u001b[0m\n\u001b[0m\u001b[1;32m      4\u001b[0m \u001b[0mresultados_CNN_test\u001b[0m\u001b[0;34m[\u001b[0m\u001b[0;34m'target'\u001b[0m\u001b[0;34m]\u001b[0m \u001b[0;34m=\u001b[0m \u001b[0mresultados_CNN_test\u001b[0m\u001b[0;34m.\u001b[0m\u001b[0mtarget\u001b[0m\u001b[0;34m.\u001b[0m\u001b[0mtransform\u001b[0m\u001b[0;34m(\u001b[0m\u001b[0;32mlambda\u001b[0m \u001b[0mx\u001b[0m\u001b[0;34m:\u001b[0m \u001b[0;36m1\u001b[0m \u001b[0;32mif\u001b[0m \u001b[0mx\u001b[0m \u001b[0;34m>\u001b[0m \u001b[0;36m0.5\u001b[0m \u001b[0;32melse\u001b[0m \u001b[0;36m0\u001b[0m\u001b[0;34m)\u001b[0m\u001b[0;34m\u001b[0m\u001b[0;34m\u001b[0m\u001b[0m\n\u001b[1;32m      5\u001b[0m \u001b[0mresultados_CNN_test\u001b[0m\u001b[0;34m.\u001b[0m\u001b[0mto_csv\u001b[0m\u001b[0;34m(\u001b[0m\u001b[0;34m'Validation_submission_7_CNN.csv'\u001b[0m\u001b[0;34m,\u001b[0m \u001b[0mheader\u001b[0m \u001b[0;34m=\u001b[0m \u001b[0;32mTrue\u001b[0m\u001b[0;34m,\u001b[0m \u001b[0mindex\u001b[0m \u001b[0;34m=\u001b[0m \u001b[0;32mFalse\u001b[0m\u001b[0;34m)\u001b[0m\u001b[0;34m\u001b[0m\u001b[0;34m\u001b[0m\u001b[0m\n",
            "\u001b[0;32m/usr/local/lib/python3.6/dist-packages/pandas/core/frame.py\u001b[0m in \u001b[0;36m__setitem__\u001b[0;34m(self, key, value)\u001b[0m\n\u001b[1;32m   2936\u001b[0m         \u001b[0;32melse\u001b[0m\u001b[0;34m:\u001b[0m\u001b[0;34m\u001b[0m\u001b[0;34m\u001b[0m\u001b[0m\n\u001b[1;32m   2937\u001b[0m             \u001b[0;31m# set column\u001b[0m\u001b[0;34m\u001b[0m\u001b[0;34m\u001b[0m\u001b[0;34m\u001b[0m\u001b[0m\n\u001b[0;32m-> 2938\u001b[0;31m             \u001b[0mself\u001b[0m\u001b[0;34m.\u001b[0m\u001b[0m_set_item\u001b[0m\u001b[0;34m(\u001b[0m\u001b[0mkey\u001b[0m\u001b[0;34m,\u001b[0m \u001b[0mvalue\u001b[0m\u001b[0;34m)\u001b[0m\u001b[0;34m\u001b[0m\u001b[0;34m\u001b[0m\u001b[0m\n\u001b[0m\u001b[1;32m   2939\u001b[0m \u001b[0;34m\u001b[0m\u001b[0m\n\u001b[1;32m   2940\u001b[0m     \u001b[0;32mdef\u001b[0m \u001b[0m_setitem_slice\u001b[0m\u001b[0;34m(\u001b[0m\u001b[0mself\u001b[0m\u001b[0;34m,\u001b[0m \u001b[0mkey\u001b[0m\u001b[0;34m,\u001b[0m \u001b[0mvalue\u001b[0m\u001b[0;34m)\u001b[0m\u001b[0;34m:\u001b[0m\u001b[0;34m\u001b[0m\u001b[0;34m\u001b[0m\u001b[0m\n",
            "\u001b[0;32m/usr/local/lib/python3.6/dist-packages/pandas/core/frame.py\u001b[0m in \u001b[0;36m_set_item\u001b[0;34m(self, key, value)\u001b[0m\n\u001b[1;32m   2998\u001b[0m \u001b[0;34m\u001b[0m\u001b[0m\n\u001b[1;32m   2999\u001b[0m         \u001b[0mself\u001b[0m\u001b[0;34m.\u001b[0m\u001b[0m_ensure_valid_index\u001b[0m\u001b[0;34m(\u001b[0m\u001b[0mvalue\u001b[0m\u001b[0;34m)\u001b[0m\u001b[0;34m\u001b[0m\u001b[0;34m\u001b[0m\u001b[0m\n\u001b[0;32m-> 3000\u001b[0;31m         \u001b[0mvalue\u001b[0m \u001b[0;34m=\u001b[0m \u001b[0mself\u001b[0m\u001b[0;34m.\u001b[0m\u001b[0m_sanitize_column\u001b[0m\u001b[0;34m(\u001b[0m\u001b[0mkey\u001b[0m\u001b[0;34m,\u001b[0m \u001b[0mvalue\u001b[0m\u001b[0;34m)\u001b[0m\u001b[0;34m\u001b[0m\u001b[0;34m\u001b[0m\u001b[0m\n\u001b[0m\u001b[1;32m   3001\u001b[0m         \u001b[0mNDFrame\u001b[0m\u001b[0;34m.\u001b[0m\u001b[0m_set_item\u001b[0m\u001b[0;34m(\u001b[0m\u001b[0mself\u001b[0m\u001b[0;34m,\u001b[0m \u001b[0mkey\u001b[0m\u001b[0;34m,\u001b[0m \u001b[0mvalue\u001b[0m\u001b[0;34m)\u001b[0m\u001b[0;34m\u001b[0m\u001b[0;34m\u001b[0m\u001b[0m\n\u001b[1;32m   3002\u001b[0m \u001b[0;34m\u001b[0m\u001b[0m\n",
            "\u001b[0;32m/usr/local/lib/python3.6/dist-packages/pandas/core/frame.py\u001b[0m in \u001b[0;36m_sanitize_column\u001b[0;34m(self, key, value, broadcast)\u001b[0m\n\u001b[1;32m   3634\u001b[0m \u001b[0;34m\u001b[0m\u001b[0m\n\u001b[1;32m   3635\u001b[0m             \u001b[0;31m# turn me into an ndarray\u001b[0m\u001b[0;34m\u001b[0m\u001b[0;34m\u001b[0m\u001b[0;34m\u001b[0m\u001b[0m\n\u001b[0;32m-> 3636\u001b[0;31m             \u001b[0mvalue\u001b[0m \u001b[0;34m=\u001b[0m \u001b[0msanitize_index\u001b[0m\u001b[0;34m(\u001b[0m\u001b[0mvalue\u001b[0m\u001b[0;34m,\u001b[0m \u001b[0mself\u001b[0m\u001b[0;34m.\u001b[0m\u001b[0mindex\u001b[0m\u001b[0;34m,\u001b[0m \u001b[0mcopy\u001b[0m\u001b[0;34m=\u001b[0m\u001b[0;32mFalse\u001b[0m\u001b[0;34m)\u001b[0m\u001b[0;34m\u001b[0m\u001b[0;34m\u001b[0m\u001b[0m\n\u001b[0m\u001b[1;32m   3637\u001b[0m             \u001b[0;32mif\u001b[0m \u001b[0;32mnot\u001b[0m \u001b[0misinstance\u001b[0m\u001b[0;34m(\u001b[0m\u001b[0mvalue\u001b[0m\u001b[0;34m,\u001b[0m \u001b[0;34m(\u001b[0m\u001b[0mnp\u001b[0m\u001b[0;34m.\u001b[0m\u001b[0mndarray\u001b[0m\u001b[0;34m,\u001b[0m \u001b[0mIndex\u001b[0m\u001b[0;34m)\u001b[0m\u001b[0;34m)\u001b[0m\u001b[0;34m:\u001b[0m\u001b[0;34m\u001b[0m\u001b[0;34m\u001b[0m\u001b[0m\n\u001b[1;32m   3638\u001b[0m                 \u001b[0;32mif\u001b[0m \u001b[0misinstance\u001b[0m\u001b[0;34m(\u001b[0m\u001b[0mvalue\u001b[0m\u001b[0;34m,\u001b[0m \u001b[0mlist\u001b[0m\u001b[0;34m)\u001b[0m \u001b[0;32mand\u001b[0m \u001b[0mlen\u001b[0m\u001b[0;34m(\u001b[0m\u001b[0mvalue\u001b[0m\u001b[0;34m)\u001b[0m \u001b[0;34m>\u001b[0m \u001b[0;36m0\u001b[0m\u001b[0;34m:\u001b[0m\u001b[0;34m\u001b[0m\u001b[0;34m\u001b[0m\u001b[0m\n",
            "\u001b[0;32m/usr/local/lib/python3.6/dist-packages/pandas/core/internals/construction.py\u001b[0m in \u001b[0;36msanitize_index\u001b[0;34m(data, index, copy)\u001b[0m\n\u001b[1;32m    609\u001b[0m \u001b[0;34m\u001b[0m\u001b[0m\n\u001b[1;32m    610\u001b[0m     \u001b[0;32mif\u001b[0m \u001b[0mlen\u001b[0m\u001b[0;34m(\u001b[0m\u001b[0mdata\u001b[0m\u001b[0;34m)\u001b[0m \u001b[0;34m!=\u001b[0m \u001b[0mlen\u001b[0m\u001b[0;34m(\u001b[0m\u001b[0mindex\u001b[0m\u001b[0;34m)\u001b[0m\u001b[0;34m:\u001b[0m\u001b[0;34m\u001b[0m\u001b[0;34m\u001b[0m\u001b[0m\n\u001b[0;32m--> 611\u001b[0;31m         \u001b[0;32mraise\u001b[0m \u001b[0mValueError\u001b[0m\u001b[0;34m(\u001b[0m\u001b[0;34m\"Length of values does not match length of index\"\u001b[0m\u001b[0;34m)\u001b[0m\u001b[0;34m\u001b[0m\u001b[0;34m\u001b[0m\u001b[0m\n\u001b[0m\u001b[1;32m    612\u001b[0m \u001b[0;34m\u001b[0m\u001b[0m\n\u001b[1;32m    613\u001b[0m     \u001b[0;32mif\u001b[0m \u001b[0misinstance\u001b[0m\u001b[0;34m(\u001b[0m\u001b[0mdata\u001b[0m\u001b[0;34m,\u001b[0m \u001b[0mABCIndexClass\u001b[0m\u001b[0;34m)\u001b[0m \u001b[0;32mand\u001b[0m \u001b[0;32mnot\u001b[0m \u001b[0mcopy\u001b[0m\u001b[0;34m:\u001b[0m\u001b[0;34m\u001b[0m\u001b[0;34m\u001b[0m\u001b[0m\n",
            "\u001b[0;31mValueError\u001b[0m: Length of values does not match length of index"
          ]
        }
      ]
    },
    {
      "cell_type": "code",
      "metadata": {
        "id": "FFMgR3J2vfu7",
        "colab_type": "code",
        "colab": {
          "base_uri": "https://localhost:8080/",
          "height": 976
        },
        "outputId": "66393806-9a0c-4d99-f98f-24eb85d7de63"
      },
      "source": [
        "tf.keras.utils.plot_model(\n",
        "    model,\n",
        "    to_file=\"model.png\",\n",
        "    show_shapes=True,\n",
        "    show_layer_names=True,\n",
        "    rankdir=\"TB\",\n",
        "    expand_nested=True,\n",
        "    dpi=96,\n",
        ")\n",
        "#files.download('model.png')"
      ],
      "execution_count": null,
      "outputs": [
        {
          "output_type": "execute_result",
          "data": {
            "image/png": "[encoded data removed]",
            "text/plain": [
              "<IPython.core.display.Image object>"
            ]
          },
          "metadata": {
            "tags": []
          },
          "execution_count": 83
        }
      ]
    }
  ]
}