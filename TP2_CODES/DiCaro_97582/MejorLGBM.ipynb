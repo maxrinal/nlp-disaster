{
  "nbformat": 4,
  "nbformat_minor": 0,
  "metadata": {
    "colab": {
      "name": "MejorLGBM",
      "provenance": [],
      "collapsed_sections": [
        "RIRKrrDGP0kD",
        "XZx-V2BHCCTk",
        "9uv1jxuAY0q1",
        "SVZ6Si14PslB",
        "-zyelrJ5g_FN"
      ],
      "authorship_tag": "ABX9TyN+UhttglA7Vncksb3pI2tO",
      "include_colab_link": true
    },
    "kernelspec": {
      "name": "python3",
      "display_name": "Python 3"
    }
  },
  "cells": [
    {
      "cell_type": "markdown",
      "metadata": {
        "id": "view-in-github",
        "colab_type": "text"
      },
      "source": [
        "<a href=\"https://colab.research.google.com/github/maxrinal/nlp-disaster/blob/master/TP2_CODES/DiCaro_97582/MejorLGBM.ipynb\" target=\"_parent\"><img src=\"https://colab.research.google.com/assets/colab-badge.svg\" alt=\"Open In Colab\"/></a>"
      ]
    },
    {
      "cell_type": "markdown",
      "metadata": {
        "id": "HGL2yWTIxh00",
        "colab_type": "text"
      },
      "source": [
        "# **Machine Learning**"
      ]
    },
    {
      "cell_type": "markdown",
      "metadata": {
        "id": "Gp7EnJRJXdvE",
        "colab_type": "text"
      },
      "source": [
        "## Importo Librerías"
      ]
    },
    {
      "cell_type": "code",
      "metadata": {
        "id": "50hMPHUnGhbN",
        "colab_type": "code",
        "colab": {
          "base_uri": "https://localhost:8080/"
        },
        "outputId": "5572439c-cd67-4d4b-ebbb-8b89e855de90"
      },
      "source": [
        "#! python -m textblob.download_corpora\n",
        "#!pip install --user -U nltk\n",
        "#nltk.download('punkt')\n",
        "#!pip install kaggle\n",
        "#!pip install catboost\n",
        "!pip install bayesian-optimization"
      ],
      "execution_count": null,
      "outputs": [
        {
          "output_type": "stream",
          "text": [
            "Requirement already satisfied: bayesian-optimization in /usr/local/lib/python3.6/dist-packages (1.2.0)\n",
            "Requirement already satisfied: numpy>=1.9.0 in /usr/local/lib/python3.6/dist-packages (from bayesian-optimization) (1.18.5)\n",
            "Requirement already satisfied: scipy>=0.14.0 in /usr/local/lib/python3.6/dist-packages (from bayesian-optimization) (1.4.1)\n",
            "Requirement already satisfied: scikit-learn>=0.18.0 in /usr/local/lib/python3.6/dist-packages (from bayesian-optimization) (0.22.2.post1)\n",
            "Requirement already satisfied: joblib>=0.11 in /usr/local/lib/python3.6/dist-packages (from scikit-learn>=0.18.0->bayesian-optimization) (0.16.0)\n"
          ],
          "name": "stdout"
        }
      ]
    },
    {
      "cell_type": "code",
      "metadata": {
        "id": "C0BB1vz_xZJ6",
        "colab_type": "code",
        "colab": {
          "base_uri": "https://localhost:8080/"
        },
        "outputId": "b7064e8a-a130-4dee-cd2d-1784a330a531"
      },
      "source": [
        "import pandas as pd\n",
        "import numpy as np\n",
        "import seaborn as sns\n",
        "import matplotlib.pyplot as plt\n",
        "%matplotlib inline\n",
        "\n",
        "from textblob import TextBlob\n",
        "from wordcloud import WordCloud\n",
        "import string,re\n",
        "import urllib.parse\n",
        "import nltk\n",
        "from nltk.corpus import stopwords\n",
        "from nltk import word_tokenize\n",
        "from nltk .tokenize.regexp import regexp_tokenize\n",
        "import spacy\n",
        "import keras\n",
        "import html\n",
        "import re\n",
        "import urllib\n",
        "import warnings\n",
        "import time\n",
        "import random\n",
        "\n",
        "from google.colab import drive\n",
        "#from google.colab import files\n",
        "#drive.mount('/content/drive')"
      ],
      "execution_count": null,
      "outputs": [
        {
          "output_type": "stream",
          "text": [
            "Drive already mounted at /content/drive; to attempt to forcibly remount, call drive.mount(\"/content/drive\", force_remount=True).\n"
          ],
          "name": "stdout"
        }
      ]
    },
    {
      "cell_type": "code",
      "metadata": {
        "id": "Pbof4qhP7XCa",
        "colab_type": "code",
        "colab": {
          "base_uri": "https://localhost:8080/"
        },
        "outputId": "63e5d5bf-ac78-4888-ff6c-076475f9f129"
      },
      "source": [
        "from sklearn.preprocessing import MultiLabelBinarizer\n",
        "from sklearn.preprocessing import LabelBinarizer\n",
        "from sklearn.preprocessing import LabelEncoder\n",
        "from sklearn.preprocessing import StandardScaler\n",
        "import xgboost as xgb\n",
        "from sklearn.ensemble import RandomForestRegressor\n",
        "from sklearn.metrics import mean_squared_error\n",
        "from sklearn import tree\n",
        "from sklearn.model_selection import train_test_split\n",
        "from sklearn.metrics import f1_score\n",
        "from sklearn.feature_extraction.text import CountVectorizer\n",
        "nltk.download('stopwords')\n",
        "\n",
        "from sklearn.neighbors import KNeighborsClassifier"
      ],
      "execution_count": null,
      "outputs": [
        {
          "output_type": "stream",
          "text": [
            "[nltk_data] Downloading package stopwords to /root/nltk_data...\n",
            "[nltk_data]   Package stopwords is already up-to-date!\n"
          ],
          "name": "stdout"
        }
      ]
    },
    {
      "cell_type": "code",
      "metadata": {
        "id": "0FfRvKwF9XbB",
        "colab_type": "code",
        "colab": {}
      },
      "source": [
        "import lightgbm as lgb"
      ],
      "execution_count": null,
      "outputs": []
    },
    {
      "cell_type": "code",
      "metadata": {
        "id": "l3KeX7NcJ59O",
        "colab_type": "code",
        "colab": {}
      },
      "source": [
        "from bayes_opt import BayesianOptimization\n",
        "from sklearn.decomposition import PCA"
      ],
      "execution_count": null,
      "outputs": []
    },
    {
      "cell_type": "code",
      "metadata": {
        "id": "oSsBJW_-x_K5",
        "colab_type": "code",
        "colab": {}
      },
      "source": [
        "pd.options.display.max_columns = 100\n",
        "pd.options.display.max_rows = 100\n",
        "\n",
        "plt.style.use('default') #Haciendo los gráficos más bonitos en matplotlib\n",
        "\n",
        "sns.set(style = 'whitegrid') #Seteando tipo de grid en sns\n",
        "\n",
        "pd.options.display.float_format = '{:20,.2f}'.format #Suprimimos la notacion científica en los outputs\n",
        "\n",
        "warnings.filterwarnings(\"ignore\")"
      ],
      "execution_count": null,
      "outputs": []
    },
    {
      "cell_type": "code",
      "metadata": {
        "id": "xChC8k0oXSfG",
        "colab_type": "code",
        "colab": {
          "base_uri": "https://localhost:8080/"
        },
        "outputId": "12aa5659-9432-48c4-c5bf-2bc2e3ffee69"
      },
      "source": [
        "print('re version', re.__version__)\n",
        "print('nltk version', nltk.__version__)\n",
        "print('spacy version', spacy.__version__)\n",
        "print('keras version', keras.__version__)"
      ],
      "execution_count": null,
      "outputs": [
        {
          "output_type": "stream",
          "text": [
            "re version 2.2.1\n",
            "nltk version 3.2.5\n",
            "spacy version 2.2.4\n",
            "keras version 2.4.3\n"
          ],
          "name": "stdout"
        }
      ]
    },
    {
      "cell_type": "markdown",
      "metadata": {
        "id": "efmkaP_ZXWki",
        "colab_type": "text"
      },
      "source": [
        "## Importo Datos"
      ]
    },
    {
      "cell_type": "code",
      "metadata": {
        "id": "mFoeWogPyKiJ",
        "colab_type": "code",
        "colab": {}
      },
      "source": [
        "train_original = pd.read_csv('https://raw.githubusercontent.com/maxrinal/nlp-disaster/master/train.csv', encoding = 'utf-8')\n",
        "test_original = pd.read_csv('https://raw.githubusercontent.com/maxrinal/nlp-disaster/master/test.csv', encoding = 'utf-8')"
      ],
      "execution_count": null,
      "outputs": []
    },
    {
      "cell_type": "code",
      "metadata": {
        "id": "5XFoPZOIyUsy",
        "colab_type": "code",
        "colab": {
          "base_uri": "https://localhost:8080/",
          "height": 204
        },
        "outputId": "9ab13199-3b02-4c41-a62a-a10ab65d6824"
      },
      "source": [
        "test_original.head()"
      ],
      "execution_count": null,
      "outputs": [
        {
          "output_type": "execute_result",
          "data": {
            "text/html": [
              "<div>\n",
              "<style scoped>\n",
              "    .dataframe tbody tr th:only-of-type {\n",
              "        vertical-align: middle;\n",
              "    }\n",
              "\n",
              "    .dataframe tbody tr th {\n",
              "        vertical-align: top;\n",
              "    }\n",
              "\n",
              "    .dataframe thead th {\n",
              "        text-align: right;\n",
              "    }\n",
              "</style>\n",
              "<table border=\"1\" class=\"dataframe\">\n",
              "  <thead>\n",
              "    <tr style=\"text-align: right;\">\n",
              "      <th></th>\n",
              "      <th>id</th>\n",
              "      <th>keyword</th>\n",
              "      <th>location</th>\n",
              "      <th>text</th>\n",
              "    </tr>\n",
              "  </thead>\n",
              "  <tbody>\n",
              "    <tr>\n",
              "      <th>0</th>\n",
              "      <td>0</td>\n",
              "      <td>NaN</td>\n",
              "      <td>NaN</td>\n",
              "      <td>Just happened a terrible car crash</td>\n",
              "    </tr>\n",
              "    <tr>\n",
              "      <th>1</th>\n",
              "      <td>2</td>\n",
              "      <td>NaN</td>\n",
              "      <td>NaN</td>\n",
              "      <td>Heard about #earthquake is different cities, s...</td>\n",
              "    </tr>\n",
              "    <tr>\n",
              "      <th>2</th>\n",
              "      <td>3</td>\n",
              "      <td>NaN</td>\n",
              "      <td>NaN</td>\n",
              "      <td>there is a forest fire at spot pond, geese are...</td>\n",
              "    </tr>\n",
              "    <tr>\n",
              "      <th>3</th>\n",
              "      <td>9</td>\n",
              "      <td>NaN</td>\n",
              "      <td>NaN</td>\n",
              "      <td>Apocalypse lighting. #Spokane #wildfires</td>\n",
              "    </tr>\n",
              "    <tr>\n",
              "      <th>4</th>\n",
              "      <td>11</td>\n",
              "      <td>NaN</td>\n",
              "      <td>NaN</td>\n",
              "      <td>Typhoon Soudelor kills 28 in China and Taiwan</td>\n",
              "    </tr>\n",
              "  </tbody>\n",
              "</table>\n",
              "</div>"
            ],
            "text/plain": [
              "   id keyword location                                               text\n",
              "0   0     NaN      NaN                 Just happened a terrible car crash\n",
              "1   2     NaN      NaN  Heard about #earthquake is different cities, s...\n",
              "2   3     NaN      NaN  there is a forest fire at spot pond, geese are...\n",
              "3   9     NaN      NaN           Apocalypse lighting. #Spokane #wildfires\n",
              "4  11     NaN      NaN      Typhoon Soudelor kills 28 in China and Taiwan"
            ]
          },
          "metadata": {
            "tags": []
          },
          "execution_count": 61
        }
      ]
    },
    {
      "cell_type": "code",
      "metadata": {
        "id": "snHDJKyNyTH4",
        "colab_type": "code",
        "colab": {}
      },
      "source": [
        "train = pd.concat([train_original, test_original])[['id', 'keyword', 'location', 'text', 'target']]"
      ],
      "execution_count": null,
      "outputs": []
    },
    {
      "cell_type": "markdown",
      "metadata": {
        "id": "LYAEGmosI4ZV",
        "colab_type": "text"
      },
      "source": [
        "# Limpieza"
      ]
    },
    {
      "cell_type": "markdown",
      "metadata": {
        "id": "RIRKrrDGP0kD",
        "colab_type": "text"
      },
      "source": [
        "### Funciones"
      ]
    },
    {
      "cell_type": "code",
      "metadata": {
        "id": "btZgQ_KD-VVP",
        "colab_type": "code",
        "colab": {}
      },
      "source": [
        "caracteres_extraños = ['\\u017E', '\\u017D', '\\u017C', '\\u017B', '\\u017A', '\\u0179', '\\u0178', '\\u0177', '\\u0176', '\\u00FF', '\\u00FD', '\\u00DD', '\\u0175',\\\n",
        "                         '\\u0174', '\\u0173', '\\u0172', '\\u0171', '\\u0170', '\\u016F', '\\u016E', '\\u016D', '\\u016C', '\\u016B', '\\u016A', '\\u0169', '\\u0168',\\\n",
        "                         '\\u00FC', '\\u00FB', '\\u00FA', '\\u00F9', '\\u00DC', '\\u00DB', '\\u00DA', '\\u00D9', '\\u0167', '\\u0166', '\\u0165', '\\u0164', '\\u0163',\\\n",
        "                         '\\u0162', '\\u017F', '\\u0161', '\\u0160', '\\u015F', '\\u015E', '\\u015D', '\\u015C', '\\u015B', '\\u015A', '\\u0159', '\\u0158', '\\u0157',\\\n",
        "                         '\\u0156', '\\u0155', '\\u0154', '\\u0151', '\\u0150', '\\u014F', '\\u014E', '\\u014D', '\\u014C', '\\u00F8', '\\u00F6', '\\u00F5', '\\u00F4',\\\n",
        "                         '\\u00F3', '\\u00F2', '\\u00D8', '\\u00D6', '\\u00D5', '\\u00D4', '\\u00D3', '\\u00D2', '\\u014B', '\\u014A', '\\u0149', '\\u0148', '\\u0147',\\\n",
        "                         '\\u0146', '\\u0145', '\\u0144', '\\u0143', '\\u00F1', '\\u00D1', '\\u0142', '\\u0141', '\\u0140', '\\u013F', '\\u013E', '\\u013D', '\\u013C',\\\n",
        "                         '\\u013B', '\\u013A', '\\u0139', '\\u0138', '\\u0137', '\\u0136', '\\u0135', '\\u0134', '\\u0131', '\\u0130', '\\u012F', '\\u012E', '\\u012D',\\\n",
        "                         '\\u012C', '\\u012B', '\\u012A', '\\u0129', '\\u0128', '\\u00EF', '\\u00EE', '\\u00ED', '\\u00EC', '\\u00CF', '\\u00CE', '\\u00CD', '\\u00CC',\\\n",
        "                         '\\u0127', '\\u0126', '\\u0125', '\\u0124', '\\u0123', '\\u0122', '\\u0121', '\\u0120', '\\u011F', '\\u011E', '\\u011D', '\\u011C', '\\u011B',\\\n",
        "                         '\\u011A', '\\u0119', '\\u0118', '\\u0117', '\\u0116', '\\u0115', '\\u0114', '\\u0113', '\\u0112', '\\u00EB', '\\u00EA', '\\u00E9', '\\u00E8',\\\n",
        "                         '\\u00CB', '\\u00CA', '\\u00C9', '\\u00C8', '\\u0111', '\\u0110', '\\u010F', '\\u010E', '\\u00F0', '\\u00D0', '\\u010D', '\\u010C', '\\u010B',\\\n",
        "                         '\\u010A', '\\u0109', '\\u0108', '\\u0107', '\\u0106', '\\u00E7', '\\u00C7', '\\u0105', '\\u0104', '\\u0103', '\\u0102', '\\u0101', '\\u0100',\\\n",
        "                         '\\u00E5', '\\u00E4', '\\u00E3', '\\u00E2', '\\u00E1', '\\u00E0', '\\u00C5', '\\u00C4', '\\u00C3', '\\u00C2', '\\u00C0', '\\u00C1']\n",
        "\n",
        "monosilabos = ['£', '¤', '¨', '«', '¬', '´', '¡']\n",
        "\n",
        "words_to_clean = stopwords.words('english')\n",
        "words_to_clean.append('')"
      ],
      "execution_count": null,
      "outputs": []
    },
    {
      "cell_type": "code",
      "metadata": {
        "id": "IbigDev7P4WL",
        "colab_type": "code",
        "colab": {}
      },
      "source": [
        "def remuevo_caracteres_de_lista (texto, lista):\n",
        "  for caracter in lista:\n",
        "    texto = texto.replace(caracter, ' ')\n",
        "  return texto\n",
        "\n",
        "def clean_texto (texto, caracteres_extraños, monosilabos):\n",
        "  texto = re.compile(r'https?://\\S+|www\\.\\S+').sub(r'',texto) #Removing urls\n",
        "  texto = html.unescape(texto)\n",
        "  texto = urllib.parse.unquote(str(texto))\n",
        "  texto = re.compile(r'<.*?>').sub(r'',texto) #Removing HTML tags\n",
        "  texto = re.compile(\"[\"\n",
        "                           u\"\\U0001F600-\\U0001F64F\"  # emoticons\n",
        "                           u\"\\U0001F300-\\U0001F5FF\"  # symbols & pictographs\n",
        "                           u\"\\U0001F680-\\U0001F6FF\"  # transport & map symbols\n",
        "                           u\"\\U0001F1E0-\\U0001F1FF\"  # flags (iOS)\n",
        "                           u\"\\U00002702-\\U000027B0\"\n",
        "                           u\"\\U000024C2-\\U0001F251\"\n",
        "                           \"]+\", flags = re.UNICODE).sub(r'', texto)\n",
        "  texto = texto.translate(str.maketrans('','',string.punctuation))\n",
        "  texto = texto.lower()\n",
        "  texto = texto.translate(str.maketrans('','','1234567890'))\n",
        "  texto = texto.replace('\\n', ' ').replace('å', ' ').replace('ê', ' ').replace('û', ' ').replace('[^\\w\\s]',' ').replace('÷', ' ').replace('ª', ' ')\\\n",
        "             .replace('ì', ' ').replace('¢', ' ').replace('\\x89', ' ').replace('\\x9d', ' ').replace('ã', ' ').replace('ï', ' ').replace('©', ' ')\\\n",
        "             .replace('ó', ' ').replace('ò', ' ').replace('â', ' ').replace('\\x9b', ' ').replace('\\x8a', ' ').replace('\\x93', ' ').replace('\\x8f', ' ')\\\n",
        "             .replace('\\x8c', ' ').replace('¼', ' ').replace('¥', ' ').replace('\\x92', ' ').replace('·', ' ').replace('\\x82', ' ').replace('Û', ' ')\\\n",
        "             .replace('Ó', ' ').replace('Ê', ' ').replace('Ï', ' ')\n",
        "  texto = remuevo_caracteres_de_lista(texto, caracteres_extraños)\n",
        "  texto = remuevo_caracteres_de_lista(texto, monosilabos)\n",
        "  return texto\n",
        "                        \n",
        "def custom_tokenize (notes, caracteres_extraños, monosilabos):\n",
        "  notes = [clean_texto(texto, caracteres_extraños, monosilabos) for texto in notes]\n",
        "  tokens = regexp_tokenize(' '.join(notes), pattern = '\\s+', gaps = True)\n",
        "  return tokens\n",
        "\n",
        "def paso_diccionario_word_frecuencia (lista):\n",
        "  dic = {}\n",
        "  for word in lista:\n",
        "    if word in dic.keys():\n",
        "      dic[word] += 1\n",
        "    else:\n",
        "      dic[word] = 1\n",
        "  return dic\n",
        "\n",
        "def saco_palabras_cortas (lista_tokens_frecuencia):\n",
        "  for i, word in enumerate(lista_tokens_frecuencia):\n",
        "    if (len(word[0]) < 3):\n",
        "      lista_tokens_frecuencia.pop(i)\n",
        "  return lista_tokens_frecuencia\n",
        "\n",
        "def sumo_listas (lista1, lista2):\n",
        "  for elemento in lista1:\n",
        "    if not elemento in lista2:\n",
        "      lista2.append(elemento)\n",
        "  return lista2"
      ],
      "execution_count": null,
      "outputs": []
    },
    {
      "cell_type": "markdown",
      "metadata": {
        "id": "XZx-V2BHCCTk",
        "colab_type": "text"
      },
      "source": [
        "## Limpieza Location"
      ]
    },
    {
      "cell_type": "code",
      "metadata": {
        "id": "IkgtaYajQZwc",
        "colab_type": "code",
        "colab": {}
      },
      "source": [
        "train['location'] = train.location.transform(lambda x: html.unescape(x))\n",
        "train['location'] = train.location.transform(lambda x: urllib.parse.unquote(str(x)))\n",
        "train['location'] = train.location.transform(lambda x: re.compile(r'<.*?>').sub(r'', x))\n",
        "train['location'] = train.location.transform(lambda x: x.translate(str.maketrans('','',string.punctuation)))\n",
        "train['location'] = train.location.transform(lambda x: x.lower())\n",
        "train['location'] = train.location.transform(lambda x: x.translate(str.maketrans('','','1234567890')))\n",
        "train['location'] = train.location.transform(lambda x: remuevo_caracteres_de_lista(x, caracteres_extraños))\n",
        "train['location'] = train.location.transform(lambda x: remuevo_caracteres_de_lista(x, monosilabos))"
      ],
      "execution_count": null,
      "outputs": []
    },
    {
      "cell_type": "code",
      "metadata": {
        "id": "09oKI3oHTSPj",
        "colab_type": "code",
        "colab": {}
      },
      "source": [
        "labelbinarizer = LabelBinarizer()\n",
        "X_location = labelbinarizer.fit_transform(train.location)"
      ],
      "execution_count": null,
      "outputs": []
    },
    {
      "cell_type": "code",
      "metadata": {
        "id": "QN_SivfjT0u1",
        "colab_type": "code",
        "colab": {
          "base_uri": "https://localhost:8080/",
          "height": 34
        },
        "outputId": "5a34c8b5-5167-48cb-cf84-eeb4a8f4f576"
      },
      "source": [
        "np.shape(X_location)"
      ],
      "execution_count": null,
      "outputs": [
        {
          "output_type": "execute_result",
          "data": {
            "text/plain": [
              "(10876, 4134)"
            ]
          },
          "metadata": {
            "tags": []
          },
          "execution_count": 13
        }
      ]
    },
    {
      "cell_type": "markdown",
      "metadata": {
        "id": "9uv1jxuAY0q1",
        "colab_type": "text"
      },
      "source": [
        "## Limpieza Keyword"
      ]
    },
    {
      "cell_type": "code",
      "metadata": {
        "id": "s2o64b1iZMbK",
        "colab_type": "code",
        "colab": {}
      },
      "source": [
        "train['keyword'] = train.keyword.transform(lambda x: urllib.parse.unquote(str(x)))\n",
        "#mlb = MultiLabelBinarizer()\n",
        "#labelencoder = LabelEncoder()\n",
        "labelbinarizer = LabelBinarizer()\n",
        "X_keyword = labelbinarizer.fit_transform(train.keyword)"
      ],
      "execution_count": null,
      "outputs": []
    },
    {
      "cell_type": "code",
      "metadata": {
        "id": "kJMjhdR8dIhm",
        "colab_type": "code",
        "colab": {
          "base_uri": "https://localhost:8080/",
          "height": 34
        },
        "outputId": "70fb6162-19f1-4d7c-a420-2ae1a1b2e618"
      },
      "source": [
        "np.shape(X_keyword)"
      ],
      "execution_count": null,
      "outputs": [
        {
          "output_type": "execute_result",
          "data": {
            "text/plain": [
              "(10876, 222)"
            ]
          },
          "metadata": {
            "tags": []
          },
          "execution_count": 15
        }
      ]
    },
    {
      "cell_type": "markdown",
      "metadata": {
        "id": "SVZ6Si14PslB",
        "colab_type": "text"
      },
      "source": [
        "## Limpieza Texto"
      ]
    },
    {
      "cell_type": "code",
      "metadata": {
        "id": "D-L3YHRSI704",
        "colab_type": "code",
        "colab": {
          "base_uri": "https://localhost:8080/",
          "height": 394
        },
        "outputId": "d07b8635-303f-4d14-c22b-ee14668eacc7"
      },
      "source": [
        "train['text_len'] = train.text.transform(lambda x: len(clean_texto(x, caracteres_extraños, monosilabos)))\n",
        "\n",
        "sns.set(font_scale = 1)\n",
        "plt.figure(figsize = (8, 6))\n",
        "\n",
        "plt.hist(train.text_len.values, bins = range(0, 200, 10))\n",
        "plt.xlabel('Number of characteres')\n",
        "plt.ylabel('Frecuency')\n",
        "plt.show()"
      ],
      "execution_count": null,
      "outputs": [
        {
          "output_type": "display_data",
          "data": {
            "image/png": "[encoded data removed]",
            "text/plain": [
              "<Figure size 576x432 with 1 Axes>"
            ]
          },
          "metadata": {
            "tags": []
          }
        }
      ]
    },
    {
      "cell_type": "code",
      "metadata": {
        "id": "J5isnBcGOa1k",
        "colab_type": "code",
        "colab": {}
      },
      "source": [
        "notes = list(train.text.values)\n",
        "#random.seed(42)\n",
        "#random.shuffle(notes)\n",
        "tokens = custom_tokenize(notes, caracteres_extraños, monosilabos)\n",
        "palabras_para_sacar = [word for word in tokens if len(word) < 3]\n",
        "words_to_clean = sumo_listas(palabras_para_sacar, words_to_clean)\n",
        "#tokens = sorted(tokens)\n",
        "#dic_tokens = paso_diccionario_word_frecuencia(tokens)\n",
        "#lista_tokens_frecuencia = list(dic_tokens.items())\n",
        "#lista_tokens_frecuencia_limpia = saco_palabras_cortas(lista_tokens_frecuencia)\n",
        "#lista_tokens_frecuencia_limpia = saco_palabras_cortas(lista_tokens_frecuencia_limpia)"
      ],
      "execution_count": null,
      "outputs": []
    },
    {
      "cell_type": "code",
      "metadata": {
        "id": "6jzm2xWHdn4W",
        "colab_type": "code",
        "colab": {}
      },
      "source": [
        "corpus = [clean_texto(texto, caracteres_extraños, monosilabos) for texto in notes]"
      ],
      "execution_count": null,
      "outputs": []
    },
    {
      "cell_type": "code",
      "metadata": {
        "id": "oZ8B5FEReceO",
        "colab_type": "code",
        "colab": {
          "base_uri": "https://localhost:8080/",
          "height": 34
        },
        "outputId": "1984b8f1-a5ee-4412-b640-b4a8e6f003c0"
      },
      "source": [
        "vectorizer = CountVectorizer(analyzer = 'word', stop_words = words_to_clean, lowercase = True, strip_accents = 'ascii', ngram_range = (1, 1)) #(2, 2) bigrams\n",
        "X_texto_vectorizer = vectorizer.fit_transform(corpus)\n",
        "X_texto = X_texto_vectorizer.toarray()\n",
        "np.shape(X_texto)"
      ],
      "execution_count": null,
      "outputs": [
        {
          "output_type": "execute_result",
          "data": {
            "text/plain": [
              "(10876, 20645)"
            ]
          },
          "metadata": {
            "tags": []
          },
          "execution_count": 19
        }
      ]
    },
    {
      "cell_type": "markdown",
      "metadata": {
        "id": "J_H0JteC018K",
        "colab_type": "text"
      },
      "source": [
        "# Modelo"
      ]
    },
    {
      "cell_type": "code",
      "metadata": {
        "id": "dRKzToKADj33",
        "colab_type": "code",
        "colab": {
          "base_uri": "https://localhost:8080/",
          "height": 34
        },
        "outputId": "0be8c6ab-eaa9-4f8f-8cab-55d3587ae560"
      },
      "source": [
        "X_text_len = labelbinarizer.fit_transform(train.text_len)\n",
        "np.shape(X_text_len)"
      ],
      "execution_count": null,
      "outputs": [
        {
          "output_type": "execute_result",
          "data": {
            "text/plain": [
              "(10876, 141)"
            ]
          },
          "metadata": {
            "tags": []
          },
          "execution_count": 20
        }
      ]
    },
    {
      "cell_type": "markdown",
      "metadata": {
        "id": "-zyelrJ5g_FN",
        "colab_type": "text"
      },
      "source": [
        "### **PCA**"
      ]
    },
    {
      "cell_type": "code",
      "metadata": {
        "id": "mS1JwD-mhFu6",
        "colab_type": "code",
        "colab": {}
      },
      "source": [
        "#del X_texto_vectorizer\n",
        "#X_texto_norm = StandardScaler().fit_transform(X_texto) #Estandarizo la matriz para PCA. No influye en en un arbol\n",
        "#pca = PCA(n_components = 8000)\n",
        "#X_texto_red = pca.fit_transform(X_texto_norm)"
      ],
      "execution_count": null,
      "outputs": []
    },
    {
      "cell_type": "code",
      "metadata": {
        "id": "Py_D3nUUkA5w",
        "colab_type": "code",
        "colab": {}
      },
      "source": [
        "#pca = PCA(n_components=2)\n",
        "#principalComponents = pca.fit_transform(X_texto_norm)\n",
        "#principalDf = pd.DataFrame(data = principalComponents, columns = ['c1', 'c2'])\n",
        "#principalDf_train = principalDf.loc[0:7612, :]\n",
        "#finalDf_train = pd.concat([principalDf_train, train_original.target], axis = 1)"
      ],
      "execution_count": null,
      "outputs": []
    },
    {
      "cell_type": "code",
      "metadata": {
        "id": "oowT-V-5qwPr",
        "colab_type": "code",
        "colab": {}
      },
      "source": [
        "#finalDf.head(1)"
      ],
      "execution_count": null,
      "outputs": []
    },
    {
      "cell_type": "code",
      "metadata": {
        "id": "DRd0srZoqZA-",
        "colab_type": "code",
        "colab": {}
      },
      "source": [
        "#f, ax = plt.subplots(figsize = (25, 50))\n",
        "#sns.scatterplot(finalDf_train.c1, finalDf_train.c2, hue =  finalDf_train.target)"
      ],
      "execution_count": null,
      "outputs": []
    },
    {
      "cell_type": "code",
      "metadata": {
        "id": "flM9e0zKju0v",
        "colab_type": "code",
        "colab": {}
      },
      "source": [
        "#principalDf_test = principalDf.loc[7613:, :]\n",
        "#f, ax = plt.subplots(figsize = (25, 50))\n",
        "#sns.scatterplot(finalDf_train.c1, finalDf_train.c2, hue =  finalDf_train.target)"
      ],
      "execution_count": null,
      "outputs": []
    },
    {
      "cell_type": "markdown",
      "metadata": {
        "id": "tLezc2oUhPYu",
        "colab_type": "text"
      },
      "source": [
        "### **Split**"
      ]
    },
    {
      "cell_type": "code",
      "metadata": {
        "id": "9fxmSatvtWNj",
        "colab_type": "code",
        "colab": {}
      },
      "source": [
        "y = train_original.target.values\n",
        "#X = X_texto_red\n",
        "X = X_texto\n",
        "X = np.hstack((X, X_keyword))\n",
        "#X = np.hstack((X, X_text_len))\n",
        "X = np.hstack((X, X_location))\n",
        "#X = np.delete(X, 23235, axis = 1) #Le saco el location pionner...."
      ],
      "execution_count": null,
      "outputs": []
    },
    {
      "cell_type": "code",
      "metadata": {
        "id": "7f2do8w9pIbc",
        "colab_type": "code",
        "colab": {}
      },
      "source": [
        "#del X_texto_red"
      ],
      "execution_count": null,
      "outputs": []
    },
    {
      "cell_type": "code",
      "metadata": {
        "id": "MmqOn-9kEs5F",
        "colab_type": "code",
        "colab": {
          "base_uri": "https://localhost:8080/",
          "height": 34
        },
        "outputId": "daa6fa6d-fbb2-474c-d3b3-c078f6083384"
      },
      "source": [
        "np.shape(y)"
      ],
      "execution_count": null,
      "outputs": [
        {
          "output_type": "execute_result",
          "data": {
            "text/plain": [
              "(7613,)"
            ]
          },
          "metadata": {
            "tags": []
          },
          "execution_count": 23
        }
      ]
    },
    {
      "cell_type": "code",
      "metadata": {
        "id": "yGFC1rdPurUa",
        "colab_type": "code",
        "colab": {
          "base_uri": "https://localhost:8080/",
          "height": 34
        },
        "outputId": "c6ac94b8-9337-431b-b03c-3733c35a5142"
      },
      "source": [
        "np.shape(X)"
      ],
      "execution_count": null,
      "outputs": [
        {
          "output_type": "execute_result",
          "data": {
            "text/plain": [
              "(10876, 25001)"
            ]
          },
          "metadata": {
            "tags": []
          },
          "execution_count": 24
        }
      ]
    },
    {
      "cell_type": "code",
      "metadata": {
        "id": "oMZccOrKoo8T",
        "colab_type": "code",
        "colab": {}
      },
      "source": [
        "X_fit = X[0:7613]\n",
        "X_submit = X[7613:]"
      ],
      "execution_count": null,
      "outputs": []
    },
    {
      "cell_type": "code",
      "metadata": {
        "id": "xuwT4kEO0XDn",
        "colab_type": "code",
        "colab": {}
      },
      "source": [
        "X_train, X_test, y_train, y_test = train_test_split(X_fit, y, test_size = 0.05, random_state = 123)"
      ],
      "execution_count": null,
      "outputs": []
    },
    {
      "cell_type": "code",
      "metadata": {
        "id": "5j9Ij0DoLb3N",
        "colab_type": "code",
        "colab": {}
      },
      "source": [
        "#del X_fit"
      ],
      "execution_count": null,
      "outputs": []
    },
    {
      "cell_type": "markdown",
      "metadata": {
        "id": "Uxvm0w46LzxQ",
        "colab_type": "text"
      },
      "source": [
        "# Optimización Bayesiana"
      ]
    },
    {
      "cell_type": "code",
      "metadata": {
        "id": "bUwxTuxUPfjS",
        "colab_type": "code",
        "colab": {
          "base_uri": "https://localhost:8080/",
          "height": 408
        },
        "outputId": "d13431c0-2c1c-428b-e972-9a65bca4f11c"
      },
      "source": [
        "def bayes_parameter_opt_lgb(X_train, y_train, init_round = 15, opt_round = 25, n_folds = 1, random_seed = 0, n_estimators = 7155, output_process=False):\n",
        "    # prepare data\n",
        "    lgb_train = lgb.Dataset(X_train, y_train)\n",
        "    # parameters\n",
        "\n",
        "    def lgb_eval(learning_rate, num_leaves, min_split_gain, min_data_in_leaf, min_child_weight, max_depth, feature_fraction):\n",
        "      \n",
        "        params = {\"objective\" : \"regression\", \"metric\" : 'rmse'}\n",
        "        params['learning_rate'] = learning_rate\n",
        "        params['num_leaves'] = int(round(num_leaves))\n",
        "        params['min_split_gain'] = min_split_gain\n",
        "        params['min_data_in_leaf'] = int(round(min_data_in_leaf))\n",
        "        params['min_child_weight'] = min_child_weight\n",
        "        params['max_depth'] = int(round(max_depth))\n",
        "        params['feature_fraction'] = max(min(feature_fraction, 1), 0)\n",
        "         \n",
        "\n",
        "\n",
        "        cv_result = lgb.cv(params, lgb_train, nfold=n_folds, seed = random_seed, stratified=False)\n",
        "        return (-1.0 * np.array(cv_result['rmse-mean'])).max()\n",
        "    \n",
        "        # range \n",
        "    lgbBO = BayesianOptimization(lgb_eval, {'learning_rate' : (0.1, 0.15),\n",
        "                                            'num_leaves' : (100, 200),\n",
        "                                            'min_split_gain' : (0.001, 0.1),\n",
        "                                            'min_data_in_leaf' : (10, 30),\n",
        "                                            'min_child_weight' : (5, 50),\n",
        "                                            'max_depth' : (5, 9),\n",
        "                                            'feature_fraction': (0.1, 0.9)}, random_state=0)\n",
        "\n",
        "        # optimize\n",
        "    lgbBO.maximize(init_points = init_round, n_iter = opt_round, acq = 'ei')\n",
        "\n",
        "        # output optimization process\n",
        "    if output_process == True: \n",
        "      lgbBO.points_to_csv(\"bayes_opt_result.csv\")\n",
        "      files.download('bayes_opt_result.csv')\n",
        "\n",
        "\n",
        "        # return best parameters\n",
        "    return lgbBO.res #['max']['max_params']\n",
        "\n",
        "opt_params = bayes_parameter_opt_lgb(X_train, y_train, init_round = 10, opt_round = 10, n_folds = 7, n_estimators = 7155)"
      ],
      "execution_count": null,
      "outputs": [
        {
          "output_type": "stream",
          "text": [
            "|   iter    |  target   | featur... | learni... | max_depth | min_ch... | min_da... | min_sp... | num_le... |\n",
            "-------------------------------------------------------------------------------------------------------------\n",
            "| \u001b[0m 1       \u001b[0m | \u001b[0m-0.4566  \u001b[0m | \u001b[0m 0.5391  \u001b[0m | \u001b[0m 0.1358  \u001b[0m | \u001b[0m 7.411   \u001b[0m | \u001b[0m 29.52   \u001b[0m | \u001b[0m 18.47   \u001b[0m | \u001b[0m 0.06494 \u001b[0m | \u001b[0m 143.8   \u001b[0m |\n",
            "| \u001b[0m 2       \u001b[0m | \u001b[0m-0.4778  \u001b[0m | \u001b[0m 0.8134  \u001b[0m | \u001b[0m 0.1482  \u001b[0m | \u001b[0m 6.534   \u001b[0m | \u001b[0m 40.63   \u001b[0m | \u001b[0m 20.58   \u001b[0m | \u001b[0m 0.05724 \u001b[0m | \u001b[0m 192.6   \u001b[0m |\n",
            "| \u001b[0m 3       \u001b[0m | \u001b[0m-0.4789  \u001b[0m | \u001b[0m 0.1568  \u001b[0m | \u001b[0m 0.1044  \u001b[0m | \u001b[0m 5.081   \u001b[0m | \u001b[0m 42.47   \u001b[0m | \u001b[0m 25.56   \u001b[0m | \u001b[0m 0.08713 \u001b[0m | \u001b[0m 197.9   \u001b[0m |\n",
            "| \u001b[95m 4       \u001b[0m | \u001b[95m-0.4435  \u001b[0m | \u001b[95m 0.7393  \u001b[0m | \u001b[95m 0.1231  \u001b[0m | \u001b[95m 8.122   \u001b[0m | \u001b[95m 10.32   \u001b[0m | \u001b[95m 22.8    \u001b[0m | \u001b[95m 0.01519 \u001b[0m | \u001b[95m 194.5   \u001b[0m |\n",
            "| \u001b[0m 5       \u001b[0m | \u001b[0m-0.4773  \u001b[0m | \u001b[0m 0.5175  \u001b[0m | \u001b[0m 0.1207  \u001b[0m | \u001b[0m 6.058   \u001b[0m | \u001b[0m 39.84   \u001b[0m | \u001b[0m 19.12   \u001b[0m | \u001b[0m 0.05727 \u001b[0m | \u001b[0m 101.9   \u001b[0m |\n",
            "| \u001b[0m 6       \u001b[0m | \u001b[0m-0.4799  \u001b[0m | \u001b[0m 0.5941  \u001b[0m | \u001b[0m 0.1306  \u001b[0m | \u001b[0m 7.468   \u001b[0m | \u001b[0m 47.47   \u001b[0m | \u001b[0m 23.64   \u001b[0m | \u001b[0m 0.03659 \u001b[0m | \u001b[0m 143.7   \u001b[0m |\n",
            "| \u001b[0m 7       \u001b[0m | \u001b[0m-0.4754  \u001b[0m | \u001b[0m 0.6581  \u001b[0m | \u001b[0m 0.103   \u001b[0m | \u001b[0m 7.667   \u001b[0m | \u001b[0m 35.18   \u001b[0m | \u001b[0m 14.21   \u001b[0m | \u001b[0m 0.01376 \u001b[0m | \u001b[0m 131.5   \u001b[0m |\n",
            "| \u001b[0m 8       \u001b[0m | \u001b[0m-0.4798  \u001b[0m | \u001b[0m 0.391   \u001b[0m | \u001b[0m 0.1285  \u001b[0m | \u001b[0m 6.754   \u001b[0m | \u001b[0m 49.48   \u001b[0m | \u001b[0m 12.04   \u001b[0m | \u001b[0m 0.02168 \u001b[0m | \u001b[0m 116.1   \u001b[0m |\n",
            "| \u001b[0m 9       \u001b[0m | \u001b[0m-0.4454  \u001b[0m | \u001b[0m 0.6225  \u001b[0m | \u001b[0m 0.1127  \u001b[0m | \u001b[0m 6.865   \u001b[0m | \u001b[0m 16.0    \u001b[0m | \u001b[0m 13.18   \u001b[0m | \u001b[0m 0.01193 \u001b[0m | \u001b[0m 165.6   \u001b[0m |\n",
            "| \u001b[0m 10      \u001b[0m | \u001b[0m-0.4783  \u001b[0m | \u001b[0m 0.2105  \u001b[0m | \u001b[0m 0.1098  \u001b[0m | \u001b[0m 6.475   \u001b[0m | \u001b[0m 41.94   \u001b[0m | \u001b[0m 11.94   \u001b[0m | \u001b[0m 0.08396 \u001b[0m | \u001b[0m 109.6   \u001b[0m |\n",
            "| \u001b[0m 11      \u001b[0m | \u001b[0m-0.458   \u001b[0m | \u001b[0m 0.7737  \u001b[0m | \u001b[0m 0.1143  \u001b[0m | \u001b[0m 5.596   \u001b[0m | \u001b[0m 5.09    \u001b[0m | \u001b[0m 29.65   \u001b[0m | \u001b[0m 0.09326 \u001b[0m | \u001b[0m 161.0   \u001b[0m |\n",
            "| \u001b[0m 12      \u001b[0m | \u001b[0m-0.4476  \u001b[0m | \u001b[0m 0.4529  \u001b[0m | \u001b[0m 0.1104  \u001b[0m | \u001b[0m 5.618   \u001b[0m | \u001b[0m 8.144   \u001b[0m | \u001b[0m 10.55   \u001b[0m | \u001b[0m 0.09619 \u001b[0m | \u001b[0m 199.9   \u001b[0m |\n",
            "| \u001b[0m 13      \u001b[0m | \u001b[0m-0.4548  \u001b[0m | \u001b[0m 0.2092  \u001b[0m | \u001b[0m 0.1018  \u001b[0m | \u001b[0m 5.142   \u001b[0m | \u001b[0m 15.04   \u001b[0m | \u001b[0m 27.08   \u001b[0m | \u001b[0m 0.08872 \u001b[0m | \u001b[0m 182.8   \u001b[0m |\n",
            "| \u001b[95m 14      \u001b[0m | \u001b[95m-0.4416  \u001b[0m | \u001b[95m 0.1741  \u001b[0m | \u001b[95m 0.1248  \u001b[0m | \u001b[95m 8.833   \u001b[0m | \u001b[95m 5.114   \u001b[0m | \u001b[95m 13.65   \u001b[0m | \u001b[95m 0.07392 \u001b[0m | \u001b[95m 189.5   \u001b[0m |\n",
            "| \u001b[0m 15      \u001b[0m | \u001b[0m-0.4437  \u001b[0m | \u001b[0m 0.1178  \u001b[0m | \u001b[0m 0.1285  \u001b[0m | \u001b[0m 8.969   \u001b[0m | \u001b[0m 13.94   \u001b[0m | \u001b[0m 22.56   \u001b[0m | \u001b[0m 0.0538  \u001b[0m | \u001b[0m 199.9   \u001b[0m |\n",
            "| \u001b[0m 16      \u001b[0m | \u001b[0m-0.4432  \u001b[0m | \u001b[0m 0.194   \u001b[0m | \u001b[0m 0.1421  \u001b[0m | \u001b[0m 8.228   \u001b[0m | \u001b[0m 12.05   \u001b[0m | \u001b[0m 24.25   \u001b[0m | \u001b[0m 0.08701 \u001b[0m | \u001b[0m 198.0   \u001b[0m |\n",
            "| \u001b[0m 17      \u001b[0m | \u001b[0m-0.4444  \u001b[0m | \u001b[0m 0.1325  \u001b[0m | \u001b[0m 0.1062  \u001b[0m | \u001b[0m 9.0     \u001b[0m | \u001b[0m 5.113   \u001b[0m | \u001b[0m 19.91   \u001b[0m | \u001b[0m 0.03355 \u001b[0m | \u001b[0m 197.1   \u001b[0m |\n",
            "| \u001b[95m 18      \u001b[0m | \u001b[95m-0.4413  \u001b[0m | \u001b[95m 0.8044  \u001b[0m | \u001b[95m 0.1282  \u001b[0m | \u001b[95m 8.144   \u001b[0m | \u001b[95m 5.777   \u001b[0m | \u001b[95m 10.43   \u001b[0m | \u001b[95m 0.05636 \u001b[0m | \u001b[95m 154.0   \u001b[0m |\n",
            "| \u001b[95m 19      \u001b[0m | \u001b[95m-0.4401  \u001b[0m | \u001b[95m 0.7149  \u001b[0m | \u001b[95m 0.1313  \u001b[0m | \u001b[95m 8.941   \u001b[0m | \u001b[95m 7.044   \u001b[0m | \u001b[95m 10.08   \u001b[0m | \u001b[95m 0.07894 \u001b[0m | \u001b[95m 167.4   \u001b[0m |\n",
            "| \u001b[0m 20      \u001b[0m | \u001b[0m-0.4402  \u001b[0m | \u001b[0m 0.277   \u001b[0m | \u001b[0m 0.1481  \u001b[0m | \u001b[0m 8.805   \u001b[0m | \u001b[0m 14.31   \u001b[0m | \u001b[0m 15.44   \u001b[0m | \u001b[0m 0.06486 \u001b[0m | \u001b[0m 155.7   \u001b[0m |\n",
            "=============================================================================================================\n"
          ],
          "name": "stdout"
        }
      ]
    },
    {
      "cell_type": "code",
      "metadata": {
        "id": "vtdiclVbVZFV",
        "colab_type": "code",
        "colab": {
          "base_uri": "https://localhost:8080/",
          "height": 187
        },
        "outputId": "5f3fbd01-e64f-46f0-eda8-7c40bfb8d13e"
      },
      "source": [
        "i = 18\n",
        "params = opt_params[i]['params']\n",
        "params['max_depth'] = int(round(opt_params[i]['params']['max_depth'], 0))\n",
        "params['num_leaves'] = int(round(opt_params[i]['params']['num_leaves'], 0))\n",
        "params['min_data_in_leaf'] = int(round(opt_params[i]['params']['min_data_in_leaf'], 0))\n",
        "params['objective'] = 'regression'\n",
        "params['metric'] = 'rmse'\n",
        "params['n_estimators'] = 7155\n",
        "params['feature_fraction'] = 1\n",
        "#params['bagging_freq'] = 5\n",
        "#params['max_bin'] = 409\n",
        "#params['min_child_samples'] = 10\n",
        "#params['num_iteraciones'] = 100\n",
        "params"
      ],
      "execution_count": null,
      "outputs": [
        {
          "output_type": "execute_result",
          "data": {
            "text/plain": [
              "{'feature_fraction': 1,\n",
              " 'learning_rate': 0.1312663264284989,\n",
              " 'max_depth': 9,\n",
              " 'metric': 'rmse',\n",
              " 'min_child_weight': 7.044261617315253,\n",
              " 'min_data_in_leaf': 23,\n",
              " 'min_split_gain': 0.0789353879168263,\n",
              " 'n_estimators': 7155,\n",
              " 'num_leaves': 200,\n",
              " 'objective': 'regression'}"
            ]
          },
          "metadata": {
            "tags": []
          },
          "execution_count": 51
        }
      ]
    },
    {
      "cell_type": "markdown",
      "metadata": {
        "id": "WKNl904izs2g",
        "colab_type": "text"
      },
      "source": [
        "# LGBM"
      ]
    },
    {
      "cell_type": "code",
      "metadata": {
        "id": "MKC3zktfKQ-C",
        "colab_type": "code",
        "colab": {
          "base_uri": "https://localhost:8080/",
          "height": 1000
        },
        "outputId": "d0824afa-9077-41ad-eb07-715bb5beaf97"
      },
      "source": [
        "lgb_train = lgb.Dataset(X_fit, y)\n",
        "lgb_eval = lgb.Dataset(X_test, y_test, reference = lgb_train)\n",
        "\n",
        "gbm = lgb.train(params,\n",
        "                lgb_train,\n",
        "                num_boost_round = 120,\n",
        "                valid_sets = lgb_eval,\n",
        "                early_stopping_rounds = 1000)\n",
        "\n",
        "preds = gbm.predict(X_test, num_iteration=gbm.best_iteration)\n",
        "rmse = np.sqrt(mean_squared_error(y_test, preds))\n",
        "print(\"RMSE: %f\" % (rmse))"
      ],
      "execution_count": null,
      "outputs": [
        {
          "output_type": "stream",
          "text": [
            "/usr/local/lib/python3.6/dist-packages/lightgbm/engine.py:118: UserWarning: Found `n_estimators` in params. Will use it instead of argument\n",
            "  warnings.warn(\"Found `{}` in params. Will use it instead of argument\".format(alias))\n"
          ],
          "name": "stderr"
        },
        {
          "output_type": "stream",
          "text": [
            "[1]\tvalid_0's rmse: 0.490797\n",
            "Training until validation scores don't improve for 1000 rounds.\n",
            "[2]\tvalid_0's rmse: 0.487521\n",
            "[3]\tvalid_0's rmse: 0.483801\n",
            "[4]\tvalid_0's rmse: 0.479978\n",
            "[5]\tvalid_0's rmse: 0.477402\n",
            "[6]\tvalid_0's rmse: 0.474779\n",
            "[7]\tvalid_0's rmse: 0.471065\n",
            "[8]\tvalid_0's rmse: 0.467601\n",
            "[9]\tvalid_0's rmse: 0.465453\n",
            "[10]\tvalid_0's rmse: 0.462775\n",
            "[11]\tvalid_0's rmse: 0.46222\n",
            "[12]\tvalid_0's rmse: 0.459544\n",
            "[13]\tvalid_0's rmse: 0.458048\n",
            "[14]\tvalid_0's rmse: 0.454944\n",
            "[15]\tvalid_0's rmse: 0.454004\n",
            "[16]\tvalid_0's rmse: 0.452626\n",
            "[17]\tvalid_0's rmse: 0.451089\n",
            "[18]\tvalid_0's rmse: 0.450082\n",
            "[19]\tvalid_0's rmse: 0.448565\n",
            "[20]\tvalid_0's rmse: 0.446774\n",
            "[21]\tvalid_0's rmse: 0.445498\n",
            "[22]\tvalid_0's rmse: 0.44426\n",
            "[23]\tvalid_0's rmse: 0.444064\n",
            "[24]\tvalid_0's rmse: 0.442118\n",
            "[25]\tvalid_0's rmse: 0.441564\n",
            "[26]\tvalid_0's rmse: 0.440139\n",
            "[27]\tvalid_0's rmse: 0.439043\n",
            "[28]\tvalid_0's rmse: 0.437992\n",
            "[29]\tvalid_0's rmse: 0.43799\n",
            "[30]\tvalid_0's rmse: 0.437325\n",
            "[31]\tvalid_0's rmse: 0.436383\n",
            "[32]\tvalid_0's rmse: 0.435435\n",
            "[33]\tvalid_0's rmse: 0.434465\n",
            "[34]\tvalid_0's rmse: 0.432864\n",
            "[35]\tvalid_0's rmse: 0.432004\n",
            "[36]\tvalid_0's rmse: 0.431265\n",
            "[37]\tvalid_0's rmse: 0.430263\n",
            "[38]\tvalid_0's rmse: 0.428717\n",
            "[39]\tvalid_0's rmse: 0.428042\n",
            "[40]\tvalid_0's rmse: 0.427786\n",
            "[41]\tvalid_0's rmse: 0.427115\n",
            "[42]\tvalid_0's rmse: 0.426858\n",
            "[43]\tvalid_0's rmse: 0.426314\n",
            "[44]\tvalid_0's rmse: 0.42521\n",
            "[45]\tvalid_0's rmse: 0.423694\n",
            "[46]\tvalid_0's rmse: 0.423368\n",
            "[47]\tvalid_0's rmse: 0.423385\n",
            "[48]\tvalid_0's rmse: 0.422276\n",
            "[49]\tvalid_0's rmse: 0.421411\n",
            "[50]\tvalid_0's rmse: 0.420827\n",
            "[51]\tvalid_0's rmse: 0.420418\n",
            "[52]\tvalid_0's rmse: 0.419887\n",
            "[53]\tvalid_0's rmse: 0.419081\n",
            "[54]\tvalid_0's rmse: 0.418633\n",
            "[55]\tvalid_0's rmse: 0.418065\n",
            "[56]\tvalid_0's rmse: 0.417608\n",
            "[57]\tvalid_0's rmse: 0.416801\n",
            "[58]\tvalid_0's rmse: 0.416287\n",
            "[59]\tvalid_0's rmse: 0.415737\n",
            "[60]\tvalid_0's rmse: 0.415692\n",
            "[61]\tvalid_0's rmse: 0.415417\n",
            "[62]\tvalid_0's rmse: 0.414119\n",
            "[63]\tvalid_0's rmse: 0.41309\n",
            "[64]\tvalid_0's rmse: 0.413007\n",
            "[65]\tvalid_0's rmse: 0.412454\n",
            "[66]\tvalid_0's rmse: 0.412028\n",
            "[67]\tvalid_0's rmse: 0.411319\n",
            "[68]\tvalid_0's rmse: 0.410658\n",
            "[69]\tvalid_0's rmse: 0.410136\n",
            "[70]\tvalid_0's rmse: 0.409966\n",
            "[71]\tvalid_0's rmse: 0.409688\n",
            "[72]\tvalid_0's rmse: 0.409124\n",
            "[73]\tvalid_0's rmse: 0.408628\n",
            "[74]\tvalid_0's rmse: 0.408287\n",
            "[75]\tvalid_0's rmse: 0.408235\n",
            "[76]\tvalid_0's rmse: 0.407388\n",
            "[77]\tvalid_0's rmse: 0.406989\n",
            "[78]\tvalid_0's rmse: 0.406408\n",
            "[79]\tvalid_0's rmse: 0.406258\n",
            "[80]\tvalid_0's rmse: 0.405872\n",
            "[81]\tvalid_0's rmse: 0.405363\n",
            "[82]\tvalid_0's rmse: 0.404869\n",
            "[83]\tvalid_0's rmse: 0.404318\n",
            "[84]\tvalid_0's rmse: 0.403755\n",
            "[85]\tvalid_0's rmse: 0.403601\n",
            "[86]\tvalid_0's rmse: 0.403062\n",
            "[87]\tvalid_0's rmse: 0.402978\n",
            "[88]\tvalid_0's rmse: 0.402621\n",
            "[89]\tvalid_0's rmse: 0.402529\n",
            "[90]\tvalid_0's rmse: 0.402049\n",
            "[91]\tvalid_0's rmse: 0.40192\n",
            "[92]\tvalid_0's rmse: 0.400963\n",
            "[93]\tvalid_0's rmse: 0.400092\n",
            "[94]\tvalid_0's rmse: 0.399933\n",
            "[95]\tvalid_0's rmse: 0.399497\n",
            "[96]\tvalid_0's rmse: 0.398962\n",
            "[97]\tvalid_0's rmse: 0.398619\n",
            "[98]\tvalid_0's rmse: 0.398218\n",
            "[99]\tvalid_0's rmse: 0.39794\n",
            "[100]\tvalid_0's rmse: 0.397988\n",
            "[101]\tvalid_0's rmse: 0.397737\n",
            "[102]\tvalid_0's rmse: 0.397285\n",
            "[103]\tvalid_0's rmse: 0.396849\n",
            "[104]\tvalid_0's rmse: 0.396449\n",
            "[105]\tvalid_0's rmse: 0.39643\n",
            "[106]\tvalid_0's rmse: 0.396091\n",
            "[107]\tvalid_0's rmse: 0.395513\n",
            "[108]\tvalid_0's rmse: 0.395128\n",
            "[109]\tvalid_0's rmse: 0.394758\n",
            "[110]\tvalid_0's rmse: 0.394011\n",
            "[111]\tvalid_0's rmse: 0.393748\n",
            "[112]\tvalid_0's rmse: 0.393484\n",
            "[113]\tvalid_0's rmse: 0.393336\n",
            "[114]\tvalid_0's rmse: 0.392984\n",
            "[115]\tvalid_0's rmse: 0.392794\n",
            "[116]\tvalid_0's rmse: 0.392086\n",
            "[117]\tvalid_0's rmse: 0.391697\n",
            "[118]\tvalid_0's rmse: 0.39148\n",
            "[119]\tvalid_0's rmse: 0.391361\n",
            "[120]\tvalid_0's rmse: 0.390957\n",
            "[121]\tvalid_0's rmse: 0.390554\n",
            "[122]\tvalid_0's rmse: 0.390396\n",
            "[123]\tvalid_0's rmse: 0.390241\n",
            "[124]\tvalid_0's rmse: 0.3902\n",
            "[125]\tvalid_0's rmse: 0.38933\n",
            "[126]\tvalid_0's rmse: 0.389177\n",
            "[127]\tvalid_0's rmse: 0.38882\n",
            "[128]\tvalid_0's rmse: 0.388731\n",
            "[129]\tvalid_0's rmse: 0.388327\n",
            "[130]\tvalid_0's rmse: 0.387622\n",
            "[131]\tvalid_0's rmse: 0.387608\n",
            "[132]\tvalid_0's rmse: 0.387432\n",
            "[133]\tvalid_0's rmse: 0.387567\n",
            "[134]\tvalid_0's rmse: 0.387543\n",
            "[135]\tvalid_0's rmse: 0.387163\n",
            "[136]\tvalid_0's rmse: 0.386579\n",
            "[137]\tvalid_0's rmse: 0.386365\n",
            "[138]\tvalid_0's rmse: 0.386393\n",
            "[139]\tvalid_0's rmse: 0.385911\n",
            "[140]\tvalid_0's rmse: 0.385422\n",
            "[141]\tvalid_0's rmse: 0.385315\n",
            "[142]\tvalid_0's rmse: 0.385134\n",
            "[143]\tvalid_0's rmse: 0.384953\n",
            "[144]\tvalid_0's rmse: 0.384823\n",
            "[145]\tvalid_0's rmse: 0.384683\n",
            "[146]\tvalid_0's rmse: 0.384334\n",
            "[147]\tvalid_0's rmse: 0.384184\n",
            "[148]\tvalid_0's rmse: 0.384186\n",
            "[149]\tvalid_0's rmse: 0.383914\n",
            "[150]\tvalid_0's rmse: 0.383783\n",
            "[151]\tvalid_0's rmse: 0.383419\n",
            "[152]\tvalid_0's rmse: 0.383375\n",
            "[153]\tvalid_0's rmse: 0.382974\n",
            "[154]\tvalid_0's rmse: 0.382849\n",
            "[155]\tvalid_0's rmse: 0.382516\n",
            "[156]\tvalid_0's rmse: 0.382311\n",
            "[157]\tvalid_0's rmse: 0.381955\n",
            "[158]\tvalid_0's rmse: 0.381933\n",
            "[159]\tvalid_0's rmse: 0.381659\n",
            "[160]\tvalid_0's rmse: 0.381522\n",
            "[161]\tvalid_0's rmse: 0.381573\n",
            "[162]\tvalid_0's rmse: 0.381488\n",
            "[163]\tvalid_0's rmse: 0.38114\n",
            "[164]\tvalid_0's rmse: 0.380723\n",
            "[165]\tvalid_0's rmse: 0.380643\n",
            "[166]\tvalid_0's rmse: 0.380254\n",
            "[167]\tvalid_0's rmse: 0.380228\n",
            "[168]\tvalid_0's rmse: 0.380171\n",
            "[169]\tvalid_0's rmse: 0.379815\n",
            "[170]\tvalid_0's rmse: 0.379761\n",
            "[171]\tvalid_0's rmse: 0.378882\n",
            "[172]\tvalid_0's rmse: 0.378836\n",
            "[173]\tvalid_0's rmse: 0.378755\n",
            "[174]\tvalid_0's rmse: 0.378414\n",
            "[175]\tvalid_0's rmse: 0.378062\n",
            "[176]\tvalid_0's rmse: 0.377892\n",
            "[177]\tvalid_0's rmse: 0.378025\n",
            "[178]\tvalid_0's rmse: 0.37781\n",
            "[179]\tvalid_0's rmse: 0.377846\n",
            "[180]\tvalid_0's rmse: 0.377639\n",
            "[181]\tvalid_0's rmse: 0.377201\n",
            "[182]\tvalid_0's rmse: 0.377168\n",
            "[183]\tvalid_0's rmse: 0.3768\n",
            "[184]\tvalid_0's rmse: 0.376645\n",
            "[185]\tvalid_0's rmse: 0.376552\n",
            "[186]\tvalid_0's rmse: 0.376521\n",
            "[187]\tvalid_0's rmse: 0.376623\n",
            "[188]\tvalid_0's rmse: 0.376616\n",
            "[189]\tvalid_0's rmse: 0.376399\n",
            "[190]\tvalid_0's rmse: 0.376354\n",
            "[191]\tvalid_0's rmse: 0.376289\n",
            "[192]\tvalid_0's rmse: 0.376058\n",
            "[193]\tvalid_0's rmse: 0.375984\n",
            "[194]\tvalid_0's rmse: 0.375775\n",
            "[195]\tvalid_0's rmse: 0.375477\n",
            "[196]\tvalid_0's rmse: 0.375313\n",
            "[197]\tvalid_0's rmse: 0.375056\n",
            "[198]\tvalid_0's rmse: 0.374979\n",
            "[199]\tvalid_0's rmse: 0.375059\n",
            "[200]\tvalid_0's rmse: 0.375071\n",
            "[201]\tvalid_0's rmse: 0.374885\n",
            "[202]\tvalid_0's rmse: 0.374611\n",
            "[203]\tvalid_0's rmse: 0.374411\n",
            "[204]\tvalid_0's rmse: 0.374199\n",
            "[205]\tvalid_0's rmse: 0.374155\n",
            "[206]\tvalid_0's rmse: 0.374025\n",
            "[207]\tvalid_0's rmse: 0.374016\n",
            "[208]\tvalid_0's rmse: 0.373998\n",
            "[209]\tvalid_0's rmse: 0.373828\n",
            "[210]\tvalid_0's rmse: 0.373484\n",
            "[211]\tvalid_0's rmse: 0.373318\n",
            "[212]\tvalid_0's rmse: 0.373105\n",
            "[213]\tvalid_0's rmse: 0.373138\n",
            "[214]\tvalid_0's rmse: 0.372864\n",
            "[215]\tvalid_0's rmse: 0.372916\n",
            "[216]\tvalid_0's rmse: 0.372754\n",
            "[217]\tvalid_0's rmse: 0.372378\n",
            "[218]\tvalid_0's rmse: 0.372243\n",
            "[219]\tvalid_0's rmse: 0.372224\n",
            "[220]\tvalid_0's rmse: 0.372314\n",
            "[221]\tvalid_0's rmse: 0.37224\n",
            "[222]\tvalid_0's rmse: 0.371967\n",
            "[223]\tvalid_0's rmse: 0.37169\n",
            "[224]\tvalid_0's rmse: 0.37154\n",
            "[225]\tvalid_0's rmse: 0.371431\n",
            "[226]\tvalid_0's rmse: 0.371451\n",
            "[227]\tvalid_0's rmse: 0.371354\n",
            "[228]\tvalid_0's rmse: 0.371343\n",
            "[229]\tvalid_0's rmse: 0.371316\n",
            "[230]\tvalid_0's rmse: 0.371372\n",
            "[231]\tvalid_0's rmse: 0.371151\n",
            "[232]\tvalid_0's rmse: 0.371005\n",
            "[233]\tvalid_0's rmse: 0.371086\n",
            "[234]\tvalid_0's rmse: 0.370949\n",
            "[235]\tvalid_0's rmse: 0.370911\n",
            "[236]\tvalid_0's rmse: 0.370647\n",
            "[237]\tvalid_0's rmse: 0.370621\n",
            "[238]\tvalid_0's rmse: 0.370632\n",
            "[239]\tvalid_0's rmse: 0.370475\n",
            "[240]\tvalid_0's rmse: 0.370361\n",
            "[241]\tvalid_0's rmse: 0.370142\n",
            "[242]\tvalid_0's rmse: 0.370152\n",
            "[243]\tvalid_0's rmse: 0.36992\n",
            "[244]\tvalid_0's rmse: 0.369872\n",
            "[245]\tvalid_0's rmse: 0.369817\n",
            "[246]\tvalid_0's rmse: 0.369694\n",
            "[247]\tvalid_0's rmse: 0.369532\n",
            "[248]\tvalid_0's rmse: 0.369497\n",
            "[249]\tvalid_0's rmse: 0.368862\n",
            "[250]\tvalid_0's rmse: 0.368913\n",
            "[251]\tvalid_0's rmse: 0.368808\n",
            "[252]\tvalid_0's rmse: 0.368846\n",
            "[253]\tvalid_0's rmse: 0.368774\n",
            "[254]\tvalid_0's rmse: 0.368838\n",
            "[255]\tvalid_0's rmse: 0.36876\n",
            "[256]\tvalid_0's rmse: 0.368645\n",
            "[257]\tvalid_0's rmse: 0.368512\n",
            "[258]\tvalid_0's rmse: 0.368445\n",
            "[259]\tvalid_0's rmse: 0.36834\n",
            "[260]\tvalid_0's rmse: 0.368279\n",
            "[261]\tvalid_0's rmse: 0.368153\n",
            "[262]\tvalid_0's rmse: 0.36814\n",
            "[263]\tvalid_0's rmse: 0.367934\n",
            "[264]\tvalid_0's rmse: 0.367798\n",
            "[265]\tvalid_0's rmse: 0.367742\n",
            "[266]\tvalid_0's rmse: 0.367651\n",
            "[267]\tvalid_0's rmse: 0.367414\n",
            "[268]\tvalid_0's rmse: 0.367393\n",
            "[269]\tvalid_0's rmse: 0.367137\n",
            "[270]\tvalid_0's rmse: 0.367167\n",
            "[271]\tvalid_0's rmse: 0.36711\n",
            "[272]\tvalid_0's rmse: 0.367116\n",
            "[273]\tvalid_0's rmse: 0.366851\n",
            "[274]\tvalid_0's rmse: 0.36681\n",
            "[275]\tvalid_0's rmse: 0.36647\n",
            "[276]\tvalid_0's rmse: 0.366388\n",
            "[277]\tvalid_0's rmse: 0.366353\n",
            "[278]\tvalid_0's rmse: 0.366284\n",
            "[279]\tvalid_0's rmse: 0.366328\n",
            "[280]\tvalid_0's rmse: 0.366286\n",
            "[281]\tvalid_0's rmse: 0.366131\n",
            "[282]\tvalid_0's rmse: 0.366256\n",
            "[283]\tvalid_0's rmse: 0.366143\n",
            "[284]\tvalid_0's rmse: 0.366261\n",
            "[285]\tvalid_0's rmse: 0.366327\n",
            "[286]\tvalid_0's rmse: 0.366241\n",
            "[287]\tvalid_0's rmse: 0.366191\n",
            "[288]\tvalid_0's rmse: 0.366083\n",
            "[289]\tvalid_0's rmse: 0.366026\n",
            "[290]\tvalid_0's rmse: 0.365995\n",
            "[291]\tvalid_0's rmse: 0.365892\n",
            "[292]\tvalid_0's rmse: 0.365896\n",
            "[293]\tvalid_0's rmse: 0.365902\n",
            "[294]\tvalid_0's rmse: 0.365864\n",
            "[295]\tvalid_0's rmse: 0.365861\n",
            "[296]\tvalid_0's rmse: 0.365861\n",
            "[297]\tvalid_0's rmse: 0.365861\n",
            "[298]\tvalid_0's rmse: 0.365861\n",
            "[299]\tvalid_0's rmse: 0.365861\n",
            "[300]\tvalid_0's rmse: 0.365861\n",
            "[301]\tvalid_0's rmse: 0.365861\n",
            "[302]\tvalid_0's rmse: 0.365861\n",
            "[303]\tvalid_0's rmse: 0.365861\n",
            "[304]\tvalid_0's rmse: 0.365861\n",
            "[305]\tvalid_0's rmse: 0.365861\n",
            "[306]\tvalid_0's rmse: 0.365861\n",
            "[307]\tvalid_0's rmse: 0.365861\n",
            "[308]\tvalid_0's rmse: 0.365861\n",
            "[309]\tvalid_0's rmse: 0.365861\n",
            "[310]\tvalid_0's rmse: 0.365861\n",
            "[311]\tvalid_0's rmse: 0.365861\n",
            "[312]\tvalid_0's rmse: 0.365861\n",
            "[313]\tvalid_0's rmse: 0.365861\n",
            "[314]\tvalid_0's rmse: 0.365861\n",
            "[315]\tvalid_0's rmse: 0.365861\n",
            "[316]\tvalid_0's rmse: 0.365861\n",
            "[317]\tvalid_0's rmse: 0.365861\n",
            "[318]\tvalid_0's rmse: 0.365861\n",
            "[319]\tvalid_0's rmse: 0.365861\n",
            "[320]\tvalid_0's rmse: 0.365861\n",
            "[321]\tvalid_0's rmse: 0.365861\n",
            "[322]\tvalid_0's rmse: 0.365861\n",
            "[323]\tvalid_0's rmse: 0.365861\n",
            "[324]\tvalid_0's rmse: 0.365861\n",
            "[325]\tvalid_0's rmse: 0.365861\n",
            "[326]\tvalid_0's rmse: 0.365861\n",
            "[327]\tvalid_0's rmse: 0.365861\n",
            "[328]\tvalid_0's rmse: 0.365861\n",
            "[329]\tvalid_0's rmse: 0.365861\n",
            "[330]\tvalid_0's rmse: 0.365861\n",
            "[331]\tvalid_0's rmse: 0.365861\n",
            "[332]\tvalid_0's rmse: 0.365861\n",
            "[333]\tvalid_0's rmse: 0.365861\n",
            "[334]\tvalid_0's rmse: 0.365861\n",
            "[335]\tvalid_0's rmse: 0.365861\n",
            "[336]\tvalid_0's rmse: 0.365861\n",
            "[337]\tvalid_0's rmse: 0.365861\n",
            "[338]\tvalid_0's rmse: 0.365861\n",
            "[339]\tvalid_0's rmse: 0.365861\n",
            "[340]\tvalid_0's rmse: 0.365861\n",
            "[341]\tvalid_0's rmse: 0.365861\n",
            "[342]\tvalid_0's rmse: 0.365861\n",
            "[343]\tvalid_0's rmse: 0.365861\n",
            "[344]\tvalid_0's rmse: 0.365861\n",
            "[345]\tvalid_0's rmse: 0.365861\n",
            "[346]\tvalid_0's rmse: 0.365861\n",
            "[347]\tvalid_0's rmse: 0.365861\n",
            "[348]\tvalid_0's rmse: 0.365861\n",
            "[349]\tvalid_0's rmse: 0.365861\n",
            "[350]\tvalid_0's rmse: 0.365861\n",
            "[351]\tvalid_0's rmse: 0.365861\n",
            "[352]\tvalid_0's rmse: 0.365861\n",
            "[353]\tvalid_0's rmse: 0.365861\n",
            "[354]\tvalid_0's rmse: 0.365861\n",
            "[355]\tvalid_0's rmse: 0.365861\n",
            "[356]\tvalid_0's rmse: 0.365861\n",
            "[357]\tvalid_0's rmse: 0.365861\n",
            "[358]\tvalid_0's rmse: 0.365861\n",
            "[359]\tvalid_0's rmse: 0.365861\n",
            "[360]\tvalid_0's rmse: 0.365861\n",
            "[361]\tvalid_0's rmse: 0.365861\n",
            "[362]\tvalid_0's rmse: 0.365861\n",
            "[363]\tvalid_0's rmse: 0.365861\n",
            "[364]\tvalid_0's rmse: 0.365861\n",
            "[365]\tvalid_0's rmse: 0.365861\n",
            "[366]\tvalid_0's rmse: 0.365861\n",
            "[367]\tvalid_0's rmse: 0.365861\n",
            "[368]\tvalid_0's rmse: 0.365861\n",
            "[369]\tvalid_0's rmse: 0.365861\n",
            "[370]\tvalid_0's rmse: 0.365861\n",
            "[371]\tvalid_0's rmse: 0.365861\n",
            "[372]\tvalid_0's rmse: 0.365861\n",
            "[373]\tvalid_0's rmse: 0.365861\n",
            "[374]\tvalid_0's rmse: 0.365861\n",
            "[375]\tvalid_0's rmse: 0.365861\n",
            "[376]\tvalid_0's rmse: 0.365861\n",
            "[377]\tvalid_0's rmse: 0.365861\n",
            "[378]\tvalid_0's rmse: 0.365861\n",
            "[379]\tvalid_0's rmse: 0.365861\n",
            "[380]\tvalid_0's rmse: 0.365861\n",
            "[381]\tvalid_0's rmse: 0.365861\n",
            "[382]\tvalid_0's rmse: 0.365861\n",
            "[383]\tvalid_0's rmse: 0.365861\n",
            "[384]\tvalid_0's rmse: 0.365861\n",
            "[385]\tvalid_0's rmse: 0.365861\n",
            "[386]\tvalid_0's rmse: 0.365861\n",
            "[387]\tvalid_0's rmse: 0.365861\n",
            "[388]\tvalid_0's rmse: 0.365861\n",
            "[389]\tvalid_0's rmse: 0.365861\n",
            "[390]\tvalid_0's rmse: 0.365861\n",
            "[391]\tvalid_0's rmse: 0.365861\n",
            "[392]\tvalid_0's rmse: 0.365861\n",
            "[393]\tvalid_0's rmse: 0.365861\n",
            "[394]\tvalid_0's rmse: 0.365861\n",
            "[395]\tvalid_0's rmse: 0.365861\n",
            "[396]\tvalid_0's rmse: 0.365861\n",
            "[397]\tvalid_0's rmse: 0.365861\n",
            "[398]\tvalid_0's rmse: 0.365861\n",
            "[399]\tvalid_0's rmse: 0.365861\n",
            "[400]\tvalid_0's rmse: 0.365861\n",
            "[401]\tvalid_0's rmse: 0.365861\n",
            "[402]\tvalid_0's rmse: 0.365861\n",
            "[403]\tvalid_0's rmse: 0.365861\n",
            "[404]\tvalid_0's rmse: 0.365861\n",
            "[405]\tvalid_0's rmse: 0.365861\n",
            "[406]\tvalid_0's rmse: 0.365861\n",
            "[407]\tvalid_0's rmse: 0.365861\n",
            "[408]\tvalid_0's rmse: 0.365861\n",
            "[409]\tvalid_0's rmse: 0.365861\n",
            "[410]\tvalid_0's rmse: 0.365861\n",
            "[411]\tvalid_0's rmse: 0.365861\n",
            "[412]\tvalid_0's rmse: 0.365861\n",
            "[413]\tvalid_0's rmse: 0.365861\n",
            "[414]\tvalid_0's rmse: 0.365861\n",
            "[415]\tvalid_0's rmse: 0.365861\n",
            "[416]\tvalid_0's rmse: 0.365861\n",
            "[417]\tvalid_0's rmse: 0.365861\n",
            "[418]\tvalid_0's rmse: 0.365861\n",
            "[419]\tvalid_0's rmse: 0.365861\n",
            "[420]\tvalid_0's rmse: 0.365861\n",
            "[421]\tvalid_0's rmse: 0.365861\n",
            "[422]\tvalid_0's rmse: 0.365861\n",
            "[423]\tvalid_0's rmse: 0.365861\n",
            "[424]\tvalid_0's rmse: 0.365861\n",
            "[425]\tvalid_0's rmse: 0.365861\n",
            "[426]\tvalid_0's rmse: 0.365861\n",
            "[427]\tvalid_0's rmse: 0.365861\n",
            "[428]\tvalid_0's rmse: 0.365861\n",
            "[429]\tvalid_0's rmse: 0.365861\n",
            "[430]\tvalid_0's rmse: 0.365861\n",
            "[431]\tvalid_0's rmse: 0.365861\n",
            "[432]\tvalid_0's rmse: 0.365861\n",
            "[433]\tvalid_0's rmse: 0.365861\n",
            "[434]\tvalid_0's rmse: 0.365861\n",
            "[435]\tvalid_0's rmse: 0.365861\n",
            "[436]\tvalid_0's rmse: 0.365861\n",
            "[437]\tvalid_0's rmse: 0.365861\n",
            "[438]\tvalid_0's rmse: 0.365861\n",
            "[439]\tvalid_0's rmse: 0.365861\n",
            "[440]\tvalid_0's rmse: 0.365861\n",
            "[441]\tvalid_0's rmse: 0.365861\n",
            "[442]\tvalid_0's rmse: 0.365861\n",
            "[443]\tvalid_0's rmse: 0.365861\n",
            "[444]\tvalid_0's rmse: 0.365861\n",
            "[445]\tvalid_0's rmse: 0.365861\n",
            "[446]\tvalid_0's rmse: 0.365861\n",
            "[447]\tvalid_0's rmse: 0.365861\n",
            "[448]\tvalid_0's rmse: 0.365861\n",
            "[449]\tvalid_0's rmse: 0.365861\n",
            "[450]\tvalid_0's rmse: 0.365861\n",
            "[451]\tvalid_0's rmse: 0.365861\n",
            "[452]\tvalid_0's rmse: 0.365861\n",
            "[453]\tvalid_0's rmse: 0.365861\n",
            "[454]\tvalid_0's rmse: 0.365861\n",
            "[455]\tvalid_0's rmse: 0.365861\n",
            "[456]\tvalid_0's rmse: 0.365861\n",
            "[457]\tvalid_0's rmse: 0.365861\n",
            "[458]\tvalid_0's rmse: 0.365861\n",
            "[459]\tvalid_0's rmse: 0.365861\n",
            "[460]\tvalid_0's rmse: 0.365861\n",
            "[461]\tvalid_0's rmse: 0.365861\n",
            "[462]\tvalid_0's rmse: 0.365861\n",
            "[463]\tvalid_0's rmse: 0.365861\n",
            "[464]\tvalid_0's rmse: 0.365861\n",
            "[465]\tvalid_0's rmse: 0.365861\n",
            "[466]\tvalid_0's rmse: 0.365861\n",
            "[467]\tvalid_0's rmse: 0.365861\n",
            "[468]\tvalid_0's rmse: 0.365861\n",
            "[469]\tvalid_0's rmse: 0.365861\n",
            "[470]\tvalid_0's rmse: 0.365861\n",
            "[471]\tvalid_0's rmse: 0.365861\n",
            "[472]\tvalid_0's rmse: 0.365861\n",
            "[473]\tvalid_0's rmse: 0.365861\n",
            "[474]\tvalid_0's rmse: 0.365861\n",
            "[475]\tvalid_0's rmse: 0.365861\n",
            "[476]\tvalid_0's rmse: 0.365861\n",
            "[477]\tvalid_0's rmse: 0.365861\n",
            "[478]\tvalid_0's rmse: 0.365861\n",
            "[479]\tvalid_0's rmse: 0.365861\n",
            "[480]\tvalid_0's rmse: 0.365861\n",
            "[481]\tvalid_0's rmse: 0.365861\n",
            "[482]\tvalid_0's rmse: 0.365861\n",
            "[483]\tvalid_0's rmse: 0.365861\n",
            "[484]\tvalid_0's rmse: 0.365861\n",
            "[485]\tvalid_0's rmse: 0.365861\n",
            "[486]\tvalid_0's rmse: 0.365861\n",
            "[487]\tvalid_0's rmse: 0.365861\n",
            "[488]\tvalid_0's rmse: 0.365861\n",
            "[489]\tvalid_0's rmse: 0.365861\n",
            "[490]\tvalid_0's rmse: 0.365861\n",
            "[491]\tvalid_0's rmse: 0.365861\n",
            "[492]\tvalid_0's rmse: 0.365861\n",
            "[493]\tvalid_0's rmse: 0.365861\n",
            "[494]\tvalid_0's rmse: 0.365861\n",
            "[495]\tvalid_0's rmse: 0.365861\n",
            "[496]\tvalid_0's rmse: 0.365861\n",
            "[497]\tvalid_0's rmse: 0.365861\n",
            "[498]\tvalid_0's rmse: 0.365861\n",
            "[499]\tvalid_0's rmse: 0.365861\n",
            "[500]\tvalid_0's rmse: 0.365861\n",
            "[501]\tvalid_0's rmse: 0.365861\n",
            "[502]\tvalid_0's rmse: 0.365861\n",
            "[503]\tvalid_0's rmse: 0.365861\n",
            "[504]\tvalid_0's rmse: 0.365861\n",
            "[505]\tvalid_0's rmse: 0.365861\n",
            "[506]\tvalid_0's rmse: 0.365861\n",
            "[507]\tvalid_0's rmse: 0.365861\n",
            "[508]\tvalid_0's rmse: 0.365861\n",
            "[509]\tvalid_0's rmse: 0.365861\n",
            "[510]\tvalid_0's rmse: 0.365861\n",
            "[511]\tvalid_0's rmse: 0.365861\n",
            "[512]\tvalid_0's rmse: 0.365861\n",
            "[513]\tvalid_0's rmse: 0.365861\n",
            "[514]\tvalid_0's rmse: 0.365861\n",
            "[515]\tvalid_0's rmse: 0.365861\n",
            "[516]\tvalid_0's rmse: 0.365861\n",
            "[517]\tvalid_0's rmse: 0.365861\n",
            "[518]\tvalid_0's rmse: 0.365861\n",
            "[519]\tvalid_0's rmse: 0.365861\n",
            "[520]\tvalid_0's rmse: 0.365861\n",
            "[521]\tvalid_0's rmse: 0.365861\n",
            "[522]\tvalid_0's rmse: 0.365861\n",
            "[523]\tvalid_0's rmse: 0.365861\n",
            "[524]\tvalid_0's rmse: 0.365861\n",
            "[525]\tvalid_0's rmse: 0.365861\n",
            "[526]\tvalid_0's rmse: 0.365861\n",
            "[527]\tvalid_0's rmse: 0.365861\n",
            "[528]\tvalid_0's rmse: 0.365861\n",
            "[529]\tvalid_0's rmse: 0.365861\n",
            "[530]\tvalid_0's rmse: 0.365861\n",
            "[531]\tvalid_0's rmse: 0.365861\n",
            "[532]\tvalid_0's rmse: 0.365861\n",
            "[533]\tvalid_0's rmse: 0.365861\n",
            "[534]\tvalid_0's rmse: 0.365861\n",
            "[535]\tvalid_0's rmse: 0.365861\n",
            "[536]\tvalid_0's rmse: 0.365861\n",
            "[537]\tvalid_0's rmse: 0.365861\n",
            "[538]\tvalid_0's rmse: 0.365861\n",
            "[539]\tvalid_0's rmse: 0.365861\n",
            "[540]\tvalid_0's rmse: 0.365861\n",
            "[541]\tvalid_0's rmse: 0.365861\n",
            "[542]\tvalid_0's rmse: 0.365861\n",
            "[543]\tvalid_0's rmse: 0.365861\n",
            "[544]\tvalid_0's rmse: 0.365861\n",
            "[545]\tvalid_0's rmse: 0.365861\n",
            "[546]\tvalid_0's rmse: 0.365861\n",
            "[547]\tvalid_0's rmse: 0.365861\n",
            "[548]\tvalid_0's rmse: 0.365861\n",
            "[549]\tvalid_0's rmse: 0.365861\n",
            "[550]\tvalid_0's rmse: 0.365861\n",
            "[551]\tvalid_0's rmse: 0.365861\n",
            "[552]\tvalid_0's rmse: 0.365861\n",
            "[553]\tvalid_0's rmse: 0.365861\n",
            "[554]\tvalid_0's rmse: 0.365861\n",
            "[555]\tvalid_0's rmse: 0.365861\n",
            "[556]\tvalid_0's rmse: 0.365861\n",
            "[557]\tvalid_0's rmse: 0.365861\n",
            "[558]\tvalid_0's rmse: 0.365861\n",
            "[559]\tvalid_0's rmse: 0.365861\n",
            "[560]\tvalid_0's rmse: 0.365861\n",
            "[561]\tvalid_0's rmse: 0.365861\n",
            "[562]\tvalid_0's rmse: 0.365861\n",
            "[563]\tvalid_0's rmse: 0.365861\n",
            "[564]\tvalid_0's rmse: 0.365861\n",
            "[565]\tvalid_0's rmse: 0.365861\n",
            "[566]\tvalid_0's rmse: 0.365861\n",
            "[567]\tvalid_0's rmse: 0.365861\n",
            "[568]\tvalid_0's rmse: 0.365861\n",
            "[569]\tvalid_0's rmse: 0.365861\n",
            "[570]\tvalid_0's rmse: 0.365861\n",
            "[571]\tvalid_0's rmse: 0.365861\n",
            "[572]\tvalid_0's rmse: 0.365861\n",
            "[573]\tvalid_0's rmse: 0.365861\n",
            "[574]\tvalid_0's rmse: 0.365861\n",
            "[575]\tvalid_0's rmse: 0.365861\n",
            "[576]\tvalid_0's rmse: 0.365861\n",
            "[577]\tvalid_0's rmse: 0.365861\n",
            "[578]\tvalid_0's rmse: 0.365861\n",
            "[579]\tvalid_0's rmse: 0.365861\n",
            "[580]\tvalid_0's rmse: 0.365861\n",
            "[581]\tvalid_0's rmse: 0.365861\n",
            "[582]\tvalid_0's rmse: 0.365861\n",
            "[583]\tvalid_0's rmse: 0.365861\n",
            "[584]\tvalid_0's rmse: 0.365861\n",
            "[585]\tvalid_0's rmse: 0.365861\n",
            "[586]\tvalid_0's rmse: 0.365861\n",
            "[587]\tvalid_0's rmse: 0.365861\n",
            "[588]\tvalid_0's rmse: 0.365861\n",
            "[589]\tvalid_0's rmse: 0.365861\n",
            "[590]\tvalid_0's rmse: 0.365861\n",
            "[591]\tvalid_0's rmse: 0.365861\n",
            "[592]\tvalid_0's rmse: 0.365861\n",
            "[593]\tvalid_0's rmse: 0.365861\n",
            "[594]\tvalid_0's rmse: 0.365861\n",
            "[595]\tvalid_0's rmse: 0.365861\n",
            "[596]\tvalid_0's rmse: 0.365861\n",
            "[597]\tvalid_0's rmse: 0.365861\n",
            "[598]\tvalid_0's rmse: 0.365861\n",
            "[599]\tvalid_0's rmse: 0.365861\n",
            "[600]\tvalid_0's rmse: 0.365861\n",
            "[601]\tvalid_0's rmse: 0.365861\n",
            "[602]\tvalid_0's rmse: 0.365861\n",
            "[603]\tvalid_0's rmse: 0.365861\n",
            "[604]\tvalid_0's rmse: 0.365861\n",
            "[605]\tvalid_0's rmse: 0.365861\n",
            "[606]\tvalid_0's rmse: 0.365861\n",
            "[607]\tvalid_0's rmse: 0.365861\n",
            "[608]\tvalid_0's rmse: 0.365861\n",
            "[609]\tvalid_0's rmse: 0.365861\n",
            "[610]\tvalid_0's rmse: 0.365861\n",
            "[611]\tvalid_0's rmse: 0.365861\n",
            "[612]\tvalid_0's rmse: 0.365861\n",
            "[613]\tvalid_0's rmse: 0.365861\n",
            "[614]\tvalid_0's rmse: 0.365861\n",
            "[615]\tvalid_0's rmse: 0.365861\n",
            "[616]\tvalid_0's rmse: 0.365861\n",
            "[617]\tvalid_0's rmse: 0.365861\n",
            "[618]\tvalid_0's rmse: 0.365861\n",
            "[619]\tvalid_0's rmse: 0.365861\n",
            "[620]\tvalid_0's rmse: 0.365861\n",
            "[621]\tvalid_0's rmse: 0.365861\n",
            "[622]\tvalid_0's rmse: 0.365861\n",
            "[623]\tvalid_0's rmse: 0.365861\n",
            "[624]\tvalid_0's rmse: 0.365861\n",
            "[625]\tvalid_0's rmse: 0.365861\n",
            "[626]\tvalid_0's rmse: 0.365861\n",
            "[627]\tvalid_0's rmse: 0.365861\n",
            "[628]\tvalid_0's rmse: 0.365861\n",
            "[629]\tvalid_0's rmse: 0.365861\n",
            "[630]\tvalid_0's rmse: 0.365861\n",
            "[631]\tvalid_0's rmse: 0.365861\n",
            "[632]\tvalid_0's rmse: 0.365861\n",
            "[633]\tvalid_0's rmse: 0.365861\n",
            "[634]\tvalid_0's rmse: 0.365861\n",
            "[635]\tvalid_0's rmse: 0.365861\n",
            "[636]\tvalid_0's rmse: 0.365861\n",
            "[637]\tvalid_0's rmse: 0.365861\n",
            "[638]\tvalid_0's rmse: 0.365861\n",
            "[639]\tvalid_0's rmse: 0.365861\n",
            "[640]\tvalid_0's rmse: 0.365861\n",
            "[641]\tvalid_0's rmse: 0.365861\n",
            "[642]\tvalid_0's rmse: 0.365861\n",
            "[643]\tvalid_0's rmse: 0.365861\n",
            "[644]\tvalid_0's rmse: 0.365861\n",
            "[645]\tvalid_0's rmse: 0.365861\n",
            "[646]\tvalid_0's rmse: 0.365861\n",
            "[647]\tvalid_0's rmse: 0.365861\n",
            "[648]\tvalid_0's rmse: 0.365861\n",
            "[649]\tvalid_0's rmse: 0.365861\n",
            "[650]\tvalid_0's rmse: 0.365861\n",
            "[651]\tvalid_0's rmse: 0.365861\n",
            "[652]\tvalid_0's rmse: 0.365861\n",
            "[653]\tvalid_0's rmse: 0.365861\n",
            "[654]\tvalid_0's rmse: 0.365861\n",
            "[655]\tvalid_0's rmse: 0.365861\n",
            "[656]\tvalid_0's rmse: 0.365861\n",
            "[657]\tvalid_0's rmse: 0.365861\n",
            "[658]\tvalid_0's rmse: 0.365861\n",
            "[659]\tvalid_0's rmse: 0.365861\n",
            "[660]\tvalid_0's rmse: 0.365861\n",
            "[661]\tvalid_0's rmse: 0.365861\n",
            "[662]\tvalid_0's rmse: 0.365861\n",
            "[663]\tvalid_0's rmse: 0.365861\n",
            "[664]\tvalid_0's rmse: 0.365861\n",
            "[665]\tvalid_0's rmse: 0.365861\n",
            "[666]\tvalid_0's rmse: 0.365861\n",
            "[667]\tvalid_0's rmse: 0.365861\n",
            "[668]\tvalid_0's rmse: 0.365861\n",
            "[669]\tvalid_0's rmse: 0.365861\n",
            "[670]\tvalid_0's rmse: 0.365861\n",
            "[671]\tvalid_0's rmse: 0.365861\n",
            "[672]\tvalid_0's rmse: 0.365861\n",
            "[673]\tvalid_0's rmse: 0.365861\n",
            "[674]\tvalid_0's rmse: 0.365861\n",
            "[675]\tvalid_0's rmse: 0.365861\n",
            "[676]\tvalid_0's rmse: 0.365861\n",
            "[677]\tvalid_0's rmse: 0.365861\n",
            "[678]\tvalid_0's rmse: 0.365861\n",
            "[679]\tvalid_0's rmse: 0.365861\n",
            "[680]\tvalid_0's rmse: 0.365861\n",
            "[681]\tvalid_0's rmse: 0.365861\n",
            "[682]\tvalid_0's rmse: 0.365861\n",
            "[683]\tvalid_0's rmse: 0.365861\n",
            "[684]\tvalid_0's rmse: 0.365861\n",
            "[685]\tvalid_0's rmse: 0.365861\n",
            "[686]\tvalid_0's rmse: 0.365861\n",
            "[687]\tvalid_0's rmse: 0.365861\n",
            "[688]\tvalid_0's rmse: 0.365861\n",
            "[689]\tvalid_0's rmse: 0.365861\n",
            "[690]\tvalid_0's rmse: 0.365861\n",
            "[691]\tvalid_0's rmse: 0.365861\n",
            "[692]\tvalid_0's rmse: 0.365861\n",
            "[693]\tvalid_0's rmse: 0.365861\n",
            "[694]\tvalid_0's rmse: 0.365861\n",
            "[695]\tvalid_0's rmse: 0.365861\n",
            "[696]\tvalid_0's rmse: 0.365861\n",
            "[697]\tvalid_0's rmse: 0.365861\n",
            "[698]\tvalid_0's rmse: 0.365861\n",
            "[699]\tvalid_0's rmse: 0.365861\n",
            "[700]\tvalid_0's rmse: 0.365861\n",
            "[701]\tvalid_0's rmse: 0.365861\n",
            "[702]\tvalid_0's rmse: 0.365861\n",
            "[703]\tvalid_0's rmse: 0.365861\n",
            "[704]\tvalid_0's rmse: 0.365861\n",
            "[705]\tvalid_0's rmse: 0.365861\n",
            "[706]\tvalid_0's rmse: 0.365861\n",
            "[707]\tvalid_0's rmse: 0.365861\n",
            "[708]\tvalid_0's rmse: 0.365861\n",
            "[709]\tvalid_0's rmse: 0.365861\n",
            "[710]\tvalid_0's rmse: 0.365861\n",
            "[711]\tvalid_0's rmse: 0.365861\n",
            "[712]\tvalid_0's rmse: 0.365861\n",
            "[713]\tvalid_0's rmse: 0.365861\n",
            "[714]\tvalid_0's rmse: 0.365861\n",
            "[715]\tvalid_0's rmse: 0.365861\n",
            "[716]\tvalid_0's rmse: 0.365861\n",
            "[717]\tvalid_0's rmse: 0.365861\n",
            "[718]\tvalid_0's rmse: 0.365861\n",
            "[719]\tvalid_0's rmse: 0.365861\n",
            "[720]\tvalid_0's rmse: 0.365861\n",
            "[721]\tvalid_0's rmse: 0.365861\n",
            "[722]\tvalid_0's rmse: 0.365861\n",
            "[723]\tvalid_0's rmse: 0.365861\n",
            "[724]\tvalid_0's rmse: 0.365861\n",
            "[725]\tvalid_0's rmse: 0.365861\n",
            "[726]\tvalid_0's rmse: 0.365861\n",
            "[727]\tvalid_0's rmse: 0.365861\n",
            "[728]\tvalid_0's rmse: 0.365861\n",
            "[729]\tvalid_0's rmse: 0.365861\n",
            "[730]\tvalid_0's rmse: 0.365861\n",
            "[731]\tvalid_0's rmse: 0.365861\n",
            "[732]\tvalid_0's rmse: 0.365861\n",
            "[733]\tvalid_0's rmse: 0.365861\n",
            "[734]\tvalid_0's rmse: 0.365861\n",
            "[735]\tvalid_0's rmse: 0.365861\n",
            "[736]\tvalid_0's rmse: 0.365861\n",
            "[737]\tvalid_0's rmse: 0.365861\n",
            "[738]\tvalid_0's rmse: 0.365861\n",
            "[739]\tvalid_0's rmse: 0.365861\n",
            "[740]\tvalid_0's rmse: 0.365861\n",
            "[741]\tvalid_0's rmse: 0.365861\n",
            "[742]\tvalid_0's rmse: 0.365861\n",
            "[743]\tvalid_0's rmse: 0.365861\n",
            "[744]\tvalid_0's rmse: 0.365861\n",
            "[745]\tvalid_0's rmse: 0.365861\n",
            "[746]\tvalid_0's rmse: 0.365861\n",
            "[747]\tvalid_0's rmse: 0.365861\n",
            "[748]\tvalid_0's rmse: 0.365861\n",
            "[749]\tvalid_0's rmse: 0.365861\n",
            "[750]\tvalid_0's rmse: 0.365861\n",
            "[751]\tvalid_0's rmse: 0.365861\n",
            "[752]\tvalid_0's rmse: 0.365861\n",
            "[753]\tvalid_0's rmse: 0.365861\n",
            "[754]\tvalid_0's rmse: 0.365861\n",
            "[755]\tvalid_0's rmse: 0.365861\n",
            "[756]\tvalid_0's rmse: 0.365861\n",
            "[757]\tvalid_0's rmse: 0.365861\n",
            "[758]\tvalid_0's rmse: 0.365861\n",
            "[759]\tvalid_0's rmse: 0.365861\n",
            "[760]\tvalid_0's rmse: 0.365861\n",
            "[761]\tvalid_0's rmse: 0.365861\n",
            "[762]\tvalid_0's rmse: 0.365861\n",
            "[763]\tvalid_0's rmse: 0.365861\n",
            "[764]\tvalid_0's rmse: 0.365861\n",
            "[765]\tvalid_0's rmse: 0.365861\n",
            "[766]\tvalid_0's rmse: 0.365861\n",
            "[767]\tvalid_0's rmse: 0.365861\n",
            "[768]\tvalid_0's rmse: 0.365861\n",
            "[769]\tvalid_0's rmse: 0.365861\n",
            "[770]\tvalid_0's rmse: 0.365861\n",
            "[771]\tvalid_0's rmse: 0.365861\n",
            "[772]\tvalid_0's rmse: 0.365861\n",
            "[773]\tvalid_0's rmse: 0.365861\n",
            "[774]\tvalid_0's rmse: 0.365861\n",
            "[775]\tvalid_0's rmse: 0.365861\n",
            "[776]\tvalid_0's rmse: 0.365861\n",
            "[777]\tvalid_0's rmse: 0.365861\n",
            "[778]\tvalid_0's rmse: 0.365861\n",
            "[779]\tvalid_0's rmse: 0.365861\n",
            "[780]\tvalid_0's rmse: 0.365861\n",
            "[781]\tvalid_0's rmse: 0.365861\n",
            "[782]\tvalid_0's rmse: 0.365861\n",
            "[783]\tvalid_0's rmse: 0.365861\n",
            "[784]\tvalid_0's rmse: 0.365861\n",
            "[785]\tvalid_0's rmse: 0.365861\n",
            "[786]\tvalid_0's rmse: 0.365861\n",
            "[787]\tvalid_0's rmse: 0.365861\n",
            "[788]\tvalid_0's rmse: 0.365861\n",
            "[789]\tvalid_0's rmse: 0.365861\n",
            "[790]\tvalid_0's rmse: 0.365861\n",
            "[791]\tvalid_0's rmse: 0.365861\n",
            "[792]\tvalid_0's rmse: 0.365861\n",
            "[793]\tvalid_0's rmse: 0.365861\n",
            "[794]\tvalid_0's rmse: 0.365861\n",
            "[795]\tvalid_0's rmse: 0.365861\n",
            "[796]\tvalid_0's rmse: 0.365861\n",
            "[797]\tvalid_0's rmse: 0.365861\n",
            "[798]\tvalid_0's rmse: 0.365861\n",
            "[799]\tvalid_0's rmse: 0.365861\n",
            "[800]\tvalid_0's rmse: 0.365861\n",
            "[801]\tvalid_0's rmse: 0.365861\n",
            "[802]\tvalid_0's rmse: 0.365861\n",
            "[803]\tvalid_0's rmse: 0.365861\n",
            "[804]\tvalid_0's rmse: 0.365861\n",
            "[805]\tvalid_0's rmse: 0.365861\n",
            "[806]\tvalid_0's rmse: 0.365861\n",
            "[807]\tvalid_0's rmse: 0.365861\n",
            "[808]\tvalid_0's rmse: 0.365861\n",
            "[809]\tvalid_0's rmse: 0.365861\n",
            "[810]\tvalid_0's rmse: 0.365861\n",
            "[811]\tvalid_0's rmse: 0.365861\n",
            "[812]\tvalid_0's rmse: 0.365861\n",
            "[813]\tvalid_0's rmse: 0.365861\n",
            "[814]\tvalid_0's rmse: 0.365861\n",
            "[815]\tvalid_0's rmse: 0.365861\n",
            "[816]\tvalid_0's rmse: 0.365861\n",
            "[817]\tvalid_0's rmse: 0.365861\n",
            "[818]\tvalid_0's rmse: 0.365861\n",
            "[819]\tvalid_0's rmse: 0.365861\n",
            "[820]\tvalid_0's rmse: 0.365861\n",
            "[821]\tvalid_0's rmse: 0.365861\n",
            "[822]\tvalid_0's rmse: 0.365861\n",
            "[823]\tvalid_0's rmse: 0.365861\n",
            "[824]\tvalid_0's rmse: 0.365861\n",
            "[825]\tvalid_0's rmse: 0.365861\n",
            "[826]\tvalid_0's rmse: 0.365861\n",
            "[827]\tvalid_0's rmse: 0.365861\n",
            "[828]\tvalid_0's rmse: 0.365861\n",
            "[829]\tvalid_0's rmse: 0.365861\n",
            "[830]\tvalid_0's rmse: 0.365861\n",
            "[831]\tvalid_0's rmse: 0.365861\n",
            "[832]\tvalid_0's rmse: 0.365861\n",
            "[833]\tvalid_0's rmse: 0.365861\n",
            "[834]\tvalid_0's rmse: 0.365861\n",
            "[835]\tvalid_0's rmse: 0.365861\n",
            "[836]\tvalid_0's rmse: 0.365861\n",
            "[837]\tvalid_0's rmse: 0.365861\n",
            "[838]\tvalid_0's rmse: 0.365861\n",
            "[839]\tvalid_0's rmse: 0.365861\n",
            "[840]\tvalid_0's rmse: 0.365861\n",
            "[841]\tvalid_0's rmse: 0.365861\n",
            "[842]\tvalid_0's rmse: 0.365861\n",
            "[843]\tvalid_0's rmse: 0.365861\n",
            "[844]\tvalid_0's rmse: 0.365861\n",
            "[845]\tvalid_0's rmse: 0.365861\n",
            "[846]\tvalid_0's rmse: 0.365861\n",
            "[847]\tvalid_0's rmse: 0.365861\n",
            "[848]\tvalid_0's rmse: 0.365861\n",
            "[849]\tvalid_0's rmse: 0.365861\n",
            "[850]\tvalid_0's rmse: 0.365861\n",
            "[851]\tvalid_0's rmse: 0.365861\n",
            "[852]\tvalid_0's rmse: 0.365861\n",
            "[853]\tvalid_0's rmse: 0.365861\n",
            "[854]\tvalid_0's rmse: 0.365861\n",
            "[855]\tvalid_0's rmse: 0.365861\n",
            "[856]\tvalid_0's rmse: 0.365861\n",
            "[857]\tvalid_0's rmse: 0.365861\n",
            "[858]\tvalid_0's rmse: 0.365861\n",
            "[859]\tvalid_0's rmse: 0.365861\n",
            "[860]\tvalid_0's rmse: 0.365861\n",
            "[861]\tvalid_0's rmse: 0.365861\n",
            "[862]\tvalid_0's rmse: 0.365861\n",
            "[863]\tvalid_0's rmse: 0.365861\n",
            "[864]\tvalid_0's rmse: 0.365861\n",
            "[865]\tvalid_0's rmse: 0.365861\n",
            "[866]\tvalid_0's rmse: 0.365861\n",
            "[867]\tvalid_0's rmse: 0.365861\n",
            "[868]\tvalid_0's rmse: 0.365861\n",
            "[869]\tvalid_0's rmse: 0.365861\n",
            "[870]\tvalid_0's rmse: 0.365861\n",
            "[871]\tvalid_0's rmse: 0.365861\n",
            "[872]\tvalid_0's rmse: 0.365861\n",
            "[873]\tvalid_0's rmse: 0.365861\n",
            "[874]\tvalid_0's rmse: 0.365861\n",
            "[875]\tvalid_0's rmse: 0.365861\n",
            "[876]\tvalid_0's rmse: 0.365861\n",
            "[877]\tvalid_0's rmse: 0.365861\n",
            "[878]\tvalid_0's rmse: 0.365861\n",
            "[879]\tvalid_0's rmse: 0.365861\n",
            "[880]\tvalid_0's rmse: 0.365861\n",
            "[881]\tvalid_0's rmse: 0.365861\n",
            "[882]\tvalid_0's rmse: 0.365861\n",
            "[883]\tvalid_0's rmse: 0.365861\n",
            "[884]\tvalid_0's rmse: 0.365861\n",
            "[885]\tvalid_0's rmse: 0.365861\n",
            "[886]\tvalid_0's rmse: 0.365861\n",
            "[887]\tvalid_0's rmse: 0.365861\n",
            "[888]\tvalid_0's rmse: 0.365861\n",
            "[889]\tvalid_0's rmse: 0.365861\n",
            "[890]\tvalid_0's rmse: 0.365861\n",
            "[891]\tvalid_0's rmse: 0.365861\n",
            "[892]\tvalid_0's rmse: 0.365861\n",
            "[893]\tvalid_0's rmse: 0.365861\n",
            "[894]\tvalid_0's rmse: 0.365861\n",
            "[895]\tvalid_0's rmse: 0.365861\n",
            "[896]\tvalid_0's rmse: 0.365861\n",
            "[897]\tvalid_0's rmse: 0.365861\n",
            "[898]\tvalid_0's rmse: 0.365861\n",
            "[899]\tvalid_0's rmse: 0.365861\n",
            "[900]\tvalid_0's rmse: 0.365861\n",
            "[901]\tvalid_0's rmse: 0.365861\n",
            "[902]\tvalid_0's rmse: 0.365861\n",
            "[903]\tvalid_0's rmse: 0.365861\n",
            "[904]\tvalid_0's rmse: 0.365861\n",
            "[905]\tvalid_0's rmse: 0.365861\n",
            "[906]\tvalid_0's rmse: 0.365861\n",
            "[907]\tvalid_0's rmse: 0.365861\n",
            "[908]\tvalid_0's rmse: 0.365861\n",
            "[909]\tvalid_0's rmse: 0.365861\n",
            "[910]\tvalid_0's rmse: 0.365861\n",
            "[911]\tvalid_0's rmse: 0.365861\n",
            "[912]\tvalid_0's rmse: 0.365861\n",
            "[913]\tvalid_0's rmse: 0.365861\n",
            "[914]\tvalid_0's rmse: 0.365861\n",
            "[915]\tvalid_0's rmse: 0.365861\n",
            "[916]\tvalid_0's rmse: 0.365861\n",
            "[917]\tvalid_0's rmse: 0.365861\n",
            "[918]\tvalid_0's rmse: 0.365861\n",
            "[919]\tvalid_0's rmse: 0.365861\n",
            "[920]\tvalid_0's rmse: 0.365861\n",
            "[921]\tvalid_0's rmse: 0.365861\n",
            "[922]\tvalid_0's rmse: 0.365861\n",
            "[923]\tvalid_0's rmse: 0.365861\n",
            "[924]\tvalid_0's rmse: 0.365861\n",
            "[925]\tvalid_0's rmse: 0.365861\n",
            "[926]\tvalid_0's rmse: 0.365861\n",
            "[927]\tvalid_0's rmse: 0.365861\n",
            "[928]\tvalid_0's rmse: 0.365861\n",
            "[929]\tvalid_0's rmse: 0.365861\n",
            "[930]\tvalid_0's rmse: 0.365861\n",
            "[931]\tvalid_0's rmse: 0.365861\n",
            "[932]\tvalid_0's rmse: 0.365861\n",
            "[933]\tvalid_0's rmse: 0.365861\n",
            "[934]\tvalid_0's rmse: 0.365861\n",
            "[935]\tvalid_0's rmse: 0.365861\n",
            "[936]\tvalid_0's rmse: 0.365861\n",
            "[937]\tvalid_0's rmse: 0.365861\n",
            "[938]\tvalid_0's rmse: 0.365861\n",
            "[939]\tvalid_0's rmse: 0.365861\n",
            "[940]\tvalid_0's rmse: 0.365861\n",
            "[941]\tvalid_0's rmse: 0.365861\n",
            "[942]\tvalid_0's rmse: 0.365861\n",
            "[943]\tvalid_0's rmse: 0.365861\n",
            "[944]\tvalid_0's rmse: 0.365861\n",
            "[945]\tvalid_0's rmse: 0.365861\n",
            "[946]\tvalid_0's rmse: 0.365861\n",
            "[947]\tvalid_0's rmse: 0.365861\n",
            "[948]\tvalid_0's rmse: 0.365861\n",
            "[949]\tvalid_0's rmse: 0.365861\n",
            "[950]\tvalid_0's rmse: 0.365861\n",
            "[951]\tvalid_0's rmse: 0.365861\n",
            "[952]\tvalid_0's rmse: 0.365861\n",
            "[953]\tvalid_0's rmse: 0.365861\n",
            "[954]\tvalid_0's rmse: 0.365861\n",
            "[955]\tvalid_0's rmse: 0.365861\n",
            "[956]\tvalid_0's rmse: 0.365861\n",
            "[957]\tvalid_0's rmse: 0.365861\n",
            "[958]\tvalid_0's rmse: 0.365861\n",
            "[959]\tvalid_0's rmse: 0.365861\n",
            "[960]\tvalid_0's rmse: 0.365861\n",
            "[961]\tvalid_0's rmse: 0.365861\n",
            "[962]\tvalid_0's rmse: 0.365861\n",
            "[963]\tvalid_0's rmse: 0.365861\n",
            "[964]\tvalid_0's rmse: 0.365861\n",
            "[965]\tvalid_0's rmse: 0.365861\n",
            "[966]\tvalid_0's rmse: 0.365861\n",
            "[967]\tvalid_0's rmse: 0.365861\n",
            "[968]\tvalid_0's rmse: 0.365861\n",
            "[969]\tvalid_0's rmse: 0.365861\n",
            "[970]\tvalid_0's rmse: 0.365861\n",
            "[971]\tvalid_0's rmse: 0.365861\n",
            "[972]\tvalid_0's rmse: 0.365861\n",
            "[973]\tvalid_0's rmse: 0.365861\n",
            "[974]\tvalid_0's rmse: 0.365861\n",
            "[975]\tvalid_0's rmse: 0.365861\n",
            "[976]\tvalid_0's rmse: 0.365861\n",
            "[977]\tvalid_0's rmse: 0.365861\n",
            "[978]\tvalid_0's rmse: 0.365861\n",
            "[979]\tvalid_0's rmse: 0.365861\n",
            "[980]\tvalid_0's rmse: 0.365861\n",
            "[981]\tvalid_0's rmse: 0.365861\n",
            "[982]\tvalid_0's rmse: 0.365861\n",
            "[983]\tvalid_0's rmse: 0.365861\n",
            "[984]\tvalid_0's rmse: 0.365861\n",
            "[985]\tvalid_0's rmse: 0.365861\n",
            "[986]\tvalid_0's rmse: 0.365861\n",
            "[987]\tvalid_0's rmse: 0.365861\n",
            "[988]\tvalid_0's rmse: 0.365861\n",
            "[989]\tvalid_0's rmse: 0.365861\n",
            "[990]\tvalid_0's rmse: 0.365861\n",
            "[991]\tvalid_0's rmse: 0.365861\n",
            "[992]\tvalid_0's rmse: 0.365861\n",
            "[993]\tvalid_0's rmse: 0.365861\n",
            "[994]\tvalid_0's rmse: 0.365861\n",
            "[995]\tvalid_0's rmse: 0.365861\n",
            "[996]\tvalid_0's rmse: 0.365861\n",
            "[997]\tvalid_0's rmse: 0.365861\n",
            "[998]\tvalid_0's rmse: 0.365861\n",
            "[999]\tvalid_0's rmse: 0.365861\n",
            "[1000]\tvalid_0's rmse: 0.365861\n",
            "[1001]\tvalid_0's rmse: 0.365861\n",
            "[1002]\tvalid_0's rmse: 0.365861\n",
            "[1003]\tvalid_0's rmse: 0.365861\n",
            "[1004]\tvalid_0's rmse: 0.365861\n",
            "[1005]\tvalid_0's rmse: 0.365861\n",
            "[1006]\tvalid_0's rmse: 0.365861\n",
            "[1007]\tvalid_0's rmse: 0.365861\n",
            "[1008]\tvalid_0's rmse: 0.365861\n",
            "[1009]\tvalid_0's rmse: 0.365861\n",
            "[1010]\tvalid_0's rmse: 0.365861\n",
            "[1011]\tvalid_0's rmse: 0.365861\n",
            "[1012]\tvalid_0's rmse: 0.365861\n",
            "[1013]\tvalid_0's rmse: 0.365861\n",
            "[1014]\tvalid_0's rmse: 0.365861\n",
            "[1015]\tvalid_0's rmse: 0.365861\n",
            "[1016]\tvalid_0's rmse: 0.365861\n",
            "[1017]\tvalid_0's rmse: 0.365861\n",
            "[1018]\tvalid_0's rmse: 0.365861\n",
            "[1019]\tvalid_0's rmse: 0.365861\n",
            "[1020]\tvalid_0's rmse: 0.365861\n",
            "[1021]\tvalid_0's rmse: 0.365861\n",
            "[1022]\tvalid_0's rmse: 0.365861\n",
            "[1023]\tvalid_0's rmse: 0.365861\n",
            "[1024]\tvalid_0's rmse: 0.365861\n",
            "[1025]\tvalid_0's rmse: 0.365861\n",
            "[1026]\tvalid_0's rmse: 0.365861\n",
            "[1027]\tvalid_0's rmse: 0.365861\n",
            "[1028]\tvalid_0's rmse: 0.365861\n",
            "[1029]\tvalid_0's rmse: 0.365861\n",
            "[1030]\tvalid_0's rmse: 0.365861\n",
            "[1031]\tvalid_0's rmse: 0.365861\n",
            "[1032]\tvalid_0's rmse: 0.365861\n",
            "[1033]\tvalid_0's rmse: 0.365861\n",
            "[1034]\tvalid_0's rmse: 0.365861\n",
            "[1035]\tvalid_0's rmse: 0.365861\n",
            "[1036]\tvalid_0's rmse: 0.365861\n",
            "[1037]\tvalid_0's rmse: 0.365861\n",
            "[1038]\tvalid_0's rmse: 0.365861\n",
            "[1039]\tvalid_0's rmse: 0.365861\n",
            "[1040]\tvalid_0's rmse: 0.365861\n",
            "[1041]\tvalid_0's rmse: 0.365861\n",
            "[1042]\tvalid_0's rmse: 0.365861\n",
            "[1043]\tvalid_0's rmse: 0.365861\n",
            "[1044]\tvalid_0's rmse: 0.365861\n",
            "[1045]\tvalid_0's rmse: 0.365861\n",
            "[1046]\tvalid_0's rmse: 0.365861\n",
            "[1047]\tvalid_0's rmse: 0.365861\n",
            "[1048]\tvalid_0's rmse: 0.365861\n",
            "[1049]\tvalid_0's rmse: 0.365861\n",
            "[1050]\tvalid_0's rmse: 0.365861\n",
            "[1051]\tvalid_0's rmse: 0.365861\n",
            "[1052]\tvalid_0's rmse: 0.365861\n",
            "[1053]\tvalid_0's rmse: 0.365861\n",
            "[1054]\tvalid_0's rmse: 0.365861\n",
            "[1055]\tvalid_0's rmse: 0.365861\n",
            "[1056]\tvalid_0's rmse: 0.365861\n",
            "[1057]\tvalid_0's rmse: 0.365861\n",
            "[1058]\tvalid_0's rmse: 0.365861\n",
            "[1059]\tvalid_0's rmse: 0.365861\n",
            "[1060]\tvalid_0's rmse: 0.365861\n",
            "[1061]\tvalid_0's rmse: 0.365861\n",
            "[1062]\tvalid_0's rmse: 0.365861\n",
            "[1063]\tvalid_0's rmse: 0.365861\n",
            "[1064]\tvalid_0's rmse: 0.365861\n",
            "[1065]\tvalid_0's rmse: 0.365861\n",
            "[1066]\tvalid_0's rmse: 0.365861\n",
            "[1067]\tvalid_0's rmse: 0.365861\n",
            "[1068]\tvalid_0's rmse: 0.365861\n",
            "[1069]\tvalid_0's rmse: 0.365861\n",
            "[1070]\tvalid_0's rmse: 0.365861\n",
            "[1071]\tvalid_0's rmse: 0.365861\n",
            "[1072]\tvalid_0's rmse: 0.365861\n",
            "[1073]\tvalid_0's rmse: 0.365861\n",
            "[1074]\tvalid_0's rmse: 0.365861\n",
            "[1075]\tvalid_0's rmse: 0.365861\n",
            "[1076]\tvalid_0's rmse: 0.365861\n",
            "[1077]\tvalid_0's rmse: 0.365861\n",
            "[1078]\tvalid_0's rmse: 0.365861\n",
            "[1079]\tvalid_0's rmse: 0.365861\n",
            "[1080]\tvalid_0's rmse: 0.365861\n",
            "[1081]\tvalid_0's rmse: 0.365861\n",
            "[1082]\tvalid_0's rmse: 0.365861\n",
            "[1083]\tvalid_0's rmse: 0.365861\n",
            "[1084]\tvalid_0's rmse: 0.365861\n",
            "[1085]\tvalid_0's rmse: 0.365861\n",
            "[1086]\tvalid_0's rmse: 0.365861\n",
            "[1087]\tvalid_0's rmse: 0.365861\n",
            "[1088]\tvalid_0's rmse: 0.365861\n",
            "[1089]\tvalid_0's rmse: 0.365861\n",
            "[1090]\tvalid_0's rmse: 0.365861\n",
            "[1091]\tvalid_0's rmse: 0.365861\n",
            "[1092]\tvalid_0's rmse: 0.365861\n",
            "[1093]\tvalid_0's rmse: 0.365861\n",
            "[1094]\tvalid_0's rmse: 0.365861\n",
            "[1095]\tvalid_0's rmse: 0.365861\n",
            "[1096]\tvalid_0's rmse: 0.365861\n",
            "[1097]\tvalid_0's rmse: 0.365861\n",
            "[1098]\tvalid_0's rmse: 0.365861\n",
            "[1099]\tvalid_0's rmse: 0.365861\n",
            "[1100]\tvalid_0's rmse: 0.365861\n",
            "[1101]\tvalid_0's rmse: 0.365861\n",
            "[1102]\tvalid_0's rmse: 0.365861\n",
            "[1103]\tvalid_0's rmse: 0.365861\n",
            "[1104]\tvalid_0's rmse: 0.365861\n",
            "[1105]\tvalid_0's rmse: 0.365861\n",
            "[1106]\tvalid_0's rmse: 0.365861\n",
            "[1107]\tvalid_0's rmse: 0.365861\n",
            "[1108]\tvalid_0's rmse: 0.365861\n",
            "[1109]\tvalid_0's rmse: 0.365861\n",
            "[1110]\tvalid_0's rmse: 0.365861\n",
            "[1111]\tvalid_0's rmse: 0.365861\n",
            "[1112]\tvalid_0's rmse: 0.365861\n",
            "[1113]\tvalid_0's rmse: 0.365861\n",
            "[1114]\tvalid_0's rmse: 0.365861\n",
            "[1115]\tvalid_0's rmse: 0.365861\n",
            "[1116]\tvalid_0's rmse: 0.365861\n",
            "[1117]\tvalid_0's rmse: 0.365861\n",
            "[1118]\tvalid_0's rmse: 0.365861\n",
            "[1119]\tvalid_0's rmse: 0.365861\n",
            "[1120]\tvalid_0's rmse: 0.365861\n",
            "[1121]\tvalid_0's rmse: 0.365861\n",
            "[1122]\tvalid_0's rmse: 0.365861\n",
            "[1123]\tvalid_0's rmse: 0.365861\n",
            "[1124]\tvalid_0's rmse: 0.365861\n",
            "[1125]\tvalid_0's rmse: 0.365861\n",
            "[1126]\tvalid_0's rmse: 0.365861\n",
            "[1127]\tvalid_0's rmse: 0.365861\n",
            "[1128]\tvalid_0's rmse: 0.365861\n",
            "[1129]\tvalid_0's rmse: 0.365861\n",
            "[1130]\tvalid_0's rmse: 0.365861\n",
            "[1131]\tvalid_0's rmse: 0.365861\n",
            "[1132]\tvalid_0's rmse: 0.365861\n",
            "[1133]\tvalid_0's rmse: 0.365861\n",
            "[1134]\tvalid_0's rmse: 0.365861\n",
            "[1135]\tvalid_0's rmse: 0.365861\n",
            "[1136]\tvalid_0's rmse: 0.365861\n",
            "[1137]\tvalid_0's rmse: 0.365861\n",
            "[1138]\tvalid_0's rmse: 0.365861\n",
            "[1139]\tvalid_0's rmse: 0.365861\n",
            "[1140]\tvalid_0's rmse: 0.365861\n",
            "[1141]\tvalid_0's rmse: 0.365861\n",
            "[1142]\tvalid_0's rmse: 0.365861\n",
            "[1143]\tvalid_0's rmse: 0.365861\n",
            "[1144]\tvalid_0's rmse: 0.365861\n",
            "[1145]\tvalid_0's rmse: 0.365861\n",
            "[1146]\tvalid_0's rmse: 0.365861\n",
            "[1147]\tvalid_0's rmse: 0.365861\n",
            "[1148]\tvalid_0's rmse: 0.365861\n",
            "[1149]\tvalid_0's rmse: 0.365861\n",
            "[1150]\tvalid_0's rmse: 0.365861\n",
            "[1151]\tvalid_0's rmse: 0.365861\n",
            "[1152]\tvalid_0's rmse: 0.365861\n",
            "[1153]\tvalid_0's rmse: 0.365861\n",
            "[1154]\tvalid_0's rmse: 0.365861\n",
            "[1155]\tvalid_0's rmse: 0.365861\n",
            "[1156]\tvalid_0's rmse: 0.365861\n",
            "[1157]\tvalid_0's rmse: 0.365861\n",
            "[1158]\tvalid_0's rmse: 0.365861\n",
            "[1159]\tvalid_0's rmse: 0.365861\n",
            "[1160]\tvalid_0's rmse: 0.365861\n",
            "[1161]\tvalid_0's rmse: 0.365861\n",
            "[1162]\tvalid_0's rmse: 0.365861\n",
            "[1163]\tvalid_0's rmse: 0.365861\n",
            "[1164]\tvalid_0's rmse: 0.365861\n",
            "[1165]\tvalid_0's rmse: 0.365861\n",
            "[1166]\tvalid_0's rmse: 0.365861\n",
            "[1167]\tvalid_0's rmse: 0.365861\n",
            "[1168]\tvalid_0's rmse: 0.365861\n",
            "[1169]\tvalid_0's rmse: 0.365861\n",
            "[1170]\tvalid_0's rmse: 0.365861\n",
            "[1171]\tvalid_0's rmse: 0.365861\n",
            "[1172]\tvalid_0's rmse: 0.365861\n",
            "[1173]\tvalid_0's rmse: 0.365861\n",
            "[1174]\tvalid_0's rmse: 0.365861\n",
            "[1175]\tvalid_0's rmse: 0.365861\n",
            "[1176]\tvalid_0's rmse: 0.365861\n",
            "[1177]\tvalid_0's rmse: 0.365861\n",
            "[1178]\tvalid_0's rmse: 0.365861\n",
            "[1179]\tvalid_0's rmse: 0.365861\n",
            "[1180]\tvalid_0's rmse: 0.365861\n",
            "[1181]\tvalid_0's rmse: 0.365861\n",
            "[1182]\tvalid_0's rmse: 0.365861\n",
            "[1183]\tvalid_0's rmse: 0.365861\n",
            "[1184]\tvalid_0's rmse: 0.365861\n",
            "[1185]\tvalid_0's rmse: 0.365861\n",
            "[1186]\tvalid_0's rmse: 0.365861\n",
            "[1187]\tvalid_0's rmse: 0.365861\n",
            "[1188]\tvalid_0's rmse: 0.365861\n",
            "[1189]\tvalid_0's rmse: 0.365861\n",
            "[1190]\tvalid_0's rmse: 0.365861\n",
            "[1191]\tvalid_0's rmse: 0.365861\n",
            "[1192]\tvalid_0's rmse: 0.365861\n",
            "[1193]\tvalid_0's rmse: 0.365861\n",
            "[1194]\tvalid_0's rmse: 0.365861\n",
            "[1195]\tvalid_0's rmse: 0.365861\n",
            "[1196]\tvalid_0's rmse: 0.365861\n",
            "[1197]\tvalid_0's rmse: 0.365861\n",
            "[1198]\tvalid_0's rmse: 0.365861\n",
            "[1199]\tvalid_0's rmse: 0.365861\n",
            "[1200]\tvalid_0's rmse: 0.365861\n",
            "[1201]\tvalid_0's rmse: 0.365861\n",
            "[1202]\tvalid_0's rmse: 0.365861\n",
            "[1203]\tvalid_0's rmse: 0.365861\n",
            "[1204]\tvalid_0's rmse: 0.365861\n",
            "[1205]\tvalid_0's rmse: 0.365861\n",
            "[1206]\tvalid_0's rmse: 0.365861\n",
            "[1207]\tvalid_0's rmse: 0.365861\n",
            "[1208]\tvalid_0's rmse: 0.365861\n",
            "[1209]\tvalid_0's rmse: 0.365861\n",
            "[1210]\tvalid_0's rmse: 0.365861\n",
            "[1211]\tvalid_0's rmse: 0.365861\n",
            "[1212]\tvalid_0's rmse: 0.365861\n",
            "[1213]\tvalid_0's rmse: 0.365861\n",
            "[1214]\tvalid_0's rmse: 0.365861\n",
            "[1215]\tvalid_0's rmse: 0.365861\n",
            "[1216]\tvalid_0's rmse: 0.365861\n",
            "[1217]\tvalid_0's rmse: 0.365861\n",
            "[1218]\tvalid_0's rmse: 0.365861\n",
            "[1219]\tvalid_0's rmse: 0.365861\n",
            "[1220]\tvalid_0's rmse: 0.365861\n",
            "[1221]\tvalid_0's rmse: 0.365861\n",
            "[1222]\tvalid_0's rmse: 0.365861\n",
            "[1223]\tvalid_0's rmse: 0.365861\n",
            "[1224]\tvalid_0's rmse: 0.365861\n",
            "[1225]\tvalid_0's rmse: 0.365861\n",
            "[1226]\tvalid_0's rmse: 0.365861\n",
            "[1227]\tvalid_0's rmse: 0.365861\n",
            "[1228]\tvalid_0's rmse: 0.365861\n",
            "[1229]\tvalid_0's rmse: 0.365861\n",
            "[1230]\tvalid_0's rmse: 0.365861\n",
            "[1231]\tvalid_0's rmse: 0.365861\n",
            "[1232]\tvalid_0's rmse: 0.365861\n",
            "[1233]\tvalid_0's rmse: 0.365861\n",
            "[1234]\tvalid_0's rmse: 0.365861\n",
            "[1235]\tvalid_0's rmse: 0.365861\n",
            "[1236]\tvalid_0's rmse: 0.365861\n",
            "[1237]\tvalid_0's rmse: 0.365861\n",
            "[1238]\tvalid_0's rmse: 0.365861\n",
            "[1239]\tvalid_0's rmse: 0.365861\n",
            "[1240]\tvalid_0's rmse: 0.365861\n",
            "[1241]\tvalid_0's rmse: 0.365861\n",
            "[1242]\tvalid_0's rmse: 0.365861\n",
            "[1243]\tvalid_0's rmse: 0.365861\n",
            "[1244]\tvalid_0's rmse: 0.365861\n",
            "[1245]\tvalid_0's rmse: 0.365861\n",
            "[1246]\tvalid_0's rmse: 0.365861\n",
            "[1247]\tvalid_0's rmse: 0.365861\n",
            "[1248]\tvalid_0's rmse: 0.365861\n",
            "[1249]\tvalid_0's rmse: 0.365861\n",
            "[1250]\tvalid_0's rmse: 0.365861\n",
            "[1251]\tvalid_0's rmse: 0.365861\n",
            "[1252]\tvalid_0's rmse: 0.365861\n",
            "[1253]\tvalid_0's rmse: 0.365861\n",
            "[1254]\tvalid_0's rmse: 0.365861\n",
            "[1255]\tvalid_0's rmse: 0.365861\n",
            "[1256]\tvalid_0's rmse: 0.365861\n",
            "[1257]\tvalid_0's rmse: 0.365861\n",
            "[1258]\tvalid_0's rmse: 0.365861\n",
            "[1259]\tvalid_0's rmse: 0.365861\n",
            "[1260]\tvalid_0's rmse: 0.365861\n",
            "[1261]\tvalid_0's rmse: 0.365861\n",
            "[1262]\tvalid_0's rmse: 0.365861\n",
            "[1263]\tvalid_0's rmse: 0.365861\n",
            "[1264]\tvalid_0's rmse: 0.365861\n",
            "[1265]\tvalid_0's rmse: 0.365861\n",
            "[1266]\tvalid_0's rmse: 0.365861\n",
            "[1267]\tvalid_0's rmse: 0.365861\n",
            "[1268]\tvalid_0's rmse: 0.365861\n",
            "[1269]\tvalid_0's rmse: 0.365861\n",
            "[1270]\tvalid_0's rmse: 0.365861\n",
            "[1271]\tvalid_0's rmse: 0.365861\n",
            "[1272]\tvalid_0's rmse: 0.365861\n",
            "[1273]\tvalid_0's rmse: 0.365861\n",
            "[1274]\tvalid_0's rmse: 0.365861\n",
            "[1275]\tvalid_0's rmse: 0.365861\n",
            "[1276]\tvalid_0's rmse: 0.365861\n",
            "[1277]\tvalid_0's rmse: 0.365861\n",
            "[1278]\tvalid_0's rmse: 0.365861\n",
            "[1279]\tvalid_0's rmse: 0.365861\n",
            "[1280]\tvalid_0's rmse: 0.365861\n",
            "[1281]\tvalid_0's rmse: 0.365861\n",
            "[1282]\tvalid_0's rmse: 0.365861\n",
            "[1283]\tvalid_0's rmse: 0.365861\n",
            "[1284]\tvalid_0's rmse: 0.365861\n",
            "[1285]\tvalid_0's rmse: 0.365861\n",
            "[1286]\tvalid_0's rmse: 0.365861\n",
            "[1287]\tvalid_0's rmse: 0.365861\n",
            "[1288]\tvalid_0's rmse: 0.365861\n",
            "[1289]\tvalid_0's rmse: 0.365861\n",
            "[1290]\tvalid_0's rmse: 0.365861\n",
            "[1291]\tvalid_0's rmse: 0.365861\n",
            "[1292]\tvalid_0's rmse: 0.365861\n",
            "[1293]\tvalid_0's rmse: 0.365861\n",
            "[1294]\tvalid_0's rmse: 0.365861\n",
            "[1295]\tvalid_0's rmse: 0.365861\n",
            "Early stopping, best iteration is:\n",
            "[295]\tvalid_0's rmse: 0.365861\n",
            "RMSE: 0.365861\n"
          ],
          "name": "stdout"
        }
      ]
    },
    {
      "cell_type": "code",
      "metadata": {
        "id": "kNhhVYOB6Kfn",
        "colab_type": "code",
        "colab": {
          "base_uri": "https://localhost:8080/",
          "height": 335
        },
        "outputId": "5d22ea67-c82e-4c91-fd94-f410fa39fe1e"
      },
      "source": [
        "sns.set(font_scale = 1)\n",
        "plt.figure(figsize = (25, 30))\n",
        "lgb.plot_importance(gbm,  max_num_features = 20, title = \"Palabras más influyentes\")"
      ],
      "execution_count": null,
      "outputs": [
        {
          "output_type": "execute_result",
          "data": {
            "text/plain": [
              "<matplotlib.axes._subplots.AxesSubplot at 0x7fe429b8e588>"
            ]
          },
          "metadata": {
            "tags": []
          },
          "execution_count": 57
        },
        {
          "output_type": "display_data",
          "data": {
            "text/plain": [
              "<Figure size 1800x2160 with 0 Axes>"
            ]
          },
          "metadata": {
            "tags": []
          }
        },
        {
          "output_type": "display_data",
          "data": {
            "image/png": "[encoded data removed]",
            "text/plain": [
              "<Figure size 432x288 with 1 Axes>"
            ]
          },
          "metadata": {
            "tags": []
          }
        }
      ]
    },
    {
      "cell_type": "code",
      "metadata": {
        "id": "m0j4_V7Y7prD",
        "colab_type": "code",
        "colab": {}
      },
      "source": [
        "print(vectorizer.get_feature_names()[2454])\n",
        "print(vectorizer.get_feature_names()[6577])\n",
        "print(vectorizer.get_feature_names()[6679])\n",
        "print(vectorizer.get_feature_names()[9842])\n",
        "print(vectorizer.get_feature_names()[9976])\n",
        "print(vectorizer.get_feature_names()[2776])\n",
        "print(vectorizer.get_feature_names()[19842])\n",
        "print(vectorizer.get_feature_names()[9])\n",
        "print(vectorizer.get_feature_names()[4])\n",
        "print(vectorizer.get_feature_names()[2676])\n",
        "print(vectorizer.get_feature_names()[16698])\n",
        "print(vectorizer.get_feature_names()[4030])"
      ],
      "execution_count": null,
      "outputs": []
    },
    {
      "cell_type": "code",
      "metadata": {
        "id": "yaPkL4LoLHHG",
        "colab_type": "code",
        "colab": {}
      },
      "source": [
        "features = np.hstack((vectorizer.get_feature_names(), train.keyword.unique()))\n",
        "#features = np.hstack((features, train.columns[5]))\n",
        "features = np.hstack((features, train.location.unique()))"
      ],
      "execution_count": null,
      "outputs": []
    },
    {
      "cell_type": "code",
      "metadata": {
        "id": "UM4I9a-yDGNv",
        "colab_type": "code",
        "colab": {
          "base_uri": "https://localhost:8080/",
          "height": 613
        },
        "outputId": "bd84a318-bafc-446d-cdea-265d0b733b59"
      },
      "source": [
        "feature_imp = pd.DataFrame({'Value':gbm.feature_importance(), 'Feature': features})\n",
        "plt.figure(figsize = (40, 20))\n",
        "sns.set(font_scale = 5)\n",
        "sns.barplot(x = \"Value\", y = \"Feature\", data = feature_imp.sort_values(by = \"Value\", ascending = False)[0:25])\n",
        "plt.title('Palabras más influyentes')\n",
        "plt.tight_layout()\n",
        "#plt.savefig('lgbm_importances-01.png')\n",
        "plt.show()"
      ],
      "execution_count": null,
      "outputs": [
        {
          "output_type": "display_data",
          "data": {
            "image/png": "[encoded data removed]",
            "text/plain": [
              "<Figure size 2880x1440 with 1 Axes>"
            ]
          },
          "metadata": {
            "tags": []
          }
        }
      ]
    },
    {
      "cell_type": "code",
      "metadata": {
        "id": "WIkwYmC2BeNq",
        "colab_type": "code",
        "colab": {}
      },
      "source": [
        "preds_submit = gbm.predict(X_submit, num_iteration=gbm.best_iteration)"
      ],
      "execution_count": null,
      "outputs": []
    },
    {
      "cell_type": "code",
      "metadata": {
        "id": "pnhynLy2UmVV",
        "colab_type": "code",
        "colab": {}
      },
      "source": [
        "resultados = pd.DataFrame(data = preds_submit, columns = ['target'])\n",
        "resultados.insert(0, 'id', test_original.id)\n",
        "resultados['target'] = resultados.target.transform(lambda x: 1 if x > 0.5 else 0)"
      ],
      "execution_count": null,
      "outputs": []
    },
    {
      "cell_type": "code",
      "metadata": {
        "id": "EppO2bm0Bvc5",
        "colab_type": "code",
        "colab": {
          "base_uri": "https://localhost:8080/",
          "height": 204
        },
        "outputId": "99b48746-d8f4-48df-ea5b-8a911827b27f"
      },
      "source": [
        "resultados.head()"
      ],
      "execution_count": null,
      "outputs": [
        {
          "output_type": "execute_result",
          "data": {
            "text/html": [
              "<div>\n",
              "<style scoped>\n",
              "    .dataframe tbody tr th:only-of-type {\n",
              "        vertical-align: middle;\n",
              "    }\n",
              "\n",
              "    .dataframe tbody tr th {\n",
              "        vertical-align: top;\n",
              "    }\n",
              "\n",
              "    .dataframe thead th {\n",
              "        text-align: right;\n",
              "    }\n",
              "</style>\n",
              "<table border=\"1\" class=\"dataframe\">\n",
              "  <thead>\n",
              "    <tr style=\"text-align: right;\">\n",
              "      <th></th>\n",
              "      <th>id</th>\n",
              "      <th>target</th>\n",
              "    </tr>\n",
              "  </thead>\n",
              "  <tbody>\n",
              "    <tr>\n",
              "      <th>0</th>\n",
              "      <td>0</td>\n",
              "      <td>1</td>\n",
              "    </tr>\n",
              "    <tr>\n",
              "      <th>1</th>\n",
              "      <td>2</td>\n",
              "      <td>1</td>\n",
              "    </tr>\n",
              "    <tr>\n",
              "      <th>2</th>\n",
              "      <td>3</td>\n",
              "      <td>1</td>\n",
              "    </tr>\n",
              "    <tr>\n",
              "      <th>3</th>\n",
              "      <td>9</td>\n",
              "      <td>0</td>\n",
              "    </tr>\n",
              "    <tr>\n",
              "      <th>4</th>\n",
              "      <td>11</td>\n",
              "      <td>1</td>\n",
              "    </tr>\n",
              "  </tbody>\n",
              "</table>\n",
              "</div>"
            ],
            "text/plain": [
              "   id  target\n",
              "0   0       1\n",
              "1   2       1\n",
              "2   3       1\n",
              "3   9       0\n",
              "4  11       1"
            ]
          },
          "metadata": {
            "tags": []
          },
          "execution_count": 60
        }
      ]
    },
    {
      "cell_type": "code",
      "metadata": {
        "id": "MQweIMRjTare",
        "colab_type": "code",
        "colab": {
          "base_uri": "https://localhost:8080/",
          "height": 17
        },
        "outputId": "f7661363-eb20-4a28-9336-bb612ae8f3c6"
      },
      "source": [
        "resultados.to_csv('submission_8_LGBM.csv', header = True, index = False) \n",
        "files.download('submission_8_LGBM.csv')"
      ],
      "execution_count": null,
      "outputs": [
        {
          "output_type": "display_data",
          "data": {
            "application/javascript": [
              "\n",
              "    async function download(id, filename, size) {\n",
              "      if (!google.colab.kernel.accessAllowed) {\n",
              "        return;\n",
              "      }\n",
              "      const div = document.createElement('div');\n",
              "      const label = document.createElement('label');\n",
              "      label.textContent = `Downloading \"${filename}\": `;\n",
              "      div.appendChild(label);\n",
              "      const progress = document.createElement('progress');\n",
              "      progress.max = size;\n",
              "      div.appendChild(progress);\n",
              "      document.body.appendChild(div);\n",
              "\n",
              "      const buffers = [];\n",
              "      let downloaded = 0;\n",
              "\n",
              "      const channel = await google.colab.kernel.comms.open(id);\n",
              "      // Send a message to notify the kernel that we're ready.\n",
              "      channel.send({})\n",
              "\n",
              "      for await (const message of channel.messages) {\n",
              "        // Send a message to notify the kernel that we're ready.\n",
              "        channel.send({})\n",
              "        if (message.buffers) {\n",
              "          for (const buffer of message.buffers) {\n",
              "            buffers.push(buffer);\n",
              "            downloaded += buffer.byteLength;\n",
              "            progress.value = downloaded;\n",
              "          }\n",
              "        }\n",
              "      }\n",
              "      const blob = new Blob(buffers, {type: 'application/binary'});\n",
              "      const a = document.createElement('a');\n",
              "      a.href = window.URL.createObjectURL(blob);\n",
              "      a.download = filename;\n",
              "      div.appendChild(a);\n",
              "      a.click();\n",
              "      div.remove();\n",
              "    }\n",
              "  "
            ],
            "text/plain": [
              "<IPython.core.display.Javascript object>"
            ]
          },
          "metadata": {
            "tags": []
          }
        },
        {
          "output_type": "display_data",
          "data": {
            "application/javascript": [
              "download(\"download_c42bf939-9dfa-44c4-b75c-4adb025f7d89\", \"submission_8_LGBM.csv\", 22746)"
            ],
            "text/plain": [
              "<IPython.core.display.Javascript object>"
            ]
          },
          "metadata": {
            "tags": []
          }
        }
      ]
    }
  ]
}