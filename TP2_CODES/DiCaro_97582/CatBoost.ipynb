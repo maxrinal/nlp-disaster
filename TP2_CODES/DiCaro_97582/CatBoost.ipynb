{
  "nbformat": 4,
  "nbformat_minor": 0,
  "metadata": {
    "colab": {
      "name": "CatBoost.ipynb",
      "provenance": [],
      "collapsed_sections": [
        "Gp7EnJRJXdvE",
        "efmkaP_ZXWki",
        "RIRKrrDGP0kD",
        "XZx-V2BHCCTk",
        "9uv1jxuAY0q1",
        "SVZ6Si14PslB",
        "J_H0JteC018K"
      ],
      "authorship_tag": "ABX9TyO5z6oiJazAT+e8oy7JhF9T",
      "include_colab_link": true
    },
    "kernelspec": {
      "name": "python3",
      "display_name": "Python 3"
    }
  },
  "cells": [
    {
      "cell_type": "markdown",
      "metadata": {
        "id": "view-in-github",
        "colab_type": "text"
      },
      "source": [
        "<a href=\"https://colab.research.google.com/github/maxrinal/nlp-disaster/blob/master/TP2_CODES/DiCaro_97582/CatBoost.ipynb\" target=\"_parent\"><img src=\"https://colab.research.google.com/assets/colab-badge.svg\" alt=\"Open In Colab\"/></a>"
      ]
    },
    {
      "cell_type": "markdown",
      "metadata": {
        "id": "HGL2yWTIxh00",
        "colab_type": "text"
      },
      "source": [
        "# **Machine Learning**"
      ]
    },
    {
      "cell_type": "markdown",
      "metadata": {
        "id": "Gp7EnJRJXdvE",
        "colab_type": "text"
      },
      "source": [
        "## Importo Librerías"
      ]
    },
    {
      "cell_type": "code",
      "metadata": {
        "id": "h2g7bAolQO-O",
        "colab_type": "code",
        "colab": {
          "base_uri": "https://localhost:8080/",
          "height": 343
        },
        "outputId": "921df84e-f428-411f-96fd-830193f7b8c2"
      },
      "source": [
        "#! python -m textblob.download_corpora\n",
        "#!pip install --user -U nltk\n",
        "#nltk.download('punkt')\n",
        "#!pip install kaggle\n",
        "!pip install catboost"
      ],
      "execution_count": null,
      "outputs": [
        {
          "output_type": "stream",
          "text": [
            "Collecting catboost\n",
            "\u001b[?25l  Downloading https://files.pythonhosted.org/packages/b2/aa/e61819d04ef2bbee778bf4b3a748db1f3ad23512377e43ecfdc3211437a0/catboost-0.23.2-cp36-none-manylinux1_x86_64.whl (64.8MB)\n",
            "\u001b[K     |████████████████████████████████| 64.8MB 124kB/s \n",
            "\u001b[?25hRequirement already satisfied: pandas>=0.24.0 in /usr/local/lib/python3.6/dist-packages (from catboost) (1.0.5)\n",
            "Requirement already satisfied: matplotlib in /usr/local/lib/python3.6/dist-packages (from catboost) (3.2.2)\n",
            "Requirement already satisfied: plotly in /usr/local/lib/python3.6/dist-packages (from catboost) (4.4.1)\n",
            "Requirement already satisfied: graphviz in /usr/local/lib/python3.6/dist-packages (from catboost) (0.10.1)\n",
            "Requirement already satisfied: scipy in /usr/local/lib/python3.6/dist-packages (from catboost) (1.4.1)\n",
            "Requirement already satisfied: six in /usr/local/lib/python3.6/dist-packages (from catboost) (1.15.0)\n",
            "Requirement already satisfied: numpy>=1.16.0 in /usr/local/lib/python3.6/dist-packages (from catboost) (1.18.5)\n",
            "Requirement already satisfied: pytz>=2017.2 in /usr/local/lib/python3.6/dist-packages (from pandas>=0.24.0->catboost) (2018.9)\n",
            "Requirement already satisfied: python-dateutil>=2.6.1 in /usr/local/lib/python3.6/dist-packages (from pandas>=0.24.0->catboost) (2.8.1)\n",
            "Requirement already satisfied: cycler>=0.10 in /usr/local/lib/python3.6/dist-packages (from matplotlib->catboost) (0.10.0)\n",
            "Requirement already satisfied: kiwisolver>=1.0.1 in /usr/local/lib/python3.6/dist-packages (from matplotlib->catboost) (1.2.0)\n",
            "Requirement already satisfied: pyparsing!=2.0.4,!=2.1.2,!=2.1.6,>=2.0.1 in /usr/local/lib/python3.6/dist-packages (from matplotlib->catboost) (2.4.7)\n",
            "Requirement already satisfied: retrying>=1.3.3 in /usr/local/lib/python3.6/dist-packages (from plotly->catboost) (1.3.3)\n",
            "Installing collected packages: catboost\n",
            "Successfully installed catboost-0.23.2\n"
          ],
          "name": "stdout"
        }
      ]
    },
    {
      "cell_type": "code",
      "metadata": {
        "id": "C0BB1vz_xZJ6",
        "colab_type": "code",
        "colab": {
          "base_uri": "https://localhost:8080/",
          "height": 71
        },
        "outputId": "413295e7-b433-4036-c6d0-d9a7d613466b"
      },
      "source": [
        "import pandas as pd\n",
        "import numpy as np\n",
        "import seaborn as sns\n",
        "import matplotlib.pyplot as plt\n",
        "%matplotlib inline\n",
        "\n",
        "from textblob import TextBlob\n",
        "from wordcloud import WordCloud\n",
        "import string,re\n",
        "import urllib.parse\n",
        "import nltk\n",
        "from nltk.corpus import stopwords\n",
        "from nltk import word_tokenize\n",
        "from nltk .tokenize.regexp import regexp_tokenize\n",
        "import spacy\n",
        "import keras\n",
        "import html\n",
        "import re\n",
        "import urllib\n",
        "import warnings\n",
        "import time\n",
        "import random\n",
        "\n",
        "from google.colab import drive\n",
        "from google.colab import files\n",
        "#drive.mount('/content/drive')"
      ],
      "execution_count": null,
      "outputs": [
        {
          "output_type": "stream",
          "text": [
            "/usr/local/lib/python3.6/dist-packages/statsmodels/tools/_testing.py:19: FutureWarning: pandas.util.testing is deprecated. Use the functions in the public API at pandas.testing instead.\n",
            "  import pandas.util.testing as tm\n"
          ],
          "name": "stderr"
        }
      ]
    },
    {
      "cell_type": "code",
      "metadata": {
        "id": "Pbof4qhP7XCa",
        "colab_type": "code",
        "colab": {
          "base_uri": "https://localhost:8080/",
          "height": 51
        },
        "outputId": "58da7c96-7896-41c6-8304-d628c828ad60"
      },
      "source": [
        "from sklearn.preprocessing import MultiLabelBinarizer\n",
        "from sklearn.preprocessing import LabelBinarizer\n",
        "from sklearn.preprocessing import LabelEncoder\n",
        "import xgboost as xgb\n",
        "from sklearn.ensemble import RandomForestRegressor\n",
        "from sklearn.metrics import mean_squared_error\n",
        "from sklearn import tree\n",
        "from sklearn.model_selection import train_test_split\n",
        "from sklearn.metrics import f1_score\n",
        "from sklearn.feature_extraction.text import CountVectorizer\n",
        "nltk.download('stopwords')\n",
        "\n",
        "from sklearn.neighbors import KNeighborsClassifier"
      ],
      "execution_count": null,
      "outputs": [
        {
          "output_type": "stream",
          "text": [
            "[nltk_data] Downloading package stopwords to /root/nltk_data...\n",
            "[nltk_data]   Unzipping corpora/stopwords.zip.\n"
          ],
          "name": "stdout"
        }
      ]
    },
    {
      "cell_type": "code",
      "metadata": {
        "id": "0FfRvKwF9XbB",
        "colab_type": "code",
        "colab": {}
      },
      "source": [
        "import lightgbm as lgb\n",
        "from catboost import CatBoostClassifier\n",
        "from catboost import CatBoostRegressor"
      ],
      "execution_count": null,
      "outputs": []
    },
    {
      "cell_type": "code",
      "metadata": {
        "id": "oSsBJW_-x_K5",
        "colab_type": "code",
        "colab": {}
      },
      "source": [
        "pd.options.display.max_columns = 100\n",
        "pd.options.display.max_rows = 100\n",
        "\n",
        "plt.style.use('default') #Haciendo los gráficos más bonitos en matplotlib\n",
        "\n",
        "sns.set(style = 'whitegrid') #Seteando tipo de grid en sns\n",
        "\n",
        "pd.options.display.float_format = '{:20,.2f}'.format #Suprimimos la notacion científica en los outputs\n",
        "\n",
        "warnings.filterwarnings(\"ignore\")"
      ],
      "execution_count": null,
      "outputs": []
    },
    {
      "cell_type": "code",
      "metadata": {
        "id": "xChC8k0oXSfG",
        "colab_type": "code",
        "colab": {
          "base_uri": "https://localhost:8080/",
          "height": 85
        },
        "outputId": "935b490c-0b9b-4275-f235-8888624c7372"
      },
      "source": [
        "print('re version', re.__version__)\n",
        "print('nltk version', nltk.__version__)\n",
        "print('spacy version', spacy.__version__)\n",
        "print('keras version', keras.__version__)"
      ],
      "execution_count": null,
      "outputs": [
        {
          "output_type": "stream",
          "text": [
            "re version 2.2.1\n",
            "nltk version 3.2.5\n",
            "spacy version 2.2.4\n",
            "keras version 2.4.3\n"
          ],
          "name": "stdout"
        }
      ]
    },
    {
      "cell_type": "markdown",
      "metadata": {
        "id": "efmkaP_ZXWki",
        "colab_type": "text"
      },
      "source": [
        "## Importo Datos"
      ]
    },
    {
      "cell_type": "code",
      "metadata": {
        "id": "mFoeWogPyKiJ",
        "colab_type": "code",
        "colab": {}
      },
      "source": [
        "train_original = pd.read_csv('https://raw.githubusercontent.com/maxrinal/nlp-disaster/master/train.csv', encoding = 'utf-8')\n",
        "test_original = pd.read_csv('https://raw.githubusercontent.com/maxrinal/nlp-disaster/master/test.csv', encoding = 'utf-8')"
      ],
      "execution_count": null,
      "outputs": []
    },
    {
      "cell_type": "code",
      "metadata": {
        "id": "5XFoPZOIyUsy",
        "colab_type": "code",
        "colab": {
          "base_uri": "https://localhost:8080/",
          "height": 204
        },
        "outputId": "e67a85bf-0f00-41e1-df78-4405012f1300"
      },
      "source": [
        "test_original.head()"
      ],
      "execution_count": null,
      "outputs": [
        {
          "output_type": "execute_result",
          "data": {
            "text/html": [
              "<div>\n",
              "<style scoped>\n",
              "    .dataframe tbody tr th:only-of-type {\n",
              "        vertical-align: middle;\n",
              "    }\n",
              "\n",
              "    .dataframe tbody tr th {\n",
              "        vertical-align: top;\n",
              "    }\n",
              "\n",
              "    .dataframe thead th {\n",
              "        text-align: right;\n",
              "    }\n",
              "</style>\n",
              "<table border=\"1\" class=\"dataframe\">\n",
              "  <thead>\n",
              "    <tr style=\"text-align: right;\">\n",
              "      <th></th>\n",
              "      <th>id</th>\n",
              "      <th>keyword</th>\n",
              "      <th>location</th>\n",
              "      <th>text</th>\n",
              "    </tr>\n",
              "  </thead>\n",
              "  <tbody>\n",
              "    <tr>\n",
              "      <th>0</th>\n",
              "      <td>0</td>\n",
              "      <td>NaN</td>\n",
              "      <td>NaN</td>\n",
              "      <td>Just happened a terrible car crash</td>\n",
              "    </tr>\n",
              "    <tr>\n",
              "      <th>1</th>\n",
              "      <td>2</td>\n",
              "      <td>NaN</td>\n",
              "      <td>NaN</td>\n",
              "      <td>Heard about #earthquake is different cities, s...</td>\n",
              "    </tr>\n",
              "    <tr>\n",
              "      <th>2</th>\n",
              "      <td>3</td>\n",
              "      <td>NaN</td>\n",
              "      <td>NaN</td>\n",
              "      <td>there is a forest fire at spot pond, geese are...</td>\n",
              "    </tr>\n",
              "    <tr>\n",
              "      <th>3</th>\n",
              "      <td>9</td>\n",
              "      <td>NaN</td>\n",
              "      <td>NaN</td>\n",
              "      <td>Apocalypse lighting. #Spokane #wildfires</td>\n",
              "    </tr>\n",
              "    <tr>\n",
              "      <th>4</th>\n",
              "      <td>11</td>\n",
              "      <td>NaN</td>\n",
              "      <td>NaN</td>\n",
              "      <td>Typhoon Soudelor kills 28 in China and Taiwan</td>\n",
              "    </tr>\n",
              "  </tbody>\n",
              "</table>\n",
              "</div>"
            ],
            "text/plain": [
              "   id keyword location                                               text\n",
              "0   0     NaN      NaN                 Just happened a terrible car crash\n",
              "1   2     NaN      NaN  Heard about #earthquake is different cities, s...\n",
              "2   3     NaN      NaN  there is a forest fire at spot pond, geese are...\n",
              "3   9     NaN      NaN           Apocalypse lighting. #Spokane #wildfires\n",
              "4  11     NaN      NaN      Typhoon Soudelor kills 28 in China and Taiwan"
            ]
          },
          "metadata": {
            "tags": []
          },
          "execution_count": 7
        }
      ]
    },
    {
      "cell_type": "code",
      "metadata": {
        "id": "snHDJKyNyTH4",
        "colab_type": "code",
        "colab": {}
      },
      "source": [
        "train = pd.concat([train_original, test_original])[['id', 'keyword', 'location', 'text', 'target']]"
      ],
      "execution_count": null,
      "outputs": []
    },
    {
      "cell_type": "markdown",
      "metadata": {
        "id": "LYAEGmosI4ZV",
        "colab_type": "text"
      },
      "source": [
        "# Limpieza"
      ]
    },
    {
      "cell_type": "markdown",
      "metadata": {
        "id": "RIRKrrDGP0kD",
        "colab_type": "text"
      },
      "source": [
        "### Funciones"
      ]
    },
    {
      "cell_type": "code",
      "metadata": {
        "id": "btZgQ_KD-VVP",
        "colab_type": "code",
        "colab": {}
      },
      "source": [
        "caracteres_extraños = ['\\u017E', '\\u017D', '\\u017C', '\\u017B', '\\u017A', '\\u0179', '\\u0178', '\\u0177', '\\u0176', '\\u00FF', '\\u00FD', '\\u00DD', '\\u0175',\\\n",
        "                         '\\u0174', '\\u0173', '\\u0172', '\\u0171', '\\u0170', '\\u016F', '\\u016E', '\\u016D', '\\u016C', '\\u016B', '\\u016A', '\\u0169', '\\u0168',\\\n",
        "                         '\\u00FC', '\\u00FB', '\\u00FA', '\\u00F9', '\\u00DC', '\\u00DB', '\\u00DA', '\\u00D9', '\\u0167', '\\u0166', '\\u0165', '\\u0164', '\\u0163',\\\n",
        "                         '\\u0162', '\\u017F', '\\u0161', '\\u0160', '\\u015F', '\\u015E', '\\u015D', '\\u015C', '\\u015B', '\\u015A', '\\u0159', '\\u0158', '\\u0157',\\\n",
        "                         '\\u0156', '\\u0155', '\\u0154', '\\u0151', '\\u0150', '\\u014F', '\\u014E', '\\u014D', '\\u014C', '\\u00F8', '\\u00F6', '\\u00F5', '\\u00F4',\\\n",
        "                         '\\u00F3', '\\u00F2', '\\u00D8', '\\u00D6', '\\u00D5', '\\u00D4', '\\u00D3', '\\u00D2', '\\u014B', '\\u014A', '\\u0149', '\\u0148', '\\u0147',\\\n",
        "                         '\\u0146', '\\u0145', '\\u0144', '\\u0143', '\\u00F1', '\\u00D1', '\\u0142', '\\u0141', '\\u0140', '\\u013F', '\\u013E', '\\u013D', '\\u013C',\\\n",
        "                         '\\u013B', '\\u013A', '\\u0139', '\\u0138', '\\u0137', '\\u0136', '\\u0135', '\\u0134', '\\u0131', '\\u0130', '\\u012F', '\\u012E', '\\u012D',\\\n",
        "                         '\\u012C', '\\u012B', '\\u012A', '\\u0129', '\\u0128', '\\u00EF', '\\u00EE', '\\u00ED', '\\u00EC', '\\u00CF', '\\u00CE', '\\u00CD', '\\u00CC',\\\n",
        "                         '\\u0127', '\\u0126', '\\u0125', '\\u0124', '\\u0123', '\\u0122', '\\u0121', '\\u0120', '\\u011F', '\\u011E', '\\u011D', '\\u011C', '\\u011B',\\\n",
        "                         '\\u011A', '\\u0119', '\\u0118', '\\u0117', '\\u0116', '\\u0115', '\\u0114', '\\u0113', '\\u0112', '\\u00EB', '\\u00EA', '\\u00E9', '\\u00E8',\\\n",
        "                         '\\u00CB', '\\u00CA', '\\u00C9', '\\u00C8', '\\u0111', '\\u0110', '\\u010F', '\\u010E', '\\u00F0', '\\u00D0', '\\u010D', '\\u010C', '\\u010B',\\\n",
        "                         '\\u010A', '\\u0109', '\\u0108', '\\u0107', '\\u0106', '\\u00E7', '\\u00C7', '\\u0105', '\\u0104', '\\u0103', '\\u0102', '\\u0101', '\\u0100',\\\n",
        "                         '\\u00E5', '\\u00E4', '\\u00E3', '\\u00E2', '\\u00E1', '\\u00E0', '\\u00C5', '\\u00C4', '\\u00C3', '\\u00C2', '\\u00C0', '\\u00C1']\n",
        "\n",
        "monosilabos = ['£', '¤', '¨', '«', '¬', '´', '¡']\n",
        "\n",
        "words_to_clean = stopwords.words('english')\n",
        "words_to_clean.append('')"
      ],
      "execution_count": null,
      "outputs": []
    },
    {
      "cell_type": "code",
      "metadata": {
        "id": "IbigDev7P4WL",
        "colab_type": "code",
        "colab": {}
      },
      "source": [
        "def remuevo_caracteres_de_lista (texto, lista):\n",
        "  for caracter in lista:\n",
        "    texto = texto.replace(caracter, ' ')\n",
        "  return texto\n",
        "\n",
        "def clean_texto (texto, caracteres_extraños, monosilabos):\n",
        "  texto = re.compile(r'https?://\\S+|www\\.\\S+').sub(r'',texto) #Removing urls\n",
        "  texto = html.unescape(texto)\n",
        "  texto = urllib.parse.unquote(str(texto))\n",
        "  texto = re.compile(r'<.*?>').sub(r'',texto) #Removing HTML tags\n",
        "  texto = re.compile(\"[\"\n",
        "                           u\"\\U0001F600-\\U0001F64F\"  # emoticons\n",
        "                           u\"\\U0001F300-\\U0001F5FF\"  # symbols & pictographs\n",
        "                           u\"\\U0001F680-\\U0001F6FF\"  # transport & map symbols\n",
        "                           u\"\\U0001F1E0-\\U0001F1FF\"  # flags (iOS)\n",
        "                           u\"\\U00002702-\\U000027B0\"\n",
        "                           u\"\\U000024C2-\\U0001F251\"\n",
        "                           \"]+\", flags = re.UNICODE).sub(r'', texto)\n",
        "  texto = texto.translate(str.maketrans('','',string.punctuation))\n",
        "  texto = texto.lower()\n",
        "  texto = texto.translate(str.maketrans('','','1234567890'))\n",
        "  texto = texto.replace('\\n', ' ').replace('å', ' ').replace('ê', ' ').replace('û', ' ').replace('[^\\w\\s]',' ').replace('÷', ' ').replace('ª', ' ')\\\n",
        "             .replace('ì', ' ').replace('¢', ' ').replace('\\x89', ' ').replace('\\x9d', ' ').replace('ã', ' ').replace('ï', ' ').replace('©', ' ')\\\n",
        "             .replace('ó', ' ').replace('ò', ' ').replace('â', ' ').replace('\\x9b', ' ').replace('\\x8a', ' ').replace('\\x93', ' ').replace('\\x8f', ' ')\\\n",
        "             .replace('\\x8c', ' ').replace('¼', ' ').replace('¥', ' ').replace('\\x92', ' ').replace('·', ' ').replace('\\x82', ' ').replace('Û', ' ')\\\n",
        "             .replace('Ó', ' ').replace('Ê', ' ').replace('Ï', ' ')\n",
        "  texto = remuevo_caracteres_de_lista(texto, caracteres_extraños)\n",
        "  texto = remuevo_caracteres_de_lista(texto, monosilabos)\n",
        "  return texto\n",
        "                        \n",
        "def custom_tokenize (notes, caracteres_extraños, monosilabos):\n",
        "  notes = [clean_texto(texto, caracteres_extraños, monosilabos) for texto in notes]\n",
        "  tokens = regexp_tokenize(' '.join(notes), pattern = '\\s+', gaps = True)\n",
        "  return tokens\n",
        "\n",
        "def paso_diccionario_word_frecuencia (lista):\n",
        "  dic = {}\n",
        "  for word in lista:\n",
        "    if word in dic.keys():\n",
        "      dic[word] += 1\n",
        "    else:\n",
        "      dic[word] = 1\n",
        "  return dic\n",
        "\n",
        "def saco_palabras_cortas (lista_tokens_frecuencia):\n",
        "  for i, word in enumerate(lista_tokens_frecuencia):\n",
        "    if (len(word[0]) < 3):\n",
        "      lista_tokens_frecuencia.pop(i)\n",
        "  return lista_tokens_frecuencia\n",
        "\n",
        "def sumo_listas (lista1, lista2):\n",
        "  for elemento in lista1:\n",
        "    if not elemento in lista2:\n",
        "      lista2.append(elemento)\n",
        "  return lista2"
      ],
      "execution_count": null,
      "outputs": []
    },
    {
      "cell_type": "markdown",
      "metadata": {
        "id": "XZx-V2BHCCTk",
        "colab_type": "text"
      },
      "source": [
        "## Limpieza Location"
      ]
    },
    {
      "cell_type": "code",
      "metadata": {
        "id": "IkgtaYajQZwc",
        "colab_type": "code",
        "colab": {}
      },
      "source": [
        "train['location'] = train.location.transform(lambda x: html.unescape(x))\n",
        "train['location'] = train.location.transform(lambda x: urllib.parse.unquote(str(x)))\n",
        "train['location'] = train.location.transform(lambda x: re.compile(r'<.*?>').sub(r'', x))\n",
        "train['location'] = train.location.transform(lambda x: x.translate(str.maketrans('','',string.punctuation)))\n",
        "train['location'] = train.location.transform(lambda x: x.lower())\n",
        "train['location'] = train.location.transform(lambda x: x.translate(str.maketrans('','','1234567890')))\n",
        "train['location'] = train.location.transform(lambda x: remuevo_caracteres_de_lista(x, caracteres_extraños))\n",
        "train['location'] = train.location.transform(lambda x: remuevo_caracteres_de_lista(x, monosilabos))"
      ],
      "execution_count": null,
      "outputs": []
    },
    {
      "cell_type": "code",
      "metadata": {
        "id": "09oKI3oHTSPj",
        "colab_type": "code",
        "colab": {}
      },
      "source": [
        "labelbinarizer = LabelBinarizer()\n",
        "X_location = labelbinarizer.fit_transform(train.location)"
      ],
      "execution_count": null,
      "outputs": []
    },
    {
      "cell_type": "code",
      "metadata": {
        "id": "QN_SivfjT0u1",
        "colab_type": "code",
        "colab": {
          "base_uri": "https://localhost:8080/"
        },
        "outputId": "940fe7cf-95e0-4214-c19c-b8e0c383019a"
      },
      "source": [
        "np.shape(X_location)"
      ],
      "execution_count": null,
      "outputs": [
        {
          "output_type": "execute_result",
          "data": {
            "text/plain": [
              "(10876, 4134)"
            ]
          },
          "metadata": {
            "tags": []
          },
          "execution_count": 13
        }
      ]
    },
    {
      "cell_type": "markdown",
      "metadata": {
        "id": "9uv1jxuAY0q1",
        "colab_type": "text"
      },
      "source": [
        "## Limpieza Keyword"
      ]
    },
    {
      "cell_type": "code",
      "metadata": {
        "id": "s2o64b1iZMbK",
        "colab_type": "code",
        "colab": {}
      },
      "source": [
        "train['keyword'] = train.keyword.transform(lambda x: urllib.parse.unquote(str(x)))\n",
        "#mlb = MultiLabelBinarizer()\n",
        "#labelencoder = LabelEncoder()\n",
        "labelbinarizer = LabelBinarizer()\n",
        "X_keyword = labelbinarizer.fit_transform(train.keyword)"
      ],
      "execution_count": null,
      "outputs": []
    },
    {
      "cell_type": "code",
      "metadata": {
        "id": "kJMjhdR8dIhm",
        "colab_type": "code",
        "colab": {
          "base_uri": "https://localhost:8080/"
        },
        "outputId": "051c816e-b6ef-43fd-c49c-de295b4bd3bf"
      },
      "source": [
        "np.shape(X_keyword)"
      ],
      "execution_count": null,
      "outputs": [
        {
          "output_type": "execute_result",
          "data": {
            "text/plain": [
              "(10876, 222)"
            ]
          },
          "metadata": {
            "tags": []
          },
          "execution_count": 15
        }
      ]
    },
    {
      "cell_type": "markdown",
      "metadata": {
        "id": "SVZ6Si14PslB",
        "colab_type": "text"
      },
      "source": [
        "## Limpieza Texto"
      ]
    },
    {
      "cell_type": "code",
      "metadata": {
        "id": "D-L3YHRSI704",
        "colab_type": "code",
        "colab": {
          "base_uri": "https://localhost:8080/"
        },
        "outputId": "1f147b66-27f1-4983-9e0e-060ca0f03039"
      },
      "source": [
        "train['text_len'] = train.text.transform(lambda x: len(clean_texto(x, caracteres_extraños, monosilabos)))\n",
        "\n",
        "sns.set(font_scale = 1)\n",
        "plt.figure(figsize = (8, 6))\n",
        "\n",
        "plt.hist(train.text_len.values, bins = range(0, 200, 10))\n",
        "plt.xlabel('Number of characteres')\n",
        "plt.ylabel('Frecuency')\n",
        "plt.show()"
      ],
      "execution_count": null,
      "outputs": [
        {
          "output_type": "display_data",
          "data": {
            "image/png": "[encoded data removed]",
            "text/plain": [
              "<Figure size 800x600 with 1 Axes>"
            ]
          },
          "metadata": {
            "tags": []
          }
        }
      ]
    },
    {
      "cell_type": "code",
      "metadata": {
        "id": "J5isnBcGOa1k",
        "colab_type": "code",
        "colab": {}
      },
      "source": [
        "notes = list(train.text.values)\n",
        "#random.seed(42)\n",
        "#random.shuffle(notes)\n",
        "tokens = custom_tokenize(notes, caracteres_extraños, monosilabos)\n",
        "palabras_para_sacar = [word for word in tokens if len(word) < 3]\n",
        "words_to_clean = sumo_listas(palabras_para_sacar, words_to_clean)\n",
        "#tokens = sorted(tokens)\n",
        "#dic_tokens = paso_diccionario_word_frecuencia(tokens)\n",
        "#lista_tokens_frecuencia = list(dic_tokens.items())\n",
        "#lista_tokens_frecuencia_limpia = saco_palabras_cortas(lista_tokens_frecuencia)\n",
        "#lista_tokens_frecuencia_limpia = saco_palabras_cortas(lista_tokens_frecuencia_limpia)"
      ],
      "execution_count": null,
      "outputs": []
    },
    {
      "cell_type": "code",
      "metadata": {
        "id": "6jzm2xWHdn4W",
        "colab_type": "code",
        "colab": {}
      },
      "source": [
        "corpus = [clean_texto(texto, caracteres_extraños, monosilabos) for texto in notes]"
      ],
      "execution_count": null,
      "outputs": []
    },
    {
      "cell_type": "code",
      "metadata": {
        "id": "oZ8B5FEReceO",
        "colab_type": "code",
        "colab": {}
      },
      "source": [
        "vectorizer = CountVectorizer(analyzer = 'word', stop_words = words_to_clean, lowercase = True, strip_accents = 'ascii', ngram_range = (1, 1))\n",
        "X_texto = vectorizer.fit_transform(corpus)\n",
        "X_texto_array = X_texto.toarray()"
      ],
      "execution_count": null,
      "outputs": []
    },
    {
      "cell_type": "code",
      "metadata": {
        "id": "vTte7UJroOCW",
        "colab_type": "code",
        "colab": {
          "base_uri": "https://localhost:8080/"
        },
        "outputId": "671aab21-1b82-4e0e-e365-b0fdde5e4442"
      },
      "source": [
        "np.shape(X_texto_array)"
      ],
      "execution_count": null,
      "outputs": [
        {
          "output_type": "execute_result",
          "data": {
            "text/plain": [
              "(10876, 20645)"
            ]
          },
          "metadata": {
            "tags": []
          },
          "execution_count": 20
        }
      ]
    },
    {
      "cell_type": "markdown",
      "metadata": {
        "id": "J_H0JteC018K",
        "colab_type": "text"
      },
      "source": [
        "# DataSet"
      ]
    },
    {
      "cell_type": "code",
      "metadata": {
        "id": "dRKzToKADj33",
        "colab_type": "code",
        "colab": {
          "base_uri": "https://localhost:8080/",
          "height": 34
        },
        "outputId": "cb79a9bb-57cb-485e-cd1e-1b3c0fc8374e"
      },
      "source": [
        "X_text_len = train.text_len.values\n",
        "X_text_len = np.reshape(X_text_len, (10876, 1))\n",
        "np.shape(X_text_len)"
      ],
      "execution_count": null,
      "outputs": [
        {
          "output_type": "execute_result",
          "data": {
            "text/plain": [
              "(10876, 1)"
            ]
          },
          "metadata": {
            "tags": []
          },
          "execution_count": 21
        }
      ]
    },
    {
      "cell_type": "code",
      "metadata": {
        "id": "9fxmSatvtWNj",
        "colab_type": "code",
        "colab": {}
      },
      "source": [
        "y = train_original.target.values\n",
        "X = X_texto_array\n",
        "X = np.hstack((X, X_keyword))\n",
        "#X = np.hstack((X, X_text_len))\n",
        "X = np.hstack((X, X_location))"
      ],
      "execution_count": null,
      "outputs": []
    },
    {
      "cell_type": "code",
      "metadata": {
        "id": "MmqOn-9kEs5F",
        "colab_type": "code",
        "colab": {
          "base_uri": "https://localhost:8080/",
          "height": 34
        },
        "outputId": "e7602e05-8868-4ea3-989f-02530971d4d4"
      },
      "source": [
        "np.shape(y)"
      ],
      "execution_count": null,
      "outputs": [
        {
          "output_type": "execute_result",
          "data": {
            "text/plain": [
              "(7613,)"
            ]
          },
          "metadata": {
            "tags": []
          },
          "execution_count": 23
        }
      ]
    },
    {
      "cell_type": "code",
      "metadata": {
        "id": "yGFC1rdPurUa",
        "colab_type": "code",
        "colab": {
          "base_uri": "https://localhost:8080/",
          "height": 34
        },
        "outputId": "af87c917-ecc7-4206-ca1c-3a2af01e9000"
      },
      "source": [
        "np.shape(X)"
      ],
      "execution_count": null,
      "outputs": [
        {
          "output_type": "execute_result",
          "data": {
            "text/plain": [
              "(10876, 25001)"
            ]
          },
          "metadata": {
            "tags": []
          },
          "execution_count": 24
        }
      ]
    },
    {
      "cell_type": "code",
      "metadata": {
        "id": "oMZccOrKoo8T",
        "colab_type": "code",
        "colab": {}
      },
      "source": [
        "X_fit = X[0:7613]\n",
        "X_submit = X[7613:]"
      ],
      "execution_count": null,
      "outputs": []
    },
    {
      "cell_type": "code",
      "metadata": {
        "id": "xuwT4kEO0XDn",
        "colab_type": "code",
        "colab": {}
      },
      "source": [
        "X_train, X_test, y_train, y_test = train_test_split(X_fit, y, test_size = 0.2, random_state = 123)"
      ],
      "execution_count": null,
      "outputs": []
    },
    {
      "cell_type": "markdown",
      "metadata": {
        "id": "nRoYDZdAPAjz",
        "colab_type": "text"
      },
      "source": [
        "# **CatBoost**"
      ]
    },
    {
      "cell_type": "code",
      "metadata": {
        "id": "Jd7splK3SV2C",
        "colab_type": "code",
        "colab": {}
      },
      "source": [
        "preds = clf.predict(data = X_submit)"
      ],
      "execution_count": null,
      "outputs": []
    },
    {
      "cell_type": "code",
      "metadata": {
        "id": "VMiofTIxgh2O",
        "colab_type": "code",
        "colab": {
          "base_uri": "https://localhost:8080/",
          "height": 1000
        },
        "outputId": "c66586ca-05fc-4316-caf8-929e34c2e3d2"
      },
      "source": [
        "model = CatBoostRegressor()                                         \n",
        "model.fit(X_train, y_train)                                        \n",
        "preds = model.predict(X_test)                                     \n",
        "rmse = np.sqrt(mean_squared_error(y_test, preds))                  \n",
        "print(\"RMSE: %f\" % (rmse))                               "
      ],
      "execution_count": null,
      "outputs": [
        {
          "output_type": "stream",
          "text": [
            "Learning rate set to 0.053835\n",
            "0:\tlearn: 0.4938273\ttotal: 53.6ms\tremaining: 53.5s\n",
            "1:\tlearn: 0.4924365\ttotal: 105ms\tremaining: 52.5s\n",
            "2:\tlearn: 0.4908437\ttotal: 182ms\tremaining: 1m\n",
            "3:\tlearn: 0.4893549\ttotal: 251ms\tremaining: 1m 2s\n",
            "4:\tlearn: 0.4883088\ttotal: 305ms\tremaining: 1m\n",
            "5:\tlearn: 0.4871248\ttotal: 357ms\tremaining: 59.1s\n",
            "6:\tlearn: 0.4859249\ttotal: 410ms\tremaining: 58.2s\n",
            "7:\tlearn: 0.4850098\ttotal: 462ms\tremaining: 57.3s\n",
            "8:\tlearn: 0.4841644\ttotal: 517ms\tremaining: 56.9s\n",
            "9:\tlearn: 0.4830754\ttotal: 569ms\tremaining: 56.4s\n",
            "10:\tlearn: 0.4824112\ttotal: 622ms\tremaining: 55.9s\n",
            "11:\tlearn: 0.4817650\ttotal: 675ms\tremaining: 55.6s\n",
            "12:\tlearn: 0.4809746\ttotal: 732ms\tremaining: 55.6s\n",
            "13:\tlearn: 0.4800904\ttotal: 784ms\tremaining: 55.2s\n",
            "14:\tlearn: 0.4794206\ttotal: 836ms\tremaining: 54.9s\n",
            "15:\tlearn: 0.4786917\ttotal: 888ms\tremaining: 54.6s\n",
            "16:\tlearn: 0.4781021\ttotal: 944ms\tremaining: 54.6s\n",
            "17:\tlearn: 0.4772549\ttotal: 997ms\tremaining: 54.4s\n",
            "18:\tlearn: 0.4767217\ttotal: 1.05s\tremaining: 54.2s\n",
            "19:\tlearn: 0.4761314\ttotal: 1.1s\tremaining: 53.9s\n",
            "20:\tlearn: 0.4753886\ttotal: 1.16s\tremaining: 53.8s\n",
            "21:\tlearn: 0.4747979\ttotal: 1.22s\tremaining: 54.1s\n",
            "22:\tlearn: 0.4742695\ttotal: 1.27s\tremaining: 53.9s\n",
            "23:\tlearn: 0.4736882\ttotal: 1.32s\tremaining: 53.8s\n",
            "24:\tlearn: 0.4729346\ttotal: 1.38s\tremaining: 53.8s\n",
            "25:\tlearn: 0.4723175\ttotal: 1.43s\tremaining: 53.7s\n",
            "26:\tlearn: 0.4718183\ttotal: 1.49s\tremaining: 53.6s\n",
            "27:\tlearn: 0.4712829\ttotal: 1.54s\tremaining: 53.5s\n",
            "28:\tlearn: 0.4707628\ttotal: 1.6s\tremaining: 53.7s\n",
            "29:\tlearn: 0.4702341\ttotal: 1.66s\tremaining: 53.7s\n",
            "30:\tlearn: 0.4696653\ttotal: 1.72s\tremaining: 53.7s\n",
            "31:\tlearn: 0.4691850\ttotal: 1.77s\tremaining: 53.6s\n",
            "32:\tlearn: 0.4685952\ttotal: 1.83s\tremaining: 53.6s\n",
            "33:\tlearn: 0.4679404\ttotal: 1.89s\tremaining: 53.6s\n",
            "34:\tlearn: 0.4674051\ttotal: 1.94s\tremaining: 53.5s\n",
            "35:\tlearn: 0.4669927\ttotal: 2s\tremaining: 53.5s\n",
            "36:\tlearn: 0.4665377\ttotal: 2.06s\tremaining: 53.5s\n",
            "37:\tlearn: 0.4660808\ttotal: 2.11s\tremaining: 53.5s\n",
            "38:\tlearn: 0.4656644\ttotal: 2.17s\tremaining: 53.5s\n",
            "39:\tlearn: 0.4653680\ttotal: 2.23s\tremaining: 53.6s\n",
            "40:\tlearn: 0.4650449\ttotal: 2.29s\tremaining: 53.6s\n",
            "41:\tlearn: 0.4645522\ttotal: 2.34s\tremaining: 53.5s\n",
            "42:\tlearn: 0.4640998\ttotal: 2.4s\tremaining: 53.4s\n",
            "43:\tlearn: 0.4635787\ttotal: 2.45s\tremaining: 53.2s\n",
            "44:\tlearn: 0.4631910\ttotal: 2.5s\tremaining: 53.1s\n",
            "45:\tlearn: 0.4627344\ttotal: 2.56s\tremaining: 53s\n",
            "46:\tlearn: 0.4623345\ttotal: 2.61s\tremaining: 52.9s\n",
            "47:\tlearn: 0.4620067\ttotal: 2.66s\tremaining: 52.8s\n",
            "48:\tlearn: 0.4616181\ttotal: 2.72s\tremaining: 52.8s\n",
            "49:\tlearn: 0.4611859\ttotal: 2.77s\tremaining: 52.7s\n",
            "50:\tlearn: 0.4606968\ttotal: 2.83s\tremaining: 52.6s\n",
            "51:\tlearn: 0.4602002\ttotal: 2.88s\tremaining: 52.5s\n",
            "52:\tlearn: 0.4598469\ttotal: 2.94s\tremaining: 52.5s\n",
            "53:\tlearn: 0.4593924\ttotal: 2.99s\tremaining: 52.4s\n",
            "54:\tlearn: 0.4590281\ttotal: 3.04s\tremaining: 52.3s\n",
            "55:\tlearn: 0.4587442\ttotal: 3.1s\tremaining: 52.2s\n",
            "56:\tlearn: 0.4583162\ttotal: 3.15s\tremaining: 52.1s\n",
            "57:\tlearn: 0.4579092\ttotal: 3.22s\tremaining: 52.2s\n",
            "58:\tlearn: 0.4575280\ttotal: 3.27s\tremaining: 52.1s\n",
            "59:\tlearn: 0.4570723\ttotal: 3.32s\tremaining: 52s\n",
            "60:\tlearn: 0.4566689\ttotal: 3.38s\tremaining: 52s\n",
            "61:\tlearn: 0.4562584\ttotal: 3.43s\tremaining: 51.9s\n",
            "62:\tlearn: 0.4558745\ttotal: 3.48s\tremaining: 51.8s\n",
            "63:\tlearn: 0.4555413\ttotal: 3.53s\tremaining: 51.7s\n",
            "64:\tlearn: 0.4551036\ttotal: 3.59s\tremaining: 51.6s\n",
            "65:\tlearn: 0.4547514\ttotal: 3.64s\tremaining: 51.5s\n",
            "66:\tlearn: 0.4544195\ttotal: 3.69s\tremaining: 51.5s\n",
            "67:\tlearn: 0.4539937\ttotal: 3.75s\tremaining: 51.4s\n",
            "68:\tlearn: 0.4536453\ttotal: 3.8s\tremaining: 51.3s\n",
            "69:\tlearn: 0.4533669\ttotal: 3.85s\tremaining: 51.2s\n",
            "70:\tlearn: 0.4530133\ttotal: 3.91s\tremaining: 51.1s\n",
            "71:\tlearn: 0.4527179\ttotal: 3.96s\tremaining: 51s\n",
            "72:\tlearn: 0.4523785\ttotal: 4.02s\tremaining: 51s\n",
            "73:\tlearn: 0.4520556\ttotal: 4.07s\tremaining: 50.9s\n",
            "74:\tlearn: 0.4517846\ttotal: 4.13s\tremaining: 50.9s\n",
            "75:\tlearn: 0.4513782\ttotal: 4.18s\tremaining: 50.9s\n",
            "76:\tlearn: 0.4510635\ttotal: 4.25s\tremaining: 51s\n",
            "77:\tlearn: 0.4506521\ttotal: 4.31s\tremaining: 50.9s\n",
            "78:\tlearn: 0.4503356\ttotal: 4.36s\tremaining: 50.8s\n",
            "79:\tlearn: 0.4501199\ttotal: 4.42s\tremaining: 50.8s\n",
            "80:\tlearn: 0.4498471\ttotal: 4.47s\tremaining: 50.7s\n",
            "81:\tlearn: 0.4494540\ttotal: 4.52s\tremaining: 50.6s\n",
            "82:\tlearn: 0.4492015\ttotal: 4.58s\tremaining: 50.6s\n",
            "83:\tlearn: 0.4489120\ttotal: 4.63s\tremaining: 50.5s\n",
            "84:\tlearn: 0.4487266\ttotal: 4.69s\tremaining: 50.5s\n",
            "85:\tlearn: 0.4484623\ttotal: 4.74s\tremaining: 50.4s\n",
            "86:\tlearn: 0.4482226\ttotal: 4.8s\tremaining: 50.3s\n",
            "87:\tlearn: 0.4478907\ttotal: 4.85s\tremaining: 50.3s\n",
            "88:\tlearn: 0.4476309\ttotal: 4.91s\tremaining: 50.3s\n",
            "89:\tlearn: 0.4473665\ttotal: 4.96s\tremaining: 50.2s\n",
            "90:\tlearn: 0.4471466\ttotal: 5.01s\tremaining: 50.1s\n",
            "91:\tlearn: 0.4468842\ttotal: 5.07s\tremaining: 50s\n",
            "92:\tlearn: 0.4464792\ttotal: 5.13s\tremaining: 50s\n",
            "93:\tlearn: 0.4461986\ttotal: 5.18s\tremaining: 49.9s\n",
            "94:\tlearn: 0.4459925\ttotal: 5.24s\tremaining: 49.9s\n",
            "95:\tlearn: 0.4457266\ttotal: 5.29s\tremaining: 49.8s\n",
            "96:\tlearn: 0.4455559\ttotal: 5.35s\tremaining: 49.8s\n",
            "97:\tlearn: 0.4452950\ttotal: 5.4s\tremaining: 49.7s\n",
            "98:\tlearn: 0.4450882\ttotal: 5.46s\tremaining: 49.7s\n",
            "99:\tlearn: 0.4448419\ttotal: 5.51s\tremaining: 49.6s\n",
            "100:\tlearn: 0.4445745\ttotal: 5.56s\tremaining: 49.5s\n",
            "101:\tlearn: 0.4444280\ttotal: 5.62s\tremaining: 49.5s\n",
            "102:\tlearn: 0.4442195\ttotal: 5.67s\tremaining: 49.4s\n",
            "103:\tlearn: 0.4439337\ttotal: 5.74s\tremaining: 49.5s\n",
            "104:\tlearn: 0.4436373\ttotal: 5.8s\tremaining: 49.4s\n",
            "105:\tlearn: 0.4433003\ttotal: 5.85s\tremaining: 49.4s\n",
            "106:\tlearn: 0.4430061\ttotal: 5.91s\tremaining: 49.3s\n",
            "107:\tlearn: 0.4427964\ttotal: 5.96s\tremaining: 49.2s\n",
            "108:\tlearn: 0.4425512\ttotal: 6.01s\tremaining: 49.2s\n",
            "109:\tlearn: 0.4422053\ttotal: 6.07s\tremaining: 49.1s\n",
            "110:\tlearn: 0.4418842\ttotal: 6.13s\tremaining: 49.1s\n",
            "111:\tlearn: 0.4416404\ttotal: 6.18s\tremaining: 49s\n",
            "112:\tlearn: 0.4413545\ttotal: 6.25s\tremaining: 49s\n",
            "113:\tlearn: 0.4411404\ttotal: 6.3s\tremaining: 49s\n",
            "114:\tlearn: 0.4408397\ttotal: 6.36s\tremaining: 48.9s\n",
            "115:\tlearn: 0.4405401\ttotal: 6.41s\tremaining: 48.9s\n",
            "116:\tlearn: 0.4403580\ttotal: 6.47s\tremaining: 48.8s\n",
            "117:\tlearn: 0.4401825\ttotal: 6.53s\tremaining: 48.8s\n",
            "118:\tlearn: 0.4400373\ttotal: 6.58s\tremaining: 48.7s\n",
            "119:\tlearn: 0.4397275\ttotal: 6.64s\tremaining: 48.7s\n",
            "120:\tlearn: 0.4394999\ttotal: 6.7s\tremaining: 48.7s\n",
            "121:\tlearn: 0.4392484\ttotal: 6.76s\tremaining: 48.6s\n",
            "122:\tlearn: 0.4389939\ttotal: 6.81s\tremaining: 48.6s\n",
            "123:\tlearn: 0.4388024\ttotal: 6.87s\tremaining: 48.5s\n",
            "124:\tlearn: 0.4385324\ttotal: 6.93s\tremaining: 48.5s\n",
            "125:\tlearn: 0.4383300\ttotal: 6.99s\tremaining: 48.5s\n",
            "126:\tlearn: 0.4381165\ttotal: 7.04s\tremaining: 48.4s\n",
            "127:\tlearn: 0.4378584\ttotal: 7.09s\tremaining: 48.3s\n",
            "128:\tlearn: 0.4375775\ttotal: 7.14s\tremaining: 48.2s\n",
            "129:\tlearn: 0.4373533\ttotal: 7.2s\tremaining: 48.2s\n",
            "130:\tlearn: 0.4371119\ttotal: 7.26s\tremaining: 48.2s\n",
            "131:\tlearn: 0.4368800\ttotal: 7.32s\tremaining: 48.2s\n",
            "132:\tlearn: 0.4366195\ttotal: 7.38s\tremaining: 48.1s\n",
            "133:\tlearn: 0.4364100\ttotal: 7.44s\tremaining: 48.1s\n",
            "134:\tlearn: 0.4361913\ttotal: 7.49s\tremaining: 48s\n",
            "135:\tlearn: 0.4358892\ttotal: 7.55s\tremaining: 47.9s\n",
            "136:\tlearn: 0.4356165\ttotal: 7.6s\tremaining: 47.9s\n",
            "137:\tlearn: 0.4353638\ttotal: 7.66s\tremaining: 47.9s\n",
            "138:\tlearn: 0.4351075\ttotal: 7.72s\tremaining: 47.8s\n",
            "139:\tlearn: 0.4348167\ttotal: 7.78s\tremaining: 47.8s\n",
            "140:\tlearn: 0.4345613\ttotal: 7.83s\tremaining: 47.7s\n",
            "141:\tlearn: 0.4343174\ttotal: 7.89s\tremaining: 47.7s\n",
            "142:\tlearn: 0.4340450\ttotal: 7.95s\tremaining: 47.6s\n",
            "143:\tlearn: 0.4339182\ttotal: 8.01s\tremaining: 47.6s\n",
            "144:\tlearn: 0.4336384\ttotal: 8.06s\tremaining: 47.6s\n",
            "145:\tlearn: 0.4333861\ttotal: 8.12s\tremaining: 47.5s\n",
            "146:\tlearn: 0.4331191\ttotal: 8.17s\tremaining: 47.4s\n",
            "147:\tlearn: 0.4329144\ttotal: 8.22s\tremaining: 47.3s\n",
            "148:\tlearn: 0.4326672\ttotal: 8.28s\tremaining: 47.3s\n",
            "149:\tlearn: 0.4324212\ttotal: 8.34s\tremaining: 47.2s\n",
            "150:\tlearn: 0.4321706\ttotal: 8.39s\tremaining: 47.2s\n",
            "151:\tlearn: 0.4318851\ttotal: 8.45s\tremaining: 47.1s\n",
            "152:\tlearn: 0.4316536\ttotal: 8.51s\tremaining: 47.1s\n",
            "153:\tlearn: 0.4314129\ttotal: 8.56s\tremaining: 47s\n",
            "154:\tlearn: 0.4310883\ttotal: 8.61s\tremaining: 47s\n",
            "155:\tlearn: 0.4308862\ttotal: 8.67s\tremaining: 46.9s\n",
            "156:\tlearn: 0.4306360\ttotal: 8.72s\tremaining: 46.8s\n",
            "157:\tlearn: 0.4303842\ttotal: 8.78s\tremaining: 46.8s\n",
            "158:\tlearn: 0.4302058\ttotal: 8.83s\tremaining: 46.7s\n",
            "159:\tlearn: 0.4299459\ttotal: 8.88s\tremaining: 46.6s\n",
            "160:\tlearn: 0.4296695\ttotal: 8.94s\tremaining: 46.6s\n",
            "161:\tlearn: 0.4293851\ttotal: 8.99s\tremaining: 46.5s\n",
            "162:\tlearn: 0.4290905\ttotal: 9.04s\tremaining: 46.4s\n",
            "163:\tlearn: 0.4288473\ttotal: 9.1s\tremaining: 46.4s\n",
            "164:\tlearn: 0.4285702\ttotal: 9.15s\tremaining: 46.3s\n",
            "165:\tlearn: 0.4283045\ttotal: 9.21s\tremaining: 46.3s\n",
            "166:\tlearn: 0.4280374\ttotal: 9.26s\tremaining: 46.2s\n",
            "167:\tlearn: 0.4277446\ttotal: 9.32s\tremaining: 46.1s\n",
            "168:\tlearn: 0.4275004\ttotal: 9.37s\tremaining: 46.1s\n",
            "169:\tlearn: 0.4272801\ttotal: 9.43s\tremaining: 46s\n",
            "170:\tlearn: 0.4270332\ttotal: 9.48s\tremaining: 46s\n",
            "171:\tlearn: 0.4267686\ttotal: 9.53s\tremaining: 45.9s\n",
            "172:\tlearn: 0.4265399\ttotal: 9.59s\tremaining: 45.8s\n",
            "173:\tlearn: 0.4262855\ttotal: 9.64s\tremaining: 45.8s\n",
            "174:\tlearn: 0.4259843\ttotal: 9.7s\tremaining: 45.7s\n",
            "175:\tlearn: 0.4256876\ttotal: 9.75s\tremaining: 45.7s\n",
            "176:\tlearn: 0.4254124\ttotal: 9.8s\tremaining: 45.6s\n",
            "177:\tlearn: 0.4250591\ttotal: 9.86s\tremaining: 45.5s\n",
            "178:\tlearn: 0.4248208\ttotal: 9.91s\tremaining: 45.5s\n",
            "179:\tlearn: 0.4245320\ttotal: 9.97s\tremaining: 45.4s\n",
            "180:\tlearn: 0.4242722\ttotal: 10s\tremaining: 45.4s\n",
            "181:\tlearn: 0.4239917\ttotal: 10.1s\tremaining: 45.3s\n",
            "182:\tlearn: 0.4237412\ttotal: 10.1s\tremaining: 45.2s\n",
            "183:\tlearn: 0.4234811\ttotal: 10.2s\tremaining: 45.2s\n",
            "184:\tlearn: 0.4232096\ttotal: 10.2s\tremaining: 45.1s\n",
            "185:\tlearn: 0.4229555\ttotal: 10.3s\tremaining: 45.1s\n",
            "186:\tlearn: 0.4227171\ttotal: 10.4s\tremaining: 45s\n",
            "187:\tlearn: 0.4224348\ttotal: 10.4s\tremaining: 44.9s\n",
            "188:\tlearn: 0.4221888\ttotal: 10.5s\tremaining: 44.9s\n",
            "189:\tlearn: 0.4219845\ttotal: 10.5s\tremaining: 44.8s\n",
            "190:\tlearn: 0.4217161\ttotal: 10.6s\tremaining: 44.8s\n",
            "191:\tlearn: 0.4214177\ttotal: 10.6s\tremaining: 44.7s\n",
            "192:\tlearn: 0.4211538\ttotal: 10.7s\tremaining: 44.7s\n",
            "193:\tlearn: 0.4208535\ttotal: 10.7s\tremaining: 44.6s\n",
            "194:\tlearn: 0.4205991\ttotal: 10.8s\tremaining: 44.6s\n",
            "195:\tlearn: 0.4203602\ttotal: 10.8s\tremaining: 44.5s\n",
            "196:\tlearn: 0.4201240\ttotal: 10.9s\tremaining: 44.4s\n",
            "197:\tlearn: 0.4198628\ttotal: 11s\tremaining: 44.4s\n",
            "198:\tlearn: 0.4196077\ttotal: 11s\tremaining: 44.3s\n",
            "199:\tlearn: 0.4193664\ttotal: 11.1s\tremaining: 44.3s\n",
            "200:\tlearn: 0.4190920\ttotal: 11.1s\tremaining: 44.2s\n",
            "201:\tlearn: 0.4188504\ttotal: 11.2s\tremaining: 44.1s\n",
            "202:\tlearn: 0.4186015\ttotal: 11.2s\tremaining: 44.1s\n",
            "203:\tlearn: 0.4183478\ttotal: 11.3s\tremaining: 44s\n",
            "204:\tlearn: 0.4181141\ttotal: 11.3s\tremaining: 44s\n",
            "205:\tlearn: 0.4178734\ttotal: 11.4s\tremaining: 43.9s\n",
            "206:\tlearn: 0.4176159\ttotal: 11.4s\tremaining: 43.8s\n",
            "207:\tlearn: 0.4174181\ttotal: 11.5s\tremaining: 43.8s\n",
            "208:\tlearn: 0.4171916\ttotal: 11.6s\tremaining: 43.7s\n",
            "209:\tlearn: 0.4169459\ttotal: 11.6s\tremaining: 43.7s\n",
            "210:\tlearn: 0.4167259\ttotal: 11.7s\tremaining: 43.6s\n",
            "211:\tlearn: 0.4164489\ttotal: 11.7s\tremaining: 43.6s\n",
            "212:\tlearn: 0.4162190\ttotal: 11.8s\tremaining: 43.5s\n",
            "213:\tlearn: 0.4159576\ttotal: 11.8s\tremaining: 43.4s\n",
            "214:\tlearn: 0.4157608\ttotal: 11.9s\tremaining: 43.4s\n",
            "215:\tlearn: 0.4155468\ttotal: 11.9s\tremaining: 43.3s\n",
            "216:\tlearn: 0.4153282\ttotal: 12s\tremaining: 43.3s\n",
            "217:\tlearn: 0.4151267\ttotal: 12s\tremaining: 43.2s\n",
            "218:\tlearn: 0.4148744\ttotal: 12.1s\tremaining: 43.1s\n",
            "219:\tlearn: 0.4146632\ttotal: 12.2s\tremaining: 43.1s\n",
            "220:\tlearn: 0.4144230\ttotal: 12.2s\tremaining: 43s\n",
            "221:\tlearn: 0.4142085\ttotal: 12.3s\tremaining: 43s\n",
            "222:\tlearn: 0.4140026\ttotal: 12.3s\tremaining: 43s\n",
            "223:\tlearn: 0.4137760\ttotal: 12.4s\tremaining: 42.9s\n",
            "224:\tlearn: 0.4135579\ttotal: 12.4s\tremaining: 42.8s\n",
            "225:\tlearn: 0.4133164\ttotal: 12.5s\tremaining: 42.8s\n",
            "226:\tlearn: 0.4130964\ttotal: 12.5s\tremaining: 42.7s\n",
            "227:\tlearn: 0.4128741\ttotal: 12.6s\tremaining: 42.7s\n",
            "228:\tlearn: 0.4126857\ttotal: 12.7s\tremaining: 42.6s\n",
            "229:\tlearn: 0.4125068\ttotal: 12.7s\tremaining: 42.5s\n",
            "230:\tlearn: 0.4123232\ttotal: 12.8s\tremaining: 42.5s\n",
            "231:\tlearn: 0.4120647\ttotal: 12.8s\tremaining: 42.4s\n",
            "232:\tlearn: 0.4118805\ttotal: 12.9s\tremaining: 42.4s\n",
            "233:\tlearn: 0.4116888\ttotal: 12.9s\tremaining: 42.3s\n",
            "234:\tlearn: 0.4114678\ttotal: 13s\tremaining: 42.3s\n",
            "235:\tlearn: 0.4112514\ttotal: 13s\tremaining: 42.2s\n",
            "236:\tlearn: 0.4110483\ttotal: 13.1s\tremaining: 42.1s\n",
            "237:\tlearn: 0.4108811\ttotal: 13.1s\tremaining: 42.1s\n",
            "238:\tlearn: 0.4106390\ttotal: 13.2s\tremaining: 42s\n",
            "239:\tlearn: 0.4104306\ttotal: 13.2s\tremaining: 42s\n",
            "240:\tlearn: 0.4102430\ttotal: 13.3s\tremaining: 41.9s\n",
            "241:\tlearn: 0.4100687\ttotal: 13.4s\tremaining: 41.9s\n",
            "242:\tlearn: 0.4098816\ttotal: 13.4s\tremaining: 41.8s\n",
            "243:\tlearn: 0.4096327\ttotal: 13.5s\tremaining: 41.7s\n",
            "244:\tlearn: 0.4093992\ttotal: 13.5s\tremaining: 41.7s\n",
            "245:\tlearn: 0.4092409\ttotal: 13.6s\tremaining: 41.6s\n",
            "246:\tlearn: 0.4090381\ttotal: 13.6s\tremaining: 41.6s\n",
            "247:\tlearn: 0.4088612\ttotal: 13.7s\tremaining: 41.5s\n",
            "248:\tlearn: 0.4086490\ttotal: 13.7s\tremaining: 41.4s\n",
            "249:\tlearn: 0.4084522\ttotal: 13.8s\tremaining: 41.4s\n",
            "250:\tlearn: 0.4082261\ttotal: 13.9s\tremaining: 41.3s\n",
            "251:\tlearn: 0.4079983\ttotal: 13.9s\tremaining: 41.3s\n",
            "252:\tlearn: 0.4078143\ttotal: 14s\tremaining: 41.2s\n",
            "253:\tlearn: 0.4076105\ttotal: 14s\tremaining: 41.2s\n",
            "254:\tlearn: 0.4074117\ttotal: 14.1s\tremaining: 41.1s\n",
            "255:\tlearn: 0.4072356\ttotal: 14.1s\tremaining: 41.1s\n",
            "256:\tlearn: 0.4070216\ttotal: 14.2s\tremaining: 41.1s\n",
            "257:\tlearn: 0.4067974\ttotal: 14.3s\tremaining: 41s\n",
            "258:\tlearn: 0.4065708\ttotal: 14.3s\tremaining: 41s\n",
            "259:\tlearn: 0.4063550\ttotal: 14.4s\tremaining: 41s\n",
            "260:\tlearn: 0.4061751\ttotal: 14.5s\tremaining: 41s\n",
            "261:\tlearn: 0.4060046\ttotal: 14.5s\tremaining: 41s\n",
            "262:\tlearn: 0.4057895\ttotal: 14.6s\tremaining: 40.9s\n",
            "263:\tlearn: 0.4056293\ttotal: 14.7s\tremaining: 40.9s\n",
            "264:\tlearn: 0.4054523\ttotal: 14.7s\tremaining: 40.9s\n",
            "265:\tlearn: 0.4052532\ttotal: 14.8s\tremaining: 40.8s\n",
            "266:\tlearn: 0.4050946\ttotal: 14.9s\tremaining: 40.8s\n",
            "267:\tlearn: 0.4048998\ttotal: 14.9s\tremaining: 40.8s\n",
            "268:\tlearn: 0.4047052\ttotal: 15s\tremaining: 40.7s\n",
            "269:\tlearn: 0.4045037\ttotal: 15s\tremaining: 40.7s\n",
            "270:\tlearn: 0.4042971\ttotal: 15.1s\tremaining: 40.6s\n",
            "271:\tlearn: 0.4041414\ttotal: 15.2s\tremaining: 40.6s\n",
            "272:\tlearn: 0.4039635\ttotal: 15.2s\tremaining: 40.5s\n",
            "273:\tlearn: 0.4037399\ttotal: 15.3s\tremaining: 40.5s\n",
            "274:\tlearn: 0.4035460\ttotal: 15.3s\tremaining: 40.5s\n",
            "275:\tlearn: 0.4033648\ttotal: 15.4s\tremaining: 40.4s\n",
            "276:\tlearn: 0.4031874\ttotal: 15.5s\tremaining: 40.4s\n",
            "277:\tlearn: 0.4030051\ttotal: 15.5s\tremaining: 40.3s\n",
            "278:\tlearn: 0.4028386\ttotal: 15.6s\tremaining: 40.3s\n",
            "279:\tlearn: 0.4026711\ttotal: 15.6s\tremaining: 40.2s\n",
            "280:\tlearn: 0.4025022\ttotal: 15.7s\tremaining: 40.2s\n",
            "281:\tlearn: 0.4023331\ttotal: 15.8s\tremaining: 40.1s\n",
            "282:\tlearn: 0.4021450\ttotal: 15.8s\tremaining: 40.1s\n",
            "283:\tlearn: 0.4019395\ttotal: 15.9s\tremaining: 40s\n",
            "284:\tlearn: 0.4017503\ttotal: 15.9s\tremaining: 40s\n",
            "285:\tlearn: 0.4015866\ttotal: 16s\tremaining: 39.9s\n",
            "286:\tlearn: 0.4014378\ttotal: 16s\tremaining: 39.8s\n",
            "287:\tlearn: 0.4012909\ttotal: 16.1s\tremaining: 39.8s\n",
            "288:\tlearn: 0.4010741\ttotal: 16.2s\tremaining: 39.7s\n",
            "289:\tlearn: 0.4009152\ttotal: 16.2s\tremaining: 39.7s\n",
            "290:\tlearn: 0.4007424\ttotal: 16.3s\tremaining: 39.6s\n",
            "291:\tlearn: 0.4005770\ttotal: 16.3s\tremaining: 39.6s\n",
            "292:\tlearn: 0.4004048\ttotal: 16.4s\tremaining: 39.6s\n",
            "293:\tlearn: 0.4002344\ttotal: 16.4s\tremaining: 39.5s\n",
            "294:\tlearn: 0.4000916\ttotal: 16.5s\tremaining: 39.5s\n",
            "295:\tlearn: 0.3999274\ttotal: 16.6s\tremaining: 39.4s\n",
            "296:\tlearn: 0.3997693\ttotal: 16.6s\tremaining: 39.4s\n",
            "297:\tlearn: 0.3995887\ttotal: 16.7s\tremaining: 39.3s\n",
            "298:\tlearn: 0.3994505\ttotal: 16.7s\tremaining: 39.2s\n",
            "299:\tlearn: 0.3992177\ttotal: 16.8s\tremaining: 39.2s\n",
            "300:\tlearn: 0.3990910\ttotal: 16.9s\tremaining: 39.1s\n",
            "301:\tlearn: 0.3989366\ttotal: 16.9s\tremaining: 39.1s\n",
            "302:\tlearn: 0.3987998\ttotal: 17s\tremaining: 39s\n",
            "303:\tlearn: 0.3986154\ttotal: 17s\tremaining: 39s\n",
            "304:\tlearn: 0.3984477\ttotal: 17.1s\tremaining: 38.9s\n",
            "305:\tlearn: 0.3983067\ttotal: 17.1s\tremaining: 38.9s\n",
            "306:\tlearn: 0.3981191\ttotal: 17.2s\tremaining: 38.8s\n",
            "307:\tlearn: 0.3980015\ttotal: 17.3s\tremaining: 38.8s\n",
            "308:\tlearn: 0.3978306\ttotal: 17.3s\tremaining: 38.7s\n",
            "309:\tlearn: 0.3976793\ttotal: 17.4s\tremaining: 38.7s\n",
            "310:\tlearn: 0.3975153\ttotal: 17.4s\tremaining: 38.6s\n",
            "311:\tlearn: 0.3973742\ttotal: 17.5s\tremaining: 38.6s\n",
            "312:\tlearn: 0.3972129\ttotal: 17.6s\tremaining: 38.6s\n",
            "313:\tlearn: 0.3971060\ttotal: 17.6s\tremaining: 38.5s\n",
            "314:\tlearn: 0.3969385\ttotal: 17.7s\tremaining: 38.5s\n",
            "315:\tlearn: 0.3967712\ttotal: 17.8s\tremaining: 38.4s\n",
            "316:\tlearn: 0.3966462\ttotal: 17.8s\tremaining: 38.4s\n",
            "317:\tlearn: 0.3965144\ttotal: 17.9s\tremaining: 38.3s\n",
            "318:\tlearn: 0.3963849\ttotal: 17.9s\tremaining: 38.3s\n",
            "319:\tlearn: 0.3962417\ttotal: 18s\tremaining: 38.2s\n",
            "320:\tlearn: 0.3960958\ttotal: 18s\tremaining: 38.2s\n",
            "321:\tlearn: 0.3959316\ttotal: 18.1s\tremaining: 38.1s\n",
            "322:\tlearn: 0.3957998\ttotal: 18.2s\tremaining: 38.1s\n",
            "323:\tlearn: 0.3956170\ttotal: 18.2s\tremaining: 38s\n",
            "324:\tlearn: 0.3954523\ttotal: 18.3s\tremaining: 38s\n",
            "325:\tlearn: 0.3952953\ttotal: 18.4s\tremaining: 38s\n",
            "326:\tlearn: 0.3951713\ttotal: 18.4s\tremaining: 37.9s\n",
            "327:\tlearn: 0.3950225\ttotal: 18.5s\tremaining: 37.9s\n",
            "328:\tlearn: 0.3948633\ttotal: 18.5s\tremaining: 37.8s\n",
            "329:\tlearn: 0.3946945\ttotal: 18.6s\tremaining: 37.7s\n",
            "330:\tlearn: 0.3945178\ttotal: 18.6s\tremaining: 37.7s\n",
            "331:\tlearn: 0.3943843\ttotal: 18.7s\tremaining: 37.6s\n",
            "332:\tlearn: 0.3941893\ttotal: 18.7s\tremaining: 37.6s\n",
            "333:\tlearn: 0.3940220\ttotal: 18.8s\tremaining: 37.5s\n",
            "334:\tlearn: 0.3938720\ttotal: 18.9s\tremaining: 37.4s\n",
            "335:\tlearn: 0.3937335\ttotal: 18.9s\tremaining: 37.4s\n",
            "336:\tlearn: 0.3935829\ttotal: 19s\tremaining: 37.3s\n",
            "337:\tlearn: 0.3934301\ttotal: 19s\tremaining: 37.3s\n",
            "338:\tlearn: 0.3932845\ttotal: 19.1s\tremaining: 37.2s\n",
            "339:\tlearn: 0.3931497\ttotal: 19.1s\tremaining: 37.1s\n",
            "340:\tlearn: 0.3930276\ttotal: 19.2s\tremaining: 37.1s\n",
            "341:\tlearn: 0.3929044\ttotal: 19.2s\tremaining: 37s\n",
            "342:\tlearn: 0.3927645\ttotal: 19.3s\tremaining: 36.9s\n",
            "343:\tlearn: 0.3926451\ttotal: 19.3s\tremaining: 36.9s\n",
            "344:\tlearn: 0.3925105\ttotal: 19.4s\tremaining: 36.8s\n",
            "345:\tlearn: 0.3923961\ttotal: 19.5s\tremaining: 36.8s\n",
            "346:\tlearn: 0.3922599\ttotal: 19.5s\tremaining: 36.7s\n",
            "347:\tlearn: 0.3920997\ttotal: 19.6s\tremaining: 36.7s\n",
            "348:\tlearn: 0.3919738\ttotal: 19.6s\tremaining: 36.6s\n",
            "349:\tlearn: 0.3918782\ttotal: 19.7s\tremaining: 36.6s\n",
            "350:\tlearn: 0.3917322\ttotal: 19.7s\tremaining: 36.5s\n",
            "351:\tlearn: 0.3915752\ttotal: 19.8s\tremaining: 36.5s\n",
            "352:\tlearn: 0.3914302\ttotal: 19.9s\tremaining: 36.4s\n",
            "353:\tlearn: 0.3912811\ttotal: 19.9s\tremaining: 36.4s\n",
            "354:\tlearn: 0.3911439\ttotal: 20s\tremaining: 36.3s\n",
            "355:\tlearn: 0.3910207\ttotal: 20s\tremaining: 36.3s\n",
            "356:\tlearn: 0.3909183\ttotal: 20.1s\tremaining: 36.2s\n",
            "357:\tlearn: 0.3907669\ttotal: 20.2s\tremaining: 36.2s\n",
            "358:\tlearn: 0.3906077\ttotal: 20.2s\tremaining: 36.1s\n",
            "359:\tlearn: 0.3905129\ttotal: 20.3s\tremaining: 36.1s\n",
            "360:\tlearn: 0.3903537\ttotal: 20.4s\tremaining: 36s\n",
            "361:\tlearn: 0.3902286\ttotal: 20.4s\tremaining: 36s\n",
            "362:\tlearn: 0.3900810\ttotal: 20.5s\tremaining: 36s\n",
            "363:\tlearn: 0.3899439\ttotal: 20.6s\tremaining: 35.9s\n",
            "364:\tlearn: 0.3897743\ttotal: 20.6s\tremaining: 35.8s\n",
            "365:\tlearn: 0.3896398\ttotal: 20.7s\tremaining: 35.8s\n",
            "366:\tlearn: 0.3894985\ttotal: 20.7s\tremaining: 35.7s\n",
            "367:\tlearn: 0.3893947\ttotal: 20.8s\tremaining: 35.7s\n",
            "368:\tlearn: 0.3892862\ttotal: 20.8s\tremaining: 35.6s\n",
            "369:\tlearn: 0.3891570\ttotal: 20.9s\tremaining: 35.6s\n",
            "370:\tlearn: 0.3890252\ttotal: 21s\tremaining: 35.5s\n",
            "371:\tlearn: 0.3888801\ttotal: 21s\tremaining: 35.5s\n",
            "372:\tlearn: 0.3887275\ttotal: 21.1s\tremaining: 35.4s\n",
            "373:\tlearn: 0.3886001\ttotal: 21.1s\tremaining: 35.4s\n",
            "374:\tlearn: 0.3884524\ttotal: 21.2s\tremaining: 35.3s\n",
            "375:\tlearn: 0.3883142\ttotal: 21.2s\tremaining: 35.3s\n",
            "376:\tlearn: 0.3881834\ttotal: 21.3s\tremaining: 35.2s\n",
            "377:\tlearn: 0.3880526\ttotal: 21.4s\tremaining: 35.2s\n",
            "378:\tlearn: 0.3879135\ttotal: 21.4s\tremaining: 35.1s\n",
            "379:\tlearn: 0.3878110\ttotal: 21.5s\tremaining: 35.1s\n",
            "380:\tlearn: 0.3876744\ttotal: 21.6s\tremaining: 35s\n",
            "381:\tlearn: 0.3875314\ttotal: 21.6s\tremaining: 35s\n",
            "382:\tlearn: 0.3873817\ttotal: 21.7s\tremaining: 34.9s\n",
            "383:\tlearn: 0.3872770\ttotal: 21.7s\tremaining: 34.9s\n",
            "384:\tlearn: 0.3871494\ttotal: 21.8s\tremaining: 34.8s\n",
            "385:\tlearn: 0.3870125\ttotal: 21.9s\tremaining: 34.8s\n",
            "386:\tlearn: 0.3868575\ttotal: 21.9s\tremaining: 34.7s\n",
            "387:\tlearn: 0.3866952\ttotal: 22s\tremaining: 34.6s\n",
            "388:\tlearn: 0.3865511\ttotal: 22s\tremaining: 34.6s\n",
            "389:\tlearn: 0.3864057\ttotal: 22.1s\tremaining: 34.5s\n",
            "390:\tlearn: 0.3862735\ttotal: 22.1s\tremaining: 34.5s\n",
            "391:\tlearn: 0.3861580\ttotal: 22.2s\tremaining: 34.4s\n",
            "392:\tlearn: 0.3860546\ttotal: 22.2s\tremaining: 34.4s\n",
            "393:\tlearn: 0.3859127\ttotal: 22.3s\tremaining: 34.3s\n",
            "394:\tlearn: 0.3858273\ttotal: 22.4s\tremaining: 34.2s\n",
            "395:\tlearn: 0.3857261\ttotal: 22.4s\tremaining: 34.2s\n",
            "396:\tlearn: 0.3855992\ttotal: 22.5s\tremaining: 34.2s\n",
            "397:\tlearn: 0.3854515\ttotal: 22.5s\tremaining: 34.1s\n",
            "398:\tlearn: 0.3853540\ttotal: 22.6s\tremaining: 34s\n",
            "399:\tlearn: 0.3852128\ttotal: 22.7s\tremaining: 34s\n",
            "400:\tlearn: 0.3851048\ttotal: 22.7s\tremaining: 33.9s\n",
            "401:\tlearn: 0.3850219\ttotal: 22.8s\tremaining: 33.9s\n",
            "402:\tlearn: 0.3849135\ttotal: 22.8s\tremaining: 33.8s\n",
            "403:\tlearn: 0.3847776\ttotal: 22.9s\tremaining: 33.8s\n",
            "404:\tlearn: 0.3846206\ttotal: 22.9s\tremaining: 33.7s\n",
            "405:\tlearn: 0.3844981\ttotal: 23s\tremaining: 33.6s\n",
            "406:\tlearn: 0.3843704\ttotal: 23s\tremaining: 33.6s\n",
            "407:\tlearn: 0.3842471\ttotal: 23.1s\tremaining: 33.5s\n",
            "408:\tlearn: 0.3841548\ttotal: 23.2s\tremaining: 33.5s\n",
            "409:\tlearn: 0.3840394\ttotal: 23.2s\tremaining: 33.4s\n",
            "410:\tlearn: 0.3839198\ttotal: 23.3s\tremaining: 33.3s\n",
            "411:\tlearn: 0.3838336\ttotal: 23.3s\tremaining: 33.3s\n",
            "412:\tlearn: 0.3836803\ttotal: 23.4s\tremaining: 33.2s\n",
            "413:\tlearn: 0.3835320\ttotal: 23.4s\tremaining: 33.2s\n",
            "414:\tlearn: 0.3834179\ttotal: 23.5s\tremaining: 33.1s\n",
            "415:\tlearn: 0.3833056\ttotal: 23.6s\tremaining: 33.1s\n",
            "416:\tlearn: 0.3831659\ttotal: 23.6s\tremaining: 33s\n",
            "417:\tlearn: 0.3830461\ttotal: 23.7s\tremaining: 32.9s\n",
            "418:\tlearn: 0.3829466\ttotal: 23.7s\tremaining: 32.9s\n",
            "419:\tlearn: 0.3828381\ttotal: 23.8s\tremaining: 32.8s\n",
            "420:\tlearn: 0.3827354\ttotal: 23.8s\tremaining: 32.8s\n",
            "421:\tlearn: 0.3826692\ttotal: 23.9s\tremaining: 32.7s\n",
            "422:\tlearn: 0.3825474\ttotal: 23.9s\tremaining: 32.7s\n",
            "423:\tlearn: 0.3824602\ttotal: 24s\tremaining: 32.6s\n",
            "424:\tlearn: 0.3823290\ttotal: 24.1s\tremaining: 32.5s\n",
            "425:\tlearn: 0.3822063\ttotal: 24.1s\tremaining: 32.5s\n",
            "426:\tlearn: 0.3821036\ttotal: 24.2s\tremaining: 32.4s\n",
            "427:\tlearn: 0.3819900\ttotal: 24.2s\tremaining: 32.4s\n",
            "428:\tlearn: 0.3818688\ttotal: 24.3s\tremaining: 32.3s\n",
            "429:\tlearn: 0.3817299\ttotal: 24.3s\tremaining: 32.3s\n",
            "430:\tlearn: 0.3816451\ttotal: 24.4s\tremaining: 32.2s\n",
            "431:\tlearn: 0.3814855\ttotal: 24.5s\tremaining: 32.2s\n",
            "432:\tlearn: 0.3813729\ttotal: 24.5s\tremaining: 32.1s\n",
            "433:\tlearn: 0.3812495\ttotal: 24.6s\tremaining: 32s\n",
            "434:\tlearn: 0.3811207\ttotal: 24.6s\tremaining: 32s\n",
            "435:\tlearn: 0.3810295\ttotal: 24.7s\tremaining: 31.9s\n",
            "436:\tlearn: 0.3809231\ttotal: 24.7s\tremaining: 31.9s\n",
            "437:\tlearn: 0.3808332\ttotal: 24.8s\tremaining: 31.8s\n",
            "438:\tlearn: 0.3807344\ttotal: 24.8s\tremaining: 31.7s\n",
            "439:\tlearn: 0.3806494\ttotal: 24.9s\tremaining: 31.7s\n",
            "440:\tlearn: 0.3805756\ttotal: 25s\tremaining: 31.6s\n",
            "441:\tlearn: 0.3804381\ttotal: 25s\tremaining: 31.6s\n",
            "442:\tlearn: 0.3803427\ttotal: 25.1s\tremaining: 31.5s\n",
            "443:\tlearn: 0.3802247\ttotal: 25.1s\tremaining: 31.5s\n",
            "444:\tlearn: 0.3801487\ttotal: 25.2s\tremaining: 31.4s\n",
            "445:\tlearn: 0.3800821\ttotal: 25.2s\tremaining: 31.3s\n",
            "446:\tlearn: 0.3799610\ttotal: 25.3s\tremaining: 31.3s\n",
            "447:\tlearn: 0.3798289\ttotal: 25.3s\tremaining: 31.2s\n",
            "448:\tlearn: 0.3797034\ttotal: 25.4s\tremaining: 31.2s\n",
            "449:\tlearn: 0.3796181\ttotal: 25.5s\tremaining: 31.1s\n",
            "450:\tlearn: 0.3794970\ttotal: 25.5s\tremaining: 31.1s\n",
            "451:\tlearn: 0.3793857\ttotal: 25.6s\tremaining: 31s\n",
            "452:\tlearn: 0.3792931\ttotal: 25.6s\tremaining: 31s\n",
            "453:\tlearn: 0.3792194\ttotal: 25.7s\tremaining: 30.9s\n",
            "454:\tlearn: 0.3791374\ttotal: 25.7s\tremaining: 30.8s\n",
            "455:\tlearn: 0.3789965\ttotal: 25.8s\tremaining: 30.8s\n",
            "456:\tlearn: 0.3788819\ttotal: 25.9s\tremaining: 30.7s\n",
            "457:\tlearn: 0.3787519\ttotal: 25.9s\tremaining: 30.7s\n",
            "458:\tlearn: 0.3786190\ttotal: 26s\tremaining: 30.6s\n",
            "459:\tlearn: 0.3784867\ttotal: 26s\tremaining: 30.6s\n",
            "460:\tlearn: 0.3783556\ttotal: 26.1s\tremaining: 30.5s\n",
            "461:\tlearn: 0.3782351\ttotal: 26.1s\tremaining: 30.4s\n",
            "462:\tlearn: 0.3781218\ttotal: 26.2s\tremaining: 30.4s\n",
            "463:\tlearn: 0.3780209\ttotal: 26.2s\tremaining: 30.3s\n",
            "464:\tlearn: 0.3778726\ttotal: 26.3s\tremaining: 30.3s\n",
            "465:\tlearn: 0.3777878\ttotal: 26.4s\tremaining: 30.2s\n",
            "466:\tlearn: 0.3776849\ttotal: 26.4s\tremaining: 30.2s\n",
            "467:\tlearn: 0.3775626\ttotal: 26.5s\tremaining: 30.1s\n",
            "468:\tlearn: 0.3774497\ttotal: 26.5s\tremaining: 30s\n",
            "469:\tlearn: 0.3773167\ttotal: 26.6s\tremaining: 30s\n",
            "470:\tlearn: 0.3772426\ttotal: 26.6s\tremaining: 29.9s\n",
            "471:\tlearn: 0.3771359\ttotal: 26.7s\tremaining: 29.9s\n",
            "472:\tlearn: 0.3770184\ttotal: 26.8s\tremaining: 29.8s\n",
            "473:\tlearn: 0.3769098\ttotal: 26.8s\tremaining: 29.8s\n",
            "474:\tlearn: 0.3768442\ttotal: 26.9s\tremaining: 29.7s\n",
            "475:\tlearn: 0.3767180\ttotal: 26.9s\tremaining: 29.6s\n",
            "476:\tlearn: 0.3766031\ttotal: 27s\tremaining: 29.6s\n",
            "477:\tlearn: 0.3765126\ttotal: 27s\tremaining: 29.5s\n",
            "478:\tlearn: 0.3764020\ttotal: 27.1s\tremaining: 29.5s\n",
            "479:\tlearn: 0.3763377\ttotal: 27.1s\tremaining: 29.4s\n",
            "480:\tlearn: 0.3762259\ttotal: 27.2s\tremaining: 29.4s\n",
            "481:\tlearn: 0.3761097\ttotal: 27.3s\tremaining: 29.3s\n",
            "482:\tlearn: 0.3759906\ttotal: 27.3s\tremaining: 29.3s\n",
            "483:\tlearn: 0.3758820\ttotal: 27.4s\tremaining: 29.2s\n",
            "484:\tlearn: 0.3757618\ttotal: 27.5s\tremaining: 29.2s\n",
            "485:\tlearn: 0.3756596\ttotal: 27.5s\tremaining: 29.1s\n",
            "486:\tlearn: 0.3755767\ttotal: 27.6s\tremaining: 29s\n",
            "487:\tlearn: 0.3754541\ttotal: 27.6s\tremaining: 29s\n",
            "488:\tlearn: 0.3753310\ttotal: 27.7s\tremaining: 28.9s\n",
            "489:\tlearn: 0.3752072\ttotal: 27.7s\tremaining: 28.9s\n",
            "490:\tlearn: 0.3751080\ttotal: 27.8s\tremaining: 28.8s\n",
            "491:\tlearn: 0.3750326\ttotal: 27.9s\tremaining: 28.8s\n",
            "492:\tlearn: 0.3749428\ttotal: 27.9s\tremaining: 28.7s\n",
            "493:\tlearn: 0.3748719\ttotal: 28s\tremaining: 28.6s\n",
            "494:\tlearn: 0.3747646\ttotal: 28s\tremaining: 28.6s\n",
            "495:\tlearn: 0.3746954\ttotal: 28.1s\tremaining: 28.5s\n",
            "496:\tlearn: 0.3745779\ttotal: 28.1s\tremaining: 28.5s\n",
            "497:\tlearn: 0.3744586\ttotal: 28.2s\tremaining: 28.4s\n",
            "498:\tlearn: 0.3743352\ttotal: 28.2s\tremaining: 28.3s\n",
            "499:\tlearn: 0.3742236\ttotal: 28.3s\tremaining: 28.3s\n",
            "500:\tlearn: 0.3741500\ttotal: 28.3s\tremaining: 28.2s\n",
            "501:\tlearn: 0.3740701\ttotal: 28.4s\tremaining: 28.2s\n",
            "502:\tlearn: 0.3739457\ttotal: 28.5s\tremaining: 28.1s\n",
            "503:\tlearn: 0.3738297\ttotal: 28.5s\tremaining: 28.1s\n",
            "504:\tlearn: 0.3737205\ttotal: 28.6s\tremaining: 28s\n",
            "505:\tlearn: 0.3736232\ttotal: 28.6s\tremaining: 27.9s\n",
            "506:\tlearn: 0.3735179\ttotal: 28.7s\tremaining: 27.9s\n",
            "507:\tlearn: 0.3734245\ttotal: 28.7s\tremaining: 27.8s\n",
            "508:\tlearn: 0.3733354\ttotal: 28.8s\tremaining: 27.8s\n",
            "509:\tlearn: 0.3732303\ttotal: 28.8s\tremaining: 27.7s\n",
            "510:\tlearn: 0.3731330\ttotal: 28.9s\tremaining: 27.7s\n",
            "511:\tlearn: 0.3730591\ttotal: 29s\tremaining: 27.6s\n",
            "512:\tlearn: 0.3729538\ttotal: 29s\tremaining: 27.5s\n",
            "513:\tlearn: 0.3728320\ttotal: 29.1s\tremaining: 27.5s\n",
            "514:\tlearn: 0.3727061\ttotal: 29.1s\tremaining: 27.4s\n",
            "515:\tlearn: 0.3725899\ttotal: 29.2s\tremaining: 27.4s\n",
            "516:\tlearn: 0.3725315\ttotal: 29.2s\tremaining: 27.3s\n",
            "517:\tlearn: 0.3724432\ttotal: 29.3s\tremaining: 27.2s\n",
            "518:\tlearn: 0.3723522\ttotal: 29.3s\tremaining: 27.2s\n",
            "519:\tlearn: 0.3722374\ttotal: 29.4s\tremaining: 27.1s\n",
            "520:\tlearn: 0.3721159\ttotal: 29.4s\tremaining: 27.1s\n",
            "521:\tlearn: 0.3719580\ttotal: 29.5s\tremaining: 27s\n",
            "522:\tlearn: 0.3718539\ttotal: 29.6s\tremaining: 27s\n",
            "523:\tlearn: 0.3717340\ttotal: 29.6s\tremaining: 26.9s\n",
            "524:\tlearn: 0.3716098\ttotal: 29.7s\tremaining: 26.9s\n",
            "525:\tlearn: 0.3715211\ttotal: 29.7s\tremaining: 26.8s\n",
            "526:\tlearn: 0.3714228\ttotal: 29.8s\tremaining: 26.7s\n",
            "527:\tlearn: 0.3713682\ttotal: 29.8s\tremaining: 26.7s\n",
            "528:\tlearn: 0.3712850\ttotal: 29.9s\tremaining: 26.6s\n",
            "529:\tlearn: 0.3711880\ttotal: 29.9s\tremaining: 26.6s\n",
            "530:\tlearn: 0.3711410\ttotal: 30s\tremaining: 26.5s\n",
            "531:\tlearn: 0.3710553\ttotal: 30.1s\tremaining: 26.4s\n",
            "532:\tlearn: 0.3709347\ttotal: 30.1s\tremaining: 26.4s\n",
            "533:\tlearn: 0.3708248\ttotal: 30.2s\tremaining: 26.3s\n",
            "534:\tlearn: 0.3707344\ttotal: 30.2s\tremaining: 26.3s\n",
            "535:\tlearn: 0.3706540\ttotal: 30.3s\tremaining: 26.2s\n",
            "536:\tlearn: 0.3705485\ttotal: 30.3s\tremaining: 26.2s\n",
            "537:\tlearn: 0.3704945\ttotal: 30.4s\tremaining: 26.1s\n",
            "538:\tlearn: 0.3704489\ttotal: 30.4s\tremaining: 26s\n",
            "539:\tlearn: 0.3703356\ttotal: 30.5s\tremaining: 26s\n",
            "540:\tlearn: 0.3702196\ttotal: 30.6s\tremaining: 25.9s\n",
            "541:\tlearn: 0.3701127\ttotal: 30.6s\tremaining: 25.9s\n",
            "542:\tlearn: 0.3700063\ttotal: 30.7s\tremaining: 25.8s\n",
            "543:\tlearn: 0.3699042\ttotal: 30.7s\tremaining: 25.8s\n",
            "544:\tlearn: 0.3697808\ttotal: 30.8s\tremaining: 25.7s\n",
            "545:\tlearn: 0.3697356\ttotal: 30.8s\tremaining: 25.6s\n",
            "546:\tlearn: 0.3696458\ttotal: 30.9s\tremaining: 25.6s\n",
            "547:\tlearn: 0.3695323\ttotal: 30.9s\tremaining: 25.5s\n",
            "548:\tlearn: 0.3693861\ttotal: 31s\tremaining: 25.5s\n",
            "549:\tlearn: 0.3692699\ttotal: 31s\tremaining: 25.4s\n",
            "550:\tlearn: 0.3691850\ttotal: 31.1s\tremaining: 25.3s\n",
            "551:\tlearn: 0.3691417\ttotal: 31.2s\tremaining: 25.3s\n",
            "552:\tlearn: 0.3690972\ttotal: 31.2s\tremaining: 25.2s\n",
            "553:\tlearn: 0.3690021\ttotal: 31.3s\tremaining: 25.2s\n",
            "554:\tlearn: 0.3689374\ttotal: 31.3s\tremaining: 25.1s\n",
            "555:\tlearn: 0.3688645\ttotal: 31.4s\tremaining: 25.1s\n",
            "556:\tlearn: 0.3687999\ttotal: 31.4s\tremaining: 25s\n",
            "557:\tlearn: 0.3687037\ttotal: 31.5s\tremaining: 25s\n",
            "558:\tlearn: 0.3685986\ttotal: 31.6s\tremaining: 24.9s\n",
            "559:\tlearn: 0.3685281\ttotal: 31.6s\tremaining: 24.8s\n",
            "560:\tlearn: 0.3684436\ttotal: 31.7s\tremaining: 24.8s\n",
            "561:\tlearn: 0.3683311\ttotal: 31.7s\tremaining: 24.7s\n",
            "562:\tlearn: 0.3682526\ttotal: 31.8s\tremaining: 24.7s\n",
            "563:\tlearn: 0.3681629\ttotal: 31.9s\tremaining: 24.6s\n",
            "564:\tlearn: 0.3681232\ttotal: 31.9s\tremaining: 24.6s\n",
            "565:\tlearn: 0.3679926\ttotal: 32s\tremaining: 24.5s\n",
            "566:\tlearn: 0.3678768\ttotal: 32s\tremaining: 24.5s\n",
            "567:\tlearn: 0.3678030\ttotal: 32.1s\tremaining: 24.4s\n",
            "568:\tlearn: 0.3677264\ttotal: 32.1s\tremaining: 24.3s\n",
            "569:\tlearn: 0.3676564\ttotal: 32.2s\tremaining: 24.3s\n",
            "570:\tlearn: 0.3675783\ttotal: 32.3s\tremaining: 24.2s\n",
            "571:\tlearn: 0.3674755\ttotal: 32.3s\tremaining: 24.2s\n",
            "572:\tlearn: 0.3673926\ttotal: 32.4s\tremaining: 24.1s\n",
            "573:\tlearn: 0.3673535\ttotal: 32.4s\tremaining: 24.1s\n",
            "574:\tlearn: 0.3672448\ttotal: 32.5s\tremaining: 24s\n",
            "575:\tlearn: 0.3671827\ttotal: 32.5s\tremaining: 24s\n",
            "576:\tlearn: 0.3671057\ttotal: 32.6s\tremaining: 23.9s\n",
            "577:\tlearn: 0.3670102\ttotal: 32.7s\tremaining: 23.8s\n",
            "578:\tlearn: 0.3669641\ttotal: 32.7s\tremaining: 23.8s\n",
            "579:\tlearn: 0.3668863\ttotal: 32.8s\tremaining: 23.7s\n",
            "580:\tlearn: 0.3667997\ttotal: 32.8s\tremaining: 23.7s\n",
            "581:\tlearn: 0.3667341\ttotal: 32.9s\tremaining: 23.6s\n",
            "582:\tlearn: 0.3666282\ttotal: 32.9s\tremaining: 23.6s\n",
            "583:\tlearn: 0.3665222\ttotal: 33s\tremaining: 23.5s\n",
            "584:\tlearn: 0.3664202\ttotal: 33s\tremaining: 23.4s\n",
            "585:\tlearn: 0.3663578\ttotal: 33.1s\tremaining: 23.4s\n",
            "586:\tlearn: 0.3662500\ttotal: 33.2s\tremaining: 23.3s\n",
            "587:\tlearn: 0.3661654\ttotal: 33.2s\tremaining: 23.3s\n",
            "588:\tlearn: 0.3661239\ttotal: 33.3s\tremaining: 23.2s\n",
            "589:\tlearn: 0.3660355\ttotal: 33.3s\tremaining: 23.2s\n",
            "590:\tlearn: 0.3659381\ttotal: 33.4s\tremaining: 23.1s\n",
            "591:\tlearn: 0.3658429\ttotal: 33.4s\tremaining: 23s\n",
            "592:\tlearn: 0.3657473\ttotal: 33.5s\tremaining: 23s\n",
            "593:\tlearn: 0.3656731\ttotal: 33.5s\tremaining: 22.9s\n",
            "594:\tlearn: 0.3655964\ttotal: 33.6s\tremaining: 22.9s\n",
            "595:\tlearn: 0.3655199\ttotal: 33.7s\tremaining: 22.8s\n",
            "596:\tlearn: 0.3654334\ttotal: 33.7s\tremaining: 22.8s\n",
            "597:\tlearn: 0.3653312\ttotal: 33.8s\tremaining: 22.7s\n",
            "598:\tlearn: 0.3652321\ttotal: 33.8s\tremaining: 22.6s\n",
            "599:\tlearn: 0.3651550\ttotal: 33.9s\tremaining: 22.6s\n",
            "600:\tlearn: 0.3650798\ttotal: 33.9s\tremaining: 22.5s\n",
            "601:\tlearn: 0.3649708\ttotal: 34s\tremaining: 22.5s\n",
            "602:\tlearn: 0.3649102\ttotal: 34.1s\tremaining: 22.4s\n",
            "603:\tlearn: 0.3648764\ttotal: 34.1s\tremaining: 22.4s\n",
            "604:\tlearn: 0.3647609\ttotal: 34.2s\tremaining: 22.3s\n",
            "605:\tlearn: 0.3646723\ttotal: 34.2s\tremaining: 22.3s\n",
            "606:\tlearn: 0.3645766\ttotal: 34.3s\tremaining: 22.2s\n",
            "607:\tlearn: 0.3645010\ttotal: 34.3s\tremaining: 22.1s\n",
            "608:\tlearn: 0.3644637\ttotal: 34.4s\tremaining: 22.1s\n",
            "609:\tlearn: 0.3643952\ttotal: 34.5s\tremaining: 22s\n",
            "610:\tlearn: 0.3643594\ttotal: 34.5s\tremaining: 22s\n",
            "611:\tlearn: 0.3642503\ttotal: 34.6s\tremaining: 21.9s\n",
            "612:\tlearn: 0.3642152\ttotal: 34.6s\tremaining: 21.9s\n",
            "613:\tlearn: 0.3641321\ttotal: 34.7s\tremaining: 21.8s\n",
            "614:\tlearn: 0.3640449\ttotal: 34.7s\tremaining: 21.8s\n",
            "615:\tlearn: 0.3640105\ttotal: 34.8s\tremaining: 21.7s\n",
            "616:\tlearn: 0.3639381\ttotal: 34.9s\tremaining: 21.6s\n",
            "617:\tlearn: 0.3638482\ttotal: 34.9s\tremaining: 21.6s\n",
            "618:\tlearn: 0.3637854\ttotal: 35s\tremaining: 21.5s\n",
            "619:\tlearn: 0.3637239\ttotal: 35s\tremaining: 21.5s\n",
            "620:\tlearn: 0.3636659\ttotal: 35.1s\tremaining: 21.4s\n",
            "621:\tlearn: 0.3635890\ttotal: 35.1s\tremaining: 21.4s\n",
            "622:\tlearn: 0.3634965\ttotal: 35.2s\tremaining: 21.3s\n",
            "623:\tlearn: 0.3634023\ttotal: 35.2s\tremaining: 21.2s\n",
            "624:\tlearn: 0.3633380\ttotal: 35.3s\tremaining: 21.2s\n",
            "625:\tlearn: 0.3632678\ttotal: 35.4s\tremaining: 21.1s\n",
            "626:\tlearn: 0.3631690\ttotal: 35.4s\tremaining: 21.1s\n",
            "627:\tlearn: 0.3631312\ttotal: 35.5s\tremaining: 21s\n",
            "628:\tlearn: 0.3630235\ttotal: 35.5s\tremaining: 21s\n",
            "629:\tlearn: 0.3629189\ttotal: 35.6s\tremaining: 20.9s\n",
            "630:\tlearn: 0.3628550\ttotal: 35.7s\tremaining: 20.8s\n",
            "631:\tlearn: 0.3627985\ttotal: 35.7s\tremaining: 20.8s\n",
            "632:\tlearn: 0.3626856\ttotal: 35.8s\tremaining: 20.7s\n",
            "633:\tlearn: 0.3625900\ttotal: 35.8s\tremaining: 20.7s\n",
            "634:\tlearn: 0.3624701\ttotal: 35.9s\tremaining: 20.6s\n",
            "635:\tlearn: 0.3623883\ttotal: 35.9s\tremaining: 20.6s\n",
            "636:\tlearn: 0.3622678\ttotal: 36s\tremaining: 20.5s\n",
            "637:\tlearn: 0.3622231\ttotal: 36s\tremaining: 20.5s\n",
            "638:\tlearn: 0.3621150\ttotal: 36.1s\tremaining: 20.4s\n",
            "639:\tlearn: 0.3619994\ttotal: 36.2s\tremaining: 20.3s\n",
            "640:\tlearn: 0.3619452\ttotal: 36.2s\tremaining: 20.3s\n",
            "641:\tlearn: 0.3619098\ttotal: 36.3s\tremaining: 20.2s\n",
            "642:\tlearn: 0.3618405\ttotal: 36.3s\tremaining: 20.2s\n",
            "643:\tlearn: 0.3617272\ttotal: 36.4s\tremaining: 20.1s\n",
            "644:\tlearn: 0.3616792\ttotal: 36.4s\tremaining: 20s\n",
            "645:\tlearn: 0.3616513\ttotal: 36.5s\tremaining: 20s\n",
            "646:\tlearn: 0.3615929\ttotal: 36.5s\tremaining: 19.9s\n",
            "647:\tlearn: 0.3615098\ttotal: 36.6s\tremaining: 19.9s\n",
            "648:\tlearn: 0.3614202\ttotal: 36.7s\tremaining: 19.8s\n",
            "649:\tlearn: 0.3613196\ttotal: 36.7s\tremaining: 19.8s\n",
            "650:\tlearn: 0.3612328\ttotal: 36.8s\tremaining: 19.7s\n",
            "651:\tlearn: 0.3611270\ttotal: 36.8s\tremaining: 19.7s\n",
            "652:\tlearn: 0.3610205\ttotal: 36.9s\tremaining: 19.6s\n",
            "653:\tlearn: 0.3609808\ttotal: 36.9s\tremaining: 19.5s\n",
            "654:\tlearn: 0.3608485\ttotal: 37s\tremaining: 19.5s\n",
            "655:\tlearn: 0.3607576\ttotal: 37s\tremaining: 19.4s\n",
            "656:\tlearn: 0.3606922\ttotal: 37.1s\tremaining: 19.4s\n",
            "657:\tlearn: 0.3606307\ttotal: 37.2s\tremaining: 19.3s\n",
            "658:\tlearn: 0.3605561\ttotal: 37.2s\tremaining: 19.3s\n",
            "659:\tlearn: 0.3605073\ttotal: 37.3s\tremaining: 19.2s\n",
            "660:\tlearn: 0.3604302\ttotal: 37.3s\tremaining: 19.1s\n",
            "661:\tlearn: 0.3603922\ttotal: 37.4s\tremaining: 19.1s\n",
            "662:\tlearn: 0.3603273\ttotal: 37.4s\tremaining: 19s\n",
            "663:\tlearn: 0.3602415\ttotal: 37.5s\tremaining: 19s\n",
            "664:\tlearn: 0.3601674\ttotal: 37.6s\tremaining: 18.9s\n",
            "665:\tlearn: 0.3601062\ttotal: 37.6s\tremaining: 18.9s\n",
            "666:\tlearn: 0.3600419\ttotal: 37.7s\tremaining: 18.8s\n",
            "667:\tlearn: 0.3599710\ttotal: 37.7s\tremaining: 18.8s\n",
            "668:\tlearn: 0.3599377\ttotal: 37.8s\tremaining: 18.7s\n",
            "669:\tlearn: 0.3599008\ttotal: 37.9s\tremaining: 18.6s\n",
            "670:\tlearn: 0.3598487\ttotal: 37.9s\tremaining: 18.6s\n",
            "671:\tlearn: 0.3597383\ttotal: 38s\tremaining: 18.5s\n",
            "672:\tlearn: 0.3596489\ttotal: 38s\tremaining: 18.5s\n",
            "673:\tlearn: 0.3595658\ttotal: 38.1s\tremaining: 18.4s\n",
            "674:\tlearn: 0.3594682\ttotal: 38.1s\tremaining: 18.4s\n",
            "675:\tlearn: 0.3593561\ttotal: 38.2s\tremaining: 18.3s\n",
            "676:\tlearn: 0.3592880\ttotal: 38.2s\tremaining: 18.2s\n",
            "677:\tlearn: 0.3592496\ttotal: 38.3s\tremaining: 18.2s\n",
            "678:\tlearn: 0.3591553\ttotal: 38.4s\tremaining: 18.1s\n",
            "679:\tlearn: 0.3591159\ttotal: 38.4s\tremaining: 18.1s\n",
            "680:\tlearn: 0.3590621\ttotal: 38.5s\tremaining: 18s\n",
            "681:\tlearn: 0.3590110\ttotal: 38.5s\tremaining: 18s\n",
            "682:\tlearn: 0.3589777\ttotal: 38.6s\tremaining: 17.9s\n",
            "683:\tlearn: 0.3589274\ttotal: 38.6s\tremaining: 17.9s\n",
            "684:\tlearn: 0.3588985\ttotal: 38.7s\tremaining: 17.8s\n",
            "685:\tlearn: 0.3588086\ttotal: 38.8s\tremaining: 17.7s\n",
            "686:\tlearn: 0.3587360\ttotal: 38.8s\tremaining: 17.7s\n",
            "687:\tlearn: 0.3586553\ttotal: 38.9s\tremaining: 17.6s\n",
            "688:\tlearn: 0.3585467\ttotal: 38.9s\tremaining: 17.6s\n",
            "689:\tlearn: 0.3584991\ttotal: 39s\tremaining: 17.5s\n",
            "690:\tlearn: 0.3584157\ttotal: 39s\tremaining: 17.5s\n",
            "691:\tlearn: 0.3583071\ttotal: 39.1s\tremaining: 17.4s\n",
            "692:\tlearn: 0.3582278\ttotal: 39.2s\tremaining: 17.3s\n",
            "693:\tlearn: 0.3581939\ttotal: 39.2s\tremaining: 17.3s\n",
            "694:\tlearn: 0.3580934\ttotal: 39.3s\tremaining: 17.2s\n",
            "695:\tlearn: 0.3580195\ttotal: 39.3s\tremaining: 17.2s\n",
            "696:\tlearn: 0.3579177\ttotal: 39.4s\tremaining: 17.1s\n",
            "697:\tlearn: 0.3578804\ttotal: 39.4s\tremaining: 17.1s\n",
            "698:\tlearn: 0.3577812\ttotal: 39.5s\tremaining: 17s\n",
            "699:\tlearn: 0.3577320\ttotal: 39.6s\tremaining: 17s\n",
            "700:\tlearn: 0.3576615\ttotal: 39.6s\tremaining: 16.9s\n",
            "701:\tlearn: 0.3576063\ttotal: 39.7s\tremaining: 16.8s\n",
            "702:\tlearn: 0.3575733\ttotal: 39.7s\tremaining: 16.8s\n",
            "703:\tlearn: 0.3574699\ttotal: 39.8s\tremaining: 16.7s\n",
            "704:\tlearn: 0.3573762\ttotal: 39.8s\tremaining: 16.7s\n",
            "705:\tlearn: 0.3573068\ttotal: 39.9s\tremaining: 16.6s\n",
            "706:\tlearn: 0.3572433\ttotal: 40s\tremaining: 16.6s\n",
            "707:\tlearn: 0.3571736\ttotal: 40s\tremaining: 16.5s\n",
            "708:\tlearn: 0.3571084\ttotal: 40.1s\tremaining: 16.4s\n",
            "709:\tlearn: 0.3570282\ttotal: 40.1s\tremaining: 16.4s\n",
            "710:\tlearn: 0.3569313\ttotal: 40.2s\tremaining: 16.3s\n",
            "711:\tlearn: 0.3568685\ttotal: 40.3s\tremaining: 16.3s\n",
            "712:\tlearn: 0.3567716\ttotal: 40.3s\tremaining: 16.2s\n",
            "713:\tlearn: 0.3566797\ttotal: 40.4s\tremaining: 16.2s\n",
            "714:\tlearn: 0.3566238\ttotal: 40.5s\tremaining: 16.1s\n",
            "715:\tlearn: 0.3565318\ttotal: 40.5s\tremaining: 16.1s\n",
            "716:\tlearn: 0.3564999\ttotal: 40.6s\tremaining: 16s\n",
            "717:\tlearn: 0.3564153\ttotal: 40.6s\tremaining: 16s\n",
            "718:\tlearn: 0.3563878\ttotal: 40.7s\tremaining: 15.9s\n",
            "719:\tlearn: 0.3563015\ttotal: 40.8s\tremaining: 15.9s\n",
            "720:\tlearn: 0.3562674\ttotal: 40.8s\tremaining: 15.8s\n",
            "721:\tlearn: 0.3562039\ttotal: 40.9s\tremaining: 15.7s\n",
            "722:\tlearn: 0.3561076\ttotal: 41s\tremaining: 15.7s\n",
            "723:\tlearn: 0.3560169\ttotal: 41s\tremaining: 15.6s\n",
            "724:\tlearn: 0.3559420\ttotal: 41.1s\tremaining: 15.6s\n",
            "725:\tlearn: 0.3558983\ttotal: 41.1s\tremaining: 15.5s\n",
            "726:\tlearn: 0.3558340\ttotal: 41.2s\tremaining: 15.5s\n",
            "727:\tlearn: 0.3557625\ttotal: 41.2s\tremaining: 15.4s\n",
            "728:\tlearn: 0.3557169\ttotal: 41.3s\tremaining: 15.4s\n",
            "729:\tlearn: 0.3556406\ttotal: 41.4s\tremaining: 15.3s\n",
            "730:\tlearn: 0.3555581\ttotal: 41.4s\tremaining: 15.2s\n",
            "731:\tlearn: 0.3554985\ttotal: 41.5s\tremaining: 15.2s\n",
            "732:\tlearn: 0.3554621\ttotal: 41.5s\tremaining: 15.1s\n",
            "733:\tlearn: 0.3553632\ttotal: 41.6s\tremaining: 15.1s\n",
            "734:\tlearn: 0.3552906\ttotal: 41.6s\tremaining: 15s\n",
            "735:\tlearn: 0.3552005\ttotal: 41.7s\tremaining: 15s\n",
            "736:\tlearn: 0.3551091\ttotal: 41.8s\tremaining: 14.9s\n",
            "737:\tlearn: 0.3550517\ttotal: 41.8s\tremaining: 14.8s\n",
            "738:\tlearn: 0.3550250\ttotal: 41.9s\tremaining: 14.8s\n",
            "739:\tlearn: 0.3549481\ttotal: 41.9s\tremaining: 14.7s\n",
            "740:\tlearn: 0.3548899\ttotal: 42s\tremaining: 14.7s\n",
            "741:\tlearn: 0.3548361\ttotal: 42s\tremaining: 14.6s\n",
            "742:\tlearn: 0.3547757\ttotal: 42.1s\tremaining: 14.6s\n",
            "743:\tlearn: 0.3546963\ttotal: 42.1s\tremaining: 14.5s\n",
            "744:\tlearn: 0.3546253\ttotal: 42.2s\tremaining: 14.4s\n",
            "745:\tlearn: 0.3545527\ttotal: 42.2s\tremaining: 14.4s\n",
            "746:\tlearn: 0.3545151\ttotal: 42.3s\tremaining: 14.3s\n",
            "747:\tlearn: 0.3544175\ttotal: 42.4s\tremaining: 14.3s\n",
            "748:\tlearn: 0.3543373\ttotal: 42.4s\tremaining: 14.2s\n",
            "749:\tlearn: 0.3542641\ttotal: 42.5s\tremaining: 14.2s\n",
            "750:\tlearn: 0.3542192\ttotal: 42.5s\tremaining: 14.1s\n",
            "751:\tlearn: 0.3541227\ttotal: 42.6s\tremaining: 14.1s\n",
            "752:\tlearn: 0.3540447\ttotal: 42.7s\tremaining: 14s\n",
            "753:\tlearn: 0.3540135\ttotal: 42.7s\tremaining: 13.9s\n",
            "754:\tlearn: 0.3539523\ttotal: 42.8s\tremaining: 13.9s\n",
            "755:\tlearn: 0.3538631\ttotal: 42.8s\tremaining: 13.8s\n",
            "756:\tlearn: 0.3538256\ttotal: 42.9s\tremaining: 13.8s\n",
            "757:\tlearn: 0.3537759\ttotal: 43s\tremaining: 13.7s\n",
            "758:\tlearn: 0.3536936\ttotal: 43s\tremaining: 13.7s\n",
            "759:\tlearn: 0.3535765\ttotal: 43.1s\tremaining: 13.6s\n",
            "760:\tlearn: 0.3535142\ttotal: 43.1s\tremaining: 13.5s\n",
            "761:\tlearn: 0.3534594\ttotal: 43.2s\tremaining: 13.5s\n",
            "762:\tlearn: 0.3533768\ttotal: 43.3s\tremaining: 13.4s\n",
            "763:\tlearn: 0.3533403\ttotal: 43.3s\tremaining: 13.4s\n",
            "764:\tlearn: 0.3533140\ttotal: 43.4s\tremaining: 13.3s\n",
            "765:\tlearn: 0.3532607\ttotal: 43.4s\tremaining: 13.3s\n",
            "766:\tlearn: 0.3532239\ttotal: 43.5s\tremaining: 13.2s\n",
            "767:\tlearn: 0.3532036\ttotal: 43.6s\tremaining: 13.2s\n",
            "768:\tlearn: 0.3531703\ttotal: 43.6s\tremaining: 13.1s\n",
            "769:\tlearn: 0.3531394\ttotal: 43.7s\tremaining: 13s\n",
            "770:\tlearn: 0.3530769\ttotal: 43.7s\tremaining: 13s\n",
            "771:\tlearn: 0.3530254\ttotal: 43.8s\tremaining: 12.9s\n",
            "772:\tlearn: 0.3529938\ttotal: 43.9s\tremaining: 12.9s\n",
            "773:\tlearn: 0.3529533\ttotal: 43.9s\tremaining: 12.8s\n",
            "774:\tlearn: 0.3529147\ttotal: 44s\tremaining: 12.8s\n",
            "775:\tlearn: 0.3528525\ttotal: 44s\tremaining: 12.7s\n",
            "776:\tlearn: 0.3527844\ttotal: 44.1s\tremaining: 12.7s\n",
            "777:\tlearn: 0.3527123\ttotal: 44.1s\tremaining: 12.6s\n",
            "778:\tlearn: 0.3526374\ttotal: 44.2s\tremaining: 12.5s\n",
            "779:\tlearn: 0.3525511\ttotal: 44.2s\tremaining: 12.5s\n",
            "780:\tlearn: 0.3524695\ttotal: 44.3s\tremaining: 12.4s\n",
            "781:\tlearn: 0.3524270\ttotal: 44.4s\tremaining: 12.4s\n",
            "782:\tlearn: 0.3523663\ttotal: 44.4s\tremaining: 12.3s\n",
            "783:\tlearn: 0.3523046\ttotal: 44.5s\tremaining: 12.3s\n",
            "784:\tlearn: 0.3522156\ttotal: 44.5s\tremaining: 12.2s\n",
            "785:\tlearn: 0.3521387\ttotal: 44.6s\tremaining: 12.1s\n",
            "786:\tlearn: 0.3521052\ttotal: 44.7s\tremaining: 12.1s\n",
            "787:\tlearn: 0.3520167\ttotal: 44.7s\tremaining: 12s\n",
            "788:\tlearn: 0.3519558\ttotal: 44.8s\tremaining: 12s\n",
            "789:\tlearn: 0.3518762\ttotal: 44.8s\tremaining: 11.9s\n",
            "790:\tlearn: 0.3518402\ttotal: 44.9s\tremaining: 11.9s\n",
            "791:\tlearn: 0.3517503\ttotal: 45s\tremaining: 11.8s\n",
            "792:\tlearn: 0.3516684\ttotal: 45s\tremaining: 11.7s\n",
            "793:\tlearn: 0.3515916\ttotal: 45.1s\tremaining: 11.7s\n",
            "794:\tlearn: 0.3515013\ttotal: 45.1s\tremaining: 11.6s\n",
            "795:\tlearn: 0.3514214\ttotal: 45.2s\tremaining: 11.6s\n",
            "796:\tlearn: 0.3513590\ttotal: 45.2s\tremaining: 11.5s\n",
            "797:\tlearn: 0.3512990\ttotal: 45.3s\tremaining: 11.5s\n",
            "798:\tlearn: 0.3512342\ttotal: 45.4s\tremaining: 11.4s\n",
            "799:\tlearn: 0.3511611\ttotal: 45.4s\tremaining: 11.4s\n",
            "800:\tlearn: 0.3511293\ttotal: 45.5s\tremaining: 11.3s\n",
            "801:\tlearn: 0.3510609\ttotal: 45.5s\tremaining: 11.2s\n",
            "802:\tlearn: 0.3509889\ttotal: 45.6s\tremaining: 11.2s\n",
            "803:\tlearn: 0.3509199\ttotal: 45.6s\tremaining: 11.1s\n",
            "804:\tlearn: 0.3508912\ttotal: 45.7s\tremaining: 11.1s\n",
            "805:\tlearn: 0.3508145\ttotal: 45.8s\tremaining: 11s\n",
            "806:\tlearn: 0.3507408\ttotal: 45.8s\tremaining: 11s\n",
            "807:\tlearn: 0.3507065\ttotal: 45.9s\tremaining: 10.9s\n",
            "808:\tlearn: 0.3506806\ttotal: 45.9s\tremaining: 10.8s\n",
            "809:\tlearn: 0.3506007\ttotal: 46s\tremaining: 10.8s\n",
            "810:\tlearn: 0.3505573\ttotal: 46s\tremaining: 10.7s\n",
            "811:\tlearn: 0.3505277\ttotal: 46.1s\tremaining: 10.7s\n",
            "812:\tlearn: 0.3504426\ttotal: 46.2s\tremaining: 10.6s\n",
            "813:\tlearn: 0.3504102\ttotal: 46.2s\tremaining: 10.6s\n",
            "814:\tlearn: 0.3503225\ttotal: 46.3s\tremaining: 10.5s\n",
            "815:\tlearn: 0.3502749\ttotal: 46.3s\tremaining: 10.4s\n",
            "816:\tlearn: 0.3502062\ttotal: 46.4s\tremaining: 10.4s\n",
            "817:\tlearn: 0.3501596\ttotal: 46.5s\tremaining: 10.3s\n",
            "818:\tlearn: 0.3500947\ttotal: 46.5s\tremaining: 10.3s\n",
            "819:\tlearn: 0.3500470\ttotal: 46.6s\tremaining: 10.2s\n",
            "820:\tlearn: 0.3499721\ttotal: 46.6s\tremaining: 10.2s\n",
            "821:\tlearn: 0.3498931\ttotal: 46.7s\tremaining: 10.1s\n",
            "822:\tlearn: 0.3498347\ttotal: 46.8s\tremaining: 10.1s\n",
            "823:\tlearn: 0.3498093\ttotal: 46.8s\tremaining: 10s\n",
            "824:\tlearn: 0.3497300\ttotal: 46.9s\tremaining: 9.94s\n",
            "825:\tlearn: 0.3496417\ttotal: 46.9s\tremaining: 9.89s\n",
            "826:\tlearn: 0.3495981\ttotal: 47s\tremaining: 9.83s\n",
            "827:\tlearn: 0.3495420\ttotal: 47.1s\tremaining: 9.77s\n",
            "828:\tlearn: 0.3494818\ttotal: 47.1s\tremaining: 9.72s\n",
            "829:\tlearn: 0.3494409\ttotal: 47.2s\tremaining: 9.66s\n",
            "830:\tlearn: 0.3493564\ttotal: 47.2s\tremaining: 9.6s\n",
            "831:\tlearn: 0.3493154\ttotal: 47.3s\tremaining: 9.55s\n",
            "832:\tlearn: 0.3492185\ttotal: 47.3s\tremaining: 9.49s\n",
            "833:\tlearn: 0.3491306\ttotal: 47.4s\tremaining: 9.43s\n",
            "834:\tlearn: 0.3490661\ttotal: 47.5s\tremaining: 9.38s\n",
            "835:\tlearn: 0.3490243\ttotal: 47.5s\tremaining: 9.32s\n",
            "836:\tlearn: 0.3489520\ttotal: 47.6s\tremaining: 9.26s\n",
            "837:\tlearn: 0.3489103\ttotal: 47.6s\tremaining: 9.21s\n",
            "838:\tlearn: 0.3488218\ttotal: 47.7s\tremaining: 9.15s\n",
            "839:\tlearn: 0.3487501\ttotal: 47.7s\tremaining: 9.09s\n",
            "840:\tlearn: 0.3487036\ttotal: 47.8s\tremaining: 9.04s\n",
            "841:\tlearn: 0.3486710\ttotal: 47.9s\tremaining: 8.98s\n",
            "842:\tlearn: 0.3486473\ttotal: 47.9s\tremaining: 8.92s\n",
            "843:\tlearn: 0.3486085\ttotal: 48s\tremaining: 8.87s\n",
            "844:\tlearn: 0.3485835\ttotal: 48s\tremaining: 8.81s\n",
            "845:\tlearn: 0.3485318\ttotal: 48.1s\tremaining: 8.76s\n",
            "846:\tlearn: 0.3484512\ttotal: 48.2s\tremaining: 8.7s\n",
            "847:\tlearn: 0.3483964\ttotal: 48.2s\tremaining: 8.65s\n",
            "848:\tlearn: 0.3483243\ttotal: 48.3s\tremaining: 8.59s\n",
            "849:\tlearn: 0.3482853\ttotal: 48.4s\tremaining: 8.53s\n",
            "850:\tlearn: 0.3482253\ttotal: 48.4s\tremaining: 8.48s\n",
            "851:\tlearn: 0.3481883\ttotal: 48.5s\tremaining: 8.42s\n",
            "852:\tlearn: 0.3481484\ttotal: 48.5s\tremaining: 8.36s\n",
            "853:\tlearn: 0.3480432\ttotal: 48.6s\tremaining: 8.31s\n",
            "854:\tlearn: 0.3479818\ttotal: 48.7s\tremaining: 8.25s\n",
            "855:\tlearn: 0.3478923\ttotal: 48.7s\tremaining: 8.19s\n",
            "856:\tlearn: 0.3478288\ttotal: 48.8s\tremaining: 8.14s\n",
            "857:\tlearn: 0.3477350\ttotal: 48.8s\tremaining: 8.08s\n",
            "858:\tlearn: 0.3476924\ttotal: 48.9s\tremaining: 8.02s\n",
            "859:\tlearn: 0.3476680\ttotal: 48.9s\tremaining: 7.97s\n",
            "860:\tlearn: 0.3475894\ttotal: 49s\tremaining: 7.91s\n",
            "861:\tlearn: 0.3475358\ttotal: 49.1s\tremaining: 7.85s\n",
            "862:\tlearn: 0.3474779\ttotal: 49.1s\tremaining: 7.8s\n",
            "863:\tlearn: 0.3473935\ttotal: 49.2s\tremaining: 7.74s\n",
            "864:\tlearn: 0.3473415\ttotal: 49.2s\tremaining: 7.68s\n",
            "865:\tlearn: 0.3473094\ttotal: 49.3s\tremaining: 7.63s\n",
            "866:\tlearn: 0.3472403\ttotal: 49.3s\tremaining: 7.57s\n",
            "867:\tlearn: 0.3472155\ttotal: 49.4s\tremaining: 7.51s\n",
            "868:\tlearn: 0.3471439\ttotal: 49.5s\tremaining: 7.46s\n",
            "869:\tlearn: 0.3470714\ttotal: 49.5s\tremaining: 7.4s\n",
            "870:\tlearn: 0.3470305\ttotal: 49.6s\tremaining: 7.34s\n",
            "871:\tlearn: 0.3469420\ttotal: 49.6s\tremaining: 7.29s\n",
            "872:\tlearn: 0.3468725\ttotal: 49.7s\tremaining: 7.23s\n",
            "873:\tlearn: 0.3467868\ttotal: 49.8s\tremaining: 7.17s\n",
            "874:\tlearn: 0.3467086\ttotal: 49.8s\tremaining: 7.12s\n",
            "875:\tlearn: 0.3466754\ttotal: 49.9s\tremaining: 7.06s\n",
            "876:\tlearn: 0.3466419\ttotal: 50s\tremaining: 7s\n",
            "877:\tlearn: 0.3466022\ttotal: 50s\tremaining: 6.95s\n",
            "878:\tlearn: 0.3465614\ttotal: 50.1s\tremaining: 6.89s\n",
            "879:\tlearn: 0.3465367\ttotal: 50.1s\tremaining: 6.84s\n",
            "880:\tlearn: 0.3465048\ttotal: 50.2s\tremaining: 6.78s\n",
            "881:\tlearn: 0.3464681\ttotal: 50.3s\tremaining: 6.72s\n",
            "882:\tlearn: 0.3464158\ttotal: 50.3s\tremaining: 6.67s\n",
            "883:\tlearn: 0.3463750\ttotal: 50.4s\tremaining: 6.61s\n",
            "884:\tlearn: 0.3463298\ttotal: 50.4s\tremaining: 6.55s\n",
            "885:\tlearn: 0.3462509\ttotal: 50.5s\tremaining: 6.5s\n",
            "886:\tlearn: 0.3461713\ttotal: 50.5s\tremaining: 6.44s\n",
            "887:\tlearn: 0.3460781\ttotal: 50.6s\tremaining: 6.38s\n",
            "888:\tlearn: 0.3460293\ttotal: 50.7s\tremaining: 6.33s\n",
            "889:\tlearn: 0.3459773\ttotal: 50.7s\tremaining: 6.27s\n",
            "890:\tlearn: 0.3459116\ttotal: 50.8s\tremaining: 6.21s\n",
            "891:\tlearn: 0.3458659\ttotal: 50.8s\tremaining: 6.16s\n",
            "892:\tlearn: 0.3457903\ttotal: 50.9s\tremaining: 6.1s\n",
            "893:\tlearn: 0.3457351\ttotal: 50.9s\tremaining: 6.04s\n",
            "894:\tlearn: 0.3456420\ttotal: 51s\tremaining: 5.98s\n",
            "895:\tlearn: 0.3455938\ttotal: 51.1s\tremaining: 5.93s\n",
            "896:\tlearn: 0.3455046\ttotal: 51.1s\tremaining: 5.87s\n",
            "897:\tlearn: 0.3454377\ttotal: 51.2s\tremaining: 5.81s\n",
            "898:\tlearn: 0.3454133\ttotal: 51.2s\tremaining: 5.75s\n",
            "899:\tlearn: 0.3453356\ttotal: 51.3s\tremaining: 5.7s\n",
            "900:\tlearn: 0.3452980\ttotal: 51.3s\tremaining: 5.64s\n",
            "901:\tlearn: 0.3452286\ttotal: 51.4s\tremaining: 5.58s\n",
            "902:\tlearn: 0.3451462\ttotal: 51.5s\tremaining: 5.53s\n",
            "903:\tlearn: 0.3450769\ttotal: 51.5s\tremaining: 5.47s\n",
            "904:\tlearn: 0.3449982\ttotal: 51.6s\tremaining: 5.41s\n",
            "905:\tlearn: 0.3449320\ttotal: 51.6s\tremaining: 5.36s\n",
            "906:\tlearn: 0.3448977\ttotal: 51.7s\tremaining: 5.3s\n",
            "907:\tlearn: 0.3448369\ttotal: 51.8s\tremaining: 5.24s\n",
            "908:\tlearn: 0.3448107\ttotal: 51.8s\tremaining: 5.19s\n",
            "909:\tlearn: 0.3447806\ttotal: 51.9s\tremaining: 5.13s\n",
            "910:\tlearn: 0.3447046\ttotal: 51.9s\tremaining: 5.07s\n",
            "911:\tlearn: 0.3446121\ttotal: 52s\tremaining: 5.01s\n",
            "912:\tlearn: 0.3445393\ttotal: 52s\tremaining: 4.96s\n",
            "913:\tlearn: 0.3445148\ttotal: 52.1s\tremaining: 4.9s\n",
            "914:\tlearn: 0.3444596\ttotal: 52.1s\tremaining: 4.84s\n",
            "915:\tlearn: 0.3444300\ttotal: 52.2s\tremaining: 4.79s\n",
            "916:\tlearn: 0.3443558\ttotal: 52.3s\tremaining: 4.73s\n",
            "917:\tlearn: 0.3442953\ttotal: 52.3s\tremaining: 4.67s\n",
            "918:\tlearn: 0.3442426\ttotal: 52.4s\tremaining: 4.62s\n",
            "919:\tlearn: 0.3442115\ttotal: 52.4s\tremaining: 4.56s\n",
            "920:\tlearn: 0.3441900\ttotal: 52.5s\tremaining: 4.5s\n",
            "921:\tlearn: 0.3441159\ttotal: 52.5s\tremaining: 4.45s\n",
            "922:\tlearn: 0.3440770\ttotal: 52.6s\tremaining: 4.39s\n",
            "923:\tlearn: 0.3440128\ttotal: 52.7s\tremaining: 4.33s\n",
            "924:\tlearn: 0.3439466\ttotal: 52.7s\tremaining: 4.28s\n",
            "925:\tlearn: 0.3438899\ttotal: 52.8s\tremaining: 4.22s\n",
            "926:\tlearn: 0.3438375\ttotal: 52.8s\tremaining: 4.16s\n",
            "927:\tlearn: 0.3437590\ttotal: 52.9s\tremaining: 4.1s\n",
            "928:\tlearn: 0.3437014\ttotal: 53s\tremaining: 4.05s\n",
            "929:\tlearn: 0.3436036\ttotal: 53s\tremaining: 3.99s\n",
            "930:\tlearn: 0.3435527\ttotal: 53.1s\tremaining: 3.93s\n",
            "931:\tlearn: 0.3435112\ttotal: 53.1s\tremaining: 3.88s\n",
            "932:\tlearn: 0.3434439\ttotal: 53.2s\tremaining: 3.82s\n",
            "933:\tlearn: 0.3433828\ttotal: 53.3s\tremaining: 3.76s\n",
            "934:\tlearn: 0.3433043\ttotal: 53.3s\tremaining: 3.71s\n",
            "935:\tlearn: 0.3432740\ttotal: 53.4s\tremaining: 3.65s\n",
            "936:\tlearn: 0.3432378\ttotal: 53.4s\tremaining: 3.59s\n",
            "937:\tlearn: 0.3431662\ttotal: 53.5s\tremaining: 3.54s\n",
            "938:\tlearn: 0.3431268\ttotal: 53.6s\tremaining: 3.48s\n",
            "939:\tlearn: 0.3431030\ttotal: 53.6s\tremaining: 3.42s\n",
            "940:\tlearn: 0.3430347\ttotal: 53.7s\tremaining: 3.37s\n",
            "941:\tlearn: 0.3430105\ttotal: 53.8s\tremaining: 3.31s\n",
            "942:\tlearn: 0.3429716\ttotal: 53.8s\tremaining: 3.25s\n",
            "943:\tlearn: 0.3429145\ttotal: 53.9s\tremaining: 3.2s\n",
            "944:\tlearn: 0.3428544\ttotal: 53.9s\tremaining: 3.14s\n",
            "945:\tlearn: 0.3428004\ttotal: 54s\tremaining: 3.08s\n",
            "946:\tlearn: 0.3427501\ttotal: 54.1s\tremaining: 3.02s\n",
            "947:\tlearn: 0.3426949\ttotal: 54.1s\tremaining: 2.97s\n",
            "948:\tlearn: 0.3425948\ttotal: 54.2s\tremaining: 2.91s\n",
            "949:\tlearn: 0.3425322\ttotal: 54.2s\tremaining: 2.85s\n",
            "950:\tlearn: 0.3425012\ttotal: 54.3s\tremaining: 2.8s\n",
            "951:\tlearn: 0.3424414\ttotal: 54.3s\tremaining: 2.74s\n",
            "952:\tlearn: 0.3423935\ttotal: 54.4s\tremaining: 2.68s\n",
            "953:\tlearn: 0.3423285\ttotal: 54.5s\tremaining: 2.63s\n",
            "954:\tlearn: 0.3422384\ttotal: 54.5s\tremaining: 2.57s\n",
            "955:\tlearn: 0.3422042\ttotal: 54.6s\tremaining: 2.51s\n",
            "956:\tlearn: 0.3421723\ttotal: 54.6s\tremaining: 2.45s\n",
            "957:\tlearn: 0.3421192\ttotal: 54.7s\tremaining: 2.4s\n",
            "958:\tlearn: 0.3420311\ttotal: 54.8s\tremaining: 2.34s\n",
            "959:\tlearn: 0.3419580\ttotal: 54.8s\tremaining: 2.28s\n",
            "960:\tlearn: 0.3418860\ttotal: 54.9s\tremaining: 2.23s\n",
            "961:\tlearn: 0.3418229\ttotal: 54.9s\tremaining: 2.17s\n",
            "962:\tlearn: 0.3417928\ttotal: 55s\tremaining: 2.11s\n",
            "963:\tlearn: 0.3417107\ttotal: 55s\tremaining: 2.06s\n",
            "964:\tlearn: 0.3416689\ttotal: 55.1s\tremaining: 2s\n",
            "965:\tlearn: 0.3416343\ttotal: 55.1s\tremaining: 1.94s\n",
            "966:\tlearn: 0.3415941\ttotal: 55.2s\tremaining: 1.88s\n",
            "967:\tlearn: 0.3415157\ttotal: 55.3s\tremaining: 1.83s\n",
            "968:\tlearn: 0.3414443\ttotal: 55.3s\tremaining: 1.77s\n",
            "969:\tlearn: 0.3413791\ttotal: 55.4s\tremaining: 1.71s\n",
            "970:\tlearn: 0.3413398\ttotal: 55.4s\tremaining: 1.66s\n",
            "971:\tlearn: 0.3412849\ttotal: 55.5s\tremaining: 1.6s\n",
            "972:\tlearn: 0.3412240\ttotal: 55.5s\tremaining: 1.54s\n",
            "973:\tlearn: 0.3411954\ttotal: 55.6s\tremaining: 1.48s\n",
            "974:\tlearn: 0.3411330\ttotal: 55.6s\tremaining: 1.43s\n",
            "975:\tlearn: 0.3410831\ttotal: 55.7s\tremaining: 1.37s\n",
            "976:\tlearn: 0.3410271\ttotal: 55.8s\tremaining: 1.31s\n",
            "977:\tlearn: 0.3409782\ttotal: 55.8s\tremaining: 1.25s\n",
            "978:\tlearn: 0.3408937\ttotal: 55.9s\tremaining: 1.2s\n",
            "979:\tlearn: 0.3408153\ttotal: 55.9s\tremaining: 1.14s\n",
            "980:\tlearn: 0.3407349\ttotal: 56s\tremaining: 1.08s\n",
            "981:\tlearn: 0.3407141\ttotal: 56s\tremaining: 1.03s\n",
            "982:\tlearn: 0.3406873\ttotal: 56.1s\tremaining: 970ms\n",
            "983:\tlearn: 0.3406185\ttotal: 56.1s\tremaining: 913ms\n",
            "984:\tlearn: 0.3405356\ttotal: 56.2s\tremaining: 856ms\n",
            "985:\tlearn: 0.3404536\ttotal: 56.3s\tremaining: 799ms\n",
            "986:\tlearn: 0.3403819\ttotal: 56.3s\tremaining: 742ms\n",
            "987:\tlearn: 0.3403174\ttotal: 56.4s\tremaining: 685ms\n",
            "988:\tlearn: 0.3402786\ttotal: 56.4s\tremaining: 628ms\n",
            "989:\tlearn: 0.3402047\ttotal: 56.5s\tremaining: 571ms\n",
            "990:\tlearn: 0.3401351\ttotal: 56.6s\tremaining: 514ms\n",
            "991:\tlearn: 0.3400880\ttotal: 56.6s\tremaining: 457ms\n",
            "992:\tlearn: 0.3400640\ttotal: 56.7s\tremaining: 399ms\n",
            "993:\tlearn: 0.3400024\ttotal: 56.7s\tremaining: 342ms\n",
            "994:\tlearn: 0.3399341\ttotal: 56.8s\tremaining: 285ms\n",
            "995:\tlearn: 0.3399022\ttotal: 56.8s\tremaining: 228ms\n",
            "996:\tlearn: 0.3398150\ttotal: 56.9s\tremaining: 171ms\n",
            "997:\tlearn: 0.3397869\ttotal: 57s\tremaining: 114ms\n",
            "998:\tlearn: 0.3397191\ttotal: 57s\tremaining: 57.1ms\n",
            "999:\tlearn: 0.3396953\ttotal: 57.1s\tremaining: 0us\n",
            "RMSE: 0.393936\n"
          ],
          "name": "stdout"
        }
      ]
    },
    {
      "cell_type": "markdown",
      "metadata": {
        "id": "x6jU56VFVgtN",
        "colab_type": "text"
      },
      "source": [
        "# **Submit**"
      ]
    },
    {
      "cell_type": "code",
      "metadata": {
        "id": "vNIB2Tr-VkLq",
        "colab_type": "code",
        "colab": {
          "base_uri": "https://localhost:8080/",
          "height": 204
        },
        "outputId": "e3a2a2aa-488f-46b5-eefc-2290371b60d0"
      },
      "source": [
        "preds_submit = model.predict(data = X_submit)\n",
        "resultados = pd.DataFrame({'id' : test_original.id, 'target' : [1 if x > 0.5 else 0 for x in preds_submit.tolist()]})\n",
        "resultados.head()"
      ],
      "execution_count": null,
      "outputs": [
        {
          "output_type": "execute_result",
          "data": {
            "text/html": [
              "<div>\n",
              "<style scoped>\n",
              "    .dataframe tbody tr th:only-of-type {\n",
              "        vertical-align: middle;\n",
              "    }\n",
              "\n",
              "    .dataframe tbody tr th {\n",
              "        vertical-align: top;\n",
              "    }\n",
              "\n",
              "    .dataframe thead th {\n",
              "        text-align: right;\n",
              "    }\n",
              "</style>\n",
              "<table border=\"1\" class=\"dataframe\">\n",
              "  <thead>\n",
              "    <tr style=\"text-align: right;\">\n",
              "      <th></th>\n",
              "      <th>id</th>\n",
              "      <th>target</th>\n",
              "    </tr>\n",
              "  </thead>\n",
              "  <tbody>\n",
              "    <tr>\n",
              "      <th>0</th>\n",
              "      <td>0</td>\n",
              "      <td>1</td>\n",
              "    </tr>\n",
              "    <tr>\n",
              "      <th>1</th>\n",
              "      <td>2</td>\n",
              "      <td>1</td>\n",
              "    </tr>\n",
              "    <tr>\n",
              "      <th>2</th>\n",
              "      <td>3</td>\n",
              "      <td>1</td>\n",
              "    </tr>\n",
              "    <tr>\n",
              "      <th>3</th>\n",
              "      <td>9</td>\n",
              "      <td>0</td>\n",
              "    </tr>\n",
              "    <tr>\n",
              "      <th>4</th>\n",
              "      <td>11</td>\n",
              "      <td>1</td>\n",
              "    </tr>\n",
              "  </tbody>\n",
              "</table>\n",
              "</div>"
            ],
            "text/plain": [
              "   id  target\n",
              "0   0       1\n",
              "1   2       1\n",
              "2   3       1\n",
              "3   9       0\n",
              "4  11       1"
            ]
          },
          "metadata": {
            "tags": []
          },
          "execution_count": 55
        }
      ]
    },
    {
      "cell_type": "code",
      "metadata": {
        "id": "9UN2Ey1MV5DP",
        "colab_type": "code",
        "colab": {
          "base_uri": "https://localhost:8080/",
          "height": 17
        },
        "outputId": "ccb74680-a747-48c8-a568-cc5c71b573f5"
      },
      "source": [
        "resultados.to_csv('submission_1_CatBoost.csv', header = True, index = False) \n",
        "files.download('submission_1_CatBoost.csv')"
      ],
      "execution_count": null,
      "outputs": [
        {
          "output_type": "display_data",
          "data": {
            "application/javascript": [
              "\n",
              "    async function download(id, filename, size) {\n",
              "      if (!google.colab.kernel.accessAllowed) {\n",
              "        return;\n",
              "      }\n",
              "      const div = document.createElement('div');\n",
              "      const label = document.createElement('label');\n",
              "      label.textContent = `Downloading \"${filename}\": `;\n",
              "      div.appendChild(label);\n",
              "      const progress = document.createElement('progress');\n",
              "      progress.max = size;\n",
              "      div.appendChild(progress);\n",
              "      document.body.appendChild(div);\n",
              "\n",
              "      const buffers = [];\n",
              "      let downloaded = 0;\n",
              "\n",
              "      const channel = await google.colab.kernel.comms.open(id);\n",
              "      // Send a message to notify the kernel that we're ready.\n",
              "      channel.send({})\n",
              "\n",
              "      for await (const message of channel.messages) {\n",
              "        // Send a message to notify the kernel that we're ready.\n",
              "        channel.send({})\n",
              "        if (message.buffers) {\n",
              "          for (const buffer of message.buffers) {\n",
              "            buffers.push(buffer);\n",
              "            downloaded += buffer.byteLength;\n",
              "            progress.value = downloaded;\n",
              "          }\n",
              "        }\n",
              "      }\n",
              "      const blob = new Blob(buffers, {type: 'application/binary'});\n",
              "      const a = document.createElement('a');\n",
              "      a.href = window.URL.createObjectURL(blob);\n",
              "      a.download = filename;\n",
              "      div.appendChild(a);\n",
              "      a.click();\n",
              "      div.remove();\n",
              "    }\n",
              "  "
            ],
            "text/plain": [
              "<IPython.core.display.Javascript object>"
            ]
          },
          "metadata": {
            "tags": []
          }
        },
        {
          "output_type": "display_data",
          "data": {
            "application/javascript": [
              "download(\"download_6cc3130e-c777-4c9d-a9f7-2845c2e0b3e6\", \"submission_1_CatBoost.csv\", 22746)"
            ],
            "text/plain": [
              "<IPython.core.display.Javascript object>"
            ]
          },
          "metadata": {
            "tags": []
          }
        }
      ]
    }
  ]
}