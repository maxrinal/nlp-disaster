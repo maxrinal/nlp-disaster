{
  "nbformat": 4,
  "nbformat_minor": 0,
  "metadata": {
    "colab": {
      "name": "Features_Ngramas.ipynb",
      "provenance": [],
      "collapsed_sections": [],
      "toc_visible": true
    },
    "kernelspec": {
      "name": "python3",
      "display_name": "Python 3"
    }
  },
  "cells": [
    {
      "cell_type": "markdown",
      "metadata": {
        "id": "cn2UU2jZxjM3",
        "colab_type": "text"
      },
      "source": [
        "#INCLUDES"
      ]
    },
    {
      "cell_type": "code",
      "metadata": {
        "id": "0tXtv0Qm2twL",
        "colab_type": "code",
        "colab": {
          "base_uri": "https://localhost:8080/",
          "height": 70
        },
        "outputId": "07864a5b-88a4-4398-acf5-d63070412345"
      },
      "source": [
        "import re\n",
        "import nltk\n",
        "import spacy\n",
        "import gensim\n",
        "import operator\n",
        "import matplotlib\n",
        "import numpy as np\n",
        "import collections\n",
        "import pandas as pd\n",
        "import matplotlib.pyplot as plt"
      ],
      "execution_count": null,
      "outputs": [
        {
          "output_type": "stream",
          "text": [
            "/usr/local/lib/python3.6/dist-packages/statsmodels/tools/_testing.py:19: FutureWarning: pandas.util.testing is deprecated. Use the functions in the public API at pandas.testing instead.\n",
            "  import pandas.util.testing as tm\n"
          ],
          "name": "stderr"
        }
      ]
    },
    {
      "cell_type": "markdown",
      "metadata": {
        "id": "GEKqpKQR2yiy",
        "colab_type": "text"
      },
      "source": [
        "#DOWNLOADS"
      ]
    },
    {
      "cell_type": "code",
      "metadata": {
        "id": "VMUy7RGu2z0z",
        "colab_type": "code",
        "colab": {}
      },
      "source": [
        "!python -m spacy download en_core_web_md\n",
        "import en_core_web_md\n",
        "\n",
        "nlp = en_core_web_md.load()\n",
        "stop_words = spacy.lang.en.stop_words.STOP_WORDS\n"
      ],
      "execution_count": null,
      "outputs": []
    },
    {
      "cell_type": "code",
      "metadata": {
        "id": "pOeMHh9p94vc",
        "colab_type": "code",
        "colab": {
          "base_uri": "https://localhost:8080/",
          "height": 66
        },
        "outputId": "a2628612-0da1-4f48-eee2-6dc7092d1b62"
      },
      "source": [
        "nltk.download('punkt')"
      ],
      "execution_count": null,
      "outputs": [
        {
          "output_type": "stream",
          "text": [
            "[nltk_data] Downloading package punkt to /root/nltk_data...\n",
            "[nltk_data]   Unzipping tokenizers/punkt.zip.\n"
          ],
          "name": "stdout"
        },
        {
          "output_type": "execute_result",
          "data": {
            "text/plain": [
              "True"
            ]
          },
          "metadata": {
            "tags": []
          },
          "execution_count": 15
        }
      ]
    },
    {
      "cell_type": "code",
      "metadata": {
        "id": "DJtwQAYo2_0o",
        "colab_type": "code",
        "colab": {}
      },
      "source": [
        "train = pd.read_csv('train_split.csv')\n",
        "validation = pd.read_csv('validation_split.csv')\n",
        "test = pd.read_csv('https://raw.githubusercontent.com/maxrinal/nlp-disaster/master/test.csv')"
      ],
      "execution_count": null,
      "outputs": []
    },
    {
      "cell_type": "markdown",
      "metadata": {
        "id": "QrNSTUv721qs",
        "colab_type": "text"
      },
      "source": [
        "#DocPreprocess"
      ]
    },
    {
      "cell_type": "code",
      "metadata": {
        "id": "4TFY2Eka3KNP",
        "colab_type": "code",
        "colab": {}
      },
      "source": [
        "#Pasa a textos a minusculas, elimina stopwords, acentos, hashtags, menciones, caracteres especiales, urls,\n",
        "#palabras de longitud 3 o menor y aplica lematizacion\n",
        "class DocPreprocess:\n",
        "  \n",
        "  def __init__(self,nlp,stop_words,docs,allowed_postags=['ADV', 'VERB', 'ADJ', 'NOUN', 'PROPN', 'NUM'],lem = True):\n",
        "    \n",
        "    self.nlp = nlp  # spacy nlp object\n",
        "    self.stop_words = stop_words  # spacy.lang.en.stop_words.STOP_WORDS\n",
        "    self.docs = docs  # docs must be either list or numpy array or series of docs\n",
        "    self.new_docs = [self.remove_URL(doc) for doc in self.docs]\n",
        "    self.new_docs = [self.remove_mention(doc) for doc in self.new_docs]\n",
        "    self.new_docs = [self.remove_hashtags(doc) for doc in self.new_docs]\n",
        "    self.new_docs = [self.remove_special_characters(doc) for doc in self.new_docs]\n",
        "    #Convert a document into a list of lowercase tokens, ignoring tokens that are too short or too long ( deacc: remove accent )\n",
        "    self.simple_doc_tokens = [gensim.utils.simple_preprocess(doc,min_len = 3 ,max_len = 15, deacc=True) for doc in self.new_docs]\n",
        "    self.new_docs = self.make_simple_doc(self.simple_doc_tokens)\n",
        "    if (lem): self.new_docs = [self.lemmatize(doc, allowed_postags=allowed_postags) for doc in self.new_docs]\n",
        "\n",
        "  def make_simple_doc(self, simple_doc_tokens):\n",
        "    simple_docs = []\n",
        "    for doc_tokens in simple_doc_tokens:\n",
        "      simple = \" \".join(doc_tokens)  # concatenate back to a sentence\n",
        "      simple_docs.append(simple)\n",
        "    return simple_docs\n",
        "\n",
        "  def remove_hashtags(self,doc):\n",
        "    split_doc = doc.split(' ')\n",
        "    for w in split_doc:\n",
        "      if ('#' in w): split_doc.remove(w)\n",
        "    return ' '.join(split_doc)\n",
        "\t\n",
        "  def remove_special_characters(self,doc):\n",
        "    return doc.replace('\\n', ' ').replace('å', ' ').replace('ê', ' ').replace('û', ' ').replace('[^\\w\\s]',' ').replace('÷', ' ').replace('ª', ' ').replace('ì', ' ').replace('¢', ' ').replace('\\x89', ' ').replace('\\x9d', ' ').replace('ã', ' ').replace('ï', ' ').replace('©', ' ').replace('ó', ' ').replace('ò', ' ').replace('â', ' ').replace('\\x9b', ' ').replace('\\x8a', ' ').replace('\\x93', ' ').replace('\\x8f', ' ')\\\n",
        "             .replace('\\x8c', ' ').replace('¼', ' ').replace('¥', ' ').replace('\\x92', ' ').replace('·', ' ').replace('\\x82', ' ').replace('Û', ' ').replace('Ó', ' ').replace('Ê', ' ').replace('Ï', ' ')\n",
        "\n",
        "  def remove_URL(self,doc):\n",
        "    url = re.compile(r'https?://\\S+|www\\.\\S+')\n",
        "    return url.sub(r'',str(doc))\n",
        "\t\n",
        "  def remove_mention(self,doc):\n",
        "    without_mention = []\n",
        "    for w in doc.split(' '):\n",
        "      if ('@' not in w):\n",
        "        without_mention.append(w)\n",
        "    return ' '.join(without_mention)\n",
        "\n",
        "  def lemmatize(self, doc, allowed_postags):\n",
        "    doc = self.nlp(str(doc))\n",
        "    tokens = [token.lemma_ for token in doc if (\n",
        "        token.pos_ in allowed_postags) and (token.text not in self.stop_words)]\n",
        "    return ' '.join(tokens)\n"
      ],
      "execution_count": null,
      "outputs": []
    },
    {
      "cell_type": "code",
      "metadata": {
        "id": "DpZEiuLcOUx0",
        "colab_type": "code",
        "colab": {}
      },
      "source": [
        "train_text_preprocess = DocPreprocess(nlp,stop_words,train.text, lem = True)\n",
        "validation_text_preprocess = DocPreprocess(nlp,stop_words,validation.text, lem = True)\n",
        "test_text_preprocess = DocPreprocess(nlp,stop_words,test.text, lem = True)\n",
        "\n",
        "train['clean_text'] = train_text_preprocess.new_docs\n",
        "validation['clean_text'] = validation_text_preprocess.new_docs\n",
        "test['clean_text'] = test_text_preprocess.new_docs"
      ],
      "execution_count": null,
      "outputs": []
    },
    {
      "cell_type": "markdown",
      "metadata": {
        "id": "O3wmg-UR6yes",
        "colab_type": "text"
      },
      "source": [
        "#Word Frequency (Unigrams - Bigrams - Trigrams)"
      ]
    },
    {
      "cell_type": "code",
      "metadata": {
        "id": "_tIe_8Dp_5Q0",
        "colab_type": "code",
        "colab": {}
      },
      "source": [
        "docs_target1 = train[train['target'] == 1]['clean_text']\n",
        "docs_target0 = train[train['target'] == 0]['clean_text']\n",
        "\n",
        "#Concateno todos los mensajes y los tomo como un unico documento\n",
        "lst_tokens_1 = nltk.tokenize.word_tokenize (docs_target1.str.cat(sep = ' '))\n",
        "lst_tokens_0 = nltk.tokenize.word_tokenize (docs_target0.str.cat(sep = ' '))"
      ],
      "execution_count": null,
      "outputs": []
    },
    {
      "cell_type": "code",
      "metadata": {
        "id": "V0sSB1gkJpuf",
        "colab_type": "code",
        "colab": {}
      },
      "source": [
        "#Unigrams\n",
        "dic_words_freq_target1 = nltk.FreqDist (lst_tokens_1)\n",
        "dic_words_freq_target0 = nltk.FreqDist (lst_tokens_0)\n",
        "\n",
        "dtf_uni_target1 = pd.DataFrame(dic_words_freq_target1.most_common (), columns = ['Word', 'Freq'])\n",
        "dtf_uni_target0 = pd.DataFrame(dic_words_freq_target0.most_common (), columns = ['Word', 'Freq'])\n",
        "\n",
        "#Bigrams\n",
        "\n",
        "dic_words_freq_target1 = nltk.FreqDist (nltk.ngrams(lst_tokens_1, 2))\n",
        "dic_words_freq_target0 = nltk.FreqDist (nltk.ngrams(lst_tokens_0, 2))\n",
        "\n",
        "dtf_bi_target1 = pd.DataFrame (dic_words_freq_target1.most_common (),columns = ['Word', 'Freq']) \n",
        "dtf_bi_target1['Word'] = dtf_bi_target1['Word'].apply(lambda x: ' '.join (string for string in x))\n",
        "\n",
        "dtf_bi_target0 = pd.DataFrame (dic_words_freq_target0.most_common (),columns = ['Word', 'Freq']) \n",
        "dtf_bi_target0['Word'] = dtf_bi_target0['Word'].apply(lambda x: ' '.join (string for string in x))\n",
        "\n",
        "#Trigrams\n",
        "dic_words_freq_target1 = nltk.FreqDist (nltk.ngrams(lst_tokens_1, 3))\n",
        "dic_words_freq_target0 = nltk.FreqDist (nltk.ngrams(lst_tokens_0, 3))\n",
        "\n",
        "dtf_tri_target1 = pd.DataFrame (dic_words_freq_target1.most_common (),columns = ['Word', 'Freq']) \n",
        "dtf_tri_target1['Word'] = dtf_tri_target1['Word'].apply(lambda x: ' '.join (string for string in x))\n",
        "\n",
        "dtf_tri_target0 = pd.DataFrame (dic_words_freq_target0.most_common (),columns = ['Word', 'Freq']) \n",
        "dtf_tri_target0['Word'] = dtf_tri_target0['Word'].apply(lambda x: ' '.join (string for string in x))"
      ],
      "execution_count": null,
      "outputs": []
    },
    {
      "cell_type": "code",
      "metadata": {
        "id": "GYFgekvlL-FW",
        "colab_type": "code",
        "colab": {}
      },
      "source": [
        "unigrams_target1 = set(dtf_uni_target1.Word)\n",
        "unigrams_target0 = set(dtf_uni_target0.Word)\n",
        "\n",
        "bigrams_target1 = set(dtf_bi_target1.Word)\n",
        "bigrams_target0 = set(dtf_bi_target0.Word)\n",
        "\n",
        "trigrams_target1 = set(dtf_tri_target1.Word)\n",
        "trigrams_target0 = set(dtf_tri_target0.Word)"
      ],
      "execution_count": null,
      "outputs": []
    },
    {
      "cell_type": "code",
      "metadata": {
        "id": "FDkbvzyIMedO",
        "colab_type": "code",
        "colab": {}
      },
      "source": [
        "# unique unigram\n",
        "\n",
        "aux = unigrams_target1\n",
        "unigrams_target1 = unigrams_target1 - unigrams_target0\n",
        "unigrams_target0 = unigrams_target0 - aux"
      ],
      "execution_count": null,
      "outputs": []
    },
    {
      "cell_type": "code",
      "metadata": {
        "id": "DUFHWbEwNQFC",
        "colab_type": "code",
        "colab": {}
      },
      "source": [
        "# unique bigram\n",
        "\n",
        "aux = bigrams_target1\n",
        "bigrams_target1 = bigrams_target1 - bigrams_target0\n",
        "bigrams_target0 = bigrams_target0 - aux"
      ],
      "execution_count": null,
      "outputs": []
    },
    {
      "cell_type": "code",
      "metadata": {
        "id": "Xr9JkehONaQD",
        "colab_type": "code",
        "colab": {}
      },
      "source": [
        "# unique trigram\n",
        "\n",
        "aux = trigrams_target1\n",
        "trigrams_target1 = trigrams_target1 - trigrams_target0\n",
        "trigrams_target0 = trigrams_target0 - aux"
      ],
      "execution_count": null,
      "outputs": []
    },
    {
      "cell_type": "code",
      "metadata": {
        "id": "3r7vW0BpOEsq",
        "colab_type": "code",
        "colab": {}
      },
      "source": [
        "dtf_uni_target1 = dtf_uni_target1[dtf_uni_target1.Word.isin(unigrams_target1)]\n",
        "dtf_uni_target0 = dtf_uni_target0[dtf_uni_target0.Word.isin(unigrams_target0)]"
      ],
      "execution_count": null,
      "outputs": []
    },
    {
      "cell_type": "code",
      "metadata": {
        "id": "pIbCHwnvOdHo",
        "colab_type": "code",
        "colab": {}
      },
      "source": [
        "dtf_bi_target1 = dtf_bi_target1[dtf_bi_target1.Word.isin(bigrams_target1)]\n",
        "dtf_bi_target0 = dtf_bi_target0[dtf_bi_target0.Word.isin(bigrams_target0)]"
      ],
      "execution_count": null,
      "outputs": []
    },
    {
      "cell_type": "code",
      "metadata": {
        "id": "Wu7n5xOuOtNh",
        "colab_type": "code",
        "colab": {}
      },
      "source": [
        "dtf_tri_target1 = dtf_tri_target1[dtf_tri_target1.Word.isin(trigrams_target1)]\n",
        "dtf_tri_target0 = dtf_tri_target0[dtf_tri_target0.Word.isin(trigrams_target0)]"
      ],
      "execution_count": null,
      "outputs": []
    },
    {
      "cell_type": "code",
      "metadata": {
        "id": "3J6-eRMGNzY3",
        "colab_type": "code",
        "colab": {
          "base_uri": "https://localhost:8080/",
          "height": 367
        },
        "outputId": "8f2c73f1-4ddb-4e23-dd6a-557e41e12c55"
      },
      "source": [
        "#Unigrams\n",
        "\n",
        "fig, ax = plt.subplots(nrows = 1, ncols = 2,figsize = (22,5))\n",
        "fig.suptitle('Most frequent unigrams', fontsize = 15)\n",
        "\n",
        "dtf_uni_target1.set_index('Word').iloc [:10 ,: ].plot(kind = 'barh', title = 'Unigrams - target 1', ax = ax[1], legend = False)\n",
        "dtf_uni_target0.set_index('Word').iloc [:10 ,: ].plot(kind = 'barh', title = 'Unigrams - target 0', ax = ax[0], legend = False)\n",
        "\n",
        "ax[0].grid (axis = 'x')\n",
        "ax[1].grid (axis = 'x') \n",
        "\n",
        "ax[0].set(ylabel = None, xlabel = 'Frequency')\n",
        "ax[1].set(ylabel = None, xlabel = 'Frequency')\n",
        " \n",
        "\n",
        "plt.show()"
      ],
      "execution_count": null,
      "outputs": [
        {
          "output_type": "display_data",
          "data": {
            "image/png": "[encoded data removed]",
            "text/plain": [
              "<Figure size 1584x360 with 2 Axes>"
            ]
          },
          "metadata": {
            "tags": [],
            "needs_background": "light"
          }
        }
      ]
    },
    {
      "cell_type": "code",
      "metadata": {
        "id": "k_Uv159YRFdQ",
        "colab_type": "code",
        "colab": {
          "base_uri": "https://localhost:8080/",
          "height": 353
        },
        "outputId": "86c7ae88-093b-48f0-ae14-2913415061e0"
      },
      "source": [
        "#Bigrams\n",
        "\n",
        "fig, ax = plt.subplots(nrows = 1, ncols = 2,figsize = (22,5))\n",
        "fig.suptitle('Most frequent Bigrams', fontsize = 15)\n",
        "\n",
        "dtf_bi_target1.set_index('Word').iloc [:10 ,: ].plot(kind = 'barh', title = 'Bigrams - target 1', ax = ax[1], legend = False)\n",
        "dtf_bi_target0.set_index('Word').iloc [:10 ,: ].plot(kind = 'barh', title = 'Bigrams - target 0', ax = ax[0], legend = False)\n",
        "\n",
        "ax[0].grid (axis = 'x')\n",
        "ax[1].grid (axis = 'x') \n",
        "\n",
        "ax[0].set(ylabel = None,xlabel = 'Frequency')\n",
        "ax[1].set(ylabel = None,xlabel = 'Frequency')\n",
        " \n",
        "\n",
        "plt.show()"
      ],
      "execution_count": null,
      "outputs": [
        {
          "output_type": "display_data",
          "data": {
            "image/png": "[encoded data removed]",
            "text/plain": [
              "<Figure size 1584x360 with 2 Axes>"
            ]
          },
          "metadata": {
            "tags": [],
            "needs_background": "light"
          }
        }
      ]
    },
    {
      "cell_type": "code",
      "metadata": {
        "id": "NynPxgBdRNph",
        "colab_type": "code",
        "colab": {
          "base_uri": "https://localhost:8080/",
          "height": 985
        },
        "outputId": "ab9884cd-24f3-49b4-e6e4-3bf3bea12aee"
      },
      "source": [
        "#Trigrams\n",
        "\n",
        "fig, ax = plt.subplots(nrows = 2, ncols = 1,figsize = (15,15))\n",
        "fig.suptitle('Most frequent Trigrams', fontsize = 15)\n",
        "\n",
        "dtf_tri_target1.set_index('Word').iloc [:10 ,: ].plot(kind = 'barh', title = 'Trigrams - target 1', ax = ax[1], legend = False)\n",
        "dtf_tri_target0.set_index('Word').iloc [:10 ,: ].plot(kind = 'barh', title = 'Trigrams - target 0', ax = ax[0], legend = False)\n",
        "\n",
        "ax[0].grid (axis = 'x')\n",
        "ax[1].grid (axis = 'x') \n",
        "\n",
        "ax[0].set(ylabel = None,xlabel = 'Frequency')\n",
        "ax[1].set(ylabel = None,xlabel = 'Frequency')\n",
        " \n",
        "\n",
        "plt.show()"
      ],
      "execution_count": null,
      "outputs": [
        {
          "output_type": "display_data",
          "data": {
            "image/png": "[encoded data removed]",
            "text/plain": [
              "<Figure size 1080x1080 with 2 Axes>"
            ]
          },
          "metadata": {
            "tags": [],
            "needs_background": "light"
          }
        }
      ]
    },
    {
      "cell_type": "code",
      "metadata": {
        "id": "0cMnsb31IsuU",
        "colab_type": "code",
        "colab": {}
      },
      "source": [
        "def contain_n_gram(doc,n_gram, n = 1):\n",
        "  words = nltk.tokenize.word_tokenize(doc)\n",
        "  n_grams_doc = nltk.ngrams(words, n)\n",
        "  for x in n_grams_doc:\n",
        "    if (n_gram in ' '.join(x)): return True\n",
        "  return False"
      ],
      "execution_count": null,
      "outputs": []
    },
    {
      "cell_type": "code",
      "metadata": {
        "id": "jggMLIdXVfcv",
        "colab_type": "code",
        "colab": {}
      },
      "source": [
        "top = 300\n",
        "\n",
        "top_unigram_target1 = list(dtf_uni_target1.Word.iloc[:top])\n",
        "top_unigram_target0 = list(dtf_uni_target0.Word.iloc[:top])\n",
        "\n",
        "top_bigram_target1 = list(dtf_bi_target1.Word.iloc[:top])\n",
        "top_bigram_target0 = list(dtf_bi_target0.Word.iloc[:top])\n",
        "\n",
        "top_trigram_target1 = list(dtf_tri_target1.Word.iloc[:top])\n",
        "top_trigram_target0 = list(dtf_tri_target0.Word.iloc[:top])"
      ],
      "execution_count": null,
      "outputs": []
    },
    {
      "cell_type": "code",
      "metadata": {
        "id": "B6QgILiJXL_Y",
        "colab_type": "code",
        "colab": {}
      },
      "source": [
        "unigrams = (top_unigram_target1) + (top_unigram_target0)\n",
        "bigrams = (top_bigram_target1) + (top_bigram_target0)\n",
        "trigrams = (top_trigram_target1) + (top_trigram_target0)"
      ],
      "execution_count": null,
      "outputs": []
    },
    {
      "cell_type": "code",
      "metadata": {
        "id": "vjU4zGMgH3gn",
        "colab_type": "code",
        "colab": {}
      },
      "source": [
        "bag_of_unigrams_train = pd.DataFrame({'id':list(train.id)})\n",
        "bag_of_bigrams_train = pd.DataFrame({'id':list(train.id)})\n",
        "bag_of_trigrams_train = pd.DataFrame({'id':list(train.id)})\n",
        "\n",
        "bag_of_unigrams_validation = pd.DataFrame({'id':list(validation.id)})\n",
        "bag_of_bigrams_validation = pd.DataFrame({'id':list(validation.id)})\n",
        "bag_of_trigrams_validation = pd.DataFrame({'id':list(validation.id)})\n",
        "\n",
        "bag_of_unigrams_test = pd.DataFrame({'id':list(test.id)})\n",
        "bag_of_bigrams_test = pd.DataFrame({'id':list(test.id)})\n",
        "bag_of_trigrams_test = pd.DataFrame({'id':list(test.id)})"
      ],
      "execution_count": null,
      "outputs": []
    },
    {
      "cell_type": "code",
      "metadata": {
        "id": "FGDafVc-YcoW",
        "colab_type": "code",
        "colab": {}
      },
      "source": [
        "for unigram in unigrams:\n",
        "  bag_of_unigrams_train[unigram] = train.clean_text.apply(lambda x: 1 if (contain_n_gram(x,unigram)) else 0 )\n",
        "  bag_of_unigrams_validation[unigram] = validation.clean_text.apply(lambda x: 1 if (contain_n_gram(x,unigram)) else 0)\n",
        "  bag_of_unigrams_test[unigram] = test.clean_text.apply(lambda x: 1 if (contain_n_gram(x,unigram)) else 0)"
      ],
      "execution_count": null,
      "outputs": []
    },
    {
      "cell_type": "code",
      "metadata": {
        "id": "N-RUwmWHov2-",
        "colab_type": "code",
        "colab": {
          "base_uri": "https://localhost:8080/",
          "height": 50
        },
        "outputId": "5103e9af-a402-484a-c3ee-f6782905c573"
      },
      "source": [
        "for bigram in bigrams:\n",
        "  bag_of_bigrams_train[bigram] = train.clean_text.apply(lambda x: 1 if (contain_n_gram(x,bigram,n = 2)) else 0 )\n",
        "  bag_of_bigrams_validation[bigram] = validation.clean_text.apply(lambda x: 1 if (contain_n_gram(x,bigram,n = 2)) else 0 )\n",
        "  bag_of_bigrams_test[bigram] = test.clean_text.apply(lambda x: 1 if (contain_n_gram(x,bigram,n = 2)) else 0 )"
      ],
      "execution_count": null,
      "outputs": [
        {
          "output_type": "stream",
          "text": [
            "/usr/local/lib/python3.6/dist-packages/ipykernel_launcher.py:4: DeprecationWarning: generator 'ngrams' raised StopIteration\n",
            "  after removing the cwd from sys.path.\n"
          ],
          "name": "stderr"
        }
      ]
    },
    {
      "cell_type": "code",
      "metadata": {
        "id": "Wd5SWAQ3oyEI",
        "colab_type": "code",
        "colab": {
          "base_uri": "https://localhost:8080/",
          "height": 50
        },
        "outputId": "40900e4d-1234-4726-9877-18fea2bb880d"
      },
      "source": [
        "for trigram in trigrams:\n",
        "  bag_of_trigrams_train[trigram] = train.clean_text.apply(lambda x: 1 if (contain_n_gram(x,trigram,n = 3)) else 0 )\n",
        "  bag_of_trigrams_validation[trigram] = validation.clean_text.apply(lambda x: 1 if (contain_n_gram(x,trigram,n = 3)) else 0 )\n",
        "  bag_of_trigrams_test[trigram] = test.clean_text.apply(lambda x: 1 if (contain_n_gram(x,trigram,n = 3)) else 0 )"
      ],
      "execution_count": null,
      "outputs": [
        {
          "output_type": "stream",
          "text": [
            "/usr/local/lib/python3.6/dist-packages/ipykernel_launcher.py:4: DeprecationWarning: generator 'ngrams' raised StopIteration\n",
            "  after removing the cwd from sys.path.\n"
          ],
          "name": "stderr"
        }
      ]
    },
    {
      "cell_type": "markdown",
      "metadata": {
        "id": "gkWJMKWEiuGA",
        "colab_type": "text"
      },
      "source": [
        "#EXPORTO"
      ]
    },
    {
      "cell_type": "code",
      "metadata": {
        "id": "C8G0D7FrJ5T6",
        "colab_type": "code",
        "colab": {}
      },
      "source": [
        "bag_of_unigrams_train['target'] = list(train.target)\n",
        "bag_of_unigrams_validation['target'] = list(validation.target)\n",
        "\n",
        "bag_of_bigrams_train['target'] = list(train.target)\n",
        "bag_of_bigrams_validation['target'] = list(validation.target)\n",
        "\n",
        "bag_of_trigrams_train['target'] = list(train.target)\n",
        "bag_of_trigrams_validation['target'] = list(validation.target)"
      ],
      "execution_count": null,
      "outputs": []
    },
    {
      "cell_type": "code",
      "metadata": {
        "id": "fmVdgLsN-bJe",
        "colab_type": "code",
        "colab": {
          "base_uri": "https://localhost:8080/",
          "height": 66
        },
        "outputId": "aae7796c-0103-4dd2-8dc4-acdeb69e5258"
      },
      "source": [
        "print(bag_of_unigrams_train.shape)\n",
        "print(bag_of_bigrams_train.shape)\n",
        "print(bag_of_trigrams_train.shape)"
      ],
      "execution_count": null,
      "outputs": [
        {
          "output_type": "stream",
          "text": [
            "(6090, 602)\n",
            "(6090, 602)\n",
            "(6090, 602)\n"
          ],
          "name": "stdout"
        }
      ]
    },
    {
      "cell_type": "code",
      "metadata": {
        "id": "gASOnTWZhbMP",
        "colab_type": "code",
        "colab": {}
      },
      "source": [
        "bag_of_unigrams_train.to_csv('bag_of_unigrams_train.csv',header = True, index = False)\n",
        "bag_of_unigrams_validation.to_csv('bag_of_unigrams_validation.csv',header = True, index = False)\n",
        "bag_of_unigrams_test.to_csv('bag_of_unigrams_test.csv',header = True, index = False)"
      ],
      "execution_count": null,
      "outputs": []
    },
    {
      "cell_type": "code",
      "metadata": {
        "id": "o5NIe5oJ8YKU",
        "colab_type": "code",
        "colab": {}
      },
      "source": [
        "bag_of_bigrams_train.to_csv('bag_of_bigrams_train.csv',header = True, index = False)\n",
        "bag_of_bigrams_validation.to_csv('bag_of_bigrams_validation.csv',header = True, index = False)\n",
        "bag_of_bigrams_test.to_csv('bag_of_bigrams_test.csv',header = True, index = False)"
      ],
      "execution_count": null,
      "outputs": []
    },
    {
      "cell_type": "code",
      "metadata": {
        "id": "eSb0Glt6itmP",
        "colab_type": "code",
        "colab": {}
      },
      "source": [
        "bag_of_trigrams_train.to_csv('bag_of_trigrams_train.csv',header = True, index = False)\n",
        "bag_of_trigrams_validation.to_csv('bag_of_trigrams_validation.csv',header = True, index = False)\n",
        "bag_of_trigrams_test.to_csv('bag_of_trigrams_test.csv',header = True, index = False)"
      ],
      "execution_count": null,
      "outputs": []
    }
  ]
}