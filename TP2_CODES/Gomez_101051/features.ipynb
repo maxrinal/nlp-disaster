{
  "nbformat": 4,
  "nbformat_minor": 0,
  "metadata": {
    "colab": {
      "name": "features.ipynb",
      "provenance": [],
      "collapsed_sections": [
        "cn2UU2jZxjM3",
        "GEKqpKQR2yiy",
        "QrNSTUv721qs",
        "hNWmM06fb4WQ",
        "Zp4uUlY3XciO",
        "_5GUAHRedjV5",
        "UGIQ3ZCpfepT",
        "O3wmg-UR6yes",
        "7yrZGetGoQLa",
        "HKl6uH3fomQ_",
        "Ia8Fl8rMo2se",
        "bXedhNgMtbTY",
        "9-4HKwtKtuRJ",
        "TJMgpGaWvA8R",
        "v6grFCDZncDL",
        "sNscLqe3npaY",
        "2piD_gMeLtEd",
        "gkWJMKWEiuGA"
      ],
      "toc_visible": true
    },
    "kernelspec": {
      "name": "python3",
      "display_name": "Python 3"
    }
  },
  "cells": [
    {
      "cell_type": "markdown",
      "metadata": {
        "id": "cn2UU2jZxjM3",
        "colab_type": "text"
      },
      "source": [
        "#INCLUDES"
      ]
    },
    {
      "cell_type": "code",
      "metadata": {
        "id": "0tXtv0Qm2twL",
        "colab_type": "code",
        "colab": {}
      },
      "source": [
        "import re\n",
        "import nltk\n",
        "import spacy\n",
        "import gensim\n",
        "import operator\n",
        "import wordcloud\n",
        "import matplotlib\n",
        "import numpy as np\n",
        "import collections\n",
        "import pandas as pd\n",
        "import seaborn as sns\n",
        "from textblob import TextBlob\n",
        "import matplotlib.pyplot as plt\n",
        "import gensim.downloader as gensim_api\n",
        "from gensim.models.doc2vec import TaggedDocument"
      ],
      "execution_count": null,
      "outputs": []
    },
    {
      "cell_type": "markdown",
      "metadata": {
        "id": "GEKqpKQR2yiy",
        "colab_type": "text"
      },
      "source": [
        "#DOWNLOADS"
      ]
    },
    {
      "cell_type": "code",
      "metadata": {
        "id": "yBH62lvbcUdu",
        "colab_type": "code",
        "colab": {
          "base_uri": "https://localhost:8080/",
          "height": 33
        },
        "outputId": "bfa7c934-a8a4-4cd2-a810-55594bea0239"
      },
      "source": [
        "!pip install pyspellchecker\n",
        "from spellchecker import SpellChecker\n",
        "spell = SpellChecker()"
      ],
      "execution_count": null,
      "outputs": [
        {
          "output_type": "stream",
          "text": [
            "Requirement already satisfied: pyspellchecker in /usr/local/lib/python3.6/dist-packages (0.5.4)\n"
          ],
          "name": "stdout"
        }
      ]
    },
    {
      "cell_type": "code",
      "metadata": {
        "id": "-ggeuSac0qS3",
        "colab_type": "code",
        "colab": {
          "base_uri": "https://localhost:8080/",
          "height": 66
        },
        "outputId": "947d98ea-a17c-4359-b293-cea5c391e904"
      },
      "source": [
        "nltk.download('punkt')"
      ],
      "execution_count": null,
      "outputs": [
        {
          "output_type": "stream",
          "text": [
            "[nltk_data] Downloading package punkt to /root/nltk_data...\n",
            "[nltk_data]   Unzipping tokenizers/punkt.zip.\n"
          ],
          "name": "stdout"
        },
        {
          "output_type": "execute_result",
          "data": {
            "text/plain": [
              "True"
            ]
          },
          "metadata": {
            "tags": []
          },
          "execution_count": 46
        }
      ]
    },
    {
      "cell_type": "code",
      "metadata": {
        "id": "VMUy7RGu2z0z",
        "colab_type": "code",
        "colab": {
          "base_uri": "https://localhost:8080/",
          "height": 557
        },
        "outputId": "5f035d2b-e1a7-40a8-c679-d5415eea7ca9"
      },
      "source": [
        "!python -m spacy download en_core_web_md\n",
        "import en_core_web_md\n",
        "\n",
        "nlp = en_core_web_md.load()\n",
        "stop_words = spacy.lang.en.stop_words.STOP_WORDS"
      ],
      "execution_count": null,
      "outputs": [
        {
          "output_type": "stream",
          "text": [
            "Collecting en_core_web_md==2.2.5\n",
            "\u001b[?25l  Downloading https://github.com/explosion/spacy-models/releases/download/en_core_web_md-2.2.5/en_core_web_md-2.2.5.tar.gz (96.4MB)\n",
            "\u001b[K     |████████████████████████████████| 96.4MB 1.2MB/s \n",
            "\u001b[?25hRequirement already satisfied: spacy>=2.2.2 in /usr/local/lib/python3.6/dist-packages (from en_core_web_md==2.2.5) (2.2.4)\n",
            "Requirement already satisfied: srsly<1.1.0,>=1.0.2 in /usr/local/lib/python3.6/dist-packages (from spacy>=2.2.2->en_core_web_md==2.2.5) (1.0.2)\n",
            "Requirement already satisfied: murmurhash<1.1.0,>=0.28.0 in /usr/local/lib/python3.6/dist-packages (from spacy>=2.2.2->en_core_web_md==2.2.5) (1.0.2)\n",
            "Requirement already satisfied: thinc==7.4.0 in /usr/local/lib/python3.6/dist-packages (from spacy>=2.2.2->en_core_web_md==2.2.5) (7.4.0)\n",
            "Requirement already satisfied: cymem<2.1.0,>=2.0.2 in /usr/local/lib/python3.6/dist-packages (from spacy>=2.2.2->en_core_web_md==2.2.5) (2.0.3)\n",
            "Requirement already satisfied: setuptools in /usr/local/lib/python3.6/dist-packages (from spacy>=2.2.2->en_core_web_md==2.2.5) (49.2.0)\n",
            "Requirement already satisfied: tqdm<5.0.0,>=4.38.0 in /usr/local/lib/python3.6/dist-packages (from spacy>=2.2.2->en_core_web_md==2.2.5) (4.41.1)\n",
            "Requirement already satisfied: plac<1.2.0,>=0.9.6 in /usr/local/lib/python3.6/dist-packages (from spacy>=2.2.2->en_core_web_md==2.2.5) (1.1.3)\n",
            "Requirement already satisfied: wasabi<1.1.0,>=0.4.0 in /usr/local/lib/python3.6/dist-packages (from spacy>=2.2.2->en_core_web_md==2.2.5) (0.7.1)\n",
            "Requirement already satisfied: catalogue<1.1.0,>=0.0.7 in /usr/local/lib/python3.6/dist-packages (from spacy>=2.2.2->en_core_web_md==2.2.5) (1.0.0)\n",
            "Requirement already satisfied: blis<0.5.0,>=0.4.0 in /usr/local/lib/python3.6/dist-packages (from spacy>=2.2.2->en_core_web_md==2.2.5) (0.4.1)\n",
            "Requirement already satisfied: numpy>=1.15.0 in /usr/local/lib/python3.6/dist-packages (from spacy>=2.2.2->en_core_web_md==2.2.5) (1.18.5)\n",
            "Requirement already satisfied: preshed<3.1.0,>=3.0.2 in /usr/local/lib/python3.6/dist-packages (from spacy>=2.2.2->en_core_web_md==2.2.5) (3.0.2)\n",
            "Requirement already satisfied: requests<3.0.0,>=2.13.0 in /usr/local/lib/python3.6/dist-packages (from spacy>=2.2.2->en_core_web_md==2.2.5) (2.23.0)\n",
            "Requirement already satisfied: importlib-metadata>=0.20; python_version < \"3.8\" in /usr/local/lib/python3.6/dist-packages (from catalogue<1.1.0,>=0.0.7->spacy>=2.2.2->en_core_web_md==2.2.5) (1.7.0)\n",
            "Requirement already satisfied: urllib3!=1.25.0,!=1.25.1,<1.26,>=1.21.1 in /usr/local/lib/python3.6/dist-packages (from requests<3.0.0,>=2.13.0->spacy>=2.2.2->en_core_web_md==2.2.5) (1.24.3)\n",
            "Requirement already satisfied: idna<3,>=2.5 in /usr/local/lib/python3.6/dist-packages (from requests<3.0.0,>=2.13.0->spacy>=2.2.2->en_core_web_md==2.2.5) (2.10)\n",
            "Requirement already satisfied: chardet<4,>=3.0.2 in /usr/local/lib/python3.6/dist-packages (from requests<3.0.0,>=2.13.0->spacy>=2.2.2->en_core_web_md==2.2.5) (3.0.4)\n",
            "Requirement already satisfied: certifi>=2017.4.17 in /usr/local/lib/python3.6/dist-packages (from requests<3.0.0,>=2.13.0->spacy>=2.2.2->en_core_web_md==2.2.5) (2020.6.20)\n",
            "Requirement already satisfied: zipp>=0.5 in /usr/local/lib/python3.6/dist-packages (from importlib-metadata>=0.20; python_version < \"3.8\"->catalogue<1.1.0,>=0.0.7->spacy>=2.2.2->en_core_web_md==2.2.5) (3.1.0)\n",
            "Building wheels for collected packages: en-core-web-md\n",
            "  Building wheel for en-core-web-md (setup.py) ... \u001b[?25l\u001b[?25hdone\n",
            "  Created wheel for en-core-web-md: filename=en_core_web_md-2.2.5-cp36-none-any.whl size=98051305 sha256=f19aa52aede54caa5fc00f41e29f96786e0a581095ef6ee387c2a31d8bdb2ebc\n",
            "  Stored in directory: /tmp/pip-ephem-wheel-cache-_f4k9uaw/wheels/df/94/ad/f5cf59224cea6b5686ac4fd1ad19c8a07bc026e13c36502d81\n",
            "Successfully built en-core-web-md\n",
            "Installing collected packages: en-core-web-md\n",
            "Successfully installed en-core-web-md-2.2.5\n",
            "\u001b[38;5;2m✔ Download and installation successful\u001b[0m\n",
            "You can now load the model via spacy.load('en_core_web_md')\n"
          ],
          "name": "stdout"
        }
      ]
    },
    {
      "cell_type": "code",
      "metadata": {
        "id": "pS8yPUFyN82D",
        "colab_type": "code",
        "colab": {
          "base_uri": "https://localhost:8080/",
          "height": 33
        },
        "outputId": "745ae6c0-1f97-4bc8-afc2-a37885791fb0"
      },
      "source": [
        "glove = gensim_api.load('glove-wiki-gigaword-300')"
      ],
      "execution_count": null,
      "outputs": [
        {
          "output_type": "stream",
          "text": [
            "[===========================================-------] 87.3% 328.4/376.1MB downloaded"
          ],
          "name": "stdout"
        }
      ]
    },
    {
      "cell_type": "code",
      "metadata": {
        "id": "pOeMHh9p94vc",
        "colab_type": "code",
        "colab": {}
      },
      "source": [
        "# nltk.download('punkt')"
      ],
      "execution_count": null,
      "outputs": []
    },
    {
      "cell_type": "code",
      "metadata": {
        "id": "kHsDWcAUgwJK",
        "colab_type": "code",
        "colab": {
          "base_uri": "https://localhost:8080/",
          "height": 557
        },
        "outputId": "bd300494-523b-4886-c281-1327d0f3c355"
      },
      "source": [
        "!python -m spacy download en_core_web_lg\n",
        "import en_core_web_lg\n",
        "\n",
        "ner = en_core_web_lg.load()"
      ],
      "execution_count": null,
      "outputs": [
        {
          "output_type": "stream",
          "text": [
            "Collecting en_core_web_lg==2.2.5\n",
            "\u001b[?25l  Downloading https://github.com/explosion/spacy-models/releases/download/en_core_web_lg-2.2.5/en_core_web_lg-2.2.5.tar.gz (827.9MB)\n",
            "\u001b[K     |████████████████████████████████| 827.9MB 1.3MB/s \n",
            "\u001b[?25hRequirement already satisfied: spacy>=2.2.2 in /usr/local/lib/python3.6/dist-packages (from en_core_web_lg==2.2.5) (2.2.4)\n",
            "Requirement already satisfied: wasabi<1.1.0,>=0.4.0 in /usr/local/lib/python3.6/dist-packages (from spacy>=2.2.2->en_core_web_lg==2.2.5) (0.7.1)\n",
            "Requirement already satisfied: preshed<3.1.0,>=3.0.2 in /usr/local/lib/python3.6/dist-packages (from spacy>=2.2.2->en_core_web_lg==2.2.5) (3.0.2)\n",
            "Requirement already satisfied: catalogue<1.1.0,>=0.0.7 in /usr/local/lib/python3.6/dist-packages (from spacy>=2.2.2->en_core_web_lg==2.2.5) (1.0.0)\n",
            "Requirement already satisfied: cymem<2.1.0,>=2.0.2 in /usr/local/lib/python3.6/dist-packages (from spacy>=2.2.2->en_core_web_lg==2.2.5) (2.0.3)\n",
            "Requirement already satisfied: tqdm<5.0.0,>=4.38.0 in /usr/local/lib/python3.6/dist-packages (from spacy>=2.2.2->en_core_web_lg==2.2.5) (4.41.1)\n",
            "Requirement already satisfied: blis<0.5.0,>=0.4.0 in /usr/local/lib/python3.6/dist-packages (from spacy>=2.2.2->en_core_web_lg==2.2.5) (0.4.1)\n",
            "Requirement already satisfied: thinc==7.4.0 in /usr/local/lib/python3.6/dist-packages (from spacy>=2.2.2->en_core_web_lg==2.2.5) (7.4.0)\n",
            "Requirement already satisfied: srsly<1.1.0,>=1.0.2 in /usr/local/lib/python3.6/dist-packages (from spacy>=2.2.2->en_core_web_lg==2.2.5) (1.0.2)\n",
            "Requirement already satisfied: plac<1.2.0,>=0.9.6 in /usr/local/lib/python3.6/dist-packages (from spacy>=2.2.2->en_core_web_lg==2.2.5) (1.1.3)\n",
            "Requirement already satisfied: numpy>=1.15.0 in /usr/local/lib/python3.6/dist-packages (from spacy>=2.2.2->en_core_web_lg==2.2.5) (1.18.5)\n",
            "Requirement already satisfied: murmurhash<1.1.0,>=0.28.0 in /usr/local/lib/python3.6/dist-packages (from spacy>=2.2.2->en_core_web_lg==2.2.5) (1.0.2)\n",
            "Requirement already satisfied: setuptools in /usr/local/lib/python3.6/dist-packages (from spacy>=2.2.2->en_core_web_lg==2.2.5) (49.2.0)\n",
            "Requirement already satisfied: requests<3.0.0,>=2.13.0 in /usr/local/lib/python3.6/dist-packages (from spacy>=2.2.2->en_core_web_lg==2.2.5) (2.23.0)\n",
            "Requirement already satisfied: importlib-metadata>=0.20; python_version < \"3.8\" in /usr/local/lib/python3.6/dist-packages (from catalogue<1.1.0,>=0.0.7->spacy>=2.2.2->en_core_web_lg==2.2.5) (1.7.0)\n",
            "Requirement already satisfied: idna<3,>=2.5 in /usr/local/lib/python3.6/dist-packages (from requests<3.0.0,>=2.13.0->spacy>=2.2.2->en_core_web_lg==2.2.5) (2.10)\n",
            "Requirement already satisfied: certifi>=2017.4.17 in /usr/local/lib/python3.6/dist-packages (from requests<3.0.0,>=2.13.0->spacy>=2.2.2->en_core_web_lg==2.2.5) (2020.6.20)\n",
            "Requirement already satisfied: chardet<4,>=3.0.2 in /usr/local/lib/python3.6/dist-packages (from requests<3.0.0,>=2.13.0->spacy>=2.2.2->en_core_web_lg==2.2.5) (3.0.4)\n",
            "Requirement already satisfied: urllib3!=1.25.0,!=1.25.1,<1.26,>=1.21.1 in /usr/local/lib/python3.6/dist-packages (from requests<3.0.0,>=2.13.0->spacy>=2.2.2->en_core_web_lg==2.2.5) (1.24.3)\n",
            "Requirement already satisfied: zipp>=0.5 in /usr/local/lib/python3.6/dist-packages (from importlib-metadata>=0.20; python_version < \"3.8\"->catalogue<1.1.0,>=0.0.7->spacy>=2.2.2->en_core_web_lg==2.2.5) (3.1.0)\n",
            "Building wheels for collected packages: en-core-web-lg\n",
            "  Building wheel for en-core-web-lg (setup.py) ... \u001b[?25l\u001b[?25hdone\n",
            "  Created wheel for en-core-web-lg: filename=en_core_web_lg-2.2.5-cp36-none-any.whl size=829180944 sha256=842acf55e51d4cbf9f06726e60515d15de516366020496527cbcedea320cd5c6\n",
            "  Stored in directory: /tmp/pip-ephem-wheel-cache-956ynuwx/wheels/2a/c1/a6/fc7a877b1efca9bc6a089d6f506f16d3868408f9ff89f8dbfc\n",
            "Successfully built en-core-web-lg\n",
            "Installing collected packages: en-core-web-lg\n",
            "Successfully installed en-core-web-lg-2.2.5\n",
            "\u001b[38;5;2m✔ Download and installation successful\u001b[0m\n",
            "You can now load the model via spacy.load('en_core_web_lg')\n"
          ],
          "name": "stdout"
        }
      ]
    },
    {
      "cell_type": "code",
      "metadata": {
        "id": "DJtwQAYo2_0o",
        "colab_type": "code",
        "colab": {}
      },
      "source": [
        "train = pd.read_csv('train_split.csv')\n",
        "validation = pd.read_csv('validation_split.csv')\n",
        "test = pd.read_csv('https://raw.githubusercontent.com/maxrinal/nlp-disaster/master/test.csv')"
      ],
      "execution_count": null,
      "outputs": []
    },
    {
      "cell_type": "markdown",
      "metadata": {
        "id": "QrNSTUv721qs",
        "colab_type": "text"
      },
      "source": [
        "#DocPreprocess"
      ]
    },
    {
      "cell_type": "markdown",
      "metadata": {
        "id": "9CUgu-qyXwJL",
        "colab_type": "text"
      },
      "source": [
        "DocPreprocess:\n",
        "\n",
        "\n",
        "*   remueve URLs\n",
        "*   remueve menciones\n",
        "*   remueve hashtags\n",
        "*   remueve caracteres especiales\n",
        "*   agrupa las palabras por tipo (sustantivo-adjetivo-verbo)\n",
        "*   remueve tildes\n",
        "*   remueve palabras demasiado cortas (longitud menor o igual a 2)\n",
        "*   remueve las palabras que no sean de algun tipo contenido en \"allowed_postags\"\n",
        "*   aplica lematización\n"
      ]
    },
    {
      "cell_type": "code",
      "metadata": {
        "id": "4TFY2Eka3KNP",
        "colab_type": "code",
        "colab": {}
      },
      "source": [
        "class DocPreprocess:\n",
        "  \n",
        "  def __init__(self,\n",
        "               nlp,\n",
        "               stop_words,\n",
        "               docs,\n",
        "               allowed_postags = ['ADV', 'VERB', 'ADJ','NOUN', 'PROPN', 'NUM'],\n",
        "               lem = True):\n",
        "    \n",
        "    self.nlp = nlp  # spacy nlp object\n",
        "    self.stop_words = stop_words  \n",
        "    self.docs = docs  # docs must be either list or numpy array or series of docs\n",
        "    self.new_docs = []\n",
        "    self.new_docs = [self.remove_URL(doc) for doc in self.docs]\n",
        "    self.new_docs = [self.remove_mention(doc) for doc in self.new_docs]\n",
        "    self.new_docs = [self.remove_hashtags(doc) for doc in self.new_docs]\n",
        "    self.new_docs = [self.remove_special_characters(doc) for doc in self.new_docs]\n",
        "    self.nouns = [self.get_only_words(doc,['NOUN','PROPN']) for doc in self.new_docs]\n",
        "    self.adjetives = [self.get_only_words(doc,['ADJ']) for doc in self.new_docs]\n",
        "    self.verbs = [self.get_only_words(doc,['VERB','AUX']) for doc in self.new_docs]\n",
        "    self.simple_doc_tokens = [gensim.utils.simple_preprocess(doc,min_len = 3 ,max_len = 15, deacc=True) for doc in self.new_docs]\n",
        "    self.new_docs = self.make_simple_doc(self.simple_doc_tokens)\n",
        "    if (lem): self.new_docs = [self.lemmatize(doc, allowed_postags=allowed_postags) for doc in self.new_docs]\n",
        "\n",
        "  def get_only_words(self,doc,word_types):\n",
        "    text = nlp(doc)\n",
        "    wanted_words = []\n",
        "    for token in text:\n",
        "      if (token.pos_ in word_types): wanted_words.append(token.lemma_)\n",
        "    return wanted_words\n",
        "\n",
        "  def make_simple_doc(self, simple_doc_tokens):\n",
        "    simple_docs = []\n",
        "    for doc_tokens in simple_doc_tokens:\n",
        "      simple = \" \".join(doc_tokens)  # concatenate back to a sentence\n",
        "      simple_docs.append(simple)\n",
        "    return simple_docs\n",
        "\n",
        "  def remove_hashtags(self,doc):\n",
        "    split_doc = doc.split(' ')\n",
        "    for w in split_doc:\n",
        "      if ('#' in w): split_doc.remove(w)\n",
        "    return ' '.join(split_doc)\n",
        "\t\n",
        "  def remove_special_characters(self,doc):\n",
        "    return doc.replace('\\n', ' ').replace('å', ' ').replace('ê', ' ').replace('û', ' ').replace('[^\\w\\s]',' ').replace('÷', ' ').replace('ª', ' ').replace('ì', ' ').replace('¢', ' ').replace('\\x89', ' ').replace('\\x9d', ' ').replace('ã', ' ').replace('ï', ' ').replace('©', ' ').replace('ó', ' ').replace('ò', ' ').replace('â', ' ').replace('\\x9b', ' ').replace('\\x8a', ' ').replace('\\x93', ' ').replace('\\x8f', ' ')\\\n",
        "             .replace('\\x8c', ' ').replace('¼', ' ').replace('¥', ' ').replace('\\x92', ' ').replace('·', ' ').replace('\\x82', ' ').replace('Û', ' ').replace('Ó', ' ').replace('Ê', ' ').replace('Ï', ' ')\n",
        "\n",
        "  def remove_URL(self,doc):\n",
        "    url = re.compile(r'https?://\\S+|www\\.\\S+')\n",
        "    return url.sub(r'',str(doc))\n",
        "\t\n",
        "  def remove_mention(self,doc):\n",
        "    without_mention = []\n",
        "    for w in doc.split(' '):\n",
        "      if ('@' not in w):\n",
        "        without_mention.append(w)\n",
        "    return ' '.join(without_mention)\n",
        "\n",
        "  def lemmatize(self, doc, allowed_postags):\n",
        "    doc = self.nlp(str(doc))\n",
        "    tokens = [token.lemma_ for token in doc if (\n",
        "        token.pos_ in allowed_postags) and (token.text not in self.stop_words)]\n",
        "    return ' '.join(tokens)\n"
      ],
      "execution_count": null,
      "outputs": []
    },
    {
      "cell_type": "code",
      "metadata": {
        "id": "DpZEiuLcOUx0",
        "colab_type": "code",
        "colab": {}
      },
      "source": [
        "train_text_preprocess = DocPreprocess(nlp,stop_words,train.text)\n",
        "validation_text_preprocess = DocPreprocess(nlp,stop_words,validation.text)\n",
        "test_text_preprocess = DocPreprocess(nlp,stop_words,test.text)\n",
        "\n",
        "train['clean_text'] = train_text_preprocess.new_docs\n",
        "validation['clean_text'] = validation_text_preprocess.new_docs\n",
        "test['clean_text'] = test_text_preprocess.new_docs\n",
        "\n",
        "train['nouns'] = train_text_preprocess.nouns\n",
        "validation['nouns'] = validation_text_preprocess.nouns\n",
        "test['nouns'] = test_text_preprocess.nouns\n",
        "\n",
        "train['adjetives'] = train_text_preprocess.adjetives\n",
        "validation['adjetives'] = validation_text_preprocess.adjetives\n",
        "test['adjetives'] = test_text_preprocess.adjetives\n",
        "\n",
        "train['verbs'] = train_text_preprocess.verbs\n",
        "validation['verbs'] = validation_text_preprocess.verbs\n",
        "test['verbs'] = test_text_preprocess.verbs"
      ],
      "execution_count": null,
      "outputs": []
    },
    {
      "cell_type": "code",
      "metadata": {
        "id": "z9W8yme7soL7",
        "colab_type": "code",
        "colab": {}
      },
      "source": [
        "train['clean_keyword'] = train.keyword.apply(lambda x: ' '.join(gensim.utils.simple_preprocess(str(x),min_len = 0 ,max_len = 15, deacc=True)))\n",
        "validation['clean_keyword'] = validation.keyword.apply(lambda x: ' '.join(gensim.utils.simple_preprocess(str(x),min_len = 0 ,max_len = 15, deacc=True)))\n",
        "test['clean_keyword'] = test.keyword.apply(lambda x: ' '.join(gensim.utils.simple_preprocess(str(x),min_len = 0 ,max_len = 15, deacc=True)))"
      ],
      "execution_count": null,
      "outputs": []
    },
    {
      "cell_type": "markdown",
      "metadata": {
        "id": "hNWmM06fb4WQ",
        "colab_type": "text"
      },
      "source": [
        "#Misspelling"
      ]
    },
    {
      "cell_type": "markdown",
      "metadata": {
        "id": "vWDl2x9uZu0L",
        "colab_type": "text"
      },
      "source": [
        "* Creo un features a partir de la cantidad de palabras escritas incorrectamente en ingles (desconocidas).\n",
        "\n",
        "* Luego utilizando la distancia de Levenshtein creo un feature que busca representar cuan mal estan escritas las palabras\n",
        "\n",
        "* Por ultimo intento corregir el campo text con el objetivo de que cada palabra se encuentre en el vocabulario de GloVe"
      ]
    },
    {
      "cell_type": "code",
      "metadata": {
        "id": "TSfwOMtHb6Vu",
        "colab_type": "code",
        "colab": {}
      },
      "source": [
        "def misspelled_word(corrector,doc):\n",
        "  words = doc.split(' ')\n",
        "  return (len(list(corrector.unknown(words))))\n",
        "\n",
        "def correct_text(corrector,text):\n",
        "  words = []\n",
        "  for word in text.split(' '):\n",
        "    words.append(corrector.correction(word))\n",
        "  return ' '.join(words)\n",
        "\n",
        "def count_misspelling(corrector,doc):\n",
        "  words = corrector.unknown(doc.split(' '))\n",
        "  distance = 0\n",
        "  for word in words:\n",
        "    distance_aux = distance_levenshtein(word,corrector.correction(word))\n",
        "    #Si pasa esto es porque no reconoce la palabra y no puede corregirla \n",
        "    if (distance_aux == 0): distance = distance + len(word)\n",
        "    else: distance = distance + distance_aux\n",
        "  return distance\n",
        "\n",
        "def distance_levenshtein(str1, str2):\n",
        "  d=dict()\n",
        "  for i in range(len(str1)+1):\n",
        "     d[i]=dict()\n",
        "     d[i][0]=i\n",
        "  for i in range(len(str2)+1):\n",
        "     d[0][i] = i\n",
        "  for i in range(1, len(str1)+1):\n",
        "     for j in range(1, len(str2)+1):\n",
        "        d[i][j] = min(d[i][j-1]+1, d[i-1][j]+1, d[i-1][j-1]+(not str1[i-1] == str2[j-1]))\n",
        "  return d[len(str1)][len(str2)]"
      ],
      "execution_count": null,
      "outputs": []
    },
    {
      "cell_type": "code",
      "metadata": {
        "id": "8gXe9mTub9UJ",
        "colab_type": "code",
        "colab": {}
      },
      "source": [
        "train['misspelling_count'] = train['clean_text'].apply(lambda x: count_misspelling(spell,x))\n",
        "validation['misspelling_count'] = validation['clean_text'].apply(lambda x: count_misspelling(spell,x))\n",
        "test['misspelling_count'] = test['clean_text'].apply(lambda x: count_misspelling(spell,x))\n",
        "\n",
        "train['misspelled_word'] = train['clean_text'].apply(lambda x: misspelled_word(spell,x))\n",
        "validation['misspelled_word'] = validation['clean_text'].apply(lambda x: misspelled_word(spell,x))\n",
        "test['misspelled_word'] = test['clean_text'].apply(lambda x: misspelled_word(spell,x))"
      ],
      "execution_count": null,
      "outputs": []
    },
    {
      "cell_type": "markdown",
      "metadata": {
        "id": "p-VDV91wV0eT",
        "colab_type": "text"
      },
      "source": [
        "Intento corregir las palabras mal escritas"
      ]
    },
    {
      "cell_type": "code",
      "metadata": {
        "id": "xeNiexifdJcU",
        "colab_type": "code",
        "colab": {}
      },
      "source": [
        "train['clean_text'] = train.clean_text.apply(lambda x: correct_text(spell,x))\n",
        "validation['clean_text'] = validation.clean_text.apply(lambda x: correct_text(spell,x))\n",
        "test['clean_text'] = test.clean_text.apply(lambda x: correct_text(spell,x))"
      ],
      "execution_count": null,
      "outputs": []
    },
    {
      "cell_type": "markdown",
      "metadata": {
        "id": "Zp4uUlY3XciO",
        "colab_type": "text"
      },
      "source": [
        "#Length Analysis\n",
        "\n",
        "**word count**: número de palabras en el campo text (separadas por espacio)\n",
        "\n",
        "**character count**: cantidad de caracteres (sin contar espacios)\n",
        "\n",
        "**sentence count**: cantidad de oraciones (separadas por punto)\n",
        "\n",
        "**average word length**: cantidad de caracteres divido cantidad de palabras\n",
        "\n",
        "**average sentence length**: cantidad de palabras sobre cantidad de oraciones"
      ]
    },
    {
      "cell_type": "code",
      "metadata": {
        "id": "wJYmCbg8Xh_g",
        "colab_type": "code",
        "colab": {}
      },
      "source": [
        "def word_count(doc):\n",
        "  return (len(doc.split(' ')))\n",
        "\n",
        "def character_count(doc):\n",
        "  return (len(doc.replace(' ','')))\n",
        "\n",
        "def sentence_count(doc):\n",
        "  return (len(doc.split('.')))"
      ],
      "execution_count": null,
      "outputs": []
    },
    {
      "cell_type": "code",
      "metadata": {
        "id": "MGj2tIJDYtZi",
        "colab_type": "code",
        "colab": {}
      },
      "source": [
        "train['word_count'] = train.text.apply(lambda x: word_count(x) if x.strip() != '' else 0)\n",
        "validation['word_count'] = validation.text.apply(lambda x: word_count(x) if x.strip() != '' else 0)\n",
        "test['word_count'] = test.text.apply(lambda x: word_count(x) if x.strip() != '' else 0)\n",
        "\n",
        "train['clean_word_count'] = train.clean_text.apply(lambda x: word_count(x) if x.strip() != '' else 0)\n",
        "validation['clean_word_count'] = validation.clean_text.apply(lambda x: word_count(x) if x.strip() != '' else 0)\n",
        "test['clean_word_count'] = test.clean_text.apply(lambda x: word_count(x) if x.strip() != '' else 0)"
      ],
      "execution_count": null,
      "outputs": []
    },
    {
      "cell_type": "code",
      "metadata": {
        "id": "qVbNtKWOZf7_",
        "colab_type": "code",
        "colab": {}
      },
      "source": [
        "train['char_count'] = train.text.apply(lambda x: character_count(x) if x.strip() != '' else 0)\n",
        "validation['char_count'] = validation.text.apply(lambda x: character_count(x) if x.strip() != '' else 0)\n",
        "test['char_count'] = test.text.apply(lambda x: character_count(x) if x.strip() != '' else 0)\n",
        "\n",
        "train['clean_char_count'] = train.clean_text.apply(lambda x: character_count(x) if x.strip() != '' else 0)\n",
        "validation['clean_char_count'] = validation.clean_text.apply(lambda x: character_count(x) if x.strip() != '' else 0)\n",
        "test['clean_char_count'] = test.clean_text.apply(lambda x: character_count(x) if x.strip() != '' else 0)"
      ],
      "execution_count": null,
      "outputs": []
    },
    {
      "cell_type": "code",
      "metadata": {
        "id": "6pr62rqvZ1Fk",
        "colab_type": "code",
        "colab": {}
      },
      "source": [
        "train['sentence_count'] = train.text.apply(lambda x: sentence_count(x) if x.strip() != '' else 0)\n",
        "validation['sentence_count'] = validation.text.apply(lambda x: sentence_count(x) if x.strip() != '' else 0)\n",
        "test['sentence_count'] = test.text.apply(lambda x: sentence_count(x) if x.strip() != '' else 0)"
      ],
      "execution_count": null,
      "outputs": []
    },
    {
      "cell_type": "code",
      "metadata": {
        "id": "Dpm9hbRba24s",
        "colab_type": "code",
        "colab": {}
      },
      "source": [
        "train['avg_word_length'] = train['char_count'] / train['word_count']\n",
        "validation['avg_word_length'] = validation['char_count'] / validation['word_count']\n",
        "test['avg_word_length'] = test['char_count'] / test['word_count']\n",
        "\n",
        "train['avg_clean_word_length'] = train.apply(lambda x: ((x['clean_char_count'])/(x['clean_word_count']) if x['clean_word_count'] != 0 else 0), axis = 1)\n",
        "validation['avg_clean_word_length'] = validation.apply(lambda x: ((x['clean_char_count'])/(x['clean_word_count']) if x['clean_word_count'] != 0 else 0), axis = 1)\n",
        "test['avg_clean_word_length'] = test.apply(lambda x: ((x['clean_char_count'])/(x['clean_word_count']) if x['clean_word_count'] != 0 else 0), axis = 1)\n",
        "\n",
        "train['avg_sentence_lenght'] = train['word_count'] / train['sentence_count']\n",
        "validation['avg_sentence_lenght'] = validation['word_count'] / validation['sentence_count']\n",
        "test['avg_sentence_lenght'] = test['word_count'] / test['sentence_count']"
      ],
      "execution_count": null,
      "outputs": []
    },
    {
      "cell_type": "code",
      "metadata": {
        "id": "zpR4EO2QbGOk",
        "colab_type": "code",
        "colab": {
          "base_uri": "https://localhost:8080/",
          "height": 503
        },
        "outputId": "0d597e0e-be61-43fa-d3b3-b334cf7a53b2"
      },
      "source": [
        "train.sample(5)"
      ],
      "execution_count": null,
      "outputs": [
        {
          "output_type": "execute_result",
          "data": {
            "text/html": [
              "<div>\n",
              "<style scoped>\n",
              "    .dataframe tbody tr th:only-of-type {\n",
              "        vertical-align: middle;\n",
              "    }\n",
              "\n",
              "    .dataframe tbody tr th {\n",
              "        vertical-align: top;\n",
              "    }\n",
              "\n",
              "    .dataframe thead th {\n",
              "        text-align: right;\n",
              "    }\n",
              "</style>\n",
              "<table border=\"1\" class=\"dataframe\">\n",
              "  <thead>\n",
              "    <tr style=\"text-align: right;\">\n",
              "      <th></th>\n",
              "      <th>id</th>\n",
              "      <th>keyword</th>\n",
              "      <th>location</th>\n",
              "      <th>text</th>\n",
              "      <th>target</th>\n",
              "      <th>clean_text</th>\n",
              "      <th>nouns</th>\n",
              "      <th>adjetives</th>\n",
              "      <th>verbs</th>\n",
              "      <th>clean_keyword</th>\n",
              "      <th>misspelling_count</th>\n",
              "      <th>misspelled_word</th>\n",
              "      <th>word_count</th>\n",
              "      <th>clean_word_count</th>\n",
              "      <th>char_count</th>\n",
              "      <th>clean_char_count</th>\n",
              "      <th>sentence_count</th>\n",
              "      <th>avg_word_length</th>\n",
              "      <th>avg_clean_word_length</th>\n",
              "      <th>avg_sentence_lenght</th>\n",
              "    </tr>\n",
              "  </thead>\n",
              "  <tbody>\n",
              "    <tr>\n",
              "      <th>1186</th>\n",
              "      <td>2134</td>\n",
              "      <td>catastrophe</td>\n",
              "      <td>NaN</td>\n",
              "      <td>#spark #song Ultimate #preparedness library: h...</td>\n",
              "      <td>0</td>\n",
              "      <td>song ultimate library prepare catastrophe</td>\n",
              "      <td>[song, Ultimate, library, Catastrophe]</td>\n",
              "      <td>[]</td>\n",
              "      <td>[prepare]</td>\n",
              "      <td>catastrophe</td>\n",
              "      <td>0</td>\n",
              "      <td>0</td>\n",
              "      <td>13</td>\n",
              "      <td>5</td>\n",
              "      <td>121</td>\n",
              "      <td>37</td>\n",
              "      <td>4</td>\n",
              "      <td>9.307692</td>\n",
              "      <td>7.400000</td>\n",
              "      <td>3.25</td>\n",
              "    </tr>\n",
              "    <tr>\n",
              "      <th>634</th>\n",
              "      <td>1164</td>\n",
              "      <td>blight</td>\n",
              "      <td>Scotland</td>\n",
              "      <td>LIKE I SWEAR THE SECRET WE'LL UNCOVER IS THE O...</td>\n",
              "      <td>0</td>\n",
              "      <td>swear secret uncover old god slumber think s g...</td>\n",
              "      <td>[SECRET, WE'LL, gods, slumber, THERES, blight]</td>\n",
              "      <td>[old]</td>\n",
              "      <td>[swear, UNCOVER, be, think, gonna, be]</td>\n",
              "      <td>blight</td>\n",
              "      <td>0</td>\n",
              "      <td>0</td>\n",
              "      <td>21</td>\n",
              "      <td>10</td>\n",
              "      <td>86</td>\n",
              "      <td>45</td>\n",
              "      <td>2</td>\n",
              "      <td>4.095238</td>\n",
              "      <td>4.500000</td>\n",
              "      <td>10.50</td>\n",
              "    </tr>\n",
              "    <tr>\n",
              "      <th>3856</th>\n",
              "      <td>6844</td>\n",
              "      <td>loud%20bang</td>\n",
              "      <td>Kenya</td>\n",
              "      <td>matako_milk: Breaking news! Unconfirmed! I jus...</td>\n",
              "      <td>0</td>\n",
              "      <td>matako_milk breaking news unconfirmed hear lou...</td>\n",
              "      <td>[matako_milk, news, bang, blast, wind, neighbo...</td>\n",
              "      <td>[unconfirmed, loud]</td>\n",
              "      <td>[break, hear, appear, be]</td>\n",
              "      <td>loud bang</td>\n",
              "      <td>12</td>\n",
              "      <td>2</td>\n",
              "      <td>24</td>\n",
              "      <td>13</td>\n",
              "      <td>113</td>\n",
              "      <td>79</td>\n",
              "      <td>3</td>\n",
              "      <td>4.708333</td>\n",
              "      <td>6.076923</td>\n",
              "      <td>8.00</td>\n",
              "    </tr>\n",
              "    <tr>\n",
              "      <th>1502</th>\n",
              "      <td>2694</td>\n",
              "      <td>crush</td>\n",
              "      <td>Everywhere</td>\n",
              "      <td>tiffanyfrizzell has a crush: http://t.co/RaF73...</td>\n",
              "      <td>0</td>\n",
              "      <td>tiffanyfrizzell crush</td>\n",
              "      <td>[tiffanyfrizzell, crush]</td>\n",
              "      <td>[]</td>\n",
              "      <td>[have]</td>\n",
              "      <td>crush</td>\n",
              "      <td>15</td>\n",
              "      <td>1</td>\n",
              "      <td>5</td>\n",
              "      <td>2</td>\n",
              "      <td>47</td>\n",
              "      <td>20</td>\n",
              "      <td>2</td>\n",
              "      <td>9.400000</td>\n",
              "      <td>10.000000</td>\n",
              "      <td>2.50</td>\n",
              "    </tr>\n",
              "    <tr>\n",
              "      <th>2008</th>\n",
              "      <td>3603</td>\n",
              "      <td>desolation</td>\n",
              "      <td>Houston, Texas !</td>\n",
              "      <td>Photoset: littlebitofbass: silinski: Ed Sheera...</td>\n",
              "      <td>0</td>\n",
              "      <td>photos littlebitofbass silinski sheehan hobbit...</td>\n",
              "      <td>[Photoset, littlebitofbass, silinski, Ed, Shee...</td>\n",
              "      <td>[german]</td>\n",
              "      <td>[]</td>\n",
              "      <td>desolation</td>\n",
              "      <td>27</td>\n",
              "      <td>5</td>\n",
              "      <td>14</td>\n",
              "      <td>9</td>\n",
              "      <td>118</td>\n",
              "      <td>70</td>\n",
              "      <td>5</td>\n",
              "      <td>8.428571</td>\n",
              "      <td>7.777778</td>\n",
              "      <td>2.80</td>\n",
              "    </tr>\n",
              "  </tbody>\n",
              "</table>\n",
              "</div>"
            ],
            "text/plain": [
              "        id      keyword  ... avg_clean_word_length avg_sentence_lenght\n",
              "1186  2134  catastrophe  ...              7.400000                3.25\n",
              "634   1164       blight  ...              4.500000               10.50\n",
              "3856  6844  loud%20bang  ...              6.076923                8.00\n",
              "1502  2694        crush  ...             10.000000                2.50\n",
              "2008  3603   desolation  ...              7.777778                2.80\n",
              "\n",
              "[5 rows x 20 columns]"
            ]
          },
          "metadata": {
            "tags": []
          },
          "execution_count": 28
        }
      ]
    },
    {
      "cell_type": "code",
      "metadata": {
        "id": "ikimXWr8bMee",
        "colab_type": "code",
        "colab": {
          "base_uri": "https://localhost:8080/",
          "height": 553
        },
        "outputId": "fd956516-7cf1-495b-8507-0cd6ab012709"
      },
      "source": [
        "x = 'char_count'\n",
        "y = 'target'\n",
        "\n",
        "fig, ax = plt.subplots(nrows=1, ncols=2,figsize = (18,8))\n",
        "fig.suptitle(x, fontsize=12)\n",
        "for i in train[y].unique():\n",
        "    sns.distplot(train[train[y]==i][x], hist=True, kde=False, \n",
        "                 bins=10, hist_kws={\"alpha\":0.8}, \n",
        "                 axlabel=\"histogram\", ax=ax[0])\n",
        "    sns.distplot(train[train[y]==i][x], hist=False, kde=True, \n",
        "                 kde_kws={\"shade\":True}, axlabel=\"density\",   \n",
        "                 ax=ax[1])\n",
        "ax[0].grid(True)\n",
        "ax[0].legend(train[y].unique())\n",
        "ax[1].grid(True)\n",
        "plt.show()"
      ],
      "execution_count": null,
      "outputs": [
        {
          "output_type": "display_data",
          "data": {
            "image/png": "[encoded data removed]",
            "text/plain": [
              "<Figure size 1296x576 with 2 Axes>"
            ]
          },
          "metadata": {
            "tags": [],
            "needs_background": "light"
          }
        }
      ]
    },
    {
      "cell_type": "code",
      "metadata": {
        "id": "oSyCkaehc6d3",
        "colab_type": "code",
        "colab": {
          "base_uri": "https://localhost:8080/",
          "height": 553
        },
        "outputId": "a7ad364c-7be1-4fb5-fb24-e0481cabcee0"
      },
      "source": [
        "x = 'avg_word_length'\n",
        "y = 'target'\n",
        "\n",
        "fig, ax = plt.subplots(nrows=1, ncols=2,figsize = (18,8))\n",
        "fig.suptitle(x, fontsize=12)\n",
        "for i in train[y].unique():\n",
        "    sns.distplot(train[train[y]==i][x], hist=True, kde=False, \n",
        "                 bins=10, hist_kws={\"alpha\":0.8}, \n",
        "                 axlabel=\"histogram\", ax=ax[0])\n",
        "    sns.distplot(train[train[y]==i][x], hist=False, kde=True, \n",
        "                 kde_kws={\"shade\":True}, axlabel=\"density\",   \n",
        "                 ax=ax[1])\n",
        "ax[0].grid(True)\n",
        "ax[0].legend(train[y].unique())\n",
        "ax[1].grid(True)\n",
        "plt.show()"
      ],
      "execution_count": null,
      "outputs": [
        {
          "output_type": "display_data",
          "data": {
            "image/png": "[encoded data removed]",
            "text/plain": [
              "<Figure size 1296x576 with 2 Axes>"
            ]
          },
          "metadata": {
            "tags": [],
            "needs_background": "light"
          }
        }
      ]
    },
    {
      "cell_type": "code",
      "metadata": {
        "id": "HhlSL7sEdEvv",
        "colab_type": "code",
        "colab": {
          "base_uri": "https://localhost:8080/",
          "height": 553
        },
        "outputId": "8cf6f1e6-8b29-41fc-c78a-7d0e7c85f1f9"
      },
      "source": [
        "x = 'word_count'\n",
        "y = 'target'\n",
        "\n",
        "fig, ax = plt.subplots(nrows=1, ncols=2,figsize = (18,8))\n",
        "fig.suptitle(x, fontsize=12)\n",
        "for i in train[y].unique():\n",
        "    sns.distplot(train[train[y]==i][x], hist=True, kde=False, \n",
        "                 bins=10, hist_kws={\"alpha\":0.8}, \n",
        "                 axlabel=\"histogram\", ax=ax[0])\n",
        "    sns.distplot(train[train[y]==i][x], hist=False, kde=True, \n",
        "                 kde_kws={\"shade\":True}, axlabel=\"density\",   \n",
        "                 ax=ax[1])\n",
        "ax[0].grid(True)\n",
        "ax[0].legend(train[y].unique())\n",
        "ax[1].grid(True)\n",
        "plt.show()"
      ],
      "execution_count": null,
      "outputs": [
        {
          "output_type": "display_data",
          "data": {
            "image/png": "[encoded data removed]",
            "text/plain": [
              "<Figure size 1296x576 with 2 Axes>"
            ]
          },
          "metadata": {
            "tags": [],
            "needs_background": "light"
          }
        }
      ]
    },
    {
      "cell_type": "markdown",
      "metadata": {
        "id": "_5GUAHRedjV5",
        "colab_type": "text"
      },
      "source": [
        "#Sentiment Analysis\n",
        "\n",
        "-1 < sentiment.polarity < 1, tal que :\n",
        "\n",
        "Positive: sentiment.polarity > 0\n",
        "\n",
        "Neutral: sentiment.polarity = 0\n",
        "\n",
        "Negative: sentiment.polarity < 0\n",
        "\n"
      ]
    },
    {
      "cell_type": "code",
      "metadata": {
        "id": "Dx0n5CmmeAqU",
        "colab_type": "code",
        "colab": {}
      },
      "source": [
        "train['sentiment'] = train.text.apply(lambda x: TextBlob(x).sentiment.polarity)\n",
        "validation['sentiment'] = validation.text.apply(lambda x: TextBlob(x).sentiment.polarity)\n",
        "test['sentiment'] = test.text.apply(lambda x: TextBlob(x).sentiment.polarity)"
      ],
      "execution_count": null,
      "outputs": []
    },
    {
      "cell_type": "code",
      "metadata": {
        "id": "daGMQi9xezPH",
        "colab_type": "code",
        "colab": {
          "base_uri": "https://localhost:8080/",
          "height": 553
        },
        "outputId": "38387932-1e94-4ae0-8280-7f13561817f1"
      },
      "source": [
        "x = 'sentiment'\n",
        "y = 'target'\n",
        "\n",
        "fig, ax = plt.subplots(nrows=1, ncols=2,figsize = (18,8))\n",
        "fig.suptitle(x, fontsize=12)\n",
        "for i in train[y].unique():\n",
        "    sns.distplot(train[train[y]==i][x], hist=True, kde=False, \n",
        "                 bins=10, hist_kws={\"alpha\":0.8}, \n",
        "                 axlabel=\"histogram\", ax=ax[0])\n",
        "    sns.distplot(train[train[y]==i][x], hist=False, kde=True, \n",
        "                 kde_kws={\"shade\":True}, axlabel=\"density\",   \n",
        "                 ax=ax[1])\n",
        "ax[0].grid(True)\n",
        "ax[0].legend(train[y].unique())\n",
        "ax[1].grid(True)\n",
        "plt.show()\n",
        "\n",
        "#La mayoria de los tweets presentan \"neutral sentiments\""
      ],
      "execution_count": null,
      "outputs": [
        {
          "output_type": "display_data",
          "data": {
            "image/png": "[encoded data removed]",
            "text/plain": [
              "<Figure size 1296x576 with 2 Axes>"
            ]
          },
          "metadata": {
            "tags": [],
            "needs_background": "light"
          }
        }
      ]
    },
    {
      "cell_type": "markdown",
      "metadata": {
        "id": "UGIQ3ZCpfepT",
        "colab_type": "text"
      },
      "source": [
        "# Named-Entity Recognition (NER)\n",
        "\n",
        "**SpaCy model en_core_web_lg** (the large model for English trained on web data) \n",
        "\n",
        "Busco términos particulares que representan entidades específicas que son más informativas y tienen un contexto único. Estas se refieren más específicamente a términos que representan objetos del mundo real como personas, lugares, organizaciones, etc, que a menudo se denotan con nombres propios.\n",
        "\n",
        "Una vez encontrados, cuento la cantidad de entidades de cada tipo, encontradas en cada tweet"
      ]
    },
    {
      "cell_type": "code",
      "metadata": {
        "id": "mWbDxIHiyRTm",
        "colab_type": "code",
        "colab": {}
      },
      "source": [
        "TAGS = ['PERSON','NORP','FAC','ORG','GPE','LOC','PRODUCT','EVENT','WORK_OF_ART','LAW','LANGUAGE','DATE','TIME','PERCENT','MONEY','QUANTITY','ORDINAL','CARDINAL']\n",
        "\n",
        "for tag in TAGS:\n",
        "  train[tag] = 0\n",
        "  validation[tag] =0\n",
        "  test[tag] = 0"
      ],
      "execution_count": null,
      "outputs": []
    },
    {
      "cell_type": "code",
      "metadata": {
        "id": "HvZ8yzBZfd1S",
        "colab_type": "code",
        "colab": {}
      },
      "source": [
        "train['tags'] = train.clean_text.apply(lambda x: [(tag.text, tag.label_) for tag in ner(x).ents])\n",
        "validation['tags'] = validation.clean_text.apply(lambda x: [(tag.text, tag.label_) for tag in ner(x).ents])\n",
        "test['tags'] = test.clean_text.apply(lambda x: [(tag.text, tag.label_) for tag in ner(x).ents])"
      ],
      "execution_count": null,
      "outputs": []
    },
    {
      "cell_type": "code",
      "metadata": {
        "id": "1xQde4EOwdYq",
        "colab_type": "code",
        "colab": {}
      },
      "source": [
        "# utils function to count the element of a list\n",
        "import collections\n",
        "def utils_lst_count(lst):\n",
        "    dic_counter = collections.Counter()\n",
        "    for x in lst:\n",
        "        dic_counter[x] += 1\n",
        "    dic_counter = collections.OrderedDict( \n",
        "                     sorted(dic_counter.items(), \n",
        "                     key=lambda x: x[1], reverse=True))\n",
        "    lst_count = [ {key:value} for key,value in dic_counter.items() ]\n",
        "    return lst_count\n"
      ],
      "execution_count": null,
      "outputs": []
    },
    {
      "cell_type": "code",
      "metadata": {
        "id": "P0o0WYfYvExJ",
        "colab_type": "code",
        "colab": {}
      },
      "source": [
        "#count tags\n",
        "train['tags'] = train['tags'].apply(lambda x: utils_lst_count(x))\n",
        "validation['tags'] = validation['tags'].apply(lambda x: utils_lst_count(x))\n",
        "test['tags'] = test['tags'].apply(lambda x: utils_lst_count(x))"
      ],
      "execution_count": null,
      "outputs": []
    },
    {
      "cell_type": "code",
      "metadata": {
        "id": "XogzFAnBxTIo",
        "colab_type": "code",
        "colab": {}
      },
      "source": [
        "# utils function create new column for each tag category\n",
        "def utils_ner_features(lst_dics_tuples, tag):\n",
        "    if (len(lst_dics_tuples) > 0):\n",
        "        tag_type = []\n",
        "        for dic_tuples in lst_dics_tuples:\n",
        "            for tuple in dic_tuples:\n",
        "                type, n = tuple[1], dic_tuples[tuple]\n",
        "                tag_type = tag_type + [type]*n\n",
        "                dic_counter = collections.Counter()\n",
        "                for x in tag_type:\n",
        "                    dic_counter[x] += 1\n",
        "        return dic_counter[tag]\n",
        "    else:\n",
        "        return 0\n",
        "\n",
        "# extract features - train\n",
        "tags_set_train = []\n",
        "for lst in train['tags'].tolist():\n",
        "     for dic in lst:\n",
        "          for k in dic.keys():\n",
        "              tags_set_train.append(k[1])\n",
        "tags_set_train = list(set(tags_set_train))\n",
        "for feature in tags_set_train:\n",
        "     train[feature] = train['tags'].apply(lambda x: utils_ner_features(x, feature))\n",
        "\n",
        "# extract features - validation\n",
        "tags_set_validation = []\n",
        "for lst in validation['tags'].tolist():\n",
        "     for dic in lst:\n",
        "          for k in dic.keys():\n",
        "              tags_set_validation.append(k[1])\n",
        "tags_set_validation = list(set(tags_set_validation))\n",
        "for feature in tags_set_validation:\n",
        "     validation[feature] = validation['tags'].apply(lambda x: utils_ner_features(x, feature))\n",
        "\n",
        "# extract features - test\n",
        "tags_set_test = []\n",
        "for lst in test['tags'].tolist():\n",
        "     for dic in lst:\n",
        "          for k in dic.keys():\n",
        "              tags_set_test.append(k[1])\n",
        "tags_set_test = list(set(tags_set_test))\n",
        "for feature in tags_set_test:\n",
        "     test[feature] = test['tags'].apply(lambda x: utils_ner_features(x, feature))"
      ],
      "execution_count": null,
      "outputs": []
    },
    {
      "cell_type": "markdown",
      "metadata": {
        "id": "O3wmg-UR6yes",
        "colab_type": "text"
      },
      "source": [
        "#Word Frequency\n",
        "\n",
        "Busco extraer los unigramas y bigramas unicos mas representativos para cada clase de tweet (0/1)\n"
      ]
    },
    {
      "cell_type": "code",
      "metadata": {
        "id": "qO4Zy42261A4",
        "colab_type": "code",
        "colab": {
          "base_uri": "https://localhost:8080/",
          "height": 353
        },
        "outputId": "026b8668-bcf0-46f1-ea06-347096c89dcf"
      },
      "source": [
        "y = 'target' \n",
        "\n",
        "corpus_target1 = train[train[y] == 1]['clean_text']\n",
        "lst_tokens = nltk.tokenize.word_tokenize (corpus_target1.str.cat (sep = '')) \n",
        "fig, ax = plt.subplots(nrows = 1, ncols = 2,figsize = (22,5)) \n",
        "fig.suptitle('Most frequent words (TARGET = 1)', fontsize = 15) \n",
        "    \n",
        "## unigrams\n",
        "dic_words_freq_target1 = nltk.FreqDist (lst_tokens) \n",
        "dtf_uni_target1 = pd.DataFrame(dic_words_freq_target1.most_common (), columns = ['Word', 'Freq']) \n",
        "dtf_uni_target1.set_index('Word').iloc [:10 ,: ].sort_values('Freq').plot(kind = 'barh', title = 'Unigrams', ax = ax [0], legend = False)\n",
        "ax[0].grid (axis = 'x') \n",
        "ax[0].set(ylabel = None) \n",
        "    \n",
        "## bigrams\n",
        "dic_words_freq_target1 = nltk.FreqDist (nltk.ngrams (lst_tokens, 2)) \n",
        "dtf_bi_target1 = pd.DataFrame (dic_words_freq_target1.most_common (),columns = ['Word', 'Freq']) \n",
        "dtf_bi_target1 ['Word'] = dtf_bi_target1['Word'].apply(lambda x: ' '.join (string for string in x)) \n",
        "dtf_bi_target1.set_index('Word').iloc [:10,:].sort_values('Freq').plot(kind = 'barh', title = 'Bigrams', ax = ax[1], legend = False) \n",
        "ax[1].set(ylabel = None)\n",
        "ax[1].grid(axis = 'x')\n",
        "plt.show ()"
      ],
      "execution_count": null,
      "outputs": [
        {
          "output_type": "display_data",
          "data": {
            "image/png": "[encoded data removed]",
            "text/plain": [
              "<Figure size 1584x360 with 2 Axes>"
            ]
          },
          "metadata": {
            "tags": [],
            "needs_background": "light"
          }
        }
      ]
    },
    {
      "cell_type": "code",
      "metadata": {
        "id": "Xdb5SWi4_f0m",
        "colab_type": "code",
        "colab": {
          "base_uri": "https://localhost:8080/",
          "height": 337
        },
        "outputId": "f6f4c4bc-fe0a-4132-e340-bd2a48ef54b6"
      },
      "source": [
        "y = 'target' \n",
        "\n",
        "corpus_target0 = train[train[y] == 0]['clean_text']\n",
        "lst_tokens = nltk.tokenize.word_tokenize (corpus_target0.str.cat (sep = '')) \n",
        "fig, ax = plt.subplots(nrows = 1, ncols = 2,figsize = (23,5)) \n",
        "fig.suptitle('Most frequent words (TARGET = 0)', fontsize = 15) \n",
        "    \n",
        "## unigrams\n",
        "dic_words_freq_target0 = nltk.FreqDist (lst_tokens) \n",
        "dtf_uni_target0 = pd.DataFrame(dic_words_freq_target0.most_common (), columns = ['Word', 'Freq']) \n",
        "dtf_uni_target0.set_index('Word').iloc [:10 ,: ].sort_values('Freq').plot(kind = 'barh', title = 'Unigrams', ax = ax [0], legend = False)\n",
        "ax[0].grid (axis = 'x') \n",
        "ax[0].set(ylabel = None) \n",
        "    \n",
        "## bigrams\n",
        "dic_words_freq_target0 = nltk.FreqDist (nltk.ngrams (lst_tokens, 2)) \n",
        "dtf_bi_target0 = pd.DataFrame (dic_words_freq_target0.most_common (),columns = ['Word', 'Freq']) \n",
        "dtf_bi_target0 ['Word'] = dtf_bi_target0['Word'].apply(lambda x: ' '.join (string for string in x)) \n",
        "dtf_bi_target0.set_index('Word').iloc [:10,:].sort_values('Freq').plot(kind = 'barh', title = 'Bigrams', ax = ax[1], legend = False) \n",
        "ax[1].set(ylabel = None)\n",
        "ax[1].grid(axis = 'x')\n",
        "plt.show ()"
      ],
      "execution_count": null,
      "outputs": [
        {
          "output_type": "display_data",
          "data": {
            "image/png": "[encoded data removed]",
            "text/plain": [
              "<Figure size 1656x360 with 2 Axes>"
            ]
          },
          "metadata": {
            "tags": [],
            "needs_background": "light"
          }
        }
      ]
    },
    {
      "cell_type": "markdown",
      "metadata": {
        "id": "0IqZs29TIGqM",
        "colab_type": "text"
      },
      "source": [
        "Unique bigrams"
      ]
    },
    {
      "cell_type": "code",
      "metadata": {
        "id": "pZDyplpL4cG2",
        "colab_type": "code",
        "colab": {}
      },
      "source": [
        "uniq_bigram_target1 =  set(dtf_bi_target1.Word)\n",
        "uniq_bigram_target0 =  set(dtf_bi_target0.Word)\n",
        "\n",
        "aux = uniq_bigram_target1\n",
        "\n",
        "uniq_bigram_target1 = uniq_bigram_target1 - uniq_bigram_target0\n",
        "uniq_bigram_target0 = uniq_bigram_target0 - aux"
      ],
      "execution_count": null,
      "outputs": []
    },
    {
      "cell_type": "markdown",
      "metadata": {
        "id": "uGxUIt-rIKKf",
        "colab_type": "text"
      },
      "source": [
        "Unique unigrams"
      ]
    },
    {
      "cell_type": "code",
      "metadata": {
        "id": "KS1WZ0FvIGHP",
        "colab_type": "code",
        "colab": {}
      },
      "source": [
        "uniq_uni_target1 =  set(dtf_uni_target1.Word)\n",
        "uniq_uni_target0 =  set(dtf_uni_target0.Word)\n",
        "\n",
        "aux = uniq_uni_target1\n",
        "\n",
        "uniq_uni_target1 = uniq_uni_target1 - uniq_uni_target0\n",
        "uniq_uni_target0 = uniq_uni_target0 - aux"
      ],
      "execution_count": null,
      "outputs": []
    },
    {
      "cell_type": "code",
      "metadata": {
        "id": "0cMnsb31IsuU",
        "colab_type": "code",
        "colab": {}
      },
      "source": [
        "def contain_n_gram(doc,n_grams):\n",
        "  count = 0\n",
        "  for n_gram in n_grams:\n",
        "    count = count + doc.count(n_gram)\n",
        "  return count"
      ],
      "execution_count": null,
      "outputs": []
    },
    {
      "cell_type": "code",
      "metadata": {
        "id": "vjU4zGMgH3gn",
        "colab_type": "code",
        "colab": {}
      },
      "source": [
        "train['uniq_bigram_target1'] = train.clean_text.apply(lambda x: contain_n_gram(x, uniq_bigram_target1))\n",
        "train['uniq_bigram_target0'] = train.clean_text.apply(lambda x: contain_n_gram(x, uniq_bigram_target0))\n",
        "train['uniq_unigram_target1'] = train.clean_text.apply(lambda x: contain_n_gram(x, uniq_uni_target1))\n",
        "train['uniq_unigram_target0'] = train.clean_text.apply(lambda x: contain_n_gram(x, uniq_uni_target0))"
      ],
      "execution_count": null,
      "outputs": []
    },
    {
      "cell_type": "code",
      "metadata": {
        "id": "dXsVp-VO6mWZ",
        "colab_type": "code",
        "colab": {}
      },
      "source": [
        "validation['uniq_bigram_target1'] = validation.clean_text.apply(lambda x: contain_n_gram(x, uniq_bigram_target1))\n",
        "validation['uniq_bigram_target0'] = validation.clean_text.apply(lambda x: contain_n_gram(x, uniq_bigram_target0))\n",
        "validation['uniq_unigram_target1'] = validation.clean_text.apply(lambda x: contain_n_gram(x, uniq_uni_target1))\n",
        "validation['uniq_unigram_target0'] = validation.clean_text.apply(lambda x: contain_n_gram(x, uniq_uni_target0))"
      ],
      "execution_count": null,
      "outputs": []
    },
    {
      "cell_type": "code",
      "metadata": {
        "id": "MnIw_P2HKOxT",
        "colab_type": "code",
        "colab": {}
      },
      "source": [
        "test['uniq_bigram_target1'] = test.clean_text.apply(lambda x: contain_n_gram(x, uniq_bigram_target1))\n",
        "test['uniq_bigram_target0'] = test.clean_text.apply(lambda x: contain_n_gram(x, uniq_bigram_target0))\n",
        "test['uniq_unigram_target1'] = test.clean_text.apply(lambda x: contain_n_gram(x, uniq_uni_target1))\n",
        "test['uniq_unigram_target0'] = test.clean_text.apply(lambda x: contain_n_gram(x, uniq_uni_target0))"
      ],
      "execution_count": null,
      "outputs": []
    },
    {
      "cell_type": "markdown",
      "metadata": {
        "id": "7yrZGetGoQLa",
        "colab_type": "text"
      },
      "source": [
        "#Count Hashtags"
      ]
    },
    {
      "cell_type": "code",
      "metadata": {
        "id": "Wglrq8UAoSgY",
        "colab_type": "code",
        "colab": {}
      },
      "source": [
        "def count_hashtags(doc):\n",
        "  count = 0\n",
        "  for word in doc.split(' '):\n",
        "    if ('#' in word): count += 1\n",
        "  return count"
      ],
      "execution_count": null,
      "outputs": []
    },
    {
      "cell_type": "code",
      "metadata": {
        "id": "NYkpNJJvpm8G",
        "colab_type": "code",
        "colab": {}
      },
      "source": [
        "train['hashtags'] = train.text.apply(lambda x: count_hashtags(x))\n",
        "validation['hashtags'] = validation.text.apply(lambda x: count_hashtags(x))\n",
        "test['hashtags'] = test.text.apply(lambda x: count_hashtags(x))"
      ],
      "execution_count": null,
      "outputs": []
    },
    {
      "cell_type": "markdown",
      "metadata": {
        "id": "HKl6uH3fomQ_",
        "colab_type": "text"
      },
      "source": [
        "#Count Mentions"
      ]
    },
    {
      "cell_type": "code",
      "metadata": {
        "id": "QMjJX5jooqeZ",
        "colab_type": "code",
        "colab": {}
      },
      "source": [
        "def count_mentions(doc):\n",
        "  count = 0\n",
        "  for word in doc.split(' '):\n",
        "    if ('@' in word): count = count + 1\n",
        "  return count"
      ],
      "execution_count": null,
      "outputs": []
    },
    {
      "cell_type": "code",
      "metadata": {
        "id": "IplJqYh-pyYw",
        "colab_type": "code",
        "colab": {}
      },
      "source": [
        "train['mentions'] = train.text.apply(lambda x: count_mentions(x))\n",
        "validation['mentions'] = validation.text.apply(lambda x: count_mentions(x))\n",
        "test['mentions'] = test.text.apply(lambda x: count_mentions(x))"
      ],
      "execution_count": null,
      "outputs": []
    },
    {
      "cell_type": "code",
      "metadata": {
        "id": "Fy3nlorQDX3S",
        "colab_type": "code",
        "colab": {}
      },
      "source": [
        "mentions = {}\n",
        "text = list(train.text.values)\n",
        "y = list(train.target.values)\n",
        "\n",
        "for i in range(len(text)):\n",
        "  for word in text[i].split(' '):\n",
        "    if ('@' in word):\n",
        "      if (word not in mentions): mentions[word] = [0,0]\n",
        "      mentions[word][y[i]] = mentions[word][y[i]] + 1\n",
        "\n",
        "import operator\n",
        "mentions_sort = sorted(mentions.items(), key=operator.itemgetter(1), reverse=True)"
      ],
      "execution_count": null,
      "outputs": []
    },
    {
      "cell_type": "markdown",
      "metadata": {
        "id": "Ia8Fl8rMo2se",
        "colab_type": "text"
      },
      "source": [
        "#Count URLs"
      ]
    },
    {
      "cell_type": "code",
      "metadata": {
        "id": "8ASp_KjBo5F5",
        "colab_type": "code",
        "colab": {}
      },
      "source": [
        "def count_urls(doc):\n",
        "  return (len(re.findall((r'https?://\\S+|www\\.\\S+'),doc)))"
      ],
      "execution_count": null,
      "outputs": []
    },
    {
      "cell_type": "code",
      "metadata": {
        "id": "7nNFH8X6qGUW",
        "colab_type": "code",
        "colab": {}
      },
      "source": [
        "train['url_count'] = train.text.apply(lambda x: count_urls(x))\n",
        "validation['url_count'] = validation.text.apply(lambda x: count_urls(x))\n",
        "test['url_count'] = test.text.apply(lambda x: count_urls(x))"
      ],
      "execution_count": null,
      "outputs": []
    },
    {
      "cell_type": "markdown",
      "metadata": {
        "id": "bXedhNgMtbTY",
        "colab_type": "text"
      },
      "source": [
        "#Count exclamation"
      ]
    },
    {
      "cell_type": "code",
      "metadata": {
        "id": "D8Bw6A48teSz",
        "colab_type": "code",
        "colab": {}
      },
      "source": [
        "def count_exclamation(doc):\n",
        "  count = 0\n",
        "  for word in doc.split(' '):\n",
        "    if ('!' in word): count +=1\n",
        "  return count"
      ],
      "execution_count": null,
      "outputs": []
    },
    {
      "cell_type": "code",
      "metadata": {
        "id": "cNSBmRAPt9ko",
        "colab_type": "code",
        "colab": {}
      },
      "source": [
        "train['exclamation'] = train.text.apply(lambda x: count_exclamation(x))\n",
        "validation['exclamation'] = validation.text.apply(lambda x: count_exclamation(x))\n",
        "test['exclamation'] = test.text.apply(lambda x: count_exclamation(x))"
      ],
      "execution_count": null,
      "outputs": []
    },
    {
      "cell_type": "markdown",
      "metadata": {
        "id": "9-4HKwtKtuRJ",
        "colab_type": "text"
      },
      "source": [
        "#Count questions"
      ]
    },
    {
      "cell_type": "code",
      "metadata": {
        "id": "Noly_llKtxxG",
        "colab_type": "code",
        "colab": {}
      },
      "source": [
        "def count_questions(doc):\n",
        "  count = 0\n",
        "  for word in doc.split(' '):\n",
        "    if ('?' in word): count +=1\n",
        "  return count"
      ],
      "execution_count": null,
      "outputs": []
    },
    {
      "cell_type": "code",
      "metadata": {
        "id": "0qDYDCKPuPmf",
        "colab_type": "code",
        "colab": {}
      },
      "source": [
        "train['question'] = train.text.apply(lambda x: count_questions(x))\n",
        "validation['question'] = validation.text.apply(lambda x: count_questions(x))\n",
        "test['question'] = test.text.apply(lambda x: count_questions(x))"
      ],
      "execution_count": null,
      "outputs": []
    },
    {
      "cell_type": "markdown",
      "metadata": {
        "id": "TJMgpGaWvA8R",
        "colab_type": "text"
      },
      "source": [
        "#Count numbers"
      ]
    },
    {
      "cell_type": "code",
      "metadata": {
        "id": "lFx2-GSqvCcI",
        "colab_type": "code",
        "colab": {}
      },
      "source": [
        "def count_numbers(doc):\n",
        "  count = 0\n",
        "  for char in doc:\n",
        "    if (char.isnumeric()): count = count + 1\n",
        "  return count"
      ],
      "execution_count": null,
      "outputs": []
    },
    {
      "cell_type": "code",
      "metadata": {
        "id": "gBel9N3pvG_1",
        "colab_type": "code",
        "colab": {}
      },
      "source": [
        "train['numbers'] = train.text.apply(lambda x: count_numbers(x))\n",
        "validation['numbers'] = validation.text.apply(lambda x: count_numbers(x))\n",
        "test['numbers'] = test.text.apply(lambda x: count_numbers(x))"
      ],
      "execution_count": null,
      "outputs": []
    },
    {
      "cell_type": "markdown",
      "metadata": {
        "id": "v6grFCDZncDL",
        "colab_type": "text"
      },
      "source": [
        "#Contain Keyword\n",
        "\n",
        "Atributo categórico: YES/NO"
      ]
    },
    {
      "cell_type": "code",
      "metadata": {
        "id": "mdbrDudXnfVR",
        "colab_type": "code",
        "colab": {}
      },
      "source": [
        "train['have_keyword'] = train.keyword.apply(lambda x: 'NO' if (pd.isna(x)) else 'YES')\n",
        "validation['have_keyword'] = validation.keyword.apply(lambda x: 'NO' if (pd.isna(x)) else 'YES')\n",
        "test['have_keyword'] = test.keyword.apply(lambda x: 'NO' if (pd.isna(x)) else 'YES')"
      ],
      "execution_count": null,
      "outputs": []
    },
    {
      "cell_type": "markdown",
      "metadata": {
        "id": "sNscLqe3npaY",
        "colab_type": "text"
      },
      "source": [
        "#Contain Location\n",
        "\n",
        "Atributo categórico: YES/NO"
      ]
    },
    {
      "cell_type": "code",
      "metadata": {
        "id": "u4sWM4cxnrH8",
        "colab_type": "code",
        "colab": {}
      },
      "source": [
        "train['contain_location'] = train.location.apply(lambda x: 'NO' if (pd.isna(x)) else 'YES')\n",
        "validation['contain_location'] = validation.location.apply(lambda x: 'NO' if (pd.isna(x)) else 'YES')\n",
        "test['contain_location'] = test.location.apply(lambda x: 'NO' if (pd.isna(x)) else 'YES')"
      ],
      "execution_count": null,
      "outputs": []
    },
    {
      "cell_type": "markdown",
      "metadata": {
        "id": "2piD_gMeLtEd",
        "colab_type": "text"
      },
      "source": [
        "#Word embeddings: Text"
      ]
    },
    {
      "cell_type": "markdown",
      "metadata": {
        "id": "2lLi26D_eAd5",
        "colab_type": "text"
      },
      "source": [
        "Utilizo los vectores de palabras pre-entrenados de GloVe (300 dimensiones)\n",
        "\n",
        "Para cada palabra en \"clean_text\", obtener el embbeding si la palabra se encuentra en el vocabulario. En caso contrario, devuelvo un vector de 300 dimensiones rellenado con ceros.\n",
        "\n",
        "Por ultimo retorno el promedio de los embeddings de cada palabra"
      ]
    },
    {
      "cell_type": "code",
      "metadata": {
        "id": "A8c9CmzUXOAr",
        "colab_type": "code",
        "colab": {}
      },
      "source": [
        "class MeanEmbeddingVectorizer(object):\n",
        "\n",
        "\tdef __init__(self, word_model):\n",
        "\t\tself.word_model = word_model\n",
        "\t\tself.vector_size = word_model.wv.vector_size\n",
        "\n",
        "\tdef fit(self):  # comply with scikit-learn transformer requirement\n",
        "\t\treturn self\n",
        "\n",
        "\tdef transform(self, docs):  # comply with scikit-learn transformer requirement\n",
        "\t\tdoc_word_vector = self.word_average_list(docs)\n",
        "\t\treturn doc_word_vector\n",
        "\n",
        "\tdef word_average(self, sent):\n",
        "\t\t\"\"\"\n",
        "\t\tCompute average word vector for a single doc/sentence.\n",
        "\t\t:param sent: list of sentence tokens\n",
        "\t\t:return:\n",
        "\t\t\tmean: float of averaging word vectors\n",
        "\t\t\"\"\"\n",
        "\t\tmean = []\n",
        "\t\tfor word in sent:\n",
        "\t\t\tif word in self.word_model.wv.vocab:\n",
        "\t\t\t\tmean.append(self.word_model.wv.get_vector(word))\n",
        "\n",
        "\t\tif not mean:  # empty words\n",
        "\t\t\t# If a text is empty, return a vector of zeros.\n",
        "\t\t\treturn np.zeros(self.vector_size)\n",
        "\t\telse:\n",
        "\t\t\tmean = np.array(mean).mean(axis=0)\n",
        "\t\t\treturn mean\n",
        "\n",
        "\n",
        "\tdef word_average_list(self, docs):\n",
        "\t\t\"\"\"\n",
        "\t\tCompute average word vector for multiple docs, where docs had been tokenized.\n",
        "\t\t:param docs: list of sentence in list of separated tokens\n",
        "\t\t:return:\n",
        "\t\t\tarray of average word vector in shape (len(docs),)\n",
        "\t\t\"\"\"\n",
        "\t\treturn np.vstack([self.word_average(sent) for sent in docs]) \n"
      ],
      "execution_count": null,
      "outputs": []
    },
    {
      "cell_type": "code",
      "metadata": {
        "id": "9MnjD2y4XO0B",
        "colab_type": "code",
        "colab": {
          "base_uri": "https://localhost:8080/",
          "height": 82
        },
        "outputId": "a6ebd418-4da8-46b4-8c2f-beeab4a86d72"
      },
      "source": [
        "embedding_vectorizer = MeanEmbeddingVectorizer (glove) \n",
        "\n",
        "train_embedding_text = embedding_vectorizer.transform (train.clean_text)\n",
        "validation_embedding_text = embedding_vectorizer.transform (validation.clean_text)\n",
        "test_embedding_text = embedding_vectorizer.transform(test.clean_text)"
      ],
      "execution_count": null,
      "outputs": [
        {
          "output_type": "stream",
          "text": [
            "/usr/local/lib/python3.6/dist-packages/ipykernel_launcher.py:5: DeprecationWarning: Call to deprecated `wv` (Attribute will be removed in 4.0.0, use self instead).\n",
            "  \"\"\"\n",
            "/usr/local/lib/python3.6/dist-packages/ipykernel_launcher.py:23: DeprecationWarning: Call to deprecated `wv` (Attribute will be removed in 4.0.0, use self instead).\n",
            "/usr/local/lib/python3.6/dist-packages/ipykernel_launcher.py:24: DeprecationWarning: Call to deprecated `wv` (Attribute will be removed in 4.0.0, use self instead).\n"
          ],
          "name": "stderr"
        }
      ]
    },
    {
      "cell_type": "code",
      "metadata": {
        "id": "Wg01-PYxWTzM",
        "colab_type": "code",
        "colab": {}
      },
      "source": [
        "for i in range(0,300):\n",
        "  column = 'dim_'+str(i)+'_emb'   \n",
        "  train[column] = train_embedding_text[:,i]\n",
        "  validation[column] = validation_embedding_text[:,i]\n",
        "  test[column] = test_embedding_text[:,i]"
      ],
      "execution_count": null,
      "outputs": []
    },
    {
      "cell_type": "markdown",
      "metadata": {
        "id": "gkWJMKWEiuGA",
        "colab_type": "text"
      },
      "source": [
        "#EXPORTO"
      ]
    },
    {
      "cell_type": "code",
      "metadata": {
        "id": "05Hce4Db8-JF",
        "colab_type": "code",
        "colab": {}
      },
      "source": [
        "train = train.drop(['keyword', 'location', 'text', 'clean_text','clean_keyword'], axis = 1)\n",
        "validation = validation.drop(['keyword', 'location', 'text', 'clean_text','clean_keyword'], axis = 1)\n",
        "test = test.drop(['keyword', 'location', 'text', 'clean_text','clean_keyword'], axis = 1)"
      ],
      "execution_count": null,
      "outputs": []
    },
    {
      "cell_type": "code",
      "metadata": {
        "id": "fmVdgLsN-bJe",
        "colab_type": "code",
        "colab": {
          "base_uri": "https://localhost:8080/",
          "height": 66
        },
        "outputId": "4c1a667e-bddd-42e1-f02c-10583df4ea2a"
      },
      "source": [
        "print(train.shape)\n",
        "print(validation.shape)\n",
        "print(test.shape)"
      ],
      "execution_count": null,
      "outputs": [
        {
          "output_type": "stream",
          "text": [
            "(6090, 347)\n",
            "(1523, 347)\n",
            "(3263, 346)\n"
          ],
          "name": "stdout"
        }
      ]
    },
    {
      "cell_type": "code",
      "metadata": {
        "id": "gASOnTWZhbMP",
        "colab_type": "code",
        "colab": {}
      },
      "source": [
        "train.to_csv('Features_train_solved_misspelling.csv',header = True, index = False)"
      ],
      "execution_count": null,
      "outputs": []
    },
    {
      "cell_type": "code",
      "metadata": {
        "id": "o5NIe5oJ8YKU",
        "colab_type": "code",
        "colab": {}
      },
      "source": [
        "validation.to_csv('Features_val_solved_misspelling.csv',header = True, index = False)"
      ],
      "execution_count": null,
      "outputs": []
    },
    {
      "cell_type": "code",
      "metadata": {
        "id": "eSb0Glt6itmP",
        "colab_type": "code",
        "colab": {}
      },
      "source": [
        "test.to_csv('Features_test_solved_misspelling.csv',header = True, index = False)"
      ],
      "execution_count": null,
      "outputs": []
    }
  ]
}