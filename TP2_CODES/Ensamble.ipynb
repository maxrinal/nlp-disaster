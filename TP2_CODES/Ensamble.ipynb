{
  "nbformat": 4,
  "nbformat_minor": 0,
  "metadata": {
    "colab": {
      "name": "Ensamble.ipynb",
      "provenance": [],
      "collapsed_sections": [],
      "toc_visible": true,
      "include_colab_link": true
    },
    "kernelspec": {
      "name": "python3",
      "display_name": "Python 3"
    }
  },
  "cells": [
    {
      "cell_type": "markdown",
      "metadata": {
        "id": "view-in-github",
        "colab_type": "text"
      },
      "source": [
        "<a href=\"https://colab.research.google.com/github/maxrinal/nlp-disaster/blob/master/TP2_CODES/Ensamble.ipynb\" target=\"_parent\"><img src=\"https://colab.research.google.com/assets/colab-badge.svg\" alt=\"Open In Colab\"/></a>"
      ]
    },
    {
      "cell_type": "markdown",
      "metadata": {
        "id": "etyyxmQya0DF",
        "colab_type": "text"
      },
      "source": [
        "# **Ensamble**"
      ]
    },
    {
      "cell_type": "code",
      "metadata": {
        "id": "Vhmc06mvas5C",
        "colab_type": "code",
        "colab": {}
      },
      "source": [
        "import pandas as pd\n",
        "import numpy as np\n",
        "from google.colab import drive\n",
        "from google.colab import files\n",
        "#drive.mount('/content/drive')\n",
        "\n",
        "from sklearn.ensemble import RandomForestClassifier\n",
        "from sklearn.metrics import mean_squared_error\n"
      ],
      "execution_count": null,
      "outputs": []
    },
    {
      "cell_type": "markdown",
      "metadata": {
        "id": "C_y3YD70a-Eo",
        "colab_type": "text"
      },
      "source": [
        "## **Importamos Sets**"
      ]
    },
    {
      "cell_type": "code",
      "metadata": {
        "id": "hIaHF6XHayfM",
        "colab_type": "code",
        "colab": {}
      },
      "source": [
        "valid1 = pd.read_csv('https://raw.githubusercontent.com/maxrinal/nlp-disaster/master/DATA_FILES/cross_validation/MAXI_004_CROSS_VALIDATION_RESULTS.CSV')\n",
        "valid2 = pd.read_csv('https://raw.githubusercontent.com/maxrinal/nlp-disaster/master/DATA_FILES/cross_validation/MAXI_005_CROSS_VAL_EMBEDDING_GLOVE_SINGLE_WORD_TOKENIZER_FILTER_10_KERNEL_2_DROPOUT_05.CSV')\n",
        "valid3 = pd.read_csv('https://raw.githubusercontent.com/maxrinal/nlp-disaster/master/DATA_FILES/cross_validation/VAL_prediction_model1.csv')\n",
        "valid4 = pd.read_csv('https://raw.githubusercontent.com/maxrinal/nlp-disaster/master/DATA_FILES/cross_validation/VAL_prediction_model2.csv')\n",
        "valid5 = pd.read_csv('https://raw.githubusercontent.com/maxrinal/nlp-disaster/master/DATA_FILES/cross_validation/VAL_prediction_model3.csv')\n",
        "valid6 = pd.read_csv('https://raw.githubusercontent.com/maxrinal/nlp-disaster/master/DATA_FILES/cross_validation/Validation_submission_13_LGBM_Para_Ensamble.csv')\n",
        "valid7 = pd.read_csv('https://raw.githubusercontent.com/maxrinal/nlp-disaster/master/DATA_FILES/cross_validation/validation_modelo_randomForest.csv')\n",
        "\n",
        "test1 = pd.read_csv('https://raw.githubusercontent.com/maxrinal/nlp-disaster/master/DATA_FILES/results/MAXI_004_KAGGLE_TEST_RESULTS.CSV')\n",
        "test2 = pd.read_csv('https://raw.githubusercontent.com/maxrinal/nlp-disaster/master/DATA_FILES/results/MAXI_005_TEST_EMBEDDING_GLOVE_SINGLE_WORD_TOKENIZER_FILTER_10_KERNEL_2_DROPOUT_05.CSV')\n",
        "test3 = pd.read_csv('https://raw.githubusercontent.com/maxrinal/nlp-disaster/master/DATA_FILES/results/TEST_prediction_model1.csv')\n",
        "test4 = pd.read_csv('https://raw.githubusercontent.com/maxrinal/nlp-disaster/master/DATA_FILES/results/TEST_prediction_model2.csv')\n",
        "test5 = pd.read_csv('https://raw.githubusercontent.com/maxrinal/nlp-disaster/master/DATA_FILES/results/TEST_prediction_model3.csv')\n",
        "test6 = pd.read_csv('https://raw.githubusercontent.com/maxrinal/nlp-disaster/master/DATA_FILES/results/submission_13_LGBM_Para_Ensamble.csv')\n",
        "test7=  pd.read_csv('https://raw.githubusercontent.com/maxrinal/nlp-disaster/master/DATA_FILES/results/modelo_randomForest.csv')"
      ],
      "execution_count": null,
      "outputs": []
    },
    {
      "cell_type": "code",
      "metadata": {
        "id": "nhXptFa_ldyg",
        "colab_type": "code",
        "colab": {
          "base_uri": "https://localhost:8080/",
          "height": 80
        },
        "outputId": "355d58b6-b51e-4663-8287-8c6bedf050c5"
      },
      "source": [
        "valid1.head(1)"
      ],
      "execution_count": null,
      "outputs": [
        {
          "output_type": "execute_result",
          "data": {
            "text/html": [
              "<div>\n",
              "<style scoped>\n",
              "    .dataframe tbody tr th:only-of-type {\n",
              "        vertical-align: middle;\n",
              "    }\n",
              "\n",
              "    .dataframe tbody tr th {\n",
              "        vertical-align: top;\n",
              "    }\n",
              "\n",
              "    .dataframe thead th {\n",
              "        text-align: right;\n",
              "    }\n",
              "</style>\n",
              "<table border=\"1\" class=\"dataframe\">\n",
              "  <thead>\n",
              "    <tr style=\"text-align: right;\">\n",
              "      <th></th>\n",
              "      <th>id</th>\n",
              "      <th>target_by_prod_prob</th>\n",
              "      <th>target_by_sum_prob</th>\n",
              "      <th>target_by_max_prob</th>\n",
              "      <th>target_by_avg_prob</th>\n",
              "      <th>target_by_n_word</th>\n",
              "    </tr>\n",
              "  </thead>\n",
              "  <tbody>\n",
              "    <tr>\n",
              "      <th>0</th>\n",
              "      <td>10</td>\n",
              "      <td>1</td>\n",
              "      <td>1</td>\n",
              "      <td>1</td>\n",
              "      <td>1</td>\n",
              "      <td>1</td>\n",
              "    </tr>\n",
              "  </tbody>\n",
              "</table>\n",
              "</div>"
            ],
            "text/plain": [
              "   id  target_by_prod_prob  ...  target_by_avg_prob  target_by_n_word\n",
              "0  10                    1  ...                   1                 1\n",
              "\n",
              "[1 rows x 6 columns]"
            ]
          },
          "metadata": {
            "tags": []
          },
          "execution_count": 71
        }
      ]
    },
    {
      "cell_type": "markdown",
      "metadata": {
        "id": "VCx1Kp85rGqd",
        "colab_type": "text"
      },
      "source": [
        "# Merge en unico dataframe"
      ]
    },
    {
      "cell_type": "code",
      "metadata": {
        "id": "gCV2-3dpkvD7",
        "colab_type": "code",
        "colab": {}
      },
      "source": [
        "validation = valid1.copy()\n",
        "validation['target_by_embedding'] = valid2['target_by_embedding']\n",
        "validation['target_modelo_1'] = valid3['target']\n",
        "validation['target_modelo_2'] = valid4['target']\n",
        "validation['target_modelo_3'] = valid5['target']\n",
        "validation['target_modelo_lgbm'] = valid6['target']\n",
        "validation['target_modelo_randomForest'] = valid7['target']\n",
        "\n",
        "test_kaggle = test1.copy()\n",
        "test_kaggle['target_by_embedding'] = test2['target']\n",
        "test_kaggle['target_modelo_1']     = test3['target']\n",
        "test_kaggle['target_modelo_2']     = test4['target']\n",
        "test_kaggle['target_modelo_3']     = test5['target']\n",
        "test_kaggle['target_modelo_lgbm']  = test6['target']\n",
        "test_kaggle['target_modelo_randomForest']  = test7['target']\n"
      ],
      "execution_count": null,
      "outputs": []
    },
    {
      "cell_type": "code",
      "metadata": {
        "id": "Pbv3BAgInmr5",
        "colab_type": "code",
        "colab": {}
      },
      "source": [
        "csv_charset = 'utf-8'\n",
        "\n",
        "train = pd.read_csv('https://raw.githubusercontent.com/maxrinal/nlp-disaster/master/train.csv' ,encoding = csv_charset )\n",
        "\n",
        "validation_target = train[ train.id.isin( list(validation.id.values) )].target"
      ],
      "execution_count": null,
      "outputs": []
    },
    {
      "cell_type": "code",
      "metadata": {
        "id": "D4UUS_mbmiZ2",
        "colab_type": "code",
        "colab": {}
      },
      "source": [
        "X = validation.values\n",
        "y = validation_target.values"
      ],
      "execution_count": null,
      "outputs": []
    },
    {
      "cell_type": "code",
      "metadata": {
        "id": "MSwVqKYrnXZV",
        "colab_type": "code",
        "colab": {
          "base_uri": "https://localhost:8080/",
          "height": 134
        },
        "outputId": "3f440477-8270-4116-f4bc-705e4008fdae"
      },
      "source": [
        "X = np.delete(X, 0, axis = 1)\n",
        "X"
      ],
      "execution_count": null,
      "outputs": [
        {
          "output_type": "execute_result",
          "data": {
            "text/plain": [
              "array([[1, 1, 1, ..., 1, 1, 1],\n",
              "       [1, 1, 1, ..., 1, 1, 1],\n",
              "       [0, 0, 0, ..., 1, 0, 0],\n",
              "       ...,\n",
              "       [1, 1, 1, ..., 0, 1, 0],\n",
              "       [1, 1, 1, ..., 1, 1, 1],\n",
              "       [1, 1, 1, ..., 1, 1, 1]])"
            ]
          },
          "metadata": {
            "tags": []
          },
          "execution_count": 24
        }
      ]
    },
    {
      "cell_type": "code",
      "metadata": {
        "id": "Qovs5phknYPH",
        "colab_type": "code",
        "colab": {
          "base_uri": "https://localhost:8080/",
          "height": 50
        },
        "outputId": "6e7b1893-63aa-4ab3-c29d-2033ed3cfa81"
      },
      "source": [
        "print(np.shape(X))\n",
        "print(np.shape(y))"
      ],
      "execution_count": null,
      "outputs": [
        {
          "output_type": "stream",
          "text": [
            "(1523, 11)\n",
            "(1523,)\n"
          ],
          "name": "stdout"
        }
      ]
    },
    {
      "cell_type": "markdown",
      "metadata": {
        "id": "miXDmF9brKi0",
        "colab_type": "text"
      },
      "source": [
        "# Random Forest Classifier"
      ]
    },
    {
      "cell_type": "code",
      "metadata": {
        "id": "97j3GdbUt1ii",
        "colab_type": "code",
        "colab": {}
      },
      "source": [
        "# df_best_parameteres = pd.DataFrame({\n",
        "#   'n_estimators':[],\n",
        "#   'max_depth':[],\n",
        "#   'min_samples_split':[],\n",
        "#   'min_samples_leaf':[],\n",
        "#   'max_features':[],\n",
        "# })\n",
        "# Genero un Dataframe vacio\n",
        "\n",
        "\n",
        "df_values = pd.DataFrame()\n",
        "# df_current_parameters = pd.DataFrame({\n",
        "#   'n_estimators':[1],\n",
        "#   'max_depth':[2],\n",
        "#   'min_samples_split':[3],\n",
        "#   'min_samples_leaf':[4],\n",
        "#   'max_features':[5],\n",
        "#   'score' : [0]\n",
        "# })\n",
        "# df_values.append(df_current_parameters)\n"
      ],
      "execution_count": null,
      "outputs": []
    },
    {
      "cell_type": "code",
      "metadata": {
        "id": "ai556cNcoHPe",
        "colab_type": "code",
        "colab": {}
      },
      "source": [
        "\n",
        "# n_estimators: cantidad de árboles a construir (100)\n",
        "# max_depth: máxima profundidad de cada árbol\n",
        "# min_samples_split: la cantidad mínima de datos requeridos para splitear un nodo interno (2)\n",
        "# min_samples_leaf: cantidad mínima de datos requeridos para ser una hoja (1)\n",
        "# max_features: la cantidad de features a considerar cuando se busca el mejor split (n)\n",
        "\n",
        "\n",
        "def new_run_dataframe(curr_n_estimator,curr_max_depth,curr_min_samples_split, curr_max_features,curr_score,curr_weight):\n",
        "  df_current_parameters = pd.DataFrame({\n",
        "    'n_estimators':[curr_n_estimator],\n",
        "    'max_depth':[curr_max_depth],\n",
        "    'min_samples_split':[curr_min_samples_split],\n",
        "    # 'min_samples_leaf':[curr_min_samples_leaf],\n",
        "    'max_features':[curr_max_features],\n",
        "    'score' : [curr_score],\n",
        "    'curr_weight' : [curr_weight]\n",
        "  })\n",
        "  return df_current_parameters\n",
        "  # df_values.append(df_current_parameters)\n",
        "\n",
        "df_values = pd.DataFrame()\n",
        "curr_n_estimator  = 0\n",
        "curr_max_depth  = 2\n",
        "curr_min_samples_split  = 2\n",
        "# curr_min_samples_leaf  = 1\n",
        "curr_max_features  = 'auto'\n",
        "curr_score  = 0\n",
        "\n",
        "for curr_n_estimator in [100,200]:\n",
        "  for curr_max_depth in [None, 5,15,30]:\n",
        "    for curr_max_features in [2,3,4,5,6,7]:\n",
        "  \n",
        "      rf_model = RandomForestClassifier(\n",
        "          random_state = 0, \n",
        "          n_estimators = curr_n_estimator, \n",
        "          max_depth=curr_max_depth , \n",
        "          min_samples_split=curr_min_samples_split, \n",
        "          max_features=curr_max_features,  \n",
        "          criterion = 'entropy' \n",
        "      )\n",
        "      rf_model.fit(X, y)\n",
        "      preds = rf_model.predict(X)\n",
        "      rmse = np.sqrt(mean_squared_error(y, preds))\n",
        "      df_result = new_run_dataframe( curr_n_estimator, curr_max_depth, curr_min_samples_split, curr_max_features , rmse, rf_model.feature_importances_)\n",
        "      df_values = df_values.append(df_result)\n",
        "\n",
        "# Queremos el que tiene menor RMSE\n",
        "df_values = df_values.sort_values(by='score',ascending=True).head(n=10)"
      ],
      "execution_count": null,
      "outputs": []
    },
    {
      "cell_type": "code",
      "metadata": {
        "id": "pIO8cvVnsfaR",
        "colab_type": "code",
        "colab": {
          "base_uri": "https://localhost:8080/",
          "height": 53
        },
        "outputId": "61ee59f2-e198-4c04-b9e9-7a60a4a4397c"
      },
      "source": [
        ""
      ],
      "execution_count": null,
      "outputs": [
        {
          "output_type": "execute_result",
          "data": {
            "text/plain": [
              "array([0.03907373, 0.02235914, 0.04031774, 0.02393362, 0.100331  ,\n",
              "       0.27702755, 0.05268521, 0.05221047, 0.16068628, 0.23137524])"
            ]
          },
          "metadata": {
            "tags": []
          },
          "execution_count": 152
        }
      ]
    },
    {
      "cell_type": "code",
      "metadata": {
        "id": "y67i5zfMog6A",
        "colab_type": "code",
        "colab": {
          "base_uri": "https://localhost:8080/",
          "height": 295
        },
        "outputId": "a48a4feb-3875-417d-9b9d-b88754bca7be"
      },
      "source": [
        "import matplotlib.pyplot as plt\n",
        "\n",
        "validation_columns = validation.columns.tolist()\n",
        "validation_columns.pop(0)\n",
        "validation_train = validation[validation_columns]\n",
        "\n",
        "plt.barh(validation_train.columns, rf_model.feature_importances_)\n",
        "plt.xlabel('Features')\n",
        "plt.ylabel('Importancia')\n",
        "plt.title('Importancia Features con RF')\n",
        "plt.show()"
      ],
      "execution_count": null,
      "outputs": [
        {
          "output_type": "display_data",
          "data": {
            "image/png": "[encoded data removed]",
            "text/plain": [
              "<Figure size 432x288 with 1 Axes>"
            ]
          },
          "metadata": {
            "tags": [],
            "needs_background": "light"
          }
        }
      ]
    },
    {
      "cell_type": "code",
      "metadata": {
        "id": "lBPGh9jnzkY4",
        "colab_type": "code",
        "colab": {
          "base_uri": "https://localhost:8080/",
          "height": 34
        },
        "outputId": "1fb1bc6c-398b-464f-a534-e80584743ad0"
      },
      "source": [
        "from sklearn.metrics import mean_squared_error\n",
        "\n",
        "rf_model = RandomForestClassifier(random_state=1)\n",
        "rf_model.fit(X, y)\n",
        "preds = rf_model.predict(X)\n",
        "rmse = np.sqrt(mean_squared_error(y, preds))\n",
        "print(\"RMSE: %f\" % (rmse))"
      ],
      "execution_count": null,
      "outputs": [
        {
          "output_type": "stream",
          "text": [
            "RMSE: 0.373094\n"
          ],
          "name": "stdout"
        }
      ]
    },
    {
      "cell_type": "code",
      "metadata": {
        "id": "PyMi2f5K2MuY",
        "colab_type": "code",
        "colab": {
          "base_uri": "https://localhost:8080/",
          "height": 67
        },
        "outputId": "00739d62-ad5f-41ec-c487-fbdebb76ab97"
      },
      "source": [
        "rf_model.feature_importances_"
      ],
      "execution_count": null,
      "outputs": [
        {
          "output_type": "execute_result",
          "data": {
            "text/plain": [
              "array([0.05511645, 0.02584622, 0.03274018, 0.02048679, 0.10606878,\n",
              "       0.193859  , 0.06919043, 0.0638486 , 0.15176212, 0.1897633 ,\n",
              "       0.09131812])"
            ]
          },
          "metadata": {
            "tags": []
          },
          "execution_count": 30
        }
      ]
    },
    {
      "cell_type": "code",
      "metadata": {
        "id": "J0IdIh9y2rDx",
        "colab_type": "code",
        "colab": {
          "base_uri": "https://localhost:8080/",
          "height": 34
        },
        "outputId": "08ae5df8-0eaf-466a-99f2-59363a1d2c4d"
      },
      "source": [
        "x_kaggle = test_kaggle.drop('id', axis=1).values\n",
        "\n",
        "\n",
        "y_kaggle = rf_model.predict(x_kaggle)\n",
        "\n",
        "test_kaggle['target'] = y_kaggle\n",
        "\n",
        "print( len(y_kaggle) , sum(y_kaggle) , sum(y_kaggle)/len(y_kaggle) ) \n",
        "# rf_model.predict(x_kaggle)"
      ],
      "execution_count": null,
      "outputs": [
        {
          "output_type": "stream",
          "text": [
            "3263 1168 0.3579528041679436\n"
          ],
          "name": "stdout"
        }
      ]
    },
    {
      "cell_type": "code",
      "metadata": {
        "id": "vdBv2a2I3_RI",
        "colab_type": "code",
        "colab": {}
      },
      "source": [
        "# test_kaggle[].to_csv('')\n",
        "# result = pd.DataFrame({'id':test.id, 'target':prediction} )\n",
        "# result.to_csv('prueba_random_forest.csv',header=True,index = False)\n",
        "\n",
        "\n",
        "test_kaggle[['id','target']].to_csv('prueba_random_forest.csv',header=True,index = False)"
      ],
      "execution_count": null,
      "outputs": []
    },
    {
      "cell_type": "code",
      "metadata": {
        "id": "1qLE08imo16T",
        "colab_type": "code",
        "colab": {}
      },
      "source": [
        "# y = []\n",
        "# estimators = range(100,1001,10)\n",
        "\n",
        "# print('Estimators Tuning...\\n')\n",
        "\n",
        "# for n in estimators:\n",
        "#   model_tuned = RandomForestClassifier(random_state = 0, n_estimators = n, criterion = 'gini')\n",
        "#   model_tuned.fit(train, y_train)\n",
        "#   score = model_tuned.score(validation,y_validation)\n",
        "#   print('Training Random Forest: Estimators -> ',n,'... Score: ',score,'\\n')\n",
        "#   y.append(score)\n",
        "# print('DONE!\\n')\n",
        "# print('The best n_estimator is ',estimators[y.index(max(y))],' with ',max(y),' accuracy')"
      ],
      "execution_count": null,
      "outputs": []
    }
  ]
}